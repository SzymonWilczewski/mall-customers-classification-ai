{
 "metadata": {
  "language_info": {
   "codemirror_mode": {
    "name": "ipython",
    "version": 3
   },
   "file_extension": ".py",
   "mimetype": "text/x-python",
   "name": "python",
   "nbconvert_exporter": "python",
   "pygments_lexer": "ipython3",
   "version": "3.9.2"
  },
  "orig_nbformat": 2,
  "kernelspec": {
   "name": "python392jvsc74a57bd02c2578661e11ccf73cb65a6ea4a3cecac0f45c1e80ce8161fdccb53c836f9189",
   "display_name": "Python 3.9.2 64-bit"
  }
 },
 "nbformat": 4,
 "nbformat_minor": 2,
 "cells": [
  {
   "cell_type": "code",
   "execution_count": 1,
   "metadata": {},
   "outputs": [],
   "source": [
    "import pandas as pd\n",
    "import matplotlib.pyplot as plt\n",
    "from sklearn.preprocessing import LabelEncoder\n",
    "from sklearn.cluster import KMeans\n",
    "import plotly.express as px\n",
    "from sklearn.preprocessing import StandardScaler\n",
    "from sklearn.decomposition import PCA\n",
    "import numpy as np"
   ]
  },
  {
   "cell_type": "code",
   "execution_count": 2,
   "metadata": {},
   "outputs": [
    {
     "output_type": "execute_result",
     "data": {
      "text/plain": [
       "   CustomerID  Gender  Age  Annual Income (k$)  Spending Score (1-100)\n",
       "0           1    Male   19                  15                      39\n",
       "1           2    Male   21                  15                      81\n",
       "2           3  Female   20                  16                       6\n",
       "3           4  Female   23                  16                      77\n",
       "4           5  Female   31                  17                      40"
      ],
      "text/html": "<div>\n<style scoped>\n    .dataframe tbody tr th:only-of-type {\n        vertical-align: middle;\n    }\n\n    .dataframe tbody tr th {\n        vertical-align: top;\n    }\n\n    .dataframe thead th {\n        text-align: right;\n    }\n</style>\n<table border=\"1\" class=\"dataframe\">\n  <thead>\n    <tr style=\"text-align: right;\">\n      <th></th>\n      <th>CustomerID</th>\n      <th>Gender</th>\n      <th>Age</th>\n      <th>Annual Income (k$)</th>\n      <th>Spending Score (1-100)</th>\n    </tr>\n  </thead>\n  <tbody>\n    <tr>\n      <th>0</th>\n      <td>1</td>\n      <td>Male</td>\n      <td>19</td>\n      <td>15</td>\n      <td>39</td>\n    </tr>\n    <tr>\n      <th>1</th>\n      <td>2</td>\n      <td>Male</td>\n      <td>21</td>\n      <td>15</td>\n      <td>81</td>\n    </tr>\n    <tr>\n      <th>2</th>\n      <td>3</td>\n      <td>Female</td>\n      <td>20</td>\n      <td>16</td>\n      <td>6</td>\n    </tr>\n    <tr>\n      <th>3</th>\n      <td>4</td>\n      <td>Female</td>\n      <td>23</td>\n      <td>16</td>\n      <td>77</td>\n    </tr>\n    <tr>\n      <th>4</th>\n      <td>5</td>\n      <td>Female</td>\n      <td>31</td>\n      <td>17</td>\n      <td>40</td>\n    </tr>\n  </tbody>\n</table>\n</div>"
     },
     "metadata": {},
     "execution_count": 2
    }
   ],
   "source": [
    "df = pd.read_csv('Mall_Customers.csv')\n",
    "\n",
    "df.head()"
   ]
  },
  {
   "cell_type": "code",
   "execution_count": 3,
   "metadata": {},
   "outputs": [
    {
     "output_type": "display_data",
     "data": {
      "text/plain": "<Figure size 1440x720 with 3 Axes>",
      "image/svg+xml": "<?xml version=\"1.0\" encoding=\"utf-8\" standalone=\"no\"?>\r\n<!DOCTYPE svg PUBLIC \"-//W3C//DTD SVG 1.1//EN\"\r\n  \"http://www.w3.org/Graphics/SVG/1.1/DTD/svg11.dtd\">\r\n<svg height=\"589.79625pt\" version=\"1.1\" viewBox=\"0 0 1150.125 589.79625\" width=\"1150.125pt\" xmlns=\"http://www.w3.org/2000/svg\" xmlns:xlink=\"http://www.w3.org/1999/xlink\">\r\n <metadata>\r\n  <rdf:RDF xmlns:cc=\"http://creativecommons.org/ns#\" xmlns:dc=\"http://purl.org/dc/elements/1.1/\" xmlns:rdf=\"http://www.w3.org/1999/02/22-rdf-syntax-ns#\">\r\n   <cc:Work>\r\n    <dc:type rdf:resource=\"http://purl.org/dc/dcmitype/StillImage\"/>\r\n    <dc:date>2021-05-19T17:23:32.407703</dc:date>\r\n    <dc:format>image/svg+xml</dc:format>\r\n    <dc:creator>\r\n     <cc:Agent>\r\n      <dc:title>Matplotlib v3.4.1, https://matplotlib.org/</dc:title>\r\n     </cc:Agent>\r\n    </dc:creator>\r\n   </cc:Work>\r\n  </rdf:RDF>\r\n </metadata>\r\n <defs>\r\n  <style type=\"text/css\">*{stroke-linecap:butt;stroke-linejoin:round;}</style>\r\n </defs>\r\n <g id=\"figure_1\">\r\n  <g id=\"patch_1\">\r\n   <path d=\"M 0 589.79625 \r\nL 1150.125 589.79625 \r\nL 1150.125 0 \r\nL 0 0 \r\nz\r\n\" style=\"fill:none;\"/>\r\n  </g>\r\n  <g id=\"axes_1\">\r\n   <g id=\"patch_2\">\r\n    <path d=\"M 26.925 565.918125 \r\nL 355.160294 565.918125 \r\nL 355.160294 22.318125 \r\nL 26.925 22.318125 \r\nz\r\n\" style=\"fill:#ffffff;\"/>\r\n   </g>\r\n   <g id=\"patch_3\">\r\n    <path clip-path=\"url(#pf068bbdcb3)\" d=\"M 41.844786 565.918125 \r\nL 71.684358 565.918125 \r\nL 71.684358 93.884512 \r\nL 41.844786 93.884512 \r\nz\r\n\" style=\"fill:#1f77b4;\"/>\r\n   </g>\r\n   <g id=\"patch_4\">\r\n    <path clip-path=\"url(#pf068bbdcb3)\" d=\"M 71.684358 565.918125 \r\nL 101.52393 565.918125 \r\nL 101.52393 276.607201 \r\nL 71.684358 276.607201 \r\nz\r\n\" style=\"fill:#1f77b4;\"/>\r\n   </g>\r\n   <g id=\"patch_5\">\r\n    <path clip-path=\"url(#pf068bbdcb3)\" d=\"M 101.52393 565.918125 \r\nL 131.363503 565.918125 \r\nL 131.363503 48.203839 \r\nL 101.52393 48.203839 \r\nz\r\n\" style=\"fill:#1f77b4;\"/>\r\n   </g>\r\n   <g id=\"patch_6\">\r\n    <path clip-path=\"url(#pf068bbdcb3)\" d=\"M 131.363503 565.918125 \r\nL 161.203075 565.918125 \r\nL 161.203075 124.338293 \r\nL 131.363503 124.338293 \r\nz\r\n\" style=\"fill:#1f77b4;\"/>\r\n   </g>\r\n   <g id=\"patch_7\">\r\n    <path clip-path=\"url(#pf068bbdcb3)\" d=\"M 161.203075 565.918125 \r\nL 191.042647 565.918125 \r\nL 191.042647 322.287873 \r\nL 161.203075 322.287873 \r\nz\r\n\" style=\"fill:#1f77b4;\"/>\r\n   </g>\r\n   <g id=\"patch_8\">\r\n    <path clip-path=\"url(#pf068bbdcb3)\" d=\"M 191.042647 565.918125 \r\nL 220.882219 565.918125 \r\nL 220.882219 170.018965 \r\nL 191.042647 170.018965 \r\nz\r\n\" style=\"fill:#1f77b4;\"/>\r\n   </g>\r\n   <g id=\"patch_9\">\r\n    <path clip-path=\"url(#pf068bbdcb3)\" d=\"M 220.882219 565.918125 \r\nL 250.721791 565.918125 \r\nL 250.721791 337.514764 \r\nL 220.882219 337.514764 \r\nz\r\n\" style=\"fill:#1f77b4;\"/>\r\n   </g>\r\n   <g id=\"patch_10\">\r\n    <path clip-path=\"url(#pf068bbdcb3)\" d=\"M 250.721791 565.918125 \r\nL 280.561364 565.918125 \r\nL 280.561364 413.649217 \r\nL 250.721791 413.649217 \r\nz\r\n\" style=\"fill:#1f77b4;\"/>\r\n   </g>\r\n   <g id=\"patch_11\">\r\n    <path clip-path=\"url(#pf068bbdcb3)\" d=\"M 280.561364 565.918125 \r\nL 310.400936 565.918125 \r\nL 310.400936 474.55678 \r\nL 280.561364 474.55678 \r\nz\r\n\" style=\"fill:#1f77b4;\"/>\r\n   </g>\r\n   <g id=\"patch_12\">\r\n    <path clip-path=\"url(#pf068bbdcb3)\" d=\"M 310.400936 565.918125 \r\nL 340.240508 565.918125 \r\nL 340.240508 352.741654 \r\nL 310.400936 352.741654 \r\nz\r\n\" style=\"fill:#1f77b4;\"/>\r\n   </g>\r\n   <g id=\"matplotlib.axis_1\">\r\n    <g id=\"xtick_1\">\r\n     <g id=\"line2d_1\">\r\n      <defs>\r\n       <path d=\"M 0 0 \r\nL 0 3.5 \r\n\" id=\"m2fc98bc2f0\" style=\"stroke:#000000;stroke-width:0.8;\"/>\r\n      </defs>\r\n      <g>\r\n       <use style=\"stroke:#000000;stroke-width:0.8;\" x=\"53.321545\" xlink:href=\"#m2fc98bc2f0\" y=\"565.918125\"/>\r\n      </g>\r\n     </g>\r\n     <g id=\"text_1\">\r\n      <!-- 20 -->\r\n      <g transform=\"translate(46.959045 580.516562)scale(0.1 -0.1)\">\r\n       <defs>\r\n        <path d=\"M 1228 531 \r\nL 3431 531 \r\nL 3431 0 \r\nL 469 0 \r\nL 469 531 \r\nQ 828 903 1448 1529 \r\nQ 2069 2156 2228 2338 \r\nQ 2531 2678 2651 2914 \r\nQ 2772 3150 2772 3378 \r\nQ 2772 3750 2511 3984 \r\nQ 2250 4219 1831 4219 \r\nQ 1534 4219 1204 4116 \r\nQ 875 4013 500 3803 \r\nL 500 4441 \r\nQ 881 4594 1212 4672 \r\nQ 1544 4750 1819 4750 \r\nQ 2544 4750 2975 4387 \r\nQ 3406 4025 3406 3419 \r\nQ 3406 3131 3298 2873 \r\nQ 3191 2616 2906 2266 \r\nQ 2828 2175 2409 1742 \r\nQ 1991 1309 1228 531 \r\nz\r\n\" id=\"DejaVuSans-32\" transform=\"scale(0.015625)\"/>\r\n        <path d=\"M 2034 4250 \r\nQ 1547 4250 1301 3770 \r\nQ 1056 3291 1056 2328 \r\nQ 1056 1369 1301 889 \r\nQ 1547 409 2034 409 \r\nQ 2525 409 2770 889 \r\nQ 3016 1369 3016 2328 \r\nQ 3016 3291 2770 3770 \r\nQ 2525 4250 2034 4250 \r\nz\r\nM 2034 4750 \r\nQ 2819 4750 3233 4129 \r\nQ 3647 3509 3647 2328 \r\nQ 3647 1150 3233 529 \r\nQ 2819 -91 2034 -91 \r\nQ 1250 -91 836 529 \r\nQ 422 1150 422 2328 \r\nQ 422 3509 836 4129 \r\nQ 1250 4750 2034 4750 \r\nz\r\n\" id=\"DejaVuSans-30\" transform=\"scale(0.015625)\"/>\r\n       </defs>\r\n       <use xlink:href=\"#DejaVuSans-32\"/>\r\n       <use x=\"63.623047\" xlink:href=\"#DejaVuSans-30\"/>\r\n      </g>\r\n     </g>\r\n    </g>\r\n    <g id=\"xtick_2\">\r\n     <g id=\"line2d_2\">\r\n      <g>\r\n       <use style=\"stroke:#000000;stroke-width:0.8;\" x=\"110.705337\" xlink:href=\"#m2fc98bc2f0\" y=\"565.918125\"/>\r\n      </g>\r\n     </g>\r\n     <g id=\"text_2\">\r\n      <!-- 30 -->\r\n      <g transform=\"translate(104.342837 580.516562)scale(0.1 -0.1)\">\r\n       <defs>\r\n        <path d=\"M 2597 2516 \r\nQ 3050 2419 3304 2112 \r\nQ 3559 1806 3559 1356 \r\nQ 3559 666 3084 287 \r\nQ 2609 -91 1734 -91 \r\nQ 1441 -91 1130 -33 \r\nQ 819 25 488 141 \r\nL 488 750 \r\nQ 750 597 1062 519 \r\nQ 1375 441 1716 441 \r\nQ 2309 441 2620 675 \r\nQ 2931 909 2931 1356 \r\nQ 2931 1769 2642 2001 \r\nQ 2353 2234 1838 2234 \r\nL 1294 2234 \r\nL 1294 2753 \r\nL 1863 2753 \r\nQ 2328 2753 2575 2939 \r\nQ 2822 3125 2822 3475 \r\nQ 2822 3834 2567 4026 \r\nQ 2313 4219 1838 4219 \r\nQ 1578 4219 1281 4162 \r\nQ 984 4106 628 3988 \r\nL 628 4550 \r\nQ 988 4650 1302 4700 \r\nQ 1616 4750 1894 4750 \r\nQ 2613 4750 3031 4423 \r\nQ 3450 4097 3450 3541 \r\nQ 3450 3153 3228 2886 \r\nQ 3006 2619 2597 2516 \r\nz\r\n\" id=\"DejaVuSans-33\" transform=\"scale(0.015625)\"/>\r\n       </defs>\r\n       <use xlink:href=\"#DejaVuSans-33\"/>\r\n       <use x=\"63.623047\" xlink:href=\"#DejaVuSans-30\"/>\r\n      </g>\r\n     </g>\r\n    </g>\r\n    <g id=\"xtick_3\">\r\n     <g id=\"line2d_3\">\r\n      <g>\r\n       <use style=\"stroke:#000000;stroke-width:0.8;\" x=\"168.08913\" xlink:href=\"#m2fc98bc2f0\" y=\"565.918125\"/>\r\n      </g>\r\n     </g>\r\n     <g id=\"text_3\">\r\n      <!-- 40 -->\r\n      <g transform=\"translate(161.72663 580.516562)scale(0.1 -0.1)\">\r\n       <defs>\r\n        <path d=\"M 2419 4116 \r\nL 825 1625 \r\nL 2419 1625 \r\nL 2419 4116 \r\nz\r\nM 2253 4666 \r\nL 3047 4666 \r\nL 3047 1625 \r\nL 3713 1625 \r\nL 3713 1100 \r\nL 3047 1100 \r\nL 3047 0 \r\nL 2419 0 \r\nL 2419 1100 \r\nL 313 1100 \r\nL 313 1709 \r\nL 2253 4666 \r\nz\r\n\" id=\"DejaVuSans-34\" transform=\"scale(0.015625)\"/>\r\n       </defs>\r\n       <use xlink:href=\"#DejaVuSans-34\"/>\r\n       <use x=\"63.623047\" xlink:href=\"#DejaVuSans-30\"/>\r\n      </g>\r\n     </g>\r\n    </g>\r\n    <g id=\"xtick_4\">\r\n     <g id=\"line2d_4\">\r\n      <g>\r\n       <use style=\"stroke:#000000;stroke-width:0.8;\" x=\"225.472923\" xlink:href=\"#m2fc98bc2f0\" y=\"565.918125\"/>\r\n      </g>\r\n     </g>\r\n     <g id=\"text_4\">\r\n      <!-- 50 -->\r\n      <g transform=\"translate(219.110423 580.516562)scale(0.1 -0.1)\">\r\n       <defs>\r\n        <path d=\"M 691 4666 \r\nL 3169 4666 \r\nL 3169 4134 \r\nL 1269 4134 \r\nL 1269 2991 \r\nQ 1406 3038 1543 3061 \r\nQ 1681 3084 1819 3084 \r\nQ 2600 3084 3056 2656 \r\nQ 3513 2228 3513 1497 \r\nQ 3513 744 3044 326 \r\nQ 2575 -91 1722 -91 \r\nQ 1428 -91 1123 -41 \r\nQ 819 9 494 109 \r\nL 494 744 \r\nQ 775 591 1075 516 \r\nQ 1375 441 1709 441 \r\nQ 2250 441 2565 725 \r\nQ 2881 1009 2881 1497 \r\nQ 2881 1984 2565 2268 \r\nQ 2250 2553 1709 2553 \r\nQ 1456 2553 1204 2497 \r\nQ 953 2441 691 2322 \r\nL 691 4666 \r\nz\r\n\" id=\"DejaVuSans-35\" transform=\"scale(0.015625)\"/>\r\n       </defs>\r\n       <use xlink:href=\"#DejaVuSans-35\"/>\r\n       <use x=\"63.623047\" xlink:href=\"#DejaVuSans-30\"/>\r\n      </g>\r\n     </g>\r\n    </g>\r\n    <g id=\"xtick_5\">\r\n     <g id=\"line2d_5\">\r\n      <g>\r\n       <use style=\"stroke:#000000;stroke-width:0.8;\" x=\"282.856715\" xlink:href=\"#m2fc98bc2f0\" y=\"565.918125\"/>\r\n      </g>\r\n     </g>\r\n     <g id=\"text_5\">\r\n      <!-- 60 -->\r\n      <g transform=\"translate(276.494215 580.516562)scale(0.1 -0.1)\">\r\n       <defs>\r\n        <path d=\"M 2113 2584 \r\nQ 1688 2584 1439 2293 \r\nQ 1191 2003 1191 1497 \r\nQ 1191 994 1439 701 \r\nQ 1688 409 2113 409 \r\nQ 2538 409 2786 701 \r\nQ 3034 994 3034 1497 \r\nQ 3034 2003 2786 2293 \r\nQ 2538 2584 2113 2584 \r\nz\r\nM 3366 4563 \r\nL 3366 3988 \r\nQ 3128 4100 2886 4159 \r\nQ 2644 4219 2406 4219 \r\nQ 1781 4219 1451 3797 \r\nQ 1122 3375 1075 2522 \r\nQ 1259 2794 1537 2939 \r\nQ 1816 3084 2150 3084 \r\nQ 2853 3084 3261 2657 \r\nQ 3669 2231 3669 1497 \r\nQ 3669 778 3244 343 \r\nQ 2819 -91 2113 -91 \r\nQ 1303 -91 875 529 \r\nQ 447 1150 447 2328 \r\nQ 447 3434 972 4092 \r\nQ 1497 4750 2381 4750 \r\nQ 2619 4750 2861 4703 \r\nQ 3103 4656 3366 4563 \r\nz\r\n\" id=\"DejaVuSans-36\" transform=\"scale(0.015625)\"/>\r\n       </defs>\r\n       <use xlink:href=\"#DejaVuSans-36\"/>\r\n       <use x=\"63.623047\" xlink:href=\"#DejaVuSans-30\"/>\r\n      </g>\r\n     </g>\r\n    </g>\r\n    <g id=\"xtick_6\">\r\n     <g id=\"line2d_6\">\r\n      <g>\r\n       <use style=\"stroke:#000000;stroke-width:0.8;\" x=\"340.240508\" xlink:href=\"#m2fc98bc2f0\" y=\"565.918125\"/>\r\n      </g>\r\n     </g>\r\n     <g id=\"text_6\">\r\n      <!-- 70 -->\r\n      <g transform=\"translate(333.878008 580.516562)scale(0.1 -0.1)\">\r\n       <defs>\r\n        <path d=\"M 525 4666 \r\nL 3525 4666 \r\nL 3525 4397 \r\nL 1831 0 \r\nL 1172 0 \r\nL 2766 4134 \r\nL 525 4134 \r\nL 525 4666 \r\nz\r\n\" id=\"DejaVuSans-37\" transform=\"scale(0.015625)\"/>\r\n       </defs>\r\n       <use xlink:href=\"#DejaVuSans-37\"/>\r\n       <use x=\"63.623047\" xlink:href=\"#DejaVuSans-30\"/>\r\n      </g>\r\n     </g>\r\n    </g>\r\n   </g>\r\n   <g id=\"matplotlib.axis_2\">\r\n    <g id=\"ytick_1\">\r\n     <g id=\"line2d_7\">\r\n      <defs>\r\n       <path d=\"M 0 0 \r\nL -3.5 0 \r\n\" id=\"m47948fa205\" style=\"stroke:#000000;stroke-width:0.8;\"/>\r\n      </defs>\r\n      <g>\r\n       <use style=\"stroke:#000000;stroke-width:0.8;\" x=\"26.925\" xlink:href=\"#m47948fa205\" y=\"565.918125\"/>\r\n      </g>\r\n     </g>\r\n     <g id=\"text_7\">\r\n      <!-- 0 -->\r\n      <g transform=\"translate(13.5625 569.717344)scale(0.1 -0.1)\">\r\n       <use xlink:href=\"#DejaVuSans-30\"/>\r\n      </g>\r\n     </g>\r\n    </g>\r\n    <g id=\"ytick_2\">\r\n     <g id=\"line2d_8\">\r\n      <g>\r\n       <use style=\"stroke:#000000;stroke-width:0.8;\" x=\"26.925\" xlink:href=\"#m47948fa205\" y=\"489.783671\"/>\r\n      </g>\r\n     </g>\r\n     <g id=\"text_8\">\r\n      <!-- 5 -->\r\n      <g transform=\"translate(13.5625 493.58289)scale(0.1 -0.1)\">\r\n       <use xlink:href=\"#DejaVuSans-35\"/>\r\n      </g>\r\n     </g>\r\n    </g>\r\n    <g id=\"ytick_3\">\r\n     <g id=\"line2d_9\">\r\n      <g>\r\n       <use style=\"stroke:#000000;stroke-width:0.8;\" x=\"26.925\" xlink:href=\"#m47948fa205\" y=\"413.649217\"/>\r\n      </g>\r\n     </g>\r\n     <g id=\"text_9\">\r\n      <!-- 10 -->\r\n      <g transform=\"translate(7.2 417.448436)scale(0.1 -0.1)\">\r\n       <defs>\r\n        <path d=\"M 794 531 \r\nL 1825 531 \r\nL 1825 4091 \r\nL 703 3866 \r\nL 703 4441 \r\nL 1819 4666 \r\nL 2450 4666 \r\nL 2450 531 \r\nL 3481 531 \r\nL 3481 0 \r\nL 794 0 \r\nL 794 531 \r\nz\r\n\" id=\"DejaVuSans-31\" transform=\"scale(0.015625)\"/>\r\n       </defs>\r\n       <use xlink:href=\"#DejaVuSans-31\"/>\r\n       <use x=\"63.623047\" xlink:href=\"#DejaVuSans-30\"/>\r\n      </g>\r\n     </g>\r\n    </g>\r\n    <g id=\"ytick_4\">\r\n     <g id=\"line2d_10\">\r\n      <g>\r\n       <use style=\"stroke:#000000;stroke-width:0.8;\" x=\"26.925\" xlink:href=\"#m47948fa205\" y=\"337.514764\"/>\r\n      </g>\r\n     </g>\r\n     <g id=\"text_10\">\r\n      <!-- 15 -->\r\n      <g transform=\"translate(7.2 341.313982)scale(0.1 -0.1)\">\r\n       <use xlink:href=\"#DejaVuSans-31\"/>\r\n       <use x=\"63.623047\" xlink:href=\"#DejaVuSans-35\"/>\r\n      </g>\r\n     </g>\r\n    </g>\r\n    <g id=\"ytick_5\">\r\n     <g id=\"line2d_11\">\r\n      <g>\r\n       <use style=\"stroke:#000000;stroke-width:0.8;\" x=\"26.925\" xlink:href=\"#m47948fa205\" y=\"261.38031\"/>\r\n      </g>\r\n     </g>\r\n     <g id=\"text_11\">\r\n      <!-- 20 -->\r\n      <g transform=\"translate(7.2 265.179529)scale(0.1 -0.1)\">\r\n       <use xlink:href=\"#DejaVuSans-32\"/>\r\n       <use x=\"63.623047\" xlink:href=\"#DejaVuSans-30\"/>\r\n      </g>\r\n     </g>\r\n    </g>\r\n    <g id=\"ytick_6\">\r\n     <g id=\"line2d_12\">\r\n      <g>\r\n       <use style=\"stroke:#000000;stroke-width:0.8;\" x=\"26.925\" xlink:href=\"#m47948fa205\" y=\"185.245856\"/>\r\n      </g>\r\n     </g>\r\n     <g id=\"text_12\">\r\n      <!-- 25 -->\r\n      <g transform=\"translate(7.2 189.045075)scale(0.1 -0.1)\">\r\n       <use xlink:href=\"#DejaVuSans-32\"/>\r\n       <use x=\"63.623047\" xlink:href=\"#DejaVuSans-35\"/>\r\n      </g>\r\n     </g>\r\n    </g>\r\n    <g id=\"ytick_7\">\r\n     <g id=\"line2d_13\">\r\n      <g>\r\n       <use style=\"stroke:#000000;stroke-width:0.8;\" x=\"26.925\" xlink:href=\"#m47948fa205\" y=\"109.111402\"/>\r\n      </g>\r\n     </g>\r\n     <g id=\"text_13\">\r\n      <!-- 30 -->\r\n      <g transform=\"translate(7.2 112.910621)scale(0.1 -0.1)\">\r\n       <use xlink:href=\"#DejaVuSans-33\"/>\r\n       <use x=\"63.623047\" xlink:href=\"#DejaVuSans-30\"/>\r\n      </g>\r\n     </g>\r\n    </g>\r\n    <g id=\"ytick_8\">\r\n     <g id=\"line2d_14\">\r\n      <g>\r\n       <use style=\"stroke:#000000;stroke-width:0.8;\" x=\"26.925\" xlink:href=\"#m47948fa205\" y=\"32.976949\"/>\r\n      </g>\r\n     </g>\r\n     <g id=\"text_14\">\r\n      <!-- 35 -->\r\n      <g transform=\"translate(7.2 36.776167)scale(0.1 -0.1)\">\r\n       <use xlink:href=\"#DejaVuSans-33\"/>\r\n       <use x=\"63.623047\" xlink:href=\"#DejaVuSans-35\"/>\r\n      </g>\r\n     </g>\r\n    </g>\r\n   </g>\r\n   <g id=\"patch_13\">\r\n    <path d=\"M 26.925 565.918125 \r\nL 26.925 22.318125 \r\n\" style=\"fill:none;stroke:#000000;stroke-linecap:square;stroke-linejoin:miter;stroke-width:0.8;\"/>\r\n   </g>\r\n   <g id=\"patch_14\">\r\n    <path d=\"M 355.160294 565.918125 \r\nL 355.160294 22.318125 \r\n\" style=\"fill:none;stroke:#000000;stroke-linecap:square;stroke-linejoin:miter;stroke-width:0.8;\"/>\r\n   </g>\r\n   <g id=\"patch_15\">\r\n    <path d=\"M 26.925 565.918125 \r\nL 355.160294 565.918125 \r\n\" style=\"fill:none;stroke:#000000;stroke-linecap:square;stroke-linejoin:miter;stroke-width:0.8;\"/>\r\n   </g>\r\n   <g id=\"patch_16\">\r\n    <path d=\"M 26.925 22.318125 \r\nL 355.160294 22.318125 \r\n\" style=\"fill:none;stroke:#000000;stroke-linecap:square;stroke-linejoin:miter;stroke-width:0.8;\"/>\r\n   </g>\r\n   <g id=\"text_15\">\r\n    <!-- Age -->\r\n    <g transform=\"translate(179.437335 16.318125)scale(0.12 -0.12)\">\r\n     <defs>\r\n      <path d=\"M 2188 4044 \r\nL 1331 1722 \r\nL 3047 1722 \r\nL 2188 4044 \r\nz\r\nM 1831 4666 \r\nL 2547 4666 \r\nL 4325 0 \r\nL 3669 0 \r\nL 3244 1197 \r\nL 1141 1197 \r\nL 716 0 \r\nL 50 0 \r\nL 1831 4666 \r\nz\r\n\" id=\"DejaVuSans-41\" transform=\"scale(0.015625)\"/>\r\n      <path d=\"M 2906 1791 \r\nQ 2906 2416 2648 2759 \r\nQ 2391 3103 1925 3103 \r\nQ 1463 3103 1205 2759 \r\nQ 947 2416 947 1791 \r\nQ 947 1169 1205 825 \r\nQ 1463 481 1925 481 \r\nQ 2391 481 2648 825 \r\nQ 2906 1169 2906 1791 \r\nz\r\nM 3481 434 \r\nQ 3481 -459 3084 -895 \r\nQ 2688 -1331 1869 -1331 \r\nQ 1566 -1331 1297 -1286 \r\nQ 1028 -1241 775 -1147 \r\nL 775 -588 \r\nQ 1028 -725 1275 -790 \r\nQ 1522 -856 1778 -856 \r\nQ 2344 -856 2625 -561 \r\nQ 2906 -266 2906 331 \r\nL 2906 616 \r\nQ 2728 306 2450 153 \r\nQ 2172 0 1784 0 \r\nQ 1141 0 747 490 \r\nQ 353 981 353 1791 \r\nQ 353 2603 747 3093 \r\nQ 1141 3584 1784 3584 \r\nQ 2172 3584 2450 3431 \r\nQ 2728 3278 2906 2969 \r\nL 2906 3500 \r\nL 3481 3500 \r\nL 3481 434 \r\nz\r\n\" id=\"DejaVuSans-67\" transform=\"scale(0.015625)\"/>\r\n      <path d=\"M 3597 1894 \r\nL 3597 1613 \r\nL 953 1613 \r\nQ 991 1019 1311 708 \r\nQ 1631 397 2203 397 \r\nQ 2534 397 2845 478 \r\nQ 3156 559 3463 722 \r\nL 3463 178 \r\nQ 3153 47 2828 -22 \r\nQ 2503 -91 2169 -91 \r\nQ 1331 -91 842 396 \r\nQ 353 884 353 1716 \r\nQ 353 2575 817 3079 \r\nQ 1281 3584 2069 3584 \r\nQ 2775 3584 3186 3129 \r\nQ 3597 2675 3597 1894 \r\nz\r\nM 3022 2063 \r\nQ 3016 2534 2758 2815 \r\nQ 2500 3097 2075 3097 \r\nQ 1594 3097 1305 2825 \r\nQ 1016 2553 972 2059 \r\nL 3022 2063 \r\nz\r\n\" id=\"DejaVuSans-65\" transform=\"scale(0.015625)\"/>\r\n     </defs>\r\n     <use xlink:href=\"#DejaVuSans-41\"/>\r\n     <use x=\"68.408203\" xlink:href=\"#DejaVuSans-67\"/>\r\n     <use x=\"131.884766\" xlink:href=\"#DejaVuSans-65\"/>\r\n    </g>\r\n   </g>\r\n  </g>\r\n  <g id=\"axes_2\">\r\n   <g id=\"patch_17\">\r\n    <path d=\"M 420.807353 565.918125 \r\nL 749.042647 565.918125 \r\nL 749.042647 22.318125 \r\nL 420.807353 22.318125 \r\nz\r\n\" style=\"fill:#ffffff;\"/>\r\n   </g>\r\n   <g id=\"patch_18\">\r\n    <path clip-path=\"url(#pce2b2adaa6)\" d=\"M 435.727139 565.918125 \r\nL 465.566711 565.918125 \r\nL 465.566711 238.940681 \r\nL 435.727139 238.940681 \r\nz\r\n\" style=\"fill:#1f77b4;\"/>\r\n   </g>\r\n   <g id=\"patch_19\">\r\n    <path clip-path=\"url(#pce2b2adaa6)\" d=\"M 465.566711 565.918125 \r\nL 495.406283 565.918125 \r\nL 495.406283 266.188802 \r\nL 465.566711 266.188802 \r\nz\r\n\" style=\"fill:#1f77b4;\"/>\r\n   </g>\r\n   <g id=\"patch_20\">\r\n    <path clip-path=\"url(#pce2b2adaa6)\" d=\"M 495.406283 565.918125 \r\nL 525.245856 565.918125 \r\nL 525.245856 184.444441 \r\nL 495.406283 184.444441 \r\nz\r\n\" style=\"fill:#1f77b4;\"/>\r\n   </g>\r\n   <g id=\"patch_21\">\r\n    <path clip-path=\"url(#pce2b2adaa6)\" d=\"M 525.245856 565.918125 \r\nL 555.085428 565.918125 \r\nL 555.085428 48.203839 \r\nL 525.245856 48.203839 \r\nz\r\n\" style=\"fill:#1f77b4;\"/>\r\n   </g>\r\n   <g id=\"patch_22\">\r\n    <path clip-path=\"url(#pce2b2adaa6)\" d=\"M 555.085428 565.918125 \r\nL 584.925 565.918125 \r\nL 584.925 157.19632 \r\nL 555.085428 157.19632 \r\nz\r\n\" style=\"fill:#1f77b4;\"/>\r\n   </g>\r\n   <g id=\"patch_23\">\r\n    <path clip-path=\"url(#pce2b2adaa6)\" d=\"M 584.925 565.918125 \r\nL 614.764572 565.918125 \r\nL 614.764572 75.45196 \r\nL 584.925 75.45196 \r\nz\r\n\" style=\"fill:#1f77b4;\"/>\r\n   </g>\r\n   <g id=\"patch_24\">\r\n    <path clip-path=\"url(#pce2b2adaa6)\" d=\"M 614.764572 565.918125 \r\nL 644.604144 565.918125 \r\nL 644.604144 456.925644 \r\nL 614.764572 456.925644 \r\nz\r\n\" style=\"fill:#1f77b4;\"/>\r\n   </g>\r\n   <g id=\"patch_25\">\r\n    <path clip-path=\"url(#pce2b2adaa6)\" d=\"M 644.604144 565.918125 \r\nL 674.443717 565.918125 \r\nL 674.443717 484.173764 \r\nL 644.604144 484.173764 \r\nz\r\n\" style=\"fill:#1f77b4;\"/>\r\n   </g>\r\n   <g id=\"patch_26\">\r\n    <path clip-path=\"url(#pce2b2adaa6)\" d=\"M 674.443717 565.918125 \r\nL 704.283289 565.918125 \r\nL 704.283289 511.421884 \r\nL 674.443717 511.421884 \r\nz\r\n\" style=\"fill:#1f77b4;\"/>\r\n   </g>\r\n   <g id=\"patch_27\">\r\n    <path clip-path=\"url(#pce2b2adaa6)\" d=\"M 704.283289 565.918125 \r\nL 734.122861 565.918125 \r\nL 734.122861 511.421884 \r\nL 704.283289 511.421884 \r\nz\r\n\" style=\"fill:#1f77b4;\"/>\r\n   </g>\r\n   <g id=\"matplotlib.axis_3\">\r\n    <g id=\"xtick_7\">\r\n     <g id=\"line2d_15\">\r\n      <g>\r\n       <use style=\"stroke:#000000;stroke-width:0.8;\" x=\"447.956472\" xlink:href=\"#m2fc98bc2f0\" y=\"565.918125\"/>\r\n      </g>\r\n     </g>\r\n     <g id=\"text_16\">\r\n      <!-- 20 -->\r\n      <g transform=\"translate(441.593972 580.516562)scale(0.1 -0.1)\">\r\n       <use xlink:href=\"#DejaVuSans-32\"/>\r\n       <use x=\"63.623047\" xlink:href=\"#DejaVuSans-30\"/>\r\n      </g>\r\n     </g>\r\n    </g>\r\n    <g id=\"xtick_8\">\r\n     <g id=\"line2d_16\">\r\n      <g>\r\n       <use style=\"stroke:#000000;stroke-width:0.8;\" x=\"496.873803\" xlink:href=\"#m2fc98bc2f0\" y=\"565.918125\"/>\r\n      </g>\r\n     </g>\r\n     <g id=\"text_17\">\r\n      <!-- 40 -->\r\n      <g transform=\"translate(490.511303 580.516562)scale(0.1 -0.1)\">\r\n       <use xlink:href=\"#DejaVuSans-34\"/>\r\n       <use x=\"63.623047\" xlink:href=\"#DejaVuSans-30\"/>\r\n      </g>\r\n     </g>\r\n    </g>\r\n    <g id=\"xtick_9\">\r\n     <g id=\"line2d_17\">\r\n      <g>\r\n       <use style=\"stroke:#000000;stroke-width:0.8;\" x=\"545.791135\" xlink:href=\"#m2fc98bc2f0\" y=\"565.918125\"/>\r\n      </g>\r\n     </g>\r\n     <g id=\"text_18\">\r\n      <!-- 60 -->\r\n      <g transform=\"translate(539.428635 580.516562)scale(0.1 -0.1)\">\r\n       <use xlink:href=\"#DejaVuSans-36\"/>\r\n       <use x=\"63.623047\" xlink:href=\"#DejaVuSans-30\"/>\r\n      </g>\r\n     </g>\r\n    </g>\r\n    <g id=\"xtick_10\">\r\n     <g id=\"line2d_18\">\r\n      <g>\r\n       <use style=\"stroke:#000000;stroke-width:0.8;\" x=\"594.708466\" xlink:href=\"#m2fc98bc2f0\" y=\"565.918125\"/>\r\n      </g>\r\n     </g>\r\n     <g id=\"text_19\">\r\n      <!-- 80 -->\r\n      <g transform=\"translate(588.345966 580.516562)scale(0.1 -0.1)\">\r\n       <defs>\r\n        <path d=\"M 2034 2216 \r\nQ 1584 2216 1326 1975 \r\nQ 1069 1734 1069 1313 \r\nQ 1069 891 1326 650 \r\nQ 1584 409 2034 409 \r\nQ 2484 409 2743 651 \r\nQ 3003 894 3003 1313 \r\nQ 3003 1734 2745 1975 \r\nQ 2488 2216 2034 2216 \r\nz\r\nM 1403 2484 \r\nQ 997 2584 770 2862 \r\nQ 544 3141 544 3541 \r\nQ 544 4100 942 4425 \r\nQ 1341 4750 2034 4750 \r\nQ 2731 4750 3128 4425 \r\nQ 3525 4100 3525 3541 \r\nQ 3525 3141 3298 2862 \r\nQ 3072 2584 2669 2484 \r\nQ 3125 2378 3379 2068 \r\nQ 3634 1759 3634 1313 \r\nQ 3634 634 3220 271 \r\nQ 2806 -91 2034 -91 \r\nQ 1263 -91 848 271 \r\nQ 434 634 434 1313 \r\nQ 434 1759 690 2068 \r\nQ 947 2378 1403 2484 \r\nz\r\nM 1172 3481 \r\nQ 1172 3119 1398 2916 \r\nQ 1625 2713 2034 2713 \r\nQ 2441 2713 2670 2916 \r\nQ 2900 3119 2900 3481 \r\nQ 2900 3844 2670 4047 \r\nQ 2441 4250 2034 4250 \r\nQ 1625 4250 1398 4047 \r\nQ 1172 3844 1172 3481 \r\nz\r\n\" id=\"DejaVuSans-38\" transform=\"scale(0.015625)\"/>\r\n       </defs>\r\n       <use xlink:href=\"#DejaVuSans-38\"/>\r\n       <use x=\"63.623047\" xlink:href=\"#DejaVuSans-30\"/>\r\n      </g>\r\n     </g>\r\n    </g>\r\n    <g id=\"xtick_11\">\r\n     <g id=\"line2d_19\">\r\n      <g>\r\n       <use style=\"stroke:#000000;stroke-width:0.8;\" x=\"643.625798\" xlink:href=\"#m2fc98bc2f0\" y=\"565.918125\"/>\r\n      </g>\r\n     </g>\r\n     <g id=\"text_20\">\r\n      <!-- 100 -->\r\n      <g transform=\"translate(634.082048 580.516562)scale(0.1 -0.1)\">\r\n       <use xlink:href=\"#DejaVuSans-31\"/>\r\n       <use x=\"63.623047\" xlink:href=\"#DejaVuSans-30\"/>\r\n       <use x=\"127.246094\" xlink:href=\"#DejaVuSans-30\"/>\r\n      </g>\r\n     </g>\r\n    </g>\r\n    <g id=\"xtick_12\">\r\n     <g id=\"line2d_20\">\r\n      <g>\r\n       <use style=\"stroke:#000000;stroke-width:0.8;\" x=\"692.543129\" xlink:href=\"#m2fc98bc2f0\" y=\"565.918125\"/>\r\n      </g>\r\n     </g>\r\n     <g id=\"text_21\">\r\n      <!-- 120 -->\r\n      <g transform=\"translate(682.999379 580.516562)scale(0.1 -0.1)\">\r\n       <use xlink:href=\"#DejaVuSans-31\"/>\r\n       <use x=\"63.623047\" xlink:href=\"#DejaVuSans-32\"/>\r\n       <use x=\"127.246094\" xlink:href=\"#DejaVuSans-30\"/>\r\n      </g>\r\n     </g>\r\n    </g>\r\n    <g id=\"xtick_13\">\r\n     <g id=\"line2d_21\">\r\n      <g>\r\n       <use style=\"stroke:#000000;stroke-width:0.8;\" x=\"741.460461\" xlink:href=\"#m2fc98bc2f0\" y=\"565.918125\"/>\r\n      </g>\r\n     </g>\r\n     <g id=\"text_22\">\r\n      <!-- 140 -->\r\n      <g transform=\"translate(731.916711 580.516562)scale(0.1 -0.1)\">\r\n       <use xlink:href=\"#DejaVuSans-31\"/>\r\n       <use x=\"63.623047\" xlink:href=\"#DejaVuSans-34\"/>\r\n       <use x=\"127.246094\" xlink:href=\"#DejaVuSans-30\"/>\r\n      </g>\r\n     </g>\r\n    </g>\r\n   </g>\r\n   <g id=\"matplotlib.axis_4\">\r\n    <g id=\"ytick_9\">\r\n     <g id=\"line2d_22\">\r\n      <g>\r\n       <use style=\"stroke:#000000;stroke-width:0.8;\" x=\"420.807353\" xlink:href=\"#m47948fa205\" y=\"565.918125\"/>\r\n      </g>\r\n     </g>\r\n     <g id=\"text_23\">\r\n      <!-- 0 -->\r\n      <g transform=\"translate(407.444853 569.717344)scale(0.1 -0.1)\">\r\n       <use xlink:href=\"#DejaVuSans-30\"/>\r\n      </g>\r\n     </g>\r\n    </g>\r\n    <g id=\"ytick_10\">\r\n     <g id=\"line2d_23\">\r\n      <g>\r\n       <use style=\"stroke:#000000;stroke-width:0.8;\" x=\"420.807353\" xlink:href=\"#m47948fa205\" y=\"497.797824\"/>\r\n      </g>\r\n     </g>\r\n     <g id=\"text_24\">\r\n      <!-- 5 -->\r\n      <g transform=\"translate(407.444853 501.597043)scale(0.1 -0.1)\">\r\n       <use xlink:href=\"#DejaVuSans-35\"/>\r\n      </g>\r\n     </g>\r\n    </g>\r\n    <g id=\"ytick_11\">\r\n     <g id=\"line2d_24\">\r\n      <g>\r\n       <use style=\"stroke:#000000;stroke-width:0.8;\" x=\"420.807353\" xlink:href=\"#m47948fa205\" y=\"429.677523\"/>\r\n      </g>\r\n     </g>\r\n     <g id=\"text_25\">\r\n      <!-- 10 -->\r\n      <g transform=\"translate(401.082353 433.476742)scale(0.1 -0.1)\">\r\n       <use xlink:href=\"#DejaVuSans-31\"/>\r\n       <use x=\"63.623047\" xlink:href=\"#DejaVuSans-30\"/>\r\n      </g>\r\n     </g>\r\n    </g>\r\n    <g id=\"ytick_12\">\r\n     <g id=\"line2d_25\">\r\n      <g>\r\n       <use style=\"stroke:#000000;stroke-width:0.8;\" x=\"420.807353\" xlink:href=\"#m47948fa205\" y=\"361.557223\"/>\r\n      </g>\r\n     </g>\r\n     <g id=\"text_26\">\r\n      <!-- 15 -->\r\n      <g transform=\"translate(401.082353 365.356441)scale(0.1 -0.1)\">\r\n       <use xlink:href=\"#DejaVuSans-31\"/>\r\n       <use x=\"63.623047\" xlink:href=\"#DejaVuSans-35\"/>\r\n      </g>\r\n     </g>\r\n    </g>\r\n    <g id=\"ytick_13\">\r\n     <g id=\"line2d_26\">\r\n      <g>\r\n       <use style=\"stroke:#000000;stroke-width:0.8;\" x=\"420.807353\" xlink:href=\"#m47948fa205\" y=\"293.436922\"/>\r\n      </g>\r\n     </g>\r\n     <g id=\"text_27\">\r\n      <!-- 20 -->\r\n      <g transform=\"translate(401.082353 297.236141)scale(0.1 -0.1)\">\r\n       <use xlink:href=\"#DejaVuSans-32\"/>\r\n       <use x=\"63.623047\" xlink:href=\"#DejaVuSans-30\"/>\r\n      </g>\r\n     </g>\r\n    </g>\r\n    <g id=\"ytick_14\">\r\n     <g id=\"line2d_27\">\r\n      <g>\r\n       <use style=\"stroke:#000000;stroke-width:0.8;\" x=\"420.807353\" xlink:href=\"#m47948fa205\" y=\"225.316621\"/>\r\n      </g>\r\n     </g>\r\n     <g id=\"text_28\">\r\n      <!-- 25 -->\r\n      <g transform=\"translate(401.082353 229.11584)scale(0.1 -0.1)\">\r\n       <use xlink:href=\"#DejaVuSans-32\"/>\r\n       <use x=\"63.623047\" xlink:href=\"#DejaVuSans-35\"/>\r\n      </g>\r\n     </g>\r\n    </g>\r\n    <g id=\"ytick_15\">\r\n     <g id=\"line2d_28\">\r\n      <g>\r\n       <use style=\"stroke:#000000;stroke-width:0.8;\" x=\"420.807353\" xlink:href=\"#m47948fa205\" y=\"157.19632\"/>\r\n      </g>\r\n     </g>\r\n     <g id=\"text_29\">\r\n      <!-- 30 -->\r\n      <g transform=\"translate(401.082353 160.995539)scale(0.1 -0.1)\">\r\n       <use xlink:href=\"#DejaVuSans-33\"/>\r\n       <use x=\"63.623047\" xlink:href=\"#DejaVuSans-30\"/>\r\n      </g>\r\n     </g>\r\n    </g>\r\n    <g id=\"ytick_16\">\r\n     <g id=\"line2d_29\">\r\n      <g>\r\n       <use style=\"stroke:#000000;stroke-width:0.8;\" x=\"420.807353\" xlink:href=\"#m47948fa205\" y=\"89.07602\"/>\r\n      </g>\r\n     </g>\r\n     <g id=\"text_30\">\r\n      <!-- 35 -->\r\n      <g transform=\"translate(401.082353 92.875238)scale(0.1 -0.1)\">\r\n       <use xlink:href=\"#DejaVuSans-33\"/>\r\n       <use x=\"63.623047\" xlink:href=\"#DejaVuSans-35\"/>\r\n      </g>\r\n     </g>\r\n    </g>\r\n   </g>\r\n   <g id=\"patch_28\">\r\n    <path d=\"M 420.807353 565.918125 \r\nL 420.807353 22.318125 \r\n\" style=\"fill:none;stroke:#000000;stroke-linecap:square;stroke-linejoin:miter;stroke-width:0.8;\"/>\r\n   </g>\r\n   <g id=\"patch_29\">\r\n    <path d=\"M 749.042647 565.918125 \r\nL 749.042647 22.318125 \r\n\" style=\"fill:none;stroke:#000000;stroke-linecap:square;stroke-linejoin:miter;stroke-width:0.8;\"/>\r\n   </g>\r\n   <g id=\"patch_30\">\r\n    <path d=\"M 420.807353 565.918125 \r\nL 749.042647 565.918125 \r\n\" style=\"fill:none;stroke:#000000;stroke-linecap:square;stroke-linejoin:miter;stroke-width:0.8;\"/>\r\n   </g>\r\n   <g id=\"patch_31\">\r\n    <path d=\"M 420.807353 22.318125 \r\nL 749.042647 22.318125 \r\n\" style=\"fill:none;stroke:#000000;stroke-linecap:square;stroke-linejoin:miter;stroke-width:0.8;\"/>\r\n   </g>\r\n   <g id=\"text_31\">\r\n    <!-- Annual Income (k$) -->\r\n    <g transform=\"translate(526.202813 16.318125)scale(0.12 -0.12)\">\r\n     <defs>\r\n      <path d=\"M 3513 2113 \r\nL 3513 0 \r\nL 2938 0 \r\nL 2938 2094 \r\nQ 2938 2591 2744 2837 \r\nQ 2550 3084 2163 3084 \r\nQ 1697 3084 1428 2787 \r\nQ 1159 2491 1159 1978 \r\nL 1159 0 \r\nL 581 0 \r\nL 581 3500 \r\nL 1159 3500 \r\nL 1159 2956 \r\nQ 1366 3272 1645 3428 \r\nQ 1925 3584 2291 3584 \r\nQ 2894 3584 3203 3211 \r\nQ 3513 2838 3513 2113 \r\nz\r\n\" id=\"DejaVuSans-6e\" transform=\"scale(0.015625)\"/>\r\n      <path d=\"M 544 1381 \r\nL 544 3500 \r\nL 1119 3500 \r\nL 1119 1403 \r\nQ 1119 906 1312 657 \r\nQ 1506 409 1894 409 \r\nQ 2359 409 2629 706 \r\nQ 2900 1003 2900 1516 \r\nL 2900 3500 \r\nL 3475 3500 \r\nL 3475 0 \r\nL 2900 0 \r\nL 2900 538 \r\nQ 2691 219 2414 64 \r\nQ 2138 -91 1772 -91 \r\nQ 1169 -91 856 284 \r\nQ 544 659 544 1381 \r\nz\r\nM 1991 3584 \r\nL 1991 3584 \r\nz\r\n\" id=\"DejaVuSans-75\" transform=\"scale(0.015625)\"/>\r\n      <path d=\"M 2194 1759 \r\nQ 1497 1759 1228 1600 \r\nQ 959 1441 959 1056 \r\nQ 959 750 1161 570 \r\nQ 1363 391 1709 391 \r\nQ 2188 391 2477 730 \r\nQ 2766 1069 2766 1631 \r\nL 2766 1759 \r\nL 2194 1759 \r\nz\r\nM 3341 1997 \r\nL 3341 0 \r\nL 2766 0 \r\nL 2766 531 \r\nQ 2569 213 2275 61 \r\nQ 1981 -91 1556 -91 \r\nQ 1019 -91 701 211 \r\nQ 384 513 384 1019 \r\nQ 384 1609 779 1909 \r\nQ 1175 2209 1959 2209 \r\nL 2766 2209 \r\nL 2766 2266 \r\nQ 2766 2663 2505 2880 \r\nQ 2244 3097 1772 3097 \r\nQ 1472 3097 1187 3025 \r\nQ 903 2953 641 2809 \r\nL 641 3341 \r\nQ 956 3463 1253 3523 \r\nQ 1550 3584 1831 3584 \r\nQ 2591 3584 2966 3190 \r\nQ 3341 2797 3341 1997 \r\nz\r\n\" id=\"DejaVuSans-61\" transform=\"scale(0.015625)\"/>\r\n      <path d=\"M 603 4863 \r\nL 1178 4863 \r\nL 1178 0 \r\nL 603 0 \r\nL 603 4863 \r\nz\r\n\" id=\"DejaVuSans-6c\" transform=\"scale(0.015625)\"/>\r\n      <path id=\"DejaVuSans-20\" transform=\"scale(0.015625)\"/>\r\n      <path d=\"M 628 4666 \r\nL 1259 4666 \r\nL 1259 0 \r\nL 628 0 \r\nL 628 4666 \r\nz\r\n\" id=\"DejaVuSans-49\" transform=\"scale(0.015625)\"/>\r\n      <path d=\"M 3122 3366 \r\nL 3122 2828 \r\nQ 2878 2963 2633 3030 \r\nQ 2388 3097 2138 3097 \r\nQ 1578 3097 1268 2742 \r\nQ 959 2388 959 1747 \r\nQ 959 1106 1268 751 \r\nQ 1578 397 2138 397 \r\nQ 2388 397 2633 464 \r\nQ 2878 531 3122 666 \r\nL 3122 134 \r\nQ 2881 22 2623 -34 \r\nQ 2366 -91 2075 -91 \r\nQ 1284 -91 818 406 \r\nQ 353 903 353 1747 \r\nQ 353 2603 823 3093 \r\nQ 1294 3584 2113 3584 \r\nQ 2378 3584 2631 3529 \r\nQ 2884 3475 3122 3366 \r\nz\r\n\" id=\"DejaVuSans-63\" transform=\"scale(0.015625)\"/>\r\n      <path d=\"M 1959 3097 \r\nQ 1497 3097 1228 2736 \r\nQ 959 2375 959 1747 \r\nQ 959 1119 1226 758 \r\nQ 1494 397 1959 397 \r\nQ 2419 397 2687 759 \r\nQ 2956 1122 2956 1747 \r\nQ 2956 2369 2687 2733 \r\nQ 2419 3097 1959 3097 \r\nz\r\nM 1959 3584 \r\nQ 2709 3584 3137 3096 \r\nQ 3566 2609 3566 1747 \r\nQ 3566 888 3137 398 \r\nQ 2709 -91 1959 -91 \r\nQ 1206 -91 779 398 \r\nQ 353 888 353 1747 \r\nQ 353 2609 779 3096 \r\nQ 1206 3584 1959 3584 \r\nz\r\n\" id=\"DejaVuSans-6f\" transform=\"scale(0.015625)\"/>\r\n      <path d=\"M 3328 2828 \r\nQ 3544 3216 3844 3400 \r\nQ 4144 3584 4550 3584 \r\nQ 5097 3584 5394 3201 \r\nQ 5691 2819 5691 2113 \r\nL 5691 0 \r\nL 5113 0 \r\nL 5113 2094 \r\nQ 5113 2597 4934 2840 \r\nQ 4756 3084 4391 3084 \r\nQ 3944 3084 3684 2787 \r\nQ 3425 2491 3425 1978 \r\nL 3425 0 \r\nL 2847 0 \r\nL 2847 2094 \r\nQ 2847 2600 2669 2842 \r\nQ 2491 3084 2119 3084 \r\nQ 1678 3084 1418 2786 \r\nQ 1159 2488 1159 1978 \r\nL 1159 0 \r\nL 581 0 \r\nL 581 3500 \r\nL 1159 3500 \r\nL 1159 2956 \r\nQ 1356 3278 1631 3431 \r\nQ 1906 3584 2284 3584 \r\nQ 2666 3584 2933 3390 \r\nQ 3200 3197 3328 2828 \r\nz\r\n\" id=\"DejaVuSans-6d\" transform=\"scale(0.015625)\"/>\r\n      <path d=\"M 1984 4856 \r\nQ 1566 4138 1362 3434 \r\nQ 1159 2731 1159 2009 \r\nQ 1159 1288 1364 580 \r\nQ 1569 -128 1984 -844 \r\nL 1484 -844 \r\nQ 1016 -109 783 600 \r\nQ 550 1309 550 2009 \r\nQ 550 2706 781 3412 \r\nQ 1013 4119 1484 4856 \r\nL 1984 4856 \r\nz\r\n\" id=\"DejaVuSans-28\" transform=\"scale(0.015625)\"/>\r\n      <path d=\"M 581 4863 \r\nL 1159 4863 \r\nL 1159 1991 \r\nL 2875 3500 \r\nL 3609 3500 \r\nL 1753 1863 \r\nL 3688 0 \r\nL 2938 0 \r\nL 1159 1709 \r\nL 1159 0 \r\nL 581 0 \r\nL 581 4863 \r\nz\r\n\" id=\"DejaVuSans-6b\" transform=\"scale(0.015625)\"/>\r\n      <path d=\"M 2163 -941 \r\nL 1850 -941 \r\nL 1847 0 \r\nQ 1519 6 1191 76 \r\nQ 863 147 531 288 \r\nL 531 850 \r\nQ 850 650 1176 548 \r\nQ 1503 447 1850 444 \r\nL 1850 1869 \r\nQ 1159 1981 845 2250 \r\nQ 531 2519 531 2988 \r\nQ 531 3497 872 3790 \r\nQ 1213 4084 1850 4128 \r\nL 1850 4863 \r\nL 2163 4863 \r\nL 2163 4138 \r\nQ 2453 4125 2725 4076 \r\nQ 2997 4028 3256 3944 \r\nL 3256 3397 \r\nQ 2997 3528 2723 3600 \r\nQ 2450 3672 2163 3684 \r\nL 2163 2350 \r\nQ 2872 2241 3206 1959 \r\nQ 3541 1678 3541 1191 \r\nQ 3541 663 3186 358 \r\nQ 2831 53 2163 6 \r\nL 2163 -941 \r\nz\r\nM 1850 2406 \r\nL 1850 3688 \r\nQ 1488 3647 1297 3481 \r\nQ 1106 3316 1106 3041 \r\nQ 1106 2772 1282 2622 \r\nQ 1459 2472 1850 2406 \r\nz\r\nM 2163 1806 \r\nL 2163 453 \r\nQ 2559 506 2761 678 \r\nQ 2963 850 2963 1131 \r\nQ 2963 1406 2770 1568 \r\nQ 2578 1731 2163 1806 \r\nz\r\n\" id=\"DejaVuSans-24\" transform=\"scale(0.015625)\"/>\r\n      <path d=\"M 513 4856 \r\nL 1013 4856 \r\nQ 1481 4119 1714 3412 \r\nQ 1947 2706 1947 2009 \r\nQ 1947 1309 1714 600 \r\nQ 1481 -109 1013 -844 \r\nL 513 -844 \r\nQ 928 -128 1133 580 \r\nQ 1338 1288 1338 2009 \r\nQ 1338 2731 1133 3434 \r\nQ 928 4138 513 4856 \r\nz\r\n\" id=\"DejaVuSans-29\" transform=\"scale(0.015625)\"/>\r\n     </defs>\r\n     <use xlink:href=\"#DejaVuSans-41\"/>\r\n     <use x=\"68.408203\" xlink:href=\"#DejaVuSans-6e\"/>\r\n     <use x=\"131.787109\" xlink:href=\"#DejaVuSans-6e\"/>\r\n     <use x=\"195.166016\" xlink:href=\"#DejaVuSans-75\"/>\r\n     <use x=\"258.544922\" xlink:href=\"#DejaVuSans-61\"/>\r\n     <use x=\"319.824219\" xlink:href=\"#DejaVuSans-6c\"/>\r\n     <use x=\"347.607422\" xlink:href=\"#DejaVuSans-20\"/>\r\n     <use x=\"379.394531\" xlink:href=\"#DejaVuSans-49\"/>\r\n     <use x=\"408.886719\" xlink:href=\"#DejaVuSans-6e\"/>\r\n     <use x=\"472.265625\" xlink:href=\"#DejaVuSans-63\"/>\r\n     <use x=\"527.246094\" xlink:href=\"#DejaVuSans-6f\"/>\r\n     <use x=\"588.427734\" xlink:href=\"#DejaVuSans-6d\"/>\r\n     <use x=\"685.839844\" xlink:href=\"#DejaVuSans-65\"/>\r\n     <use x=\"747.363281\" xlink:href=\"#DejaVuSans-20\"/>\r\n     <use x=\"779.150391\" xlink:href=\"#DejaVuSans-28\"/>\r\n     <use x=\"818.164062\" xlink:href=\"#DejaVuSans-6b\"/>\r\n     <use x=\"876.074219\" xlink:href=\"#DejaVuSans-24\"/>\r\n     <use x=\"939.697266\" xlink:href=\"#DejaVuSans-29\"/>\r\n    </g>\r\n   </g>\r\n  </g>\r\n  <g id=\"axes_3\">\r\n   <g id=\"patch_32\">\r\n    <path d=\"M 814.689706 565.918125 \r\nL 1142.925 565.918125 \r\nL 1142.925 22.318125 \r\nL 814.689706 22.318125 \r\nz\r\n\" style=\"fill:#ffffff;\"/>\r\n   </g>\r\n   <g id=\"patch_33\">\r\n    <path clip-path=\"url(#p273067d6eb)\" d=\"M 829.609492 565.918125 \r\nL 859.449064 565.918125 \r\nL 859.449064 342.041677 \r\nL 829.609492 342.041677 \r\nz\r\n\" style=\"fill:#1f77b4;\"/>\r\n   </g>\r\n   <g id=\"patch_34\">\r\n    <path clip-path=\"url(#p273067d6eb)\" d=\"M 859.449064 565.918125 \r\nL 889.288636 565.918125 \r\nL 889.288636 286.072565 \r\nL 859.449064 286.072565 \r\nz\r\n\" style=\"fill:#1f77b4;\"/>\r\n   </g>\r\n   <g id=\"patch_35\">\r\n    <path clip-path=\"url(#p273067d6eb)\" d=\"M 889.288636 565.918125 \r\nL 919.128209 565.918125 \r\nL 919.128209 425.995345 \r\nL 889.288636 425.995345 \r\nz\r\n\" style=\"fill:#1f77b4;\"/>\r\n   </g>\r\n   <g id=\"patch_36\">\r\n    <path clip-path=\"url(#p273067d6eb)\" d=\"M 919.128209 565.918125 \r\nL 948.967781 565.918125 \r\nL 948.967781 328.049399 \r\nL 919.128209 328.049399 \r\nz\r\n\" style=\"fill:#1f77b4;\"/>\r\n   </g>\r\n   <g id=\"patch_37\">\r\n    <path clip-path=\"url(#p273067d6eb)\" d=\"M 948.967781 565.918125 \r\nL 978.807353 565.918125 \r\nL 978.807353 76.188395 \r\nL 948.967781 76.188395 \r\nz\r\n\" style=\"fill:#1f77b4;\"/>\r\n   </g>\r\n   <g id=\"patch_38\">\r\n    <path clip-path=\"url(#p273067d6eb)\" d=\"M 978.807353 565.918125 \r\nL 1008.646925 565.918125 \r\nL 1008.646925 48.203839 \r\nL 978.807353 48.203839 \r\nz\r\n\" style=\"fill:#1f77b4;\"/>\r\n   </g>\r\n   <g id=\"patch_39\">\r\n    <path clip-path=\"url(#p273067d6eb)\" d=\"M 1008.646925 565.918125 \r\nL 1038.486497 565.918125 \r\nL 1038.486497 412.003067 \r\nL 1008.646925 412.003067 \r\nz\r\n\" style=\"fill:#1f77b4;\"/>\r\n   </g>\r\n   <g id=\"patch_40\">\r\n    <path clip-path=\"url(#p273067d6eb)\" d=\"M 1038.486497 565.918125 \r\nL 1068.32607 565.918125 \r\nL 1068.32607 230.103453 \r\nL 1038.486497 230.103453 \r\nz\r\n\" style=\"fill:#1f77b4;\"/>\r\n   </g>\r\n   <g id=\"patch_41\">\r\n    <path clip-path=\"url(#p273067d6eb)\" d=\"M 1068.32607 565.918125 \r\nL 1098.165642 565.918125 \r\nL 1098.165642 370.026233 \r\nL 1068.32607 370.026233 \r\nz\r\n\" style=\"fill:#1f77b4;\"/>\r\n   </g>\r\n   <g id=\"patch_42\">\r\n    <path clip-path=\"url(#p273067d6eb)\" d=\"M 1098.165642 565.918125 \r\nL 1128.005214 565.918125 \r\nL 1128.005214 342.041677 \r\nL 1098.165642 342.041677 \r\nz\r\n\" style=\"fill:#1f77b4;\"/>\r\n   </g>\r\n   <g id=\"matplotlib.axis_5\">\r\n    <g id=\"xtick_14\">\r\n     <g id=\"line2d_30\">\r\n      <g>\r\n       <use style=\"stroke:#000000;stroke-width:0.8;\" x=\"826.564638\" xlink:href=\"#m2fc98bc2f0\" y=\"565.918125\"/>\r\n      </g>\r\n     </g>\r\n     <g id=\"text_32\">\r\n      <!-- 0 -->\r\n      <g transform=\"translate(823.383388 580.516562)scale(0.1 -0.1)\">\r\n       <use xlink:href=\"#DejaVuSans-30\"/>\r\n      </g>\r\n     </g>\r\n    </g>\r\n    <g id=\"xtick_15\">\r\n     <g id=\"line2d_31\">\r\n      <g>\r\n       <use style=\"stroke:#000000;stroke-width:0.8;\" x=\"887.461724\" xlink:href=\"#m2fc98bc2f0\" y=\"565.918125\"/>\r\n      </g>\r\n     </g>\r\n     <g id=\"text_33\">\r\n      <!-- 20 -->\r\n      <g transform=\"translate(881.099224 580.516562)scale(0.1 -0.1)\">\r\n       <use xlink:href=\"#DejaVuSans-32\"/>\r\n       <use x=\"63.623047\" xlink:href=\"#DejaVuSans-30\"/>\r\n      </g>\r\n     </g>\r\n    </g>\r\n    <g id=\"xtick_16\">\r\n     <g id=\"line2d_32\">\r\n      <g>\r\n       <use style=\"stroke:#000000;stroke-width:0.8;\" x=\"948.35881\" xlink:href=\"#m2fc98bc2f0\" y=\"565.918125\"/>\r\n      </g>\r\n     </g>\r\n     <g id=\"text_34\">\r\n      <!-- 40 -->\r\n      <g transform=\"translate(941.99631 580.516562)scale(0.1 -0.1)\">\r\n       <use xlink:href=\"#DejaVuSans-34\"/>\r\n       <use x=\"63.623047\" xlink:href=\"#DejaVuSans-30\"/>\r\n      </g>\r\n     </g>\r\n    </g>\r\n    <g id=\"xtick_17\">\r\n     <g id=\"line2d_33\">\r\n      <g>\r\n       <use style=\"stroke:#000000;stroke-width:0.8;\" x=\"1009.255896\" xlink:href=\"#m2fc98bc2f0\" y=\"565.918125\"/>\r\n      </g>\r\n     </g>\r\n     <g id=\"text_35\">\r\n      <!-- 60 -->\r\n      <g transform=\"translate(1002.893396 580.516562)scale(0.1 -0.1)\">\r\n       <use xlink:href=\"#DejaVuSans-36\"/>\r\n       <use x=\"63.623047\" xlink:href=\"#DejaVuSans-30\"/>\r\n      </g>\r\n     </g>\r\n    </g>\r\n    <g id=\"xtick_18\">\r\n     <g id=\"line2d_34\">\r\n      <g>\r\n       <use style=\"stroke:#000000;stroke-width:0.8;\" x=\"1070.152982\" xlink:href=\"#m2fc98bc2f0\" y=\"565.918125\"/>\r\n      </g>\r\n     </g>\r\n     <g id=\"text_36\">\r\n      <!-- 80 -->\r\n      <g transform=\"translate(1063.790482 580.516562)scale(0.1 -0.1)\">\r\n       <use xlink:href=\"#DejaVuSans-38\"/>\r\n       <use x=\"63.623047\" xlink:href=\"#DejaVuSans-30\"/>\r\n      </g>\r\n     </g>\r\n    </g>\r\n    <g id=\"xtick_19\">\r\n     <g id=\"line2d_35\">\r\n      <g>\r\n       <use style=\"stroke:#000000;stroke-width:0.8;\" x=\"1131.050068\" xlink:href=\"#m2fc98bc2f0\" y=\"565.918125\"/>\r\n      </g>\r\n     </g>\r\n     <g id=\"text_37\">\r\n      <!-- 100 -->\r\n      <g transform=\"translate(1121.506318 580.516562)scale(0.1 -0.1)\">\r\n       <use xlink:href=\"#DejaVuSans-31\"/>\r\n       <use x=\"63.623047\" xlink:href=\"#DejaVuSans-30\"/>\r\n       <use x=\"127.246094\" xlink:href=\"#DejaVuSans-30\"/>\r\n      </g>\r\n     </g>\r\n    </g>\r\n   </g>\r\n   <g id=\"matplotlib.axis_6\">\r\n    <g id=\"ytick_17\">\r\n     <g id=\"line2d_36\">\r\n      <g>\r\n       <use style=\"stroke:#000000;stroke-width:0.8;\" x=\"814.689706\" xlink:href=\"#m47948fa205\" y=\"565.918125\"/>\r\n      </g>\r\n     </g>\r\n     <g id=\"text_38\">\r\n      <!-- 0 -->\r\n      <g transform=\"translate(801.327206 569.717344)scale(0.1 -0.1)\">\r\n       <use xlink:href=\"#DejaVuSans-30\"/>\r\n      </g>\r\n     </g>\r\n    </g>\r\n    <g id=\"ytick_18\">\r\n     <g id=\"line2d_37\">\r\n      <g>\r\n       <use style=\"stroke:#000000;stroke-width:0.8;\" x=\"814.689706\" xlink:href=\"#m47948fa205\" y=\"495.956735\"/>\r\n      </g>\r\n     </g>\r\n     <g id=\"text_39\">\r\n      <!-- 5 -->\r\n      <g transform=\"translate(801.327206 499.755954)scale(0.1 -0.1)\">\r\n       <use xlink:href=\"#DejaVuSans-35\"/>\r\n      </g>\r\n     </g>\r\n    </g>\r\n    <g id=\"ytick_19\">\r\n     <g id=\"line2d_38\">\r\n      <g>\r\n       <use style=\"stroke:#000000;stroke-width:0.8;\" x=\"814.689706\" xlink:href=\"#m47948fa205\" y=\"425.995345\"/>\r\n      </g>\r\n     </g>\r\n     <g id=\"text_40\">\r\n      <!-- 10 -->\r\n      <g transform=\"translate(794.964706 429.794564)scale(0.1 -0.1)\">\r\n       <use xlink:href=\"#DejaVuSans-31\"/>\r\n       <use x=\"63.623047\" xlink:href=\"#DejaVuSans-30\"/>\r\n      </g>\r\n     </g>\r\n    </g>\r\n    <g id=\"ytick_20\">\r\n     <g id=\"line2d_39\">\r\n      <g>\r\n       <use style=\"stroke:#000000;stroke-width:0.8;\" x=\"814.689706\" xlink:href=\"#m47948fa205\" y=\"356.033955\"/>\r\n      </g>\r\n     </g>\r\n     <g id=\"text_41\">\r\n      <!-- 15 -->\r\n      <g transform=\"translate(794.964706 359.833174)scale(0.1 -0.1)\">\r\n       <use xlink:href=\"#DejaVuSans-31\"/>\r\n       <use x=\"63.623047\" xlink:href=\"#DejaVuSans-35\"/>\r\n      </g>\r\n     </g>\r\n    </g>\r\n    <g id=\"ytick_21\">\r\n     <g id=\"line2d_40\">\r\n      <g>\r\n       <use style=\"stroke:#000000;stroke-width:0.8;\" x=\"814.689706\" xlink:href=\"#m47948fa205\" y=\"286.072565\"/>\r\n      </g>\r\n     </g>\r\n     <g id=\"text_42\">\r\n      <!-- 20 -->\r\n      <g transform=\"translate(794.964706 289.871784)scale(0.1 -0.1)\">\r\n       <use xlink:href=\"#DejaVuSans-32\"/>\r\n       <use x=\"63.623047\" xlink:href=\"#DejaVuSans-30\"/>\r\n      </g>\r\n     </g>\r\n    </g>\r\n    <g id=\"ytick_22\">\r\n     <g id=\"line2d_41\">\r\n      <g>\r\n       <use style=\"stroke:#000000;stroke-width:0.8;\" x=\"814.689706\" xlink:href=\"#m47948fa205\" y=\"216.111175\"/>\r\n      </g>\r\n     </g>\r\n     <g id=\"text_43\">\r\n      <!-- 25 -->\r\n      <g transform=\"translate(794.964706 219.910394)scale(0.1 -0.1)\">\r\n       <use xlink:href=\"#DejaVuSans-32\"/>\r\n       <use x=\"63.623047\" xlink:href=\"#DejaVuSans-35\"/>\r\n      </g>\r\n     </g>\r\n    </g>\r\n    <g id=\"ytick_23\">\r\n     <g id=\"line2d_42\">\r\n      <g>\r\n       <use style=\"stroke:#000000;stroke-width:0.8;\" x=\"814.689706\" xlink:href=\"#m47948fa205\" y=\"146.149785\"/>\r\n      </g>\r\n     </g>\r\n     <g id=\"text_44\">\r\n      <!-- 30 -->\r\n      <g transform=\"translate(794.964706 149.949004)scale(0.1 -0.1)\">\r\n       <use xlink:href=\"#DejaVuSans-33\"/>\r\n       <use x=\"63.623047\" xlink:href=\"#DejaVuSans-30\"/>\r\n      </g>\r\n     </g>\r\n    </g>\r\n    <g id=\"ytick_24\">\r\n     <g id=\"line2d_43\">\r\n      <g>\r\n       <use style=\"stroke:#000000;stroke-width:0.8;\" x=\"814.689706\" xlink:href=\"#m47948fa205\" y=\"76.188395\"/>\r\n      </g>\r\n     </g>\r\n     <g id=\"text_45\">\r\n      <!-- 35 -->\r\n      <g transform=\"translate(794.964706 79.987614)scale(0.1 -0.1)\">\r\n       <use xlink:href=\"#DejaVuSans-33\"/>\r\n       <use x=\"63.623047\" xlink:href=\"#DejaVuSans-35\"/>\r\n      </g>\r\n     </g>\r\n    </g>\r\n   </g>\r\n   <g id=\"patch_43\">\r\n    <path d=\"M 814.689706 565.918125 \r\nL 814.689706 22.318125 \r\n\" style=\"fill:none;stroke:#000000;stroke-linecap:square;stroke-linejoin:miter;stroke-width:0.8;\"/>\r\n   </g>\r\n   <g id=\"patch_44\">\r\n    <path d=\"M 1142.925 565.918125 \r\nL 1142.925 22.318125 \r\n\" style=\"fill:none;stroke:#000000;stroke-linecap:square;stroke-linejoin:miter;stroke-width:0.8;\"/>\r\n   </g>\r\n   <g id=\"patch_45\">\r\n    <path d=\"M 814.689706 565.918125 \r\nL 1142.925 565.918125 \r\n\" style=\"fill:none;stroke:#000000;stroke-linecap:square;stroke-linejoin:miter;stroke-width:0.8;\"/>\r\n   </g>\r\n   <g id=\"patch_46\">\r\n    <path d=\"M 814.689706 22.318125 \r\nL 1142.925 22.318125 \r\n\" style=\"fill:none;stroke:#000000;stroke-linecap:square;stroke-linejoin:miter;stroke-width:0.8;\"/>\r\n   </g>\r\n   <g id=\"text_46\">\r\n    <!-- Spending Score (1-100) -->\r\n    <g transform=\"translate(907.874228 16.318125)scale(0.12 -0.12)\">\r\n     <defs>\r\n      <path d=\"M 3425 4513 \r\nL 3425 3897 \r\nQ 3066 4069 2747 4153 \r\nQ 2428 4238 2131 4238 \r\nQ 1616 4238 1336 4038 \r\nQ 1056 3838 1056 3469 \r\nQ 1056 3159 1242 3001 \r\nQ 1428 2844 1947 2747 \r\nL 2328 2669 \r\nQ 3034 2534 3370 2195 \r\nQ 3706 1856 3706 1288 \r\nQ 3706 609 3251 259 \r\nQ 2797 -91 1919 -91 \r\nQ 1588 -91 1214 -16 \r\nQ 841 59 441 206 \r\nL 441 856 \r\nQ 825 641 1194 531 \r\nQ 1563 422 1919 422 \r\nQ 2459 422 2753 634 \r\nQ 3047 847 3047 1241 \r\nQ 3047 1584 2836 1778 \r\nQ 2625 1972 2144 2069 \r\nL 1759 2144 \r\nQ 1053 2284 737 2584 \r\nQ 422 2884 422 3419 \r\nQ 422 4038 858 4394 \r\nQ 1294 4750 2059 4750 \r\nQ 2388 4750 2728 4690 \r\nQ 3069 4631 3425 4513 \r\nz\r\n\" id=\"DejaVuSans-53\" transform=\"scale(0.015625)\"/>\r\n      <path d=\"M 1159 525 \r\nL 1159 -1331 \r\nL 581 -1331 \r\nL 581 3500 \r\nL 1159 3500 \r\nL 1159 2969 \r\nQ 1341 3281 1617 3432 \r\nQ 1894 3584 2278 3584 \r\nQ 2916 3584 3314 3078 \r\nQ 3713 2572 3713 1747 \r\nQ 3713 922 3314 415 \r\nQ 2916 -91 2278 -91 \r\nQ 1894 -91 1617 61 \r\nQ 1341 213 1159 525 \r\nz\r\nM 3116 1747 \r\nQ 3116 2381 2855 2742 \r\nQ 2594 3103 2138 3103 \r\nQ 1681 3103 1420 2742 \r\nQ 1159 2381 1159 1747 \r\nQ 1159 1113 1420 752 \r\nQ 1681 391 2138 391 \r\nQ 2594 391 2855 752 \r\nQ 3116 1113 3116 1747 \r\nz\r\n\" id=\"DejaVuSans-70\" transform=\"scale(0.015625)\"/>\r\n      <path d=\"M 2906 2969 \r\nL 2906 4863 \r\nL 3481 4863 \r\nL 3481 0 \r\nL 2906 0 \r\nL 2906 525 \r\nQ 2725 213 2448 61 \r\nQ 2172 -91 1784 -91 \r\nQ 1150 -91 751 415 \r\nQ 353 922 353 1747 \r\nQ 353 2572 751 3078 \r\nQ 1150 3584 1784 3584 \r\nQ 2172 3584 2448 3432 \r\nQ 2725 3281 2906 2969 \r\nz\r\nM 947 1747 \r\nQ 947 1113 1208 752 \r\nQ 1469 391 1925 391 \r\nQ 2381 391 2643 752 \r\nQ 2906 1113 2906 1747 \r\nQ 2906 2381 2643 2742 \r\nQ 2381 3103 1925 3103 \r\nQ 1469 3103 1208 2742 \r\nQ 947 2381 947 1747 \r\nz\r\n\" id=\"DejaVuSans-64\" transform=\"scale(0.015625)\"/>\r\n      <path d=\"M 603 3500 \r\nL 1178 3500 \r\nL 1178 0 \r\nL 603 0 \r\nL 603 3500 \r\nz\r\nM 603 4863 \r\nL 1178 4863 \r\nL 1178 4134 \r\nL 603 4134 \r\nL 603 4863 \r\nz\r\n\" id=\"DejaVuSans-69\" transform=\"scale(0.015625)\"/>\r\n      <path d=\"M 2631 2963 \r\nQ 2534 3019 2420 3045 \r\nQ 2306 3072 2169 3072 \r\nQ 1681 3072 1420 2755 \r\nQ 1159 2438 1159 1844 \r\nL 1159 0 \r\nL 581 0 \r\nL 581 3500 \r\nL 1159 3500 \r\nL 1159 2956 \r\nQ 1341 3275 1631 3429 \r\nQ 1922 3584 2338 3584 \r\nQ 2397 3584 2469 3576 \r\nQ 2541 3569 2628 3553 \r\nL 2631 2963 \r\nz\r\n\" id=\"DejaVuSans-72\" transform=\"scale(0.015625)\"/>\r\n      <path d=\"M 313 2009 \r\nL 1997 2009 \r\nL 1997 1497 \r\nL 313 1497 \r\nL 313 2009 \r\nz\r\n\" id=\"DejaVuSans-2d\" transform=\"scale(0.015625)\"/>\r\n     </defs>\r\n     <use xlink:href=\"#DejaVuSans-53\"/>\r\n     <use x=\"63.476562\" xlink:href=\"#DejaVuSans-70\"/>\r\n     <use x=\"126.953125\" xlink:href=\"#DejaVuSans-65\"/>\r\n     <use x=\"188.476562\" xlink:href=\"#DejaVuSans-6e\"/>\r\n     <use x=\"251.855469\" xlink:href=\"#DejaVuSans-64\"/>\r\n     <use x=\"315.332031\" xlink:href=\"#DejaVuSans-69\"/>\r\n     <use x=\"343.115234\" xlink:href=\"#DejaVuSans-6e\"/>\r\n     <use x=\"406.494141\" xlink:href=\"#DejaVuSans-67\"/>\r\n     <use x=\"469.970703\" xlink:href=\"#DejaVuSans-20\"/>\r\n     <use x=\"501.757812\" xlink:href=\"#DejaVuSans-53\"/>\r\n     <use x=\"565.234375\" xlink:href=\"#DejaVuSans-63\"/>\r\n     <use x=\"620.214844\" xlink:href=\"#DejaVuSans-6f\"/>\r\n     <use x=\"681.396484\" xlink:href=\"#DejaVuSans-72\"/>\r\n     <use x=\"720.259766\" xlink:href=\"#DejaVuSans-65\"/>\r\n     <use x=\"781.783203\" xlink:href=\"#DejaVuSans-20\"/>\r\n     <use x=\"813.570312\" xlink:href=\"#DejaVuSans-28\"/>\r\n     <use x=\"852.583984\" xlink:href=\"#DejaVuSans-31\"/>\r\n     <use x=\"916.207031\" xlink:href=\"#DejaVuSans-2d\"/>\r\n     <use x=\"952.291016\" xlink:href=\"#DejaVuSans-31\"/>\r\n     <use x=\"1015.914062\" xlink:href=\"#DejaVuSans-30\"/>\r\n     <use x=\"1079.537109\" xlink:href=\"#DejaVuSans-30\"/>\r\n     <use x=\"1143.160156\" xlink:href=\"#DejaVuSans-29\"/>\r\n    </g>\r\n   </g>\r\n  </g>\r\n </g>\r\n <defs>\r\n  <clipPath id=\"pf068bbdcb3\">\r\n   <rect height=\"543.6\" width=\"328.235294\" x=\"26.925\" y=\"22.318125\"/>\r\n  </clipPath>\r\n  <clipPath id=\"pce2b2adaa6\">\r\n   <rect height=\"543.6\" width=\"328.235294\" x=\"420.807353\" y=\"22.318125\"/>\r\n  </clipPath>\r\n  <clipPath id=\"p273067d6eb\">\r\n   <rect height=\"543.6\" width=\"328.235294\" x=\"814.689706\" y=\"22.318125\"/>\r\n  </clipPath>\r\n </defs>\r\n</svg>\r\n",
      "image/png": "[encoded data removed]"
     },
     "metadata": {
      "needs_background": "light"
     }
    }
   ],
   "source": [
    "plt.figure(figsize=(20, 10))\n",
    "plt.subplot(131), plt.hist(df['Age']), plt.title('Age')\n",
    "plt.subplot(132), plt.hist(df['Annual Income (k$)']), plt.title('Annual Income (k$)')\n",
    "plt.subplot(133), plt.hist(df['Spending Score (1-100)']), plt.title('Spending Score (1-100)')\n",
    "plt.show()"
   ]
  },
  {
   "cell_type": "code",
   "execution_count": 4,
   "metadata": {},
   "outputs": [
    {
     "output_type": "display_data",
     "data": {
      "text/plain": "<Figure size 1080x720 with 1 Axes>",
      "image/svg+xml": "<?xml version=\"1.0\" encoding=\"utf-8\" standalone=\"no\"?>\r\n<!DOCTYPE svg PUBLIC \"-//W3C//DTD SVG 1.1//EN\"\r\n  \"http://www.w3.org/Graphics/SVG/1.1/DTD/svg11.dtd\">\r\n<svg height=\"574.678125pt\" version=\"1.1\" viewBox=\"0 0 877.4875 574.678125\" width=\"877.4875pt\" xmlns=\"http://www.w3.org/2000/svg\" xmlns:xlink=\"http://www.w3.org/1999/xlink\">\r\n <metadata>\r\n  <rdf:RDF xmlns:cc=\"http://creativecommons.org/ns#\" xmlns:dc=\"http://purl.org/dc/elements/1.1/\" xmlns:rdf=\"http://www.w3.org/1999/02/22-rdf-syntax-ns#\">\r\n   <cc:Work>\r\n    <dc:type rdf:resource=\"http://purl.org/dc/dcmitype/StillImage\"/>\r\n    <dc:date>2021-05-19T17:23:34.967346</dc:date>\r\n    <dc:format>image/svg+xml</dc:format>\r\n    <dc:creator>\r\n     <cc:Agent>\r\n      <dc:title>Matplotlib v3.4.1, https://matplotlib.org/</dc:title>\r\n     </cc:Agent>\r\n    </dc:creator>\r\n   </cc:Work>\r\n  </rdf:RDF>\r\n </metadata>\r\n <defs>\r\n  <style type=\"text/css\">*{stroke-linecap:butt;stroke-linejoin:round;}</style>\r\n </defs>\r\n <g id=\"figure_1\">\r\n  <g id=\"patch_1\">\r\n   <path d=\"M 0 574.678125 \r\nL 877.4875 574.678125 \r\nL 877.4875 0 \r\nL 0 0 \r\nz\r\n\" style=\"fill:none;\"/>\r\n  </g>\r\n  <g id=\"axes_1\">\r\n   <g id=\"patch_2\">\r\n    <path d=\"M 33.2875 550.8 \r\nL 870.2875 550.8 \r\nL 870.2875 7.2 \r\nL 33.2875 7.2 \r\nz\r\n\" style=\"fill:#ffffff;\"/>\r\n   </g>\r\n   <g id=\"patch_3\">\r\n    <path clip-path=\"url(#p9f809cca2e)\" d=\"M 137.9125 550.8 \r\nL 347.1625 550.8 \r\nL 347.1625 33.085714 \r\nL 137.9125 33.085714 \r\nz\r\n\" style=\"fill:#1f77b4;\"/>\r\n   </g>\r\n   <g id=\"patch_4\">\r\n    <path clip-path=\"url(#p9f809cca2e)\" d=\"M 556.4125 550.8 \r\nL 765.6625 550.8 \r\nL 765.6625 144.02449 \r\nL 556.4125 144.02449 \r\nz\r\n\" style=\"fill:#1f77b4;\"/>\r\n   </g>\r\n   <g id=\"matplotlib.axis_1\">\r\n    <g id=\"xtick_1\">\r\n     <g id=\"line2d_1\">\r\n      <defs>\r\n       <path d=\"M 0 0 \r\nL 0 3.5 \r\n\" id=\"m138665ac73\" style=\"stroke:#000000;stroke-width:0.8;\"/>\r\n      </defs>\r\n      <g>\r\n       <use style=\"stroke:#000000;stroke-width:0.8;\" x=\"242.5375\" xlink:href=\"#m138665ac73\" y=\"550.8\"/>\r\n      </g>\r\n     </g>\r\n     <g id=\"text_1\">\r\n      <!-- Female -->\r\n      <g transform=\"translate(224.460156 565.398438)scale(0.1 -0.1)\">\r\n       <defs>\r\n        <path d=\"M 628 4666 \r\nL 3309 4666 \r\nL 3309 4134 \r\nL 1259 4134 \r\nL 1259 2759 \r\nL 3109 2759 \r\nL 3109 2228 \r\nL 1259 2228 \r\nL 1259 0 \r\nL 628 0 \r\nL 628 4666 \r\nz\r\n\" id=\"DejaVuSans-46\" transform=\"scale(0.015625)\"/>\r\n        <path d=\"M 3597 1894 \r\nL 3597 1613 \r\nL 953 1613 \r\nQ 991 1019 1311 708 \r\nQ 1631 397 2203 397 \r\nQ 2534 397 2845 478 \r\nQ 3156 559 3463 722 \r\nL 3463 178 \r\nQ 3153 47 2828 -22 \r\nQ 2503 -91 2169 -91 \r\nQ 1331 -91 842 396 \r\nQ 353 884 353 1716 \r\nQ 353 2575 817 3079 \r\nQ 1281 3584 2069 3584 \r\nQ 2775 3584 3186 3129 \r\nQ 3597 2675 3597 1894 \r\nz\r\nM 3022 2063 \r\nQ 3016 2534 2758 2815 \r\nQ 2500 3097 2075 3097 \r\nQ 1594 3097 1305 2825 \r\nQ 1016 2553 972 2059 \r\nL 3022 2063 \r\nz\r\n\" id=\"DejaVuSans-65\" transform=\"scale(0.015625)\"/>\r\n        <path d=\"M 3328 2828 \r\nQ 3544 3216 3844 3400 \r\nQ 4144 3584 4550 3584 \r\nQ 5097 3584 5394 3201 \r\nQ 5691 2819 5691 2113 \r\nL 5691 0 \r\nL 5113 0 \r\nL 5113 2094 \r\nQ 5113 2597 4934 2840 \r\nQ 4756 3084 4391 3084 \r\nQ 3944 3084 3684 2787 \r\nQ 3425 2491 3425 1978 \r\nL 3425 0 \r\nL 2847 0 \r\nL 2847 2094 \r\nQ 2847 2600 2669 2842 \r\nQ 2491 3084 2119 3084 \r\nQ 1678 3084 1418 2786 \r\nQ 1159 2488 1159 1978 \r\nL 1159 0 \r\nL 581 0 \r\nL 581 3500 \r\nL 1159 3500 \r\nL 1159 2956 \r\nQ 1356 3278 1631 3431 \r\nQ 1906 3584 2284 3584 \r\nQ 2666 3584 2933 3390 \r\nQ 3200 3197 3328 2828 \r\nz\r\n\" id=\"DejaVuSans-6d\" transform=\"scale(0.015625)\"/>\r\n        <path d=\"M 2194 1759 \r\nQ 1497 1759 1228 1600 \r\nQ 959 1441 959 1056 \r\nQ 959 750 1161 570 \r\nQ 1363 391 1709 391 \r\nQ 2188 391 2477 730 \r\nQ 2766 1069 2766 1631 \r\nL 2766 1759 \r\nL 2194 1759 \r\nz\r\nM 3341 1997 \r\nL 3341 0 \r\nL 2766 0 \r\nL 2766 531 \r\nQ 2569 213 2275 61 \r\nQ 1981 -91 1556 -91 \r\nQ 1019 -91 701 211 \r\nQ 384 513 384 1019 \r\nQ 384 1609 779 1909 \r\nQ 1175 2209 1959 2209 \r\nL 2766 2209 \r\nL 2766 2266 \r\nQ 2766 2663 2505 2880 \r\nQ 2244 3097 1772 3097 \r\nQ 1472 3097 1187 3025 \r\nQ 903 2953 641 2809 \r\nL 641 3341 \r\nQ 956 3463 1253 3523 \r\nQ 1550 3584 1831 3584 \r\nQ 2591 3584 2966 3190 \r\nQ 3341 2797 3341 1997 \r\nz\r\n\" id=\"DejaVuSans-61\" transform=\"scale(0.015625)\"/>\r\n        <path d=\"M 603 4863 \r\nL 1178 4863 \r\nL 1178 0 \r\nL 603 0 \r\nL 603 4863 \r\nz\r\n\" id=\"DejaVuSans-6c\" transform=\"scale(0.015625)\"/>\r\n       </defs>\r\n       <use xlink:href=\"#DejaVuSans-46\"/>\r\n       <use x=\"52.019531\" xlink:href=\"#DejaVuSans-65\"/>\r\n       <use x=\"113.542969\" xlink:href=\"#DejaVuSans-6d\"/>\r\n       <use x=\"210.955078\" xlink:href=\"#DejaVuSans-61\"/>\r\n       <use x=\"272.234375\" xlink:href=\"#DejaVuSans-6c\"/>\r\n       <use x=\"300.017578\" xlink:href=\"#DejaVuSans-65\"/>\r\n      </g>\r\n     </g>\r\n    </g>\r\n    <g id=\"xtick_2\">\r\n     <g id=\"line2d_2\">\r\n      <g>\r\n       <use style=\"stroke:#000000;stroke-width:0.8;\" x=\"661.0375\" xlink:href=\"#m138665ac73\" y=\"550.8\"/>\r\n      </g>\r\n     </g>\r\n     <g id=\"text_2\">\r\n      <!-- Male -->\r\n      <g transform=\"translate(649.19375 565.398438)scale(0.1 -0.1)\">\r\n       <defs>\r\n        <path d=\"M 628 4666 \r\nL 1569 4666 \r\nL 2759 1491 \r\nL 3956 4666 \r\nL 4897 4666 \r\nL 4897 0 \r\nL 4281 0 \r\nL 4281 4097 \r\nL 3078 897 \r\nL 2444 897 \r\nL 1241 4097 \r\nL 1241 0 \r\nL 628 0 \r\nL 628 4666 \r\nz\r\n\" id=\"DejaVuSans-4d\" transform=\"scale(0.015625)\"/>\r\n       </defs>\r\n       <use xlink:href=\"#DejaVuSans-4d\"/>\r\n       <use x=\"86.279297\" xlink:href=\"#DejaVuSans-61\"/>\r\n       <use x=\"147.558594\" xlink:href=\"#DejaVuSans-6c\"/>\r\n       <use x=\"175.341797\" xlink:href=\"#DejaVuSans-65\"/>\r\n      </g>\r\n     </g>\r\n    </g>\r\n   </g>\r\n   <g id=\"matplotlib.axis_2\">\r\n    <g id=\"ytick_1\">\r\n     <g id=\"line2d_3\">\r\n      <defs>\r\n       <path d=\"M 0 0 \r\nL -3.5 0 \r\n\" id=\"m3747b06282\" style=\"stroke:#000000;stroke-width:0.8;\"/>\r\n      </defs>\r\n      <g>\r\n       <use style=\"stroke:#000000;stroke-width:0.8;\" x=\"33.2875\" xlink:href=\"#m3747b06282\" y=\"550.8\"/>\r\n      </g>\r\n     </g>\r\n     <g id=\"text_3\">\r\n      <!-- 0 -->\r\n      <g transform=\"translate(19.925 554.599219)scale(0.1 -0.1)\">\r\n       <defs>\r\n        <path d=\"M 2034 4250 \r\nQ 1547 4250 1301 3770 \r\nQ 1056 3291 1056 2328 \r\nQ 1056 1369 1301 889 \r\nQ 1547 409 2034 409 \r\nQ 2525 409 2770 889 \r\nQ 3016 1369 3016 2328 \r\nQ 3016 3291 2770 3770 \r\nQ 2525 4250 2034 4250 \r\nz\r\nM 2034 4750 \r\nQ 2819 4750 3233 4129 \r\nQ 3647 3509 3647 2328 \r\nQ 3647 1150 3233 529 \r\nQ 2819 -91 2034 -91 \r\nQ 1250 -91 836 529 \r\nQ 422 1150 422 2328 \r\nQ 422 3509 836 4129 \r\nQ 1250 4750 2034 4750 \r\nz\r\n\" id=\"DejaVuSans-30\" transform=\"scale(0.015625)\"/>\r\n       </defs>\r\n       <use xlink:href=\"#DejaVuSans-30\"/>\r\n      </g>\r\n     </g>\r\n    </g>\r\n    <g id=\"ytick_2\">\r\n     <g id=\"line2d_4\">\r\n      <g>\r\n       <use style=\"stroke:#000000;stroke-width:0.8;\" x=\"33.2875\" xlink:href=\"#m3747b06282\" y=\"458.35102\"/>\r\n      </g>\r\n     </g>\r\n     <g id=\"text_4\">\r\n      <!-- 20 -->\r\n      <g transform=\"translate(13.5625 462.150239)scale(0.1 -0.1)\">\r\n       <defs>\r\n        <path d=\"M 1228 531 \r\nL 3431 531 \r\nL 3431 0 \r\nL 469 0 \r\nL 469 531 \r\nQ 828 903 1448 1529 \r\nQ 2069 2156 2228 2338 \r\nQ 2531 2678 2651 2914 \r\nQ 2772 3150 2772 3378 \r\nQ 2772 3750 2511 3984 \r\nQ 2250 4219 1831 4219 \r\nQ 1534 4219 1204 4116 \r\nQ 875 4013 500 3803 \r\nL 500 4441 \r\nQ 881 4594 1212 4672 \r\nQ 1544 4750 1819 4750 \r\nQ 2544 4750 2975 4387 \r\nQ 3406 4025 3406 3419 \r\nQ 3406 3131 3298 2873 \r\nQ 3191 2616 2906 2266 \r\nQ 2828 2175 2409 1742 \r\nQ 1991 1309 1228 531 \r\nz\r\n\" id=\"DejaVuSans-32\" transform=\"scale(0.015625)\"/>\r\n       </defs>\r\n       <use xlink:href=\"#DejaVuSans-32\"/>\r\n       <use x=\"63.623047\" xlink:href=\"#DejaVuSans-30\"/>\r\n      </g>\r\n     </g>\r\n    </g>\r\n    <g id=\"ytick_3\">\r\n     <g id=\"line2d_5\">\r\n      <g>\r\n       <use style=\"stroke:#000000;stroke-width:0.8;\" x=\"33.2875\" xlink:href=\"#m3747b06282\" y=\"365.902041\"/>\r\n      </g>\r\n     </g>\r\n     <g id=\"text_5\">\r\n      <!-- 40 -->\r\n      <g transform=\"translate(13.5625 369.70126)scale(0.1 -0.1)\">\r\n       <defs>\r\n        <path d=\"M 2419 4116 \r\nL 825 1625 \r\nL 2419 1625 \r\nL 2419 4116 \r\nz\r\nM 2253 4666 \r\nL 3047 4666 \r\nL 3047 1625 \r\nL 3713 1625 \r\nL 3713 1100 \r\nL 3047 1100 \r\nL 3047 0 \r\nL 2419 0 \r\nL 2419 1100 \r\nL 313 1100 \r\nL 313 1709 \r\nL 2253 4666 \r\nz\r\n\" id=\"DejaVuSans-34\" transform=\"scale(0.015625)\"/>\r\n       </defs>\r\n       <use xlink:href=\"#DejaVuSans-34\"/>\r\n       <use x=\"63.623047\" xlink:href=\"#DejaVuSans-30\"/>\r\n      </g>\r\n     </g>\r\n    </g>\r\n    <g id=\"ytick_4\">\r\n     <g id=\"line2d_6\">\r\n      <g>\r\n       <use style=\"stroke:#000000;stroke-width:0.8;\" x=\"33.2875\" xlink:href=\"#m3747b06282\" y=\"273.453061\"/>\r\n      </g>\r\n     </g>\r\n     <g id=\"text_6\">\r\n      <!-- 60 -->\r\n      <g transform=\"translate(13.5625 277.25228)scale(0.1 -0.1)\">\r\n       <defs>\r\n        <path d=\"M 2113 2584 \r\nQ 1688 2584 1439 2293 \r\nQ 1191 2003 1191 1497 \r\nQ 1191 994 1439 701 \r\nQ 1688 409 2113 409 \r\nQ 2538 409 2786 701 \r\nQ 3034 994 3034 1497 \r\nQ 3034 2003 2786 2293 \r\nQ 2538 2584 2113 2584 \r\nz\r\nM 3366 4563 \r\nL 3366 3988 \r\nQ 3128 4100 2886 4159 \r\nQ 2644 4219 2406 4219 \r\nQ 1781 4219 1451 3797 \r\nQ 1122 3375 1075 2522 \r\nQ 1259 2794 1537 2939 \r\nQ 1816 3084 2150 3084 \r\nQ 2853 3084 3261 2657 \r\nQ 3669 2231 3669 1497 \r\nQ 3669 778 3244 343 \r\nQ 2819 -91 2113 -91 \r\nQ 1303 -91 875 529 \r\nQ 447 1150 447 2328 \r\nQ 447 3434 972 4092 \r\nQ 1497 4750 2381 4750 \r\nQ 2619 4750 2861 4703 \r\nQ 3103 4656 3366 4563 \r\nz\r\n\" id=\"DejaVuSans-36\" transform=\"scale(0.015625)\"/>\r\n       </defs>\r\n       <use xlink:href=\"#DejaVuSans-36\"/>\r\n       <use x=\"63.623047\" xlink:href=\"#DejaVuSans-30\"/>\r\n      </g>\r\n     </g>\r\n    </g>\r\n    <g id=\"ytick_5\">\r\n     <g id=\"line2d_7\">\r\n      <g>\r\n       <use style=\"stroke:#000000;stroke-width:0.8;\" x=\"33.2875\" xlink:href=\"#m3747b06282\" y=\"181.004082\"/>\r\n      </g>\r\n     </g>\r\n     <g id=\"text_7\">\r\n      <!-- 80 -->\r\n      <g transform=\"translate(13.5625 184.8033)scale(0.1 -0.1)\">\r\n       <defs>\r\n        <path d=\"M 2034 2216 \r\nQ 1584 2216 1326 1975 \r\nQ 1069 1734 1069 1313 \r\nQ 1069 891 1326 650 \r\nQ 1584 409 2034 409 \r\nQ 2484 409 2743 651 \r\nQ 3003 894 3003 1313 \r\nQ 3003 1734 2745 1975 \r\nQ 2488 2216 2034 2216 \r\nz\r\nM 1403 2484 \r\nQ 997 2584 770 2862 \r\nQ 544 3141 544 3541 \r\nQ 544 4100 942 4425 \r\nQ 1341 4750 2034 4750 \r\nQ 2731 4750 3128 4425 \r\nQ 3525 4100 3525 3541 \r\nQ 3525 3141 3298 2862 \r\nQ 3072 2584 2669 2484 \r\nQ 3125 2378 3379 2068 \r\nQ 3634 1759 3634 1313 \r\nQ 3634 634 3220 271 \r\nQ 2806 -91 2034 -91 \r\nQ 1263 -91 848 271 \r\nQ 434 634 434 1313 \r\nQ 434 1759 690 2068 \r\nQ 947 2378 1403 2484 \r\nz\r\nM 1172 3481 \r\nQ 1172 3119 1398 2916 \r\nQ 1625 2713 2034 2713 \r\nQ 2441 2713 2670 2916 \r\nQ 2900 3119 2900 3481 \r\nQ 2900 3844 2670 4047 \r\nQ 2441 4250 2034 4250 \r\nQ 1625 4250 1398 4047 \r\nQ 1172 3844 1172 3481 \r\nz\r\n\" id=\"DejaVuSans-38\" transform=\"scale(0.015625)\"/>\r\n       </defs>\r\n       <use xlink:href=\"#DejaVuSans-38\"/>\r\n       <use x=\"63.623047\" xlink:href=\"#DejaVuSans-30\"/>\r\n      </g>\r\n     </g>\r\n    </g>\r\n    <g id=\"ytick_6\">\r\n     <g id=\"line2d_8\">\r\n      <g>\r\n       <use style=\"stroke:#000000;stroke-width:0.8;\" x=\"33.2875\" xlink:href=\"#m3747b06282\" y=\"88.555102\"/>\r\n      </g>\r\n     </g>\r\n     <g id=\"text_8\">\r\n      <!-- 100 -->\r\n      <g transform=\"translate(7.2 92.354321)scale(0.1 -0.1)\">\r\n       <defs>\r\n        <path d=\"M 794 531 \r\nL 1825 531 \r\nL 1825 4091 \r\nL 703 3866 \r\nL 703 4441 \r\nL 1819 4666 \r\nL 2450 4666 \r\nL 2450 531 \r\nL 3481 531 \r\nL 3481 0 \r\nL 794 0 \r\nL 794 531 \r\nz\r\n\" id=\"DejaVuSans-31\" transform=\"scale(0.015625)\"/>\r\n       </defs>\r\n       <use xlink:href=\"#DejaVuSans-31\"/>\r\n       <use x=\"63.623047\" xlink:href=\"#DejaVuSans-30\"/>\r\n       <use x=\"127.246094\" xlink:href=\"#DejaVuSans-30\"/>\r\n      </g>\r\n     </g>\r\n    </g>\r\n   </g>\r\n   <g id=\"patch_5\">\r\n    <path d=\"M 33.2875 550.8 \r\nL 33.2875 7.2 \r\n\" style=\"fill:none;stroke:#000000;stroke-linecap:square;stroke-linejoin:miter;stroke-width:0.8;\"/>\r\n   </g>\r\n   <g id=\"patch_6\">\r\n    <path d=\"M 870.2875 550.8 \r\nL 870.2875 7.2 \r\n\" style=\"fill:none;stroke:#000000;stroke-linecap:square;stroke-linejoin:miter;stroke-width:0.8;\"/>\r\n   </g>\r\n   <g id=\"patch_7\">\r\n    <path d=\"M 33.2875 550.8 \r\nL 870.2875 550.8 \r\n\" style=\"fill:none;stroke:#000000;stroke-linecap:square;stroke-linejoin:miter;stroke-width:0.8;\"/>\r\n   </g>\r\n   <g id=\"patch_8\">\r\n    <path d=\"M 33.2875 7.2 \r\nL 870.2875 7.2 \r\n\" style=\"fill:none;stroke:#000000;stroke-linecap:square;stroke-linejoin:miter;stroke-width:0.8;\"/>\r\n   </g>\r\n  </g>\r\n </g>\r\n <defs>\r\n  <clipPath id=\"p9f809cca2e\">\r\n   <rect height=\"543.6\" width=\"837\" x=\"33.2875\" y=\"7.2\"/>\r\n  </clipPath>\r\n </defs>\r\n</svg>\r\n",
      "image/png": "[encoded data removed]"
     },
     "metadata": {
      "needs_background": "light"
     }
    }
   ],
   "source": [
    "plt.figure(figsize=(15, 10))\n",
    "df['Gender'].value_counts().plot.bar(rot=0);"
   ]
  },
  {
   "cell_type": "code",
   "execution_count": 5,
   "metadata": {},
   "outputs": [
    {
     "output_type": "display_data",
     "data": {
      "text/plain": "<Figure size 1800x1080 with 6 Axes>",
      "image/svg+xml": "<?xml version=\"1.0\" encoding=\"utf-8\" standalone=\"no\"?>\r\n<!DOCTYPE svg PUBLIC \"-//W3C//DTD SVG 1.1//EN\"\r\n  \"http://www.w3.org/Graphics/SVG/1.1/DTD/svg11.dtd\">\r\n<svg height=\"861.59625pt\" version=\"1.1\" viewBox=\"0 0 1435.553517 861.59625\" width=\"1435.553517pt\" xmlns=\"http://www.w3.org/2000/svg\" xmlns:xlink=\"http://www.w3.org/1999/xlink\">\r\n <metadata>\r\n  <rdf:RDF xmlns:cc=\"http://creativecommons.org/ns#\" xmlns:dc=\"http://purl.org/dc/elements/1.1/\" xmlns:rdf=\"http://www.w3.org/1999/02/22-rdf-syntax-ns#\">\r\n   <cc:Work>\r\n    <dc:type rdf:resource=\"http://purl.org/dc/dcmitype/StillImage\"/>\r\n    <dc:date>2021-05-19T17:23:37.852970</dc:date>\r\n    <dc:format>image/svg+xml</dc:format>\r\n    <dc:creator>\r\n     <cc:Agent>\r\n      <dc:title>Matplotlib v3.4.1, https://matplotlib.org/</dc:title>\r\n     </cc:Agent>\r\n    </dc:creator>\r\n   </cc:Work>\r\n  </rdf:RDF>\r\n </metadata>\r\n <defs>\r\n  <style type=\"text/css\">*{stroke-linecap:butt;stroke-linejoin:round;}</style>\r\n </defs>\r\n <g id=\"figure_1\">\r\n  <g id=\"patch_1\">\r\n   <path d=\"M 0 861.59625 \r\nL 1435.553517 861.59625 \r\nL 1435.553517 0 \r\nL 0 0 \r\nz\r\n\" style=\"fill:none;\"/>\r\n  </g>\r\n  <g id=\"axes_1\">\r\n   <g id=\"patch_2\">\r\n    <path d=\"M 33.2875 392.954489 \r\nL 443.581618 392.954489 \r\nL 443.581618 22.318125 \r\nL 33.2875 22.318125 \r\nz\r\n\" style=\"fill:#ffffff;\"/>\r\n   </g>\r\n   <g id=\"PathCollection_1\">\r\n    <defs>\r\n     <path d=\"M 0 3 \r\nC 0.795609 3 1.55874 2.683901 2.12132 2.12132 \r\nC 2.683901 1.55874 3 0.795609 3 0 \r\nC 3 -0.795609 2.683901 -1.55874 2.12132 -2.12132 \r\nC 1.55874 -2.683901 0.795609 -3 0 -3 \r\nC -0.795609 -3 -1.55874 -2.683901 -2.12132 -2.12132 \r\nC -2.683901 -1.55874 -3 -0.795609 -3 0 \r\nC -3 0.795609 -2.683901 1.55874 -2.12132 2.12132 \r\nC -1.55874 2.683901 -0.795609 3 0 3 \r\nz\r\n\" id=\"m35187518fa\" style=\"stroke:#1f77b4;\"/>\r\n    </defs>\r\n    <g clip-path=\"url(#p6ed980e19e)\">\r\n     <use style=\"fill:#1f77b4;stroke:#1f77b4;\" x=\"59.110207\" xlink:href=\"#m35187518fa\" y=\"376.107381\"/>\r\n     <use style=\"fill:#1f77b4;stroke:#1f77b4;\" x=\"73.456155\" xlink:href=\"#m35187518fa\" y=\"376.107381\"/>\r\n     <use style=\"fill:#1f77b4;stroke:#1f77b4;\" x=\"66.283181\" xlink:href=\"#m35187518fa\" y=\"373.34556\"/>\r\n     <use style=\"fill:#1f77b4;stroke:#1f77b4;\" x=\"87.802103\" xlink:href=\"#m35187518fa\" y=\"373.34556\"/>\r\n     <use style=\"fill:#1f77b4;stroke:#1f77b4;\" x=\"145.185896\" xlink:href=\"#m35187518fa\" y=\"370.583739\"/>\r\n     <use style=\"fill:#1f77b4;stroke:#1f77b4;\" x=\"80.629129\" xlink:href=\"#m35187518fa\" y=\"370.583739\"/>\r\n     <use style=\"fill:#1f77b4;stroke:#1f77b4;\" x=\"173.877792\" xlink:href=\"#m35187518fa\" y=\"367.821919\"/>\r\n     <use style=\"fill:#1f77b4;stroke:#1f77b4;\" x=\"87.802103\" xlink:href=\"#m35187518fa\" y=\"367.821919\"/>\r\n     <use style=\"fill:#1f77b4;stroke:#1f77b4;\" x=\"381.894041\" xlink:href=\"#m35187518fa\" y=\"365.060098\"/>\r\n     <use style=\"fill:#1f77b4;stroke:#1f77b4;\" x=\"138.012922\" xlink:href=\"#m35187518fa\" y=\"365.060098\"/>\r\n     <use style=\"fill:#1f77b4;stroke:#1f77b4;\" x=\"403.412963\" xlink:href=\"#m35187518fa\" y=\"365.060098\"/>\r\n     <use style=\"fill:#1f77b4;stroke:#1f77b4;\" x=\"173.877792\" xlink:href=\"#m35187518fa\" y=\"365.060098\"/>\r\n     <use style=\"fill:#1f77b4;stroke:#1f77b4;\" x=\"338.856196\" xlink:href=\"#m35187518fa\" y=\"362.298277\"/>\r\n     <use style=\"fill:#1f77b4;stroke:#1f77b4;\" x=\"94.975077\" xlink:href=\"#m35187518fa\" y=\"362.298277\"/>\r\n     <use style=\"fill:#1f77b4;stroke:#1f77b4;\" x=\"188.22374\" xlink:href=\"#m35187518fa\" y=\"362.298277\"/>\r\n     <use style=\"fill:#1f77b4;stroke:#1f77b4;\" x=\"80.629129\" xlink:href=\"#m35187518fa\" y=\"362.298277\"/>\r\n     <use style=\"fill:#1f77b4;stroke:#1f77b4;\" x=\"173.877792\" xlink:href=\"#m35187518fa\" y=\"359.536456\"/>\r\n     <use style=\"fill:#1f77b4;stroke:#1f77b4;\" x=\"66.283181\" xlink:href=\"#m35187518fa\" y=\"359.536456\"/>\r\n     <use style=\"fill:#1f77b4;stroke:#1f77b4;\" x=\"295.818352\" xlink:href=\"#m35187518fa\" y=\"354.012814\"/>\r\n     <use style=\"fill:#1f77b4;stroke:#1f77b4;\" x=\"173.877792\" xlink:href=\"#m35187518fa\" y=\"354.012814\"/>\r\n     <use style=\"fill:#1f77b4;stroke:#1f77b4;\" x=\"173.877792\" xlink:href=\"#m35187518fa\" y=\"351.250993\"/>\r\n     <use style=\"fill:#1f77b4;stroke:#1f77b4;\" x=\"102.148051\" xlink:href=\"#m35187518fa\" y=\"351.250993\"/>\r\n     <use style=\"fill:#1f77b4;stroke:#1f77b4;\" x=\"252.780507\" xlink:href=\"#m35187518fa\" y=\"348.489172\"/>\r\n     <use style=\"fill:#1f77b4;stroke:#1f77b4;\" x=\"145.185896\" xlink:href=\"#m35187518fa\" y=\"348.489172\"/>\r\n     <use style=\"fill:#1f77b4;stroke:#1f77b4;\" x=\"310.1643\" xlink:href=\"#m35187518fa\" y=\"340.20371\"/>\r\n     <use style=\"fill:#1f77b4;stroke:#1f77b4;\" x=\"130.839948\" xlink:href=\"#m35187518fa\" y=\"340.20371\"/>\r\n     <use style=\"fill:#1f77b4;stroke:#1f77b4;\" x=\"245.607533\" xlink:href=\"#m35187518fa\" y=\"340.20371\"/>\r\n     <use style=\"fill:#1f77b4;stroke:#1f77b4;\" x=\"173.877792\" xlink:href=\"#m35187518fa\" y=\"340.20371\"/>\r\n     <use style=\"fill:#1f77b4;stroke:#1f77b4;\" x=\"209.742662\" xlink:href=\"#m35187518fa\" y=\"337.441889\"/>\r\n     <use style=\"fill:#1f77b4;stroke:#1f77b4;\" x=\"87.802103\" xlink:href=\"#m35187518fa\" y=\"337.441889\"/>\r\n     <use style=\"fill:#1f77b4;stroke:#1f77b4;\" x=\"353.202144\" xlink:href=\"#m35187518fa\" y=\"334.680068\"/>\r\n     <use style=\"fill:#1f77b4;stroke:#1f77b4;\" x=\"73.456155\" xlink:href=\"#m35187518fa\" y=\"334.680068\"/>\r\n     <use style=\"fill:#1f77b4;stroke:#1f77b4;\" x=\"302.991326\" xlink:href=\"#m35187518fa\" y=\"326.394605\"/>\r\n     <use style=\"fill:#1f77b4;stroke:#1f77b4;\" x=\"51.937233\" xlink:href=\"#m35187518fa\" y=\"326.394605\"/>\r\n     <use style=\"fill:#1f77b4;stroke:#1f77b4;\" x=\"274.299429\" xlink:href=\"#m35187518fa\" y=\"326.394605\"/>\r\n     <use style=\"fill:#1f77b4;stroke:#1f77b4;\" x=\"73.456155\" xlink:href=\"#m35187518fa\" y=\"326.394605\"/>\r\n     <use style=\"fill:#1f77b4;stroke:#1f77b4;\" x=\"224.088611\" xlink:href=\"#m35187518fa\" y=\"323.632784\"/>\r\n     <use style=\"fill:#1f77b4;stroke:#1f77b4;\" x=\"138.012922\" xlink:href=\"#m35187518fa\" y=\"323.632784\"/>\r\n     <use style=\"fill:#1f77b4;stroke:#1f77b4;\" x=\"181.050766\" xlink:href=\"#m35187518fa\" y=\"315.347322\"/>\r\n     <use style=\"fill:#1f77b4;stroke:#1f77b4;\" x=\"66.283181\" xlink:href=\"#m35187518fa\" y=\"315.347322\"/>\r\n     <use style=\"fill:#1f77b4;stroke:#1f77b4;\" x=\"389.067015\" xlink:href=\"#m35187518fa\" y=\"312.585501\"/>\r\n     <use style=\"fill:#1f77b4;stroke:#1f77b4;\" x=\"94.975077\" xlink:href=\"#m35187518fa\" y=\"312.585501\"/>\r\n     <use style=\"fill:#1f77b4;stroke:#1f77b4;\" x=\"267.126455\" xlink:href=\"#m35187518fa\" y=\"309.82368\"/>\r\n     <use style=\"fill:#1f77b4;stroke:#1f77b4;\" x=\"145.185896\" xlink:href=\"#m35187518fa\" y=\"309.82368\"/>\r\n     <use style=\"fill:#1f77b4;stroke:#1f77b4;\" x=\"274.299429\" xlink:href=\"#m35187518fa\" y=\"309.82368\"/>\r\n     <use style=\"fill:#1f77b4;stroke:#1f77b4;\" x=\"94.975077\" xlink:href=\"#m35187518fa\" y=\"309.82368\"/>\r\n     <use style=\"fill:#1f77b4;stroke:#1f77b4;\" x=\"281.472403\" xlink:href=\"#m35187518fa\" y=\"307.061859\"/>\r\n     <use style=\"fill:#1f77b4;stroke:#1f77b4;\" x=\"116.493999\" xlink:href=\"#m35187518fa\" y=\"307.061859\"/>\r\n     <use style=\"fill:#1f77b4;stroke:#1f77b4;\" x=\"130.839948\" xlink:href=\"#m35187518fa\" y=\"307.061859\"/>\r\n     <use style=\"fill:#1f77b4;stroke:#1f77b4;\" x=\"145.185896\" xlink:href=\"#m35187518fa\" y=\"307.061859\"/>\r\n     <use style=\"fill:#1f77b4;stroke:#1f77b4;\" x=\"274.299429\" xlink:href=\"#m35187518fa\" y=\"301.538217\"/>\r\n     <use style=\"fill:#1f77b4;stroke:#1f77b4;\" x=\"159.531844\" xlink:href=\"#m35187518fa\" y=\"301.538217\"/>\r\n     <use style=\"fill:#1f77b4;stroke:#1f77b4;\" x=\"145.185896\" xlink:href=\"#m35187518fa\" y=\"298.776396\"/>\r\n     <use style=\"fill:#1f77b4;stroke:#1f77b4;\" x=\"346.02917\" xlink:href=\"#m35187518fa\" y=\"298.776396\"/>\r\n     <use style=\"fill:#1f77b4;stroke:#1f77b4;\" x=\"281.472403\" xlink:href=\"#m35187518fa\" y=\"298.776396\"/>\r\n     <use style=\"fill:#1f77b4;stroke:#1f77b4;\" x=\"259.953481\" xlink:href=\"#m35187518fa\" y=\"298.776396\"/>\r\n     <use style=\"fill:#1f77b4;stroke:#1f77b4;\" x=\"288.645377\" xlink:href=\"#m35187518fa\" y=\"296.014575\"/>\r\n     <use style=\"fill:#1f77b4;stroke:#1f77b4;\" x=\"417.758911\" xlink:href=\"#m35187518fa\" y=\"296.014575\"/>\r\n     <use style=\"fill:#1f77b4;stroke:#1f77b4;\" x=\"116.493999\" xlink:href=\"#m35187518fa\" y=\"290.490934\"/>\r\n     <use style=\"fill:#1f77b4;stroke:#1f77b4;\" x=\"302.991326\" xlink:href=\"#m35187518fa\" y=\"290.490934\"/>\r\n     <use style=\"fill:#1f77b4;stroke:#1f77b4;\" x=\"424.931885\" xlink:href=\"#m35187518fa\" y=\"290.490934\"/>\r\n     <use style=\"fill:#1f77b4;stroke:#1f77b4;\" x=\"59.110207\" xlink:href=\"#m35187518fa\" y=\"290.490934\"/>\r\n     <use style=\"fill:#1f77b4;stroke:#1f77b4;\" x=\"403.412963\" xlink:href=\"#m35187518fa\" y=\"287.729113\"/>\r\n     <use style=\"fill:#1f77b4;stroke:#1f77b4;\" x=\"310.1643\" xlink:href=\"#m35187518fa\" y=\"287.729113\"/>\r\n     <use style=\"fill:#1f77b4;stroke:#1f77b4;\" x=\"374.721066\" xlink:href=\"#m35187518fa\" y=\"284.967292\"/>\r\n     <use style=\"fill:#1f77b4;stroke:#1f77b4;\" x=\"51.937233\" xlink:href=\"#m35187518fa\" y=\"284.967292\"/>\r\n     <use style=\"fill:#1f77b4;stroke:#1f77b4;\" x=\"231.261585\" xlink:href=\"#m35187518fa\" y=\"284.967292\"/>\r\n     <use style=\"fill:#1f77b4;stroke:#1f77b4;\" x=\"410.585937\" xlink:href=\"#m35187518fa\" y=\"284.967292\"/>\r\n     <use style=\"fill:#1f77b4;stroke:#1f77b4;\" x=\"59.110207\" xlink:href=\"#m35187518fa\" y=\"284.967292\"/>\r\n     <use style=\"fill:#1f77b4;stroke:#1f77b4;\" x=\"152.35887\" xlink:href=\"#m35187518fa\" y=\"284.967292\"/>\r\n     <use style=\"fill:#1f77b4;stroke:#1f77b4;\" x=\"424.931885\" xlink:href=\"#m35187518fa\" y=\"282.205471\"/>\r\n     <use style=\"fill:#1f77b4;stroke:#1f77b4;\" x=\"259.953481\" xlink:href=\"#m35187518fa\" y=\"282.205471\"/>\r\n     <use style=\"fill:#1f77b4;stroke:#1f77b4;\" x=\"353.202144\" xlink:href=\"#m35187518fa\" y=\"279.44365\"/>\r\n     <use style=\"fill:#1f77b4;stroke:#1f77b4;\" x=\"353.202144\" xlink:href=\"#m35187518fa\" y=\"279.44365\"/>\r\n     <use style=\"fill:#1f77b4;stroke:#1f77b4;\" x=\"346.02917\" xlink:href=\"#m35187518fa\" y=\"268.396366\"/>\r\n     <use style=\"fill:#1f77b4;stroke:#1f77b4;\" x=\"109.321025\" xlink:href=\"#m35187518fa\" y=\"268.396366\"/>\r\n     <use style=\"fill:#1f77b4;stroke:#1f77b4;\" x=\"245.607533\" xlink:href=\"#m35187518fa\" y=\"268.396366\"/>\r\n     <use style=\"fill:#1f77b4;stroke:#1f77b4;\" x=\"209.742662\" xlink:href=\"#m35187518fa\" y=\"268.396366\"/>\r\n     <use style=\"fill:#1f77b4;stroke:#1f77b4;\" x=\"87.802103\" xlink:href=\"#m35187518fa\" y=\"268.396366\"/>\r\n     <use style=\"fill:#1f77b4;stroke:#1f77b4;\" x=\"274.299429\" xlink:href=\"#m35187518fa\" y=\"268.396366\"/>\r\n     <use style=\"fill:#1f77b4;stroke:#1f77b4;\" x=\"331.683222\" xlink:href=\"#m35187518fa\" y=\"268.396366\"/>\r\n     <use style=\"fill:#1f77b4;stroke:#1f77b4;\" x=\"195.396714\" xlink:href=\"#m35187518fa\" y=\"268.396366\"/>\r\n     <use style=\"fill:#1f77b4;stroke:#1f77b4;\" x=\"403.412963\" xlink:href=\"#m35187518fa\" y=\"268.396366\"/>\r\n     <use style=\"fill:#1f77b4;stroke:#1f77b4;\" x=\"252.780507\" xlink:href=\"#m35187518fa\" y=\"268.396366\"/>\r\n     <use style=\"fill:#1f77b4;stroke:#1f77b4;\" x=\"73.456155\" xlink:href=\"#m35187518fa\" y=\"268.396366\"/>\r\n     <use style=\"fill:#1f77b4;stroke:#1f77b4;\" x=\"267.126455\" xlink:href=\"#m35187518fa\" y=\"268.396366\"/>\r\n     <use style=\"fill:#1f77b4;stroke:#1f77b4;\" x=\"317.337274\" xlink:href=\"#m35187518fa\" y=\"260.110904\"/>\r\n     <use style=\"fill:#1f77b4;stroke:#1f77b4;\" x=\"80.629129\" xlink:href=\"#m35187518fa\" y=\"260.110904\"/>\r\n     <use style=\"fill:#1f77b4;stroke:#1f77b4;\" x=\"166.704818\" xlink:href=\"#m35187518fa\" y=\"257.349083\"/>\r\n     <use style=\"fill:#1f77b4;stroke:#1f77b4;\" x=\"281.472403\" xlink:href=\"#m35187518fa\" y=\"257.349083\"/>\r\n     <use style=\"fill:#1f77b4;stroke:#1f77b4;\" x=\"410.585937\" xlink:href=\"#m35187518fa\" y=\"254.587262\"/>\r\n     <use style=\"fill:#1f77b4;stroke:#1f77b4;\" x=\"51.937233\" xlink:href=\"#m35187518fa\" y=\"254.587262\"/>\r\n     <use style=\"fill:#1f77b4;stroke:#1f77b4;\" x=\"267.126455\" xlink:href=\"#m35187518fa\" y=\"251.825441\"/>\r\n     <use style=\"fill:#1f77b4;stroke:#1f77b4;\" x=\"209.742662\" xlink:href=\"#m35187518fa\" y=\"251.825441\"/>\r\n     <use style=\"fill:#1f77b4;stroke:#1f77b4;\" x=\"152.35887\" xlink:href=\"#m35187518fa\" y=\"251.825441\"/>\r\n     <use style=\"fill:#1f77b4;stroke:#1f77b4;\" x=\"94.975077\" xlink:href=\"#m35187518fa\" y=\"251.825441\"/>\r\n     <use style=\"fill:#1f77b4;stroke:#1f77b4;\" x=\"259.953481\" xlink:href=\"#m35187518fa\" y=\"251.825441\"/>\r\n     <use style=\"fill:#1f77b4;stroke:#1f77b4;\" x=\"116.493999\" xlink:href=\"#m35187518fa\" y=\"251.825441\"/>\r\n     <use style=\"fill:#1f77b4;stroke:#1f77b4;\" x=\"267.126455\" xlink:href=\"#m35187518fa\" y=\"249.06362\"/>\r\n     <use style=\"fill:#1f77b4;stroke:#1f77b4;\" x=\"66.283181\" xlink:href=\"#m35187518fa\" y=\"249.06362\"/>\r\n     <use style=\"fill:#1f77b4;stroke:#1f77b4;\" x=\"87.802103\" xlink:href=\"#m35187518fa\" y=\"246.301799\"/>\r\n     <use style=\"fill:#1f77b4;stroke:#1f77b4;\" x=\"274.299429\" xlink:href=\"#m35187518fa\" y=\"246.301799\"/>\r\n     <use style=\"fill:#1f77b4;stroke:#1f77b4;\" x=\"403.412963\" xlink:href=\"#m35187518fa\" y=\"246.301799\"/>\r\n     <use style=\"fill:#1f77b4;stroke:#1f77b4;\" x=\"109.321025\" xlink:href=\"#m35187518fa\" y=\"246.301799\"/>\r\n     <use style=\"fill:#1f77b4;stroke:#1f77b4;\" x=\"274.299429\" xlink:href=\"#m35187518fa\" y=\"246.301799\"/>\r\n     <use style=\"fill:#1f77b4;stroke:#1f77b4;\" x=\"73.456155\" xlink:href=\"#m35187518fa\" y=\"246.301799\"/>\r\n     <use style=\"fill:#1f77b4;stroke:#1f77b4;\" x=\"396.239989\" xlink:href=\"#m35187518fa\" y=\"243.539978\"/>\r\n     <use style=\"fill:#1f77b4;stroke:#1f77b4;\" x=\"310.1643\" xlink:href=\"#m35187518fa\" y=\"243.539978\"/>\r\n     <use style=\"fill:#1f77b4;stroke:#1f77b4;\" x=\"410.585937\" xlink:href=\"#m35187518fa\" y=\"243.539978\"/>\r\n     <use style=\"fill:#1f77b4;stroke:#1f77b4;\" x=\"396.239989\" xlink:href=\"#m35187518fa\" y=\"243.539978\"/>\r\n     <use style=\"fill:#1f77b4;stroke:#1f77b4;\" x=\"389.067015\" xlink:href=\"#m35187518fa\" y=\"243.539978\"/>\r\n     <use style=\"fill:#1f77b4;stroke:#1f77b4;\" x=\"59.110207\" xlink:href=\"#m35187518fa\" y=\"243.539978\"/>\r\n     <use style=\"fill:#1f77b4;stroke:#1f77b4;\" x=\"195.396714\" xlink:href=\"#m35187518fa\" y=\"240.778158\"/>\r\n     <use style=\"fill:#1f77b4;stroke:#1f77b4;\" x=\"59.110207\" xlink:href=\"#m35187518fa\" y=\"240.778158\"/>\r\n     <use style=\"fill:#1f77b4;stroke:#1f77b4;\" x=\"51.937233\" xlink:href=\"#m35187518fa\" y=\"238.016337\"/>\r\n     <use style=\"fill:#1f77b4;stroke:#1f77b4;\" x=\"59.110207\" xlink:href=\"#m35187518fa\" y=\"238.016337\"/>\r\n     <use style=\"fill:#1f77b4;stroke:#1f77b4;\" x=\"374.721066\" xlink:href=\"#m35187518fa\" y=\"238.016337\"/>\r\n     <use style=\"fill:#1f77b4;stroke:#1f77b4;\" x=\"274.299429\" xlink:href=\"#m35187518fa\" y=\"238.016337\"/>\r\n     <use style=\"fill:#1f77b4;stroke:#1f77b4;\" x=\"288.645377\" xlink:href=\"#m35187518fa\" y=\"232.492695\"/>\r\n     <use style=\"fill:#1f77b4;stroke:#1f77b4;\" x=\"281.472403\" xlink:href=\"#m35187518fa\" y=\"232.492695\"/>\r\n     <use style=\"fill:#1f77b4;stroke:#1f77b4;\" x=\"116.493999\" xlink:href=\"#m35187518fa\" y=\"232.492695\"/>\r\n     <use style=\"fill:#1f77b4;stroke:#1f77b4;\" x=\"195.396714\" xlink:href=\"#m35187518fa\" y=\"232.492695\"/>\r\n     <use style=\"fill:#1f77b4;stroke:#1f77b4;\" x=\"209.742662\" xlink:href=\"#m35187518fa\" y=\"226.969053\"/>\r\n     <use style=\"fill:#1f77b4;stroke:#1f77b4;\" x=\"202.569688\" xlink:href=\"#m35187518fa\" y=\"226.969053\"/>\r\n     <use style=\"fill:#1f77b4;stroke:#1f77b4;\" x=\"87.802103\" xlink:href=\"#m35187518fa\" y=\"224.207232\"/>\r\n     <use style=\"fill:#1f77b4;stroke:#1f77b4;\" x=\"145.185896\" xlink:href=\"#m35187518fa\" y=\"224.207232\"/>\r\n     <use style=\"fill:#1f77b4;stroke:#1f77b4;\" x=\"231.261585\" xlink:href=\"#m35187518fa\" y=\"221.445411\"/>\r\n     <use style=\"fill:#1f77b4;stroke:#1f77b4;\" x=\"209.742662\" xlink:href=\"#m35187518fa\" y=\"221.445411\"/>\r\n     <use style=\"fill:#1f77b4;stroke:#1f77b4;\" x=\"346.02917\" xlink:href=\"#m35187518fa\" y=\"221.445411\"/>\r\n     <use style=\"fill:#1f77b4;stroke:#1f77b4;\" x=\"195.396714\" xlink:href=\"#m35187518fa\" y=\"221.445411\"/>\r\n     <use style=\"fill:#1f77b4;stroke:#1f77b4;\" x=\"259.953481\" xlink:href=\"#m35187518fa\" y=\"221.445411\"/>\r\n     <use style=\"fill:#1f77b4;stroke:#1f77b4;\" x=\"202.569688\" xlink:href=\"#m35187518fa\" y=\"221.445411\"/>\r\n     <use style=\"fill:#1f77b4;stroke:#1f77b4;\" x=\"102.148051\" xlink:href=\"#m35187518fa\" y=\"218.68359\"/>\r\n     <use style=\"fill:#1f77b4;stroke:#1f77b4;\" x=\"145.185896\" xlink:href=\"#m35187518fa\" y=\"218.68359\"/>\r\n     <use style=\"fill:#1f77b4;stroke:#1f77b4;\" x=\"66.283181\" xlink:href=\"#m35187518fa\" y=\"215.921769\"/>\r\n     <use style=\"fill:#1f77b4;stroke:#1f77b4;\" x=\"130.839948\" xlink:href=\"#m35187518fa\" y=\"215.921769\"/>\r\n     <use style=\"fill:#1f77b4;stroke:#1f77b4;\" x=\"238.434559\" xlink:href=\"#m35187518fa\" y=\"215.921769\"/>\r\n     <use style=\"fill:#1f77b4;stroke:#1f77b4;\" x=\"152.35887\" xlink:href=\"#m35187518fa\" y=\"215.921769\"/>\r\n     <use style=\"fill:#1f77b4;stroke:#1f77b4;\" x=\"59.110207\" xlink:href=\"#m35187518fa\" y=\"213.159949\"/>\r\n     <use style=\"fill:#1f77b4;stroke:#1f77b4;\" x=\"173.877792\" xlink:href=\"#m35187518fa\" y=\"213.159949\"/>\r\n     <use style=\"fill:#1f77b4;stroke:#1f77b4;\" x=\"331.683222\" xlink:href=\"#m35187518fa\" y=\"210.398128\"/>\r\n     <use style=\"fill:#1f77b4;stroke:#1f77b4;\" x=\"152.35887\" xlink:href=\"#m35187518fa\" y=\"210.398128\"/>\r\n     <use style=\"fill:#1f77b4;stroke:#1f77b4;\" x=\"123.666973\" xlink:href=\"#m35187518fa\" y=\"207.636307\"/>\r\n     <use style=\"fill:#1f77b4;stroke:#1f77b4;\" x=\"152.35887\" xlink:href=\"#m35187518fa\" y=\"207.636307\"/>\r\n     <use style=\"fill:#1f77b4;stroke:#1f77b4;\" x=\"102.148051\" xlink:href=\"#m35187518fa\" y=\"204.874486\"/>\r\n     <use style=\"fill:#1f77b4;stroke:#1f77b4;\" x=\"123.666973\" xlink:href=\"#m35187518fa\" y=\"204.874486\"/>\r\n     <use style=\"fill:#1f77b4;stroke:#1f77b4;\" x=\"267.126455\" xlink:href=\"#m35187518fa\" y=\"204.874486\"/>\r\n     <use style=\"fill:#1f77b4;stroke:#1f77b4;\" x=\"152.35887\" xlink:href=\"#m35187518fa\" y=\"204.874486\"/>\r\n     <use style=\"fill:#1f77b4;stroke:#1f77b4;\" x=\"166.704818\" xlink:href=\"#m35187518fa\" y=\"202.112665\"/>\r\n     <use style=\"fill:#1f77b4;stroke:#1f77b4;\" x=\"166.704818\" xlink:href=\"#m35187518fa\" y=\"202.112665\"/>\r\n     <use style=\"fill:#1f77b4;stroke:#1f77b4;\" x=\"231.261585\" xlink:href=\"#m35187518fa\" y=\"202.112665\"/>\r\n     <use style=\"fill:#1f77b4;stroke:#1f77b4;\" x=\"202.569688\" xlink:href=\"#m35187518fa\" y=\"202.112665\"/>\r\n     <use style=\"fill:#1f77b4;stroke:#1f77b4;\" x=\"238.434559\" xlink:href=\"#m35187518fa\" y=\"202.112665\"/>\r\n     <use style=\"fill:#1f77b4;stroke:#1f77b4;\" x=\"195.396714\" xlink:href=\"#m35187518fa\" y=\"202.112665\"/>\r\n     <use style=\"fill:#1f77b4;stroke:#1f77b4;\" x=\"259.953481\" xlink:href=\"#m35187518fa\" y=\"202.112665\"/>\r\n     <use style=\"fill:#1f77b4;stroke:#1f77b4;\" x=\"116.493999\" xlink:href=\"#m35187518fa\" y=\"202.112665\"/>\r\n     <use style=\"fill:#1f77b4;stroke:#1f77b4;\" x=\"188.22374\" xlink:href=\"#m35187518fa\" y=\"202.112665\"/>\r\n     <use style=\"fill:#1f77b4;stroke:#1f77b4;\" x=\"138.012922\" xlink:href=\"#m35187518fa\" y=\"202.112665\"/>\r\n     <use style=\"fill:#1f77b4;stroke:#1f77b4;\" x=\"166.704818\" xlink:href=\"#m35187518fa\" y=\"202.112665\"/>\r\n     <use style=\"fill:#1f77b4;stroke:#1f77b4;\" x=\"138.012922\" xlink:href=\"#m35187518fa\" y=\"202.112665\"/>\r\n     <use style=\"fill:#1f77b4;stroke:#1f77b4;\" x=\"324.510248\" xlink:href=\"#m35187518fa\" y=\"199.350844\"/>\r\n     <use style=\"fill:#1f77b4;stroke:#1f77b4;\" x=\"130.839948\" xlink:href=\"#m35187518fa\" y=\"199.350844\"/>\r\n     <use style=\"fill:#1f77b4;stroke:#1f77b4;\" x=\"59.110207\" xlink:href=\"#m35187518fa\" y=\"193.827202\"/>\r\n     <use style=\"fill:#1f77b4;stroke:#1f77b4;\" x=\"145.185896\" xlink:href=\"#m35187518fa\" y=\"193.827202\"/>\r\n     <use style=\"fill:#1f77b4;stroke:#1f77b4;\" x=\"281.472403\" xlink:href=\"#m35187518fa\" y=\"182.779919\"/>\r\n     <use style=\"fill:#1f77b4;stroke:#1f77b4;\" x=\"181.050766\" xlink:href=\"#m35187518fa\" y=\"182.779919\"/>\r\n     <use style=\"fill:#1f77b4;stroke:#1f77b4;\" x=\"224.088611\" xlink:href=\"#m35187518fa\" y=\"180.018098\"/>\r\n     <use style=\"fill:#1f77b4;stroke:#1f77b4;\" x=\"159.531844\" xlink:href=\"#m35187518fa\" y=\"180.018098\"/>\r\n     <use style=\"fill:#1f77b4;stroke:#1f77b4;\" x=\"181.050766\" xlink:href=\"#m35187518fa\" y=\"177.256277\"/>\r\n     <use style=\"fill:#1f77b4;stroke:#1f77b4;\" x=\"152.35887\" xlink:href=\"#m35187518fa\" y=\"177.256277\"/>\r\n     <use style=\"fill:#1f77b4;stroke:#1f77b4;\" x=\"209.742662\" xlink:href=\"#m35187518fa\" y=\"177.256277\"/>\r\n     <use style=\"fill:#1f77b4;stroke:#1f77b4;\" x=\"123.666973\" xlink:href=\"#m35187518fa\" y=\"177.256277\"/>\r\n     <use style=\"fill:#1f77b4;stroke:#1f77b4;\" x=\"181.050766\" xlink:href=\"#m35187518fa\" y=\"177.256277\"/>\r\n     <use style=\"fill:#1f77b4;stroke:#1f77b4;\" x=\"181.050766\" xlink:href=\"#m35187518fa\" y=\"177.256277\"/>\r\n     <use style=\"fill:#1f77b4;stroke:#1f77b4;\" x=\"295.818352\" xlink:href=\"#m35187518fa\" y=\"174.494456\"/>\r\n     <use style=\"fill:#1f77b4;stroke:#1f77b4;\" x=\"138.012922\" xlink:href=\"#m35187518fa\" y=\"174.494456\"/>\r\n     <use style=\"fill:#1f77b4;stroke:#1f77b4;\" x=\"338.856196\" xlink:href=\"#m35187518fa\" y=\"174.494456\"/>\r\n     <use style=\"fill:#1f77b4;stroke:#1f77b4;\" x=\"116.493999\" xlink:href=\"#m35187518fa\" y=\"174.494456\"/>\r\n     <use style=\"fill:#1f77b4;stroke:#1f77b4;\" x=\"346.02917\" xlink:href=\"#m35187518fa\" y=\"160.685352\"/>\r\n     <use style=\"fill:#1f77b4;stroke:#1f77b4;\" x=\"173.877792\" xlink:href=\"#m35187518fa\" y=\"160.685352\"/>\r\n     <use style=\"fill:#1f77b4;stroke:#1f77b4;\" x=\"188.22374\" xlink:href=\"#m35187518fa\" y=\"149.638068\"/>\r\n     <use style=\"fill:#1f77b4;stroke:#1f77b4;\" x=\"152.35887\" xlink:href=\"#m35187518fa\" y=\"149.638068\"/>\r\n     <use style=\"fill:#1f77b4;stroke:#1f77b4;\" x=\"252.780507\" xlink:href=\"#m35187518fa\" y=\"146.876247\"/>\r\n     <use style=\"fill:#1f77b4;stroke:#1f77b4;\" x=\"130.839948\" xlink:href=\"#m35187518fa\" y=\"146.876247\"/>\r\n     <use style=\"fill:#1f77b4;stroke:#1f77b4;\" x=\"216.915637\" xlink:href=\"#m35187518fa\" y=\"144.114426\"/>\r\n     <use style=\"fill:#1f77b4;stroke:#1f77b4;\" x=\"138.012922\" xlink:href=\"#m35187518fa\" y=\"144.114426\"/>\r\n     <use style=\"fill:#1f77b4;stroke:#1f77b4;\" x=\"310.1643\" xlink:href=\"#m35187518fa\" y=\"138.590785\"/>\r\n     <use style=\"fill:#1f77b4;stroke:#1f77b4;\" x=\"123.666973\" xlink:href=\"#m35187518fa\" y=\"138.590785\"/>\r\n     <use style=\"fill:#1f77b4;stroke:#1f77b4;\" x=\"216.915637\" xlink:href=\"#m35187518fa\" y=\"133.067143\"/>\r\n     <use style=\"fill:#1f77b4;stroke:#1f77b4;\" x=\"181.050766\" xlink:href=\"#m35187518fa\" y=\"133.067143\"/>\r\n     <use style=\"fill:#1f77b4;stroke:#1f77b4;\" x=\"166.704818\" xlink:href=\"#m35187518fa\" y=\"133.067143\"/>\r\n     <use style=\"fill:#1f77b4;stroke:#1f77b4;\" x=\"152.35887\" xlink:href=\"#m35187518fa\" y=\"133.067143\"/>\r\n     <use style=\"fill:#1f77b4;stroke:#1f77b4;\" x=\"159.531844\" xlink:href=\"#m35187518fa\" y=\"105.448934\"/>\r\n     <use style=\"fill:#1f77b4;stroke:#1f77b4;\" x=\"195.396714\" xlink:href=\"#m35187518fa\" y=\"105.448934\"/>\r\n     <use style=\"fill:#1f77b4;stroke:#1f77b4;\" x=\"259.953481\" xlink:href=\"#m35187518fa\" y=\"86.116188\"/>\r\n     <use style=\"fill:#1f77b4;stroke:#1f77b4;\" x=\"173.877792\" xlink:href=\"#m35187518fa\" y=\"86.116188\"/>\r\n     <use style=\"fill:#1f77b4;stroke:#1f77b4;\" x=\"245.607533\" xlink:href=\"#m35187518fa\" y=\"69.545262\"/>\r\n     <use style=\"fill:#1f77b4;stroke:#1f77b4;\" x=\"152.35887\" xlink:href=\"#m35187518fa\" y=\"69.545262\"/>\r\n     <use style=\"fill:#1f77b4;stroke:#1f77b4;\" x=\"152.35887\" xlink:href=\"#m35187518fa\" y=\"39.165232\"/>\r\n     <use style=\"fill:#1f77b4;stroke:#1f77b4;\" x=\"138.012922\" xlink:href=\"#m35187518fa\" y=\"39.165232\"/>\r\n    </g>\r\n   </g>\r\n   <g id=\"matplotlib.axis_1\">\r\n    <g id=\"xtick_1\">\r\n     <g id=\"line2d_1\">\r\n      <defs>\r\n       <path d=\"M 0 0 \r\nL 0 3.5 \r\n\" id=\"m7e6e67af0c\" style=\"stroke:#000000;stroke-width:0.8;\"/>\r\n      </defs>\r\n      <g>\r\n       <use style=\"stroke:#000000;stroke-width:0.8;\" x=\"66.283181\" xlink:href=\"#m7e6e67af0c\" y=\"392.954489\"/>\r\n      </g>\r\n     </g>\r\n     <g id=\"text_1\">\r\n      <!-- 20 -->\r\n      <g transform=\"translate(59.920681 407.552926)scale(0.1 -0.1)\">\r\n       <defs>\r\n        <path d=\"M 1228 531 \r\nL 3431 531 \r\nL 3431 0 \r\nL 469 0 \r\nL 469 531 \r\nQ 828 903 1448 1529 \r\nQ 2069 2156 2228 2338 \r\nQ 2531 2678 2651 2914 \r\nQ 2772 3150 2772 3378 \r\nQ 2772 3750 2511 3984 \r\nQ 2250 4219 1831 4219 \r\nQ 1534 4219 1204 4116 \r\nQ 875 4013 500 3803 \r\nL 500 4441 \r\nQ 881 4594 1212 4672 \r\nQ 1544 4750 1819 4750 \r\nQ 2544 4750 2975 4387 \r\nQ 3406 4025 3406 3419 \r\nQ 3406 3131 3298 2873 \r\nQ 3191 2616 2906 2266 \r\nQ 2828 2175 2409 1742 \r\nQ 1991 1309 1228 531 \r\nz\r\n\" id=\"DejaVuSans-32\" transform=\"scale(0.015625)\"/>\r\n        <path d=\"M 2034 4250 \r\nQ 1547 4250 1301 3770 \r\nQ 1056 3291 1056 2328 \r\nQ 1056 1369 1301 889 \r\nQ 1547 409 2034 409 \r\nQ 2525 409 2770 889 \r\nQ 3016 1369 3016 2328 \r\nQ 3016 3291 2770 3770 \r\nQ 2525 4250 2034 4250 \r\nz\r\nM 2034 4750 \r\nQ 2819 4750 3233 4129 \r\nQ 3647 3509 3647 2328 \r\nQ 3647 1150 3233 529 \r\nQ 2819 -91 2034 -91 \r\nQ 1250 -91 836 529 \r\nQ 422 1150 422 2328 \r\nQ 422 3509 836 4129 \r\nQ 1250 4750 2034 4750 \r\nz\r\n\" id=\"DejaVuSans-30\" transform=\"scale(0.015625)\"/>\r\n       </defs>\r\n       <use xlink:href=\"#DejaVuSans-32\"/>\r\n       <use x=\"63.623047\" xlink:href=\"#DejaVuSans-30\"/>\r\n      </g>\r\n     </g>\r\n    </g>\r\n    <g id=\"xtick_2\">\r\n     <g id=\"line2d_2\">\r\n      <g>\r\n       <use style=\"stroke:#000000;stroke-width:0.8;\" x=\"138.012922\" xlink:href=\"#m7e6e67af0c\" y=\"392.954489\"/>\r\n      </g>\r\n     </g>\r\n     <g id=\"text_2\">\r\n      <!-- 30 -->\r\n      <g transform=\"translate(131.650422 407.552926)scale(0.1 -0.1)\">\r\n       <defs>\r\n        <path d=\"M 2597 2516 \r\nQ 3050 2419 3304 2112 \r\nQ 3559 1806 3559 1356 \r\nQ 3559 666 3084 287 \r\nQ 2609 -91 1734 -91 \r\nQ 1441 -91 1130 -33 \r\nQ 819 25 488 141 \r\nL 488 750 \r\nQ 750 597 1062 519 \r\nQ 1375 441 1716 441 \r\nQ 2309 441 2620 675 \r\nQ 2931 909 2931 1356 \r\nQ 2931 1769 2642 2001 \r\nQ 2353 2234 1838 2234 \r\nL 1294 2234 \r\nL 1294 2753 \r\nL 1863 2753 \r\nQ 2328 2753 2575 2939 \r\nQ 2822 3125 2822 3475 \r\nQ 2822 3834 2567 4026 \r\nQ 2313 4219 1838 4219 \r\nQ 1578 4219 1281 4162 \r\nQ 984 4106 628 3988 \r\nL 628 4550 \r\nQ 988 4650 1302 4700 \r\nQ 1616 4750 1894 4750 \r\nQ 2613 4750 3031 4423 \r\nQ 3450 4097 3450 3541 \r\nQ 3450 3153 3228 2886 \r\nQ 3006 2619 2597 2516 \r\nz\r\n\" id=\"DejaVuSans-33\" transform=\"scale(0.015625)\"/>\r\n       </defs>\r\n       <use xlink:href=\"#DejaVuSans-33\"/>\r\n       <use x=\"63.623047\" xlink:href=\"#DejaVuSans-30\"/>\r\n      </g>\r\n     </g>\r\n    </g>\r\n    <g id=\"xtick_3\">\r\n     <g id=\"line2d_3\">\r\n      <g>\r\n       <use style=\"stroke:#000000;stroke-width:0.8;\" x=\"209.742662\" xlink:href=\"#m7e6e67af0c\" y=\"392.954489\"/>\r\n      </g>\r\n     </g>\r\n     <g id=\"text_3\">\r\n      <!-- 40 -->\r\n      <g transform=\"translate(203.380162 407.552926)scale(0.1 -0.1)\">\r\n       <defs>\r\n        <path d=\"M 2419 4116 \r\nL 825 1625 \r\nL 2419 1625 \r\nL 2419 4116 \r\nz\r\nM 2253 4666 \r\nL 3047 4666 \r\nL 3047 1625 \r\nL 3713 1625 \r\nL 3713 1100 \r\nL 3047 1100 \r\nL 3047 0 \r\nL 2419 0 \r\nL 2419 1100 \r\nL 313 1100 \r\nL 313 1709 \r\nL 2253 4666 \r\nz\r\n\" id=\"DejaVuSans-34\" transform=\"scale(0.015625)\"/>\r\n       </defs>\r\n       <use xlink:href=\"#DejaVuSans-34\"/>\r\n       <use x=\"63.623047\" xlink:href=\"#DejaVuSans-30\"/>\r\n      </g>\r\n     </g>\r\n    </g>\r\n    <g id=\"xtick_4\">\r\n     <g id=\"line2d_4\">\r\n      <g>\r\n       <use style=\"stroke:#000000;stroke-width:0.8;\" x=\"281.472403\" xlink:href=\"#m7e6e67af0c\" y=\"392.954489\"/>\r\n      </g>\r\n     </g>\r\n     <g id=\"text_4\">\r\n      <!-- 50 -->\r\n      <g transform=\"translate(275.109903 407.552926)scale(0.1 -0.1)\">\r\n       <defs>\r\n        <path d=\"M 691 4666 \r\nL 3169 4666 \r\nL 3169 4134 \r\nL 1269 4134 \r\nL 1269 2991 \r\nQ 1406 3038 1543 3061 \r\nQ 1681 3084 1819 3084 \r\nQ 2600 3084 3056 2656 \r\nQ 3513 2228 3513 1497 \r\nQ 3513 744 3044 326 \r\nQ 2575 -91 1722 -91 \r\nQ 1428 -91 1123 -41 \r\nQ 819 9 494 109 \r\nL 494 744 \r\nQ 775 591 1075 516 \r\nQ 1375 441 1709 441 \r\nQ 2250 441 2565 725 \r\nQ 2881 1009 2881 1497 \r\nQ 2881 1984 2565 2268 \r\nQ 2250 2553 1709 2553 \r\nQ 1456 2553 1204 2497 \r\nQ 953 2441 691 2322 \r\nL 691 4666 \r\nz\r\n\" id=\"DejaVuSans-35\" transform=\"scale(0.015625)\"/>\r\n       </defs>\r\n       <use xlink:href=\"#DejaVuSans-35\"/>\r\n       <use x=\"63.623047\" xlink:href=\"#DejaVuSans-30\"/>\r\n      </g>\r\n     </g>\r\n    </g>\r\n    <g id=\"xtick_5\">\r\n     <g id=\"line2d_5\">\r\n      <g>\r\n       <use style=\"stroke:#000000;stroke-width:0.8;\" x=\"353.202144\" xlink:href=\"#m7e6e67af0c\" y=\"392.954489\"/>\r\n      </g>\r\n     </g>\r\n     <g id=\"text_5\">\r\n      <!-- 60 -->\r\n      <g transform=\"translate(346.839644 407.552926)scale(0.1 -0.1)\">\r\n       <defs>\r\n        <path d=\"M 2113 2584 \r\nQ 1688 2584 1439 2293 \r\nQ 1191 2003 1191 1497 \r\nQ 1191 994 1439 701 \r\nQ 1688 409 2113 409 \r\nQ 2538 409 2786 701 \r\nQ 3034 994 3034 1497 \r\nQ 3034 2003 2786 2293 \r\nQ 2538 2584 2113 2584 \r\nz\r\nM 3366 4563 \r\nL 3366 3988 \r\nQ 3128 4100 2886 4159 \r\nQ 2644 4219 2406 4219 \r\nQ 1781 4219 1451 3797 \r\nQ 1122 3375 1075 2522 \r\nQ 1259 2794 1537 2939 \r\nQ 1816 3084 2150 3084 \r\nQ 2853 3084 3261 2657 \r\nQ 3669 2231 3669 1497 \r\nQ 3669 778 3244 343 \r\nQ 2819 -91 2113 -91 \r\nQ 1303 -91 875 529 \r\nQ 447 1150 447 2328 \r\nQ 447 3434 972 4092 \r\nQ 1497 4750 2381 4750 \r\nQ 2619 4750 2861 4703 \r\nQ 3103 4656 3366 4563 \r\nz\r\n\" id=\"DejaVuSans-36\" transform=\"scale(0.015625)\"/>\r\n       </defs>\r\n       <use xlink:href=\"#DejaVuSans-36\"/>\r\n       <use x=\"63.623047\" xlink:href=\"#DejaVuSans-30\"/>\r\n      </g>\r\n     </g>\r\n    </g>\r\n    <g id=\"xtick_6\">\r\n     <g id=\"line2d_6\">\r\n      <g>\r\n       <use style=\"stroke:#000000;stroke-width:0.8;\" x=\"424.931885\" xlink:href=\"#m7e6e67af0c\" y=\"392.954489\"/>\r\n      </g>\r\n     </g>\r\n     <g id=\"text_6\">\r\n      <!-- 70 -->\r\n      <g transform=\"translate(418.569385 407.552926)scale(0.1 -0.1)\">\r\n       <defs>\r\n        <path d=\"M 525 4666 \r\nL 3525 4666 \r\nL 3525 4397 \r\nL 1831 0 \r\nL 1172 0 \r\nL 2766 4134 \r\nL 525 4134 \r\nL 525 4666 \r\nz\r\n\" id=\"DejaVuSans-37\" transform=\"scale(0.015625)\"/>\r\n       </defs>\r\n       <use xlink:href=\"#DejaVuSans-37\"/>\r\n       <use x=\"63.623047\" xlink:href=\"#DejaVuSans-30\"/>\r\n      </g>\r\n     </g>\r\n    </g>\r\n   </g>\r\n   <g id=\"matplotlib.axis_2\">\r\n    <g id=\"ytick_1\">\r\n     <g id=\"line2d_7\">\r\n      <defs>\r\n       <path d=\"M 0 0 \r\nL -3.5 0 \r\n\" id=\"ma467724af8\" style=\"stroke:#000000;stroke-width:0.8;\"/>\r\n      </defs>\r\n      <g>\r\n       <use style=\"stroke:#000000;stroke-width:0.8;\" x=\"33.2875\" xlink:href=\"#ma467724af8\" y=\"362.298277\"/>\r\n      </g>\r\n     </g>\r\n     <g id=\"text_7\">\r\n      <!-- 20 -->\r\n      <g transform=\"translate(13.5625 366.097495)scale(0.1 -0.1)\">\r\n       <use xlink:href=\"#DejaVuSans-32\"/>\r\n       <use x=\"63.623047\" xlink:href=\"#DejaVuSans-30\"/>\r\n      </g>\r\n     </g>\r\n    </g>\r\n    <g id=\"ytick_2\">\r\n     <g id=\"line2d_8\">\r\n      <g>\r\n       <use style=\"stroke:#000000;stroke-width:0.8;\" x=\"33.2875\" xlink:href=\"#ma467724af8\" y=\"307.061859\"/>\r\n      </g>\r\n     </g>\r\n     <g id=\"text_8\">\r\n      <!-- 40 -->\r\n      <g transform=\"translate(13.5625 310.861078)scale(0.1 -0.1)\">\r\n       <use xlink:href=\"#DejaVuSans-34\"/>\r\n       <use x=\"63.623047\" xlink:href=\"#DejaVuSans-30\"/>\r\n      </g>\r\n     </g>\r\n    </g>\r\n    <g id=\"ytick_3\">\r\n     <g id=\"line2d_9\">\r\n      <g>\r\n       <use style=\"stroke:#000000;stroke-width:0.8;\" x=\"33.2875\" xlink:href=\"#ma467724af8\" y=\"251.825441\"/>\r\n      </g>\r\n     </g>\r\n     <g id=\"text_9\">\r\n      <!-- 60 -->\r\n      <g transform=\"translate(13.5625 255.62466)scale(0.1 -0.1)\">\r\n       <use xlink:href=\"#DejaVuSans-36\"/>\r\n       <use x=\"63.623047\" xlink:href=\"#DejaVuSans-30\"/>\r\n      </g>\r\n     </g>\r\n    </g>\r\n    <g id=\"ytick_4\">\r\n     <g id=\"line2d_10\">\r\n      <g>\r\n       <use style=\"stroke:#000000;stroke-width:0.8;\" x=\"33.2875\" xlink:href=\"#ma467724af8\" y=\"196.589023\"/>\r\n      </g>\r\n     </g>\r\n     <g id=\"text_10\">\r\n      <!-- 80 -->\r\n      <g transform=\"translate(13.5625 200.388242)scale(0.1 -0.1)\">\r\n       <defs>\r\n        <path d=\"M 2034 2216 \r\nQ 1584 2216 1326 1975 \r\nQ 1069 1734 1069 1313 \r\nQ 1069 891 1326 650 \r\nQ 1584 409 2034 409 \r\nQ 2484 409 2743 651 \r\nQ 3003 894 3003 1313 \r\nQ 3003 1734 2745 1975 \r\nQ 2488 2216 2034 2216 \r\nz\r\nM 1403 2484 \r\nQ 997 2584 770 2862 \r\nQ 544 3141 544 3541 \r\nQ 544 4100 942 4425 \r\nQ 1341 4750 2034 4750 \r\nQ 2731 4750 3128 4425 \r\nQ 3525 4100 3525 3541 \r\nQ 3525 3141 3298 2862 \r\nQ 3072 2584 2669 2484 \r\nQ 3125 2378 3379 2068 \r\nQ 3634 1759 3634 1313 \r\nQ 3634 634 3220 271 \r\nQ 2806 -91 2034 -91 \r\nQ 1263 -91 848 271 \r\nQ 434 634 434 1313 \r\nQ 434 1759 690 2068 \r\nQ 947 2378 1403 2484 \r\nz\r\nM 1172 3481 \r\nQ 1172 3119 1398 2916 \r\nQ 1625 2713 2034 2713 \r\nQ 2441 2713 2670 2916 \r\nQ 2900 3119 2900 3481 \r\nQ 2900 3844 2670 4047 \r\nQ 2441 4250 2034 4250 \r\nQ 1625 4250 1398 4047 \r\nQ 1172 3844 1172 3481 \r\nz\r\n\" id=\"DejaVuSans-38\" transform=\"scale(0.015625)\"/>\r\n       </defs>\r\n       <use xlink:href=\"#DejaVuSans-38\"/>\r\n       <use x=\"63.623047\" xlink:href=\"#DejaVuSans-30\"/>\r\n      </g>\r\n     </g>\r\n    </g>\r\n    <g id=\"ytick_5\">\r\n     <g id=\"line2d_11\">\r\n      <g>\r\n       <use style=\"stroke:#000000;stroke-width:0.8;\" x=\"33.2875\" xlink:href=\"#ma467724af8\" y=\"141.352605\"/>\r\n      </g>\r\n     </g>\r\n     <g id=\"text_11\">\r\n      <!-- 100 -->\r\n      <g transform=\"translate(7.2 145.151824)scale(0.1 -0.1)\">\r\n       <defs>\r\n        <path d=\"M 794 531 \r\nL 1825 531 \r\nL 1825 4091 \r\nL 703 3866 \r\nL 703 4441 \r\nL 1819 4666 \r\nL 2450 4666 \r\nL 2450 531 \r\nL 3481 531 \r\nL 3481 0 \r\nL 794 0 \r\nL 794 531 \r\nz\r\n\" id=\"DejaVuSans-31\" transform=\"scale(0.015625)\"/>\r\n       </defs>\r\n       <use xlink:href=\"#DejaVuSans-31\"/>\r\n       <use x=\"63.623047\" xlink:href=\"#DejaVuSans-30\"/>\r\n       <use x=\"127.246094\" xlink:href=\"#DejaVuSans-30\"/>\r\n      </g>\r\n     </g>\r\n    </g>\r\n    <g id=\"ytick_6\">\r\n     <g id=\"line2d_12\">\r\n      <g>\r\n       <use style=\"stroke:#000000;stroke-width:0.8;\" x=\"33.2875\" xlink:href=\"#ma467724af8\" y=\"86.116188\"/>\r\n      </g>\r\n     </g>\r\n     <g id=\"text_12\">\r\n      <!-- 120 -->\r\n      <g transform=\"translate(7.2 89.915406)scale(0.1 -0.1)\">\r\n       <use xlink:href=\"#DejaVuSans-31\"/>\r\n       <use x=\"63.623047\" xlink:href=\"#DejaVuSans-32\"/>\r\n       <use x=\"127.246094\" xlink:href=\"#DejaVuSans-30\"/>\r\n      </g>\r\n     </g>\r\n    </g>\r\n    <g id=\"ytick_7\">\r\n     <g id=\"line2d_13\">\r\n      <g>\r\n       <use style=\"stroke:#000000;stroke-width:0.8;\" x=\"33.2875\" xlink:href=\"#ma467724af8\" y=\"30.87977\"/>\r\n      </g>\r\n     </g>\r\n     <g id=\"text_13\">\r\n      <!-- 140 -->\r\n      <g transform=\"translate(7.2 34.678989)scale(0.1 -0.1)\">\r\n       <use xlink:href=\"#DejaVuSans-31\"/>\r\n       <use x=\"63.623047\" xlink:href=\"#DejaVuSans-34\"/>\r\n       <use x=\"127.246094\" xlink:href=\"#DejaVuSans-30\"/>\r\n      </g>\r\n     </g>\r\n    </g>\r\n   </g>\r\n   <g id=\"patch_3\">\r\n    <path d=\"M 33.2875 392.954489 \r\nL 33.2875 22.318125 \r\n\" style=\"fill:none;stroke:#000000;stroke-linecap:square;stroke-linejoin:miter;stroke-width:0.8;\"/>\r\n   </g>\r\n   <g id=\"patch_4\">\r\n    <path d=\"M 443.581618 392.954489 \r\nL 443.581618 22.318125 \r\n\" style=\"fill:none;stroke:#000000;stroke-linecap:square;stroke-linejoin:miter;stroke-width:0.8;\"/>\r\n   </g>\r\n   <g id=\"patch_5\">\r\n    <path d=\"M 33.2875 392.954489 \r\nL 443.581618 392.954489 \r\n\" style=\"fill:none;stroke:#000000;stroke-linecap:square;stroke-linejoin:miter;stroke-width:0.8;\"/>\r\n   </g>\r\n   <g id=\"patch_6\">\r\n    <path d=\"M 33.2875 22.318125 \r\nL 443.581618 22.318125 \r\n\" style=\"fill:none;stroke:#000000;stroke-linecap:square;stroke-linejoin:miter;stroke-width:0.8;\"/>\r\n   </g>\r\n   <g id=\"text_14\">\r\n    <!-- Age - Annual Income (k$) -->\r\n    <g transform=\"translate(162.128621 16.318125)scale(0.12 -0.12)\">\r\n     <defs>\r\n      <path d=\"M 2188 4044 \r\nL 1331 1722 \r\nL 3047 1722 \r\nL 2188 4044 \r\nz\r\nM 1831 4666 \r\nL 2547 4666 \r\nL 4325 0 \r\nL 3669 0 \r\nL 3244 1197 \r\nL 1141 1197 \r\nL 716 0 \r\nL 50 0 \r\nL 1831 4666 \r\nz\r\n\" id=\"DejaVuSans-41\" transform=\"scale(0.015625)\"/>\r\n      <path d=\"M 2906 1791 \r\nQ 2906 2416 2648 2759 \r\nQ 2391 3103 1925 3103 \r\nQ 1463 3103 1205 2759 \r\nQ 947 2416 947 1791 \r\nQ 947 1169 1205 825 \r\nQ 1463 481 1925 481 \r\nQ 2391 481 2648 825 \r\nQ 2906 1169 2906 1791 \r\nz\r\nM 3481 434 \r\nQ 3481 -459 3084 -895 \r\nQ 2688 -1331 1869 -1331 \r\nQ 1566 -1331 1297 -1286 \r\nQ 1028 -1241 775 -1147 \r\nL 775 -588 \r\nQ 1028 -725 1275 -790 \r\nQ 1522 -856 1778 -856 \r\nQ 2344 -856 2625 -561 \r\nQ 2906 -266 2906 331 \r\nL 2906 616 \r\nQ 2728 306 2450 153 \r\nQ 2172 0 1784 0 \r\nQ 1141 0 747 490 \r\nQ 353 981 353 1791 \r\nQ 353 2603 747 3093 \r\nQ 1141 3584 1784 3584 \r\nQ 2172 3584 2450 3431 \r\nQ 2728 3278 2906 2969 \r\nL 2906 3500 \r\nL 3481 3500 \r\nL 3481 434 \r\nz\r\n\" id=\"DejaVuSans-67\" transform=\"scale(0.015625)\"/>\r\n      <path d=\"M 3597 1894 \r\nL 3597 1613 \r\nL 953 1613 \r\nQ 991 1019 1311 708 \r\nQ 1631 397 2203 397 \r\nQ 2534 397 2845 478 \r\nQ 3156 559 3463 722 \r\nL 3463 178 \r\nQ 3153 47 2828 -22 \r\nQ 2503 -91 2169 -91 \r\nQ 1331 -91 842 396 \r\nQ 353 884 353 1716 \r\nQ 353 2575 817 3079 \r\nQ 1281 3584 2069 3584 \r\nQ 2775 3584 3186 3129 \r\nQ 3597 2675 3597 1894 \r\nz\r\nM 3022 2063 \r\nQ 3016 2534 2758 2815 \r\nQ 2500 3097 2075 3097 \r\nQ 1594 3097 1305 2825 \r\nQ 1016 2553 972 2059 \r\nL 3022 2063 \r\nz\r\n\" id=\"DejaVuSans-65\" transform=\"scale(0.015625)\"/>\r\n      <path id=\"DejaVuSans-20\" transform=\"scale(0.015625)\"/>\r\n      <path d=\"M 313 2009 \r\nL 1997 2009 \r\nL 1997 1497 \r\nL 313 1497 \r\nL 313 2009 \r\nz\r\n\" id=\"DejaVuSans-2d\" transform=\"scale(0.015625)\"/>\r\n      <path d=\"M 3513 2113 \r\nL 3513 0 \r\nL 2938 0 \r\nL 2938 2094 \r\nQ 2938 2591 2744 2837 \r\nQ 2550 3084 2163 3084 \r\nQ 1697 3084 1428 2787 \r\nQ 1159 2491 1159 1978 \r\nL 1159 0 \r\nL 581 0 \r\nL 581 3500 \r\nL 1159 3500 \r\nL 1159 2956 \r\nQ 1366 3272 1645 3428 \r\nQ 1925 3584 2291 3584 \r\nQ 2894 3584 3203 3211 \r\nQ 3513 2838 3513 2113 \r\nz\r\n\" id=\"DejaVuSans-6e\" transform=\"scale(0.015625)\"/>\r\n      <path d=\"M 544 1381 \r\nL 544 3500 \r\nL 1119 3500 \r\nL 1119 1403 \r\nQ 1119 906 1312 657 \r\nQ 1506 409 1894 409 \r\nQ 2359 409 2629 706 \r\nQ 2900 1003 2900 1516 \r\nL 2900 3500 \r\nL 3475 3500 \r\nL 3475 0 \r\nL 2900 0 \r\nL 2900 538 \r\nQ 2691 219 2414 64 \r\nQ 2138 -91 1772 -91 \r\nQ 1169 -91 856 284 \r\nQ 544 659 544 1381 \r\nz\r\nM 1991 3584 \r\nL 1991 3584 \r\nz\r\n\" id=\"DejaVuSans-75\" transform=\"scale(0.015625)\"/>\r\n      <path d=\"M 2194 1759 \r\nQ 1497 1759 1228 1600 \r\nQ 959 1441 959 1056 \r\nQ 959 750 1161 570 \r\nQ 1363 391 1709 391 \r\nQ 2188 391 2477 730 \r\nQ 2766 1069 2766 1631 \r\nL 2766 1759 \r\nL 2194 1759 \r\nz\r\nM 3341 1997 \r\nL 3341 0 \r\nL 2766 0 \r\nL 2766 531 \r\nQ 2569 213 2275 61 \r\nQ 1981 -91 1556 -91 \r\nQ 1019 -91 701 211 \r\nQ 384 513 384 1019 \r\nQ 384 1609 779 1909 \r\nQ 1175 2209 1959 2209 \r\nL 2766 2209 \r\nL 2766 2266 \r\nQ 2766 2663 2505 2880 \r\nQ 2244 3097 1772 3097 \r\nQ 1472 3097 1187 3025 \r\nQ 903 2953 641 2809 \r\nL 641 3341 \r\nQ 956 3463 1253 3523 \r\nQ 1550 3584 1831 3584 \r\nQ 2591 3584 2966 3190 \r\nQ 3341 2797 3341 1997 \r\nz\r\n\" id=\"DejaVuSans-61\" transform=\"scale(0.015625)\"/>\r\n      <path d=\"M 603 4863 \r\nL 1178 4863 \r\nL 1178 0 \r\nL 603 0 \r\nL 603 4863 \r\nz\r\n\" id=\"DejaVuSans-6c\" transform=\"scale(0.015625)\"/>\r\n      <path d=\"M 628 4666 \r\nL 1259 4666 \r\nL 1259 0 \r\nL 628 0 \r\nL 628 4666 \r\nz\r\n\" id=\"DejaVuSans-49\" transform=\"scale(0.015625)\"/>\r\n      <path d=\"M 3122 3366 \r\nL 3122 2828 \r\nQ 2878 2963 2633 3030 \r\nQ 2388 3097 2138 3097 \r\nQ 1578 3097 1268 2742 \r\nQ 959 2388 959 1747 \r\nQ 959 1106 1268 751 \r\nQ 1578 397 2138 397 \r\nQ 2388 397 2633 464 \r\nQ 2878 531 3122 666 \r\nL 3122 134 \r\nQ 2881 22 2623 -34 \r\nQ 2366 -91 2075 -91 \r\nQ 1284 -91 818 406 \r\nQ 353 903 353 1747 \r\nQ 353 2603 823 3093 \r\nQ 1294 3584 2113 3584 \r\nQ 2378 3584 2631 3529 \r\nQ 2884 3475 3122 3366 \r\nz\r\n\" id=\"DejaVuSans-63\" transform=\"scale(0.015625)\"/>\r\n      <path d=\"M 1959 3097 \r\nQ 1497 3097 1228 2736 \r\nQ 959 2375 959 1747 \r\nQ 959 1119 1226 758 \r\nQ 1494 397 1959 397 \r\nQ 2419 397 2687 759 \r\nQ 2956 1122 2956 1747 \r\nQ 2956 2369 2687 2733 \r\nQ 2419 3097 1959 3097 \r\nz\r\nM 1959 3584 \r\nQ 2709 3584 3137 3096 \r\nQ 3566 2609 3566 1747 \r\nQ 3566 888 3137 398 \r\nQ 2709 -91 1959 -91 \r\nQ 1206 -91 779 398 \r\nQ 353 888 353 1747 \r\nQ 353 2609 779 3096 \r\nQ 1206 3584 1959 3584 \r\nz\r\n\" id=\"DejaVuSans-6f\" transform=\"scale(0.015625)\"/>\r\n      <path d=\"M 3328 2828 \r\nQ 3544 3216 3844 3400 \r\nQ 4144 3584 4550 3584 \r\nQ 5097 3584 5394 3201 \r\nQ 5691 2819 5691 2113 \r\nL 5691 0 \r\nL 5113 0 \r\nL 5113 2094 \r\nQ 5113 2597 4934 2840 \r\nQ 4756 3084 4391 3084 \r\nQ 3944 3084 3684 2787 \r\nQ 3425 2491 3425 1978 \r\nL 3425 0 \r\nL 2847 0 \r\nL 2847 2094 \r\nQ 2847 2600 2669 2842 \r\nQ 2491 3084 2119 3084 \r\nQ 1678 3084 1418 2786 \r\nQ 1159 2488 1159 1978 \r\nL 1159 0 \r\nL 581 0 \r\nL 581 3500 \r\nL 1159 3500 \r\nL 1159 2956 \r\nQ 1356 3278 1631 3431 \r\nQ 1906 3584 2284 3584 \r\nQ 2666 3584 2933 3390 \r\nQ 3200 3197 3328 2828 \r\nz\r\n\" id=\"DejaVuSans-6d\" transform=\"scale(0.015625)\"/>\r\n      <path d=\"M 1984 4856 \r\nQ 1566 4138 1362 3434 \r\nQ 1159 2731 1159 2009 \r\nQ 1159 1288 1364 580 \r\nQ 1569 -128 1984 -844 \r\nL 1484 -844 \r\nQ 1016 -109 783 600 \r\nQ 550 1309 550 2009 \r\nQ 550 2706 781 3412 \r\nQ 1013 4119 1484 4856 \r\nL 1984 4856 \r\nz\r\n\" id=\"DejaVuSans-28\" transform=\"scale(0.015625)\"/>\r\n      <path d=\"M 581 4863 \r\nL 1159 4863 \r\nL 1159 1991 \r\nL 2875 3500 \r\nL 3609 3500 \r\nL 1753 1863 \r\nL 3688 0 \r\nL 2938 0 \r\nL 1159 1709 \r\nL 1159 0 \r\nL 581 0 \r\nL 581 4863 \r\nz\r\n\" id=\"DejaVuSans-6b\" transform=\"scale(0.015625)\"/>\r\n      <path d=\"M 2163 -941 \r\nL 1850 -941 \r\nL 1847 0 \r\nQ 1519 6 1191 76 \r\nQ 863 147 531 288 \r\nL 531 850 \r\nQ 850 650 1176 548 \r\nQ 1503 447 1850 444 \r\nL 1850 1869 \r\nQ 1159 1981 845 2250 \r\nQ 531 2519 531 2988 \r\nQ 531 3497 872 3790 \r\nQ 1213 4084 1850 4128 \r\nL 1850 4863 \r\nL 2163 4863 \r\nL 2163 4138 \r\nQ 2453 4125 2725 4076 \r\nQ 2997 4028 3256 3944 \r\nL 3256 3397 \r\nQ 2997 3528 2723 3600 \r\nQ 2450 3672 2163 3684 \r\nL 2163 2350 \r\nQ 2872 2241 3206 1959 \r\nQ 3541 1678 3541 1191 \r\nQ 3541 663 3186 358 \r\nQ 2831 53 2163 6 \r\nL 2163 -941 \r\nz\r\nM 1850 2406 \r\nL 1850 3688 \r\nQ 1488 3647 1297 3481 \r\nQ 1106 3316 1106 3041 \r\nQ 1106 2772 1282 2622 \r\nQ 1459 2472 1850 2406 \r\nz\r\nM 2163 1806 \r\nL 2163 453 \r\nQ 2559 506 2761 678 \r\nQ 2963 850 2963 1131 \r\nQ 2963 1406 2770 1568 \r\nQ 2578 1731 2163 1806 \r\nz\r\n\" id=\"DejaVuSans-24\" transform=\"scale(0.015625)\"/>\r\n      <path d=\"M 513 4856 \r\nL 1013 4856 \r\nQ 1481 4119 1714 3412 \r\nQ 1947 2706 1947 2009 \r\nQ 1947 1309 1714 600 \r\nQ 1481 -109 1013 -844 \r\nL 513 -844 \r\nQ 928 -128 1133 580 \r\nQ 1338 1288 1338 2009 \r\nQ 1338 2731 1133 3434 \r\nQ 928 4138 513 4856 \r\nz\r\n\" id=\"DejaVuSans-29\" transform=\"scale(0.015625)\"/>\r\n     </defs>\r\n     <use xlink:href=\"#DejaVuSans-41\"/>\r\n     <use x=\"68.408203\" xlink:href=\"#DejaVuSans-67\"/>\r\n     <use x=\"131.884766\" xlink:href=\"#DejaVuSans-65\"/>\r\n     <use x=\"193.408203\" xlink:href=\"#DejaVuSans-20\"/>\r\n     <use x=\"225.195312\" xlink:href=\"#DejaVuSans-2d\"/>\r\n     <use x=\"261.279297\" xlink:href=\"#DejaVuSans-20\"/>\r\n     <use x=\"293.066406\" xlink:href=\"#DejaVuSans-41\"/>\r\n     <use x=\"361.474609\" xlink:href=\"#DejaVuSans-6e\"/>\r\n     <use x=\"424.853516\" xlink:href=\"#DejaVuSans-6e\"/>\r\n     <use x=\"488.232422\" xlink:href=\"#DejaVuSans-75\"/>\r\n     <use x=\"551.611328\" xlink:href=\"#DejaVuSans-61\"/>\r\n     <use x=\"612.890625\" xlink:href=\"#DejaVuSans-6c\"/>\r\n     <use x=\"640.673828\" xlink:href=\"#DejaVuSans-20\"/>\r\n     <use x=\"672.460938\" xlink:href=\"#DejaVuSans-49\"/>\r\n     <use x=\"701.953125\" xlink:href=\"#DejaVuSans-6e\"/>\r\n     <use x=\"765.332031\" xlink:href=\"#DejaVuSans-63\"/>\r\n     <use x=\"820.3125\" xlink:href=\"#DejaVuSans-6f\"/>\r\n     <use x=\"881.494141\" xlink:href=\"#DejaVuSans-6d\"/>\r\n     <use x=\"978.90625\" xlink:href=\"#DejaVuSans-65\"/>\r\n     <use x=\"1040.429688\" xlink:href=\"#DejaVuSans-20\"/>\r\n     <use x=\"1072.216797\" xlink:href=\"#DejaVuSans-28\"/>\r\n     <use x=\"1111.230469\" xlink:href=\"#DejaVuSans-6b\"/>\r\n     <use x=\"1169.140625\" xlink:href=\"#DejaVuSans-24\"/>\r\n     <use x=\"1232.763672\" xlink:href=\"#DejaVuSans-29\"/>\r\n    </g>\r\n   </g>\r\n  </g>\r\n  <g id=\"axes_2\">\r\n   <g id=\"patch_7\">\r\n    <path d=\"M 525.640441 392.954489 \r\nL 935.934559 392.954489 \r\nL 935.934559 22.318125 \r\nL 525.640441 22.318125 \r\nz\r\n\" style=\"fill:#ffffff;\"/>\r\n   </g>\r\n   <g id=\"PathCollection_2\">\r\n    <g clip-path=\"url(#pcf4c71ee95)\">\r\n     <use style=\"fill:#1f77b4;stroke:#1f77b4;\" x=\"551.463148\" xlink:href=\"#m35187518fa\" y=\"245.456344\"/>\r\n     <use style=\"fill:#1f77b4;stroke:#1f77b4;\" x=\"565.809096\" xlink:href=\"#m35187518fa\" y=\"101.052566\"/>\r\n     <use style=\"fill:#1f77b4;stroke:#1f77b4;\" x=\"558.636122\" xlink:href=\"#m35187518fa\" y=\"358.916455\"/>\r\n     <use style=\"fill:#1f77b4;stroke:#1f77b4;\" x=\"580.155044\" xlink:href=\"#m35187518fa\" y=\"114.805307\"/>\r\n     <use style=\"fill:#1f77b4;stroke:#1f77b4;\" x=\"637.538837\" xlink:href=\"#m35187518fa\" y=\"242.018159\"/>\r\n     <use style=\"fill:#1f77b4;stroke:#1f77b4;\" x=\"572.98207\" xlink:href=\"#m35187518fa\" y=\"118.243492\"/>\r\n     <use style=\"fill:#1f77b4;stroke:#1f77b4;\" x=\"666.230733\" xlink:href=\"#m35187518fa\" y=\"358.916455\"/>\r\n     <use style=\"fill:#1f77b4;stroke:#1f77b4;\" x=\"580.155044\" xlink:href=\"#m35187518fa\" y=\"56.356158\"/>\r\n     <use style=\"fill:#1f77b4;stroke:#1f77b4;\" x=\"874.246982\" xlink:href=\"#m35187518fa\" y=\"369.231011\"/>\r\n     <use style=\"fill:#1f77b4;stroke:#1f77b4;\" x=\"630.365863\" xlink:href=\"#m35187518fa\" y=\"131.996233\"/>\r\n     <use style=\"fill:#1f77b4;stroke:#1f77b4;\" x=\"895.765904\" xlink:href=\"#m35187518fa\" y=\"331.410974\"/>\r\n     <use style=\"fill:#1f77b4;stroke:#1f77b4;\" x=\"666.230733\" xlink:href=\"#m35187518fa\" y=\"39.165232\"/>\r\n     <use style=\"fill:#1f77b4;stroke:#1f77b4;\" x=\"831.209137\" xlink:href=\"#m35187518fa\" y=\"327.972789\"/>\r\n     <use style=\"fill:#1f77b4;stroke:#1f77b4;\" x=\"587.328018\" xlink:href=\"#m35187518fa\" y=\"114.805307\"/>\r\n     <use style=\"fill:#1f77b4;stroke:#1f77b4;\" x=\"680.576681\" xlink:href=\"#m35187518fa\" y=\"334.849159\"/>\r\n     <use style=\"fill:#1f77b4;stroke:#1f77b4;\" x=\"572.98207\" xlink:href=\"#m35187518fa\" y=\"107.928936\"/>\r\n     <use style=\"fill:#1f77b4;stroke:#1f77b4;\" x=\"666.230733\" xlink:href=\"#m35187518fa\" y=\"259.209085\"/>\r\n     <use style=\"fill:#1f77b4;stroke:#1f77b4;\" x=\"558.636122\" xlink:href=\"#m35187518fa\" y=\"152.625344\"/>\r\n     <use style=\"fill:#1f77b4;stroke:#1f77b4;\" x=\"788.171293\" xlink:href=\"#m35187518fa\" y=\"279.838196\"/>\r\n     <use style=\"fill:#1f77b4;stroke:#1f77b4;\" x=\"666.230733\" xlink:href=\"#m35187518fa\" y=\"42.603418\"/>\r\n     <use style=\"fill:#1f77b4;stroke:#1f77b4;\" x=\"666.230733\" xlink:href=\"#m35187518fa\" y=\"259.209085\"/>\r\n     <use style=\"fill:#1f77b4;stroke:#1f77b4;\" x=\"594.500992\" xlink:href=\"#m35187518fa\" y=\"128.558047\"/>\r\n     <use style=\"fill:#1f77b4;stroke:#1f77b4;\" x=\"745.133448\" xlink:href=\"#m35187518fa\" y=\"362.35464\"/>\r\n     <use style=\"fill:#1f77b4;stroke:#1f77b4;\" x=\"637.538837\" xlink:href=\"#m35187518fa\" y=\"128.558047\"/>\r\n     <use style=\"fill:#1f77b4;stroke:#1f77b4;\" x=\"802.517241\" xlink:href=\"#m35187518fa\" y=\"331.410974\"/>\r\n     <use style=\"fill:#1f77b4;stroke:#1f77b4;\" x=\"623.192889\" xlink:href=\"#m35187518fa\" y=\"97.614381\"/>\r\n     <use style=\"fill:#1f77b4;stroke:#1f77b4;\" x=\"737.960474\" xlink:href=\"#m35187518fa\" y=\"269.52364\"/>\r\n     <use style=\"fill:#1f77b4;stroke:#1f77b4;\" x=\"666.230733\" xlink:href=\"#m35187518fa\" y=\"169.81627\"/>\r\n     <use style=\"fill:#1f77b4;stroke:#1f77b4;\" x=\"702.095604\" xlink:href=\"#m35187518fa\" y=\"272.961825\"/>\r\n     <use style=\"fill:#1f77b4;stroke:#1f77b4;\" x=\"580.155044\" xlink:href=\"#m35187518fa\" y=\"80.423455\"/>\r\n     <use style=\"fill:#1f77b4;stroke:#1f77b4;\" x=\"845.555085\" xlink:href=\"#m35187518fa\" y=\"365.792826\"/>\r\n     <use style=\"fill:#1f77b4;stroke:#1f77b4;\" x=\"565.809096\" xlink:href=\"#m35187518fa\" y=\"128.558047\"/>\r\n     <use style=\"fill:#1f77b4;stroke:#1f77b4;\" x=\"795.344267\" xlink:href=\"#m35187518fa\" y=\"365.792826\"/>\r\n     <use style=\"fill:#1f77b4;stroke:#1f77b4;\" x=\"544.290174\" xlink:href=\"#m35187518fa\" y=\"63.232529\"/>\r\n     <use style=\"fill:#1f77b4;stroke:#1f77b4;\" x=\"766.65237\" xlink:href=\"#m35187518fa\" y=\"331.410974\"/>\r\n     <use style=\"fill:#1f77b4;stroke:#1f77b4;\" x=\"565.809096\" xlink:href=\"#m35187518fa\" y=\"101.052566\"/>\r\n     <use style=\"fill:#1f77b4;stroke:#1f77b4;\" x=\"716.441552\" xlink:href=\"#m35187518fa\" y=\"321.096418\"/>\r\n     <use style=\"fill:#1f77b4;stroke:#1f77b4;\" x=\"630.365863\" xlink:href=\"#m35187518fa\" y=\"128.558047\"/>\r\n     <use style=\"fill:#1f77b4;stroke:#1f77b4;\" x=\"673.403707\" xlink:href=\"#m35187518fa\" y=\"290.152751\"/>\r\n     <use style=\"fill:#1f77b4;stroke:#1f77b4;\" x=\"558.636122\" xlink:href=\"#m35187518fa\" y=\"121.681677\"/>\r\n     <use style=\"fill:#1f77b4;stroke:#1f77b4;\" x=\"881.419956\" xlink:href=\"#m35187518fa\" y=\"259.209085\"/>\r\n     <use style=\"fill:#1f77b4;stroke:#1f77b4;\" x=\"587.328018\" xlink:href=\"#m35187518fa\" y=\"63.232529\"/>\r\n     <use style=\"fill:#1f77b4;stroke:#1f77b4;\" x=\"759.479396\" xlink:href=\"#m35187518fa\" y=\"255.770899\"/>\r\n     <use style=\"fill:#1f77b4;stroke:#1f77b4;\" x=\"637.538837\" xlink:href=\"#m35187518fa\" y=\"169.81627\"/>\r\n     <use style=\"fill:#1f77b4;stroke:#1f77b4;\" x=\"766.65237\" xlink:href=\"#m35187518fa\" y=\"283.276381\"/>\r\n     <use style=\"fill:#1f77b4;stroke:#1f77b4;\" x=\"587.328018\" xlink:href=\"#m35187518fa\" y=\"156.063529\"/>\r\n     <use style=\"fill:#1f77b4;stroke:#1f77b4;\" x=\"773.825345\" xlink:href=\"#m35187518fa\" y=\"190.445381\"/>\r\n     <use style=\"fill:#1f77b4;stroke:#1f77b4;\" x=\"608.846941\" xlink:href=\"#m35187518fa\" y=\"217.950862\"/>\r\n     <use style=\"fill:#1f77b4;stroke:#1f77b4;\" x=\"623.192889\" xlink:href=\"#m35187518fa\" y=\"235.141788\"/>\r\n     <use style=\"fill:#1f77b4;stroke:#1f77b4;\" x=\"637.538837\" xlink:href=\"#m35187518fa\" y=\"235.141788\"/>\r\n     <use style=\"fill:#1f77b4;stroke:#1f77b4;\" x=\"766.65237\" xlink:href=\"#m35187518fa\" y=\"200.759936\"/>\r\n     <use style=\"fill:#1f77b4;stroke:#1f77b4;\" x=\"651.884785\" xlink:href=\"#m35187518fa\" y=\"173.254455\"/>\r\n     <use style=\"fill:#1f77b4;stroke:#1f77b4;\" x=\"637.538837\" xlink:href=\"#m35187518fa\" y=\"193.883566\"/>\r\n     <use style=\"fill:#1f77b4;stroke:#1f77b4;\" x=\"838.382111\" xlink:href=\"#m35187518fa\" y=\"173.254455\"/>\r\n     <use style=\"fill:#1f77b4;stroke:#1f77b4;\" x=\"773.825345\" xlink:href=\"#m35187518fa\" y=\"224.827233\"/>\r\n     <use style=\"fill:#1f77b4;stroke:#1f77b4;\" x=\"752.306422\" xlink:href=\"#m35187518fa\" y=\"238.579974\"/>\r\n     <use style=\"fill:#1f77b4;stroke:#1f77b4;\" x=\"780.998319\" xlink:href=\"#m35187518fa\" y=\"207.636307\"/>\r\n     <use style=\"fill:#1f77b4;stroke:#1f77b4;\" x=\"910.111852\" xlink:href=\"#m35187518fa\" y=\"221.389048\"/>\r\n     <use style=\"fill:#1f77b4;stroke:#1f77b4;\" x=\"608.846941\" xlink:href=\"#m35187518fa\" y=\"204.198122\"/>\r\n     <use style=\"fill:#1f77b4;stroke:#1f77b4;\" x=\"795.344267\" xlink:href=\"#m35187518fa\" y=\"221.389048\"/>\r\n     <use style=\"fill:#1f77b4;stroke:#1f77b4;\" x=\"917.284826\" xlink:href=\"#m35187518fa\" y=\"187.007196\"/>\r\n     <use style=\"fill:#1f77b4;stroke:#1f77b4;\" x=\"551.463148\" xlink:href=\"#m35187518fa\" y=\"190.445381\"/>\r\n     <use style=\"fill:#1f77b4;stroke:#1f77b4;\" x=\"895.765904\" xlink:href=\"#m35187518fa\" y=\"200.759936\"/>\r\n     <use style=\"fill:#1f77b4;stroke:#1f77b4;\" x=\"802.517241\" xlink:href=\"#m35187518fa\" y=\"176.69264\"/>\r\n     <use style=\"fill:#1f77b4;stroke:#1f77b4;\" x=\"867.074008\" xlink:href=\"#m35187518fa\" y=\"204.198122\"/>\r\n     <use style=\"fill:#1f77b4;stroke:#1f77b4;\" x=\"544.290174\" xlink:href=\"#m35187518fa\" y=\"176.69264\"/>\r\n     <use style=\"fill:#1f77b4;stroke:#1f77b4;\" x=\"723.614526\" xlink:href=\"#m35187518fa\" y=\"207.636307\"/>\r\n     <use style=\"fill:#1f77b4;stroke:#1f77b4;\" x=\"902.938878\" xlink:href=\"#m35187518fa\" y=\"214.512677\"/>\r\n     <use style=\"fill:#1f77b4;stroke:#1f77b4;\" x=\"551.463148\" xlink:href=\"#m35187518fa\" y=\"176.69264\"/>\r\n     <use style=\"fill:#1f77b4;stroke:#1f77b4;\" x=\"644.711811\" xlink:href=\"#m35187518fa\" y=\"217.950862\"/>\r\n     <use style=\"fill:#1f77b4;stroke:#1f77b4;\" x=\"917.284826\" xlink:href=\"#m35187518fa\" y=\"190.445381\"/>\r\n     <use style=\"fill:#1f77b4;stroke:#1f77b4;\" x=\"752.306422\" xlink:href=\"#m35187518fa\" y=\"235.141788\"/>\r\n     <use style=\"fill:#1f77b4;stroke:#1f77b4;\" x=\"845.555085\" xlink:href=\"#m35187518fa\" y=\"211.074492\"/>\r\n     <use style=\"fill:#1f77b4;stroke:#1f77b4;\" x=\"845.555085\" xlink:href=\"#m35187518fa\" y=\"187.007196\"/>\r\n     <use style=\"fill:#1f77b4;stroke:#1f77b4;\" x=\"838.382111\" xlink:href=\"#m35187518fa\" y=\"217.950862\"/>\r\n     <use style=\"fill:#1f77b4;stroke:#1f77b4;\" x=\"601.673966\" xlink:href=\"#m35187518fa\" y=\"193.883566\"/>\r\n     <use style=\"fill:#1f77b4;stroke:#1f77b4;\" x=\"737.960474\" xlink:href=\"#m35187518fa\" y=\"197.321751\"/>\r\n     <use style=\"fill:#1f77b4;stroke:#1f77b4;\" x=\"702.095604\" xlink:href=\"#m35187518fa\" y=\"214.512677\"/>\r\n     <use style=\"fill:#1f77b4;stroke:#1f77b4;\" x=\"580.155044\" xlink:href=\"#m35187518fa\" y=\"200.759936\"/>\r\n     <use style=\"fill:#1f77b4;stroke:#1f77b4;\" x=\"766.65237\" xlink:href=\"#m35187518fa\" y=\"235.141788\"/>\r\n     <use style=\"fill:#1f77b4;stroke:#1f77b4;\" x=\"824.036163\" xlink:href=\"#m35187518fa\" y=\"204.198122\"/>\r\n     <use style=\"fill:#1f77b4;stroke:#1f77b4;\" x=\"687.749655\" xlink:href=\"#m35187518fa\" y=\"190.445381\"/>\r\n     <use style=\"fill:#1f77b4;stroke:#1f77b4;\" x=\"895.765904\" xlink:href=\"#m35187518fa\" y=\"238.579974\"/>\r\n     <use style=\"fill:#1f77b4;stroke:#1f77b4;\" x=\"745.133448\" xlink:href=\"#m35187518fa\" y=\"228.265418\"/>\r\n     <use style=\"fill:#1f77b4;stroke:#1f77b4;\" x=\"565.809096\" xlink:href=\"#m35187518fa\" y=\"183.56901\"/>\r\n     <use style=\"fill:#1f77b4;stroke:#1f77b4;\" x=\"759.479396\" xlink:href=\"#m35187518fa\" y=\"221.389048\"/>\r\n     <use style=\"fill:#1f77b4;stroke:#1f77b4;\" x=\"809.690215\" xlink:href=\"#m35187518fa\" y=\"180.130825\"/>\r\n     <use style=\"fill:#1f77b4;stroke:#1f77b4;\" x=\"572.98207\" xlink:href=\"#m35187518fa\" y=\"190.445381\"/>\r\n     <use style=\"fill:#1f77b4;stroke:#1f77b4;\" x=\"659.057759\" xlink:href=\"#m35187518fa\" y=\"173.254455\"/>\r\n     <use style=\"fill:#1f77b4;stroke:#1f77b4;\" x=\"773.825345\" xlink:href=\"#m35187518fa\" y=\"221.389048\"/>\r\n     <use style=\"fill:#1f77b4;stroke:#1f77b4;\" x=\"902.938878\" xlink:href=\"#m35187518fa\" y=\"190.445381\"/>\r\n     <use style=\"fill:#1f77b4;stroke:#1f77b4;\" x=\"544.290174\" xlink:href=\"#m35187518fa\" y=\"238.579974\"/>\r\n     <use style=\"fill:#1f77b4;stroke:#1f77b4;\" x=\"759.479396\" xlink:href=\"#m35187518fa\" y=\"211.074492\"/>\r\n     <use style=\"fill:#1f77b4;stroke:#1f77b4;\" x=\"702.095604\" xlink:href=\"#m35187518fa\" y=\"242.018159\"/>\r\n     <use style=\"fill:#1f77b4;stroke:#1f77b4;\" x=\"644.711811\" xlink:href=\"#m35187518fa\" y=\"235.141788\"/>\r\n     <use style=\"fill:#1f77b4;stroke:#1f77b4;\" x=\"587.328018\" xlink:href=\"#m35187518fa\" y=\"200.759936\"/>\r\n     <use style=\"fill:#1f77b4;stroke:#1f77b4;\" x=\"752.306422\" xlink:href=\"#m35187518fa\" y=\"217.950862\"/>\r\n     <use style=\"fill:#1f77b4;stroke:#1f77b4;\" x=\"608.846941\" xlink:href=\"#m35187518fa\" y=\"207.636307\"/>\r\n     <use style=\"fill:#1f77b4;stroke:#1f77b4;\" x=\"759.479396\" xlink:href=\"#m35187518fa\" y=\"235.141788\"/>\r\n     <use style=\"fill:#1f77b4;stroke:#1f77b4;\" x=\"558.636122\" xlink:href=\"#m35187518fa\" y=\"211.074492\"/>\r\n     <use style=\"fill:#1f77b4;stroke:#1f77b4;\" x=\"580.155044\" xlink:href=\"#m35187518fa\" y=\"238.579974\"/>\r\n     <use style=\"fill:#1f77b4;stroke:#1f77b4;\" x=\"766.65237\" xlink:href=\"#m35187518fa\" y=\"214.512677\"/>\r\n     <use style=\"fill:#1f77b4;stroke:#1f77b4;\" x=\"895.765904\" xlink:href=\"#m35187518fa\" y=\"176.69264\"/>\r\n     <use style=\"fill:#1f77b4;stroke:#1f77b4;\" x=\"601.673966\" xlink:href=\"#m35187518fa\" y=\"190.445381\"/>\r\n     <use style=\"fill:#1f77b4;stroke:#1f77b4;\" x=\"766.65237\" xlink:href=\"#m35187518fa\" y=\"187.007196\"/>\r\n     <use style=\"fill:#1f77b4;stroke:#1f77b4;\" x=\"565.809096\" xlink:href=\"#m35187518fa\" y=\"235.141788\"/>\r\n     <use style=\"fill:#1f77b4;stroke:#1f77b4;\" x=\"888.59293\" xlink:href=\"#m35187518fa\" y=\"207.636307\"/>\r\n     <use style=\"fill:#1f77b4;stroke:#1f77b4;\" x=\"802.517241\" xlink:href=\"#m35187518fa\" y=\"221.389048\"/>\r\n     <use style=\"fill:#1f77b4;stroke:#1f77b4;\" x=\"902.938878\" xlink:href=\"#m35187518fa\" y=\"231.703603\"/>\r\n     <use style=\"fill:#1f77b4;stroke:#1f77b4;\" x=\"888.59293\" xlink:href=\"#m35187518fa\" y=\"214.512677\"/>\r\n     <use style=\"fill:#1f77b4;stroke:#1f77b4;\" x=\"881.419956\" xlink:href=\"#m35187518fa\" y=\"200.759936\"/>\r\n     <use style=\"fill:#1f77b4;stroke:#1f77b4;\" x=\"551.463148\" xlink:href=\"#m35187518fa\" y=\"193.883566\"/>\r\n     <use style=\"fill:#1f77b4;stroke:#1f77b4;\" x=\"687.749655\" xlink:href=\"#m35187518fa\" y=\"235.141788\"/>\r\n     <use style=\"fill:#1f77b4;stroke:#1f77b4;\" x=\"551.463148\" xlink:href=\"#m35187518fa\" y=\"221.389048\"/>\r\n     <use style=\"fill:#1f77b4;stroke:#1f77b4;\" x=\"544.290174\" xlink:href=\"#m35187518fa\" y=\"214.512677\"/>\r\n     <use style=\"fill:#1f77b4;stroke:#1f77b4;\" x=\"551.463148\" xlink:href=\"#m35187518fa\" y=\"207.636307\"/>\r\n     <use style=\"fill:#1f77b4;stroke:#1f77b4;\" x=\"867.074008\" xlink:href=\"#m35187518fa\" y=\"231.703603\"/>\r\n     <use style=\"fill:#1f77b4;stroke:#1f77b4;\" x=\"766.65237\" xlink:href=\"#m35187518fa\" y=\"176.69264\"/>\r\n     <use style=\"fill:#1f77b4;stroke:#1f77b4;\" x=\"780.998319\" xlink:href=\"#m35187518fa\" y=\"231.703603\"/>\r\n     <use style=\"fill:#1f77b4;stroke:#1f77b4;\" x=\"773.825345\" xlink:href=\"#m35187518fa\" y=\"183.56901\"/>\r\n     <use style=\"fill:#1f77b4;stroke:#1f77b4;\" x=\"608.846941\" xlink:href=\"#m35187518fa\" y=\"187.007196\"/>\r\n     <use style=\"fill:#1f77b4;stroke:#1f77b4;\" x=\"687.749655\" xlink:href=\"#m35187518fa\" y=\"242.018159\"/>\r\n     <use style=\"fill:#1f77b4;stroke:#1f77b4;\" x=\"702.095604\" xlink:href=\"#m35187518fa\" y=\"180.130825\"/>\r\n     <use style=\"fill:#1f77b4;stroke:#1f77b4;\" x=\"694.92263\" xlink:href=\"#m35187518fa\" y=\"66.670714\"/>\r\n     <use style=\"fill:#1f77b4;stroke:#1f77b4;\" x=\"580.155044\" xlink:href=\"#m35187518fa\" y=\"279.838196\"/>\r\n     <use style=\"fill:#1f77b4;stroke:#1f77b4;\" x=\"637.538837\" xlink:href=\"#m35187518fa\" y=\"114.805307\"/>\r\n     <use style=\"fill:#1f77b4;stroke:#1f77b4;\" x=\"723.614526\" xlink:href=\"#m35187518fa\" y=\"259.209085\"/>\r\n     <use style=\"fill:#1f77b4;stroke:#1f77b4;\" x=\"702.095604\" xlink:href=\"#m35187518fa\" y=\"52.917973\"/>\r\n     <use style=\"fill:#1f77b4;stroke:#1f77b4;\" x=\"838.382111\" xlink:href=\"#m35187518fa\" y=\"341.725529\"/>\r\n     <use style=\"fill:#1f77b4;stroke:#1f77b4;\" x=\"687.749655\" xlink:href=\"#m35187518fa\" y=\"121.681677\"/>\r\n     <use style=\"fill:#1f77b4;stroke:#1f77b4;\" x=\"752.306422\" xlink:href=\"#m35187518fa\" y=\"348.6019\"/>\r\n     <use style=\"fill:#1f77b4;stroke:#1f77b4;\" x=\"694.92263\" xlink:href=\"#m35187518fa\" y=\"121.681677\"/>\r\n     <use style=\"fill:#1f77b4;stroke:#1f77b4;\" x=\"594.500992\" xlink:href=\"#m35187518fa\" y=\"262.64727\"/>\r\n     <use style=\"fill:#1f77b4;stroke:#1f77b4;\" x=\"637.538837\" xlink:href=\"#m35187518fa\" y=\"135.434418\"/>\r\n     <use style=\"fill:#1f77b4;stroke:#1f77b4;\" x=\"558.636122\" xlink:href=\"#m35187518fa\" y=\"362.35464\"/>\r\n     <use style=\"fill:#1f77b4;stroke:#1f77b4;\" x=\"623.192889\" xlink:href=\"#m35187518fa\" y=\"76.98527\"/>\r\n     <use style=\"fill:#1f77b4;stroke:#1f77b4;\" x=\"730.7875\" xlink:href=\"#m35187518fa\" y=\"355.47827\"/>\r\n     <use style=\"fill:#1f77b4;stroke:#1f77b4;\" x=\"644.711811\" xlink:href=\"#m35187518fa\" y=\"128.558047\"/>\r\n     <use style=\"fill:#1f77b4;stroke:#1f77b4;\" x=\"551.463148\" xlink:href=\"#m35187518fa\" y=\"345.163714\"/>\r\n     <use style=\"fill:#1f77b4;stroke:#1f77b4;\" x=\"666.230733\" xlink:href=\"#m35187518fa\" y=\"131.996233\"/>\r\n     <use style=\"fill:#1f77b4;stroke:#1f77b4;\" x=\"824.036163\" xlink:href=\"#m35187518fa\" y=\"362.35464\"/>\r\n     <use style=\"fill:#1f77b4;stroke:#1f77b4;\" x=\"644.711811\" xlink:href=\"#m35187518fa\" y=\"59.794344\"/>\r\n     <use style=\"fill:#1f77b4;stroke:#1f77b4;\" x=\"616.019915\" xlink:href=\"#m35187518fa\" y=\"242.018159\"/>\r\n     <use style=\"fill:#1f77b4;stroke:#1f77b4;\" x=\"644.711811\" xlink:href=\"#m35187518fa\" y=\"80.423455\"/>\r\n     <use style=\"fill:#1f77b4;stroke:#1f77b4;\" x=\"594.500992\" xlink:href=\"#m35187518fa\" y=\"338.287344\"/>\r\n     <use style=\"fill:#1f77b4;stroke:#1f77b4;\" x=\"616.019915\" xlink:href=\"#m35187518fa\" y=\"46.041603\"/>\r\n     <use style=\"fill:#1f77b4;stroke:#1f77b4;\" x=\"759.479396\" xlink:href=\"#m35187518fa\" y=\"255.770899\"/>\r\n     <use style=\"fill:#1f77b4;stroke:#1f77b4;\" x=\"644.711811\" xlink:href=\"#m35187518fa\" y=\"125.119862\"/>\r\n     <use style=\"fill:#1f77b4;stroke:#1f77b4;\" x=\"659.057759\" xlink:href=\"#m35187518fa\" y=\"303.905492\"/>\r\n     <use style=\"fill:#1f77b4;stroke:#1f77b4;\" x=\"659.057759\" xlink:href=\"#m35187518fa\" y=\"70.108899\"/>\r\n     <use style=\"fill:#1f77b4;stroke:#1f77b4;\" x=\"723.614526\" xlink:href=\"#m35187518fa\" y=\"321.096418\"/>\r\n     <use style=\"fill:#1f77b4;stroke:#1f77b4;\" x=\"694.92263\" xlink:href=\"#m35187518fa\" y=\"76.98527\"/>\r\n     <use style=\"fill:#1f77b4;stroke:#1f77b4;\" x=\"730.7875\" xlink:href=\"#m35187518fa\" y=\"310.781863\"/>\r\n     <use style=\"fill:#1f77b4;stroke:#1f77b4;\" x=\"687.749655\" xlink:href=\"#m35187518fa\" y=\"118.243492\"/>\r\n     <use style=\"fill:#1f77b4;stroke:#1f77b4;\" x=\"752.306422\" xlink:href=\"#m35187518fa\" y=\"324.534603\"/>\r\n     <use style=\"fill:#1f77b4;stroke:#1f77b4;\" x=\"608.846941\" xlink:href=\"#m35187518fa\" y=\"73.547084\"/>\r\n     <use style=\"fill:#1f77b4;stroke:#1f77b4;\" x=\"680.576681\" xlink:href=\"#m35187518fa\" y=\"376.107381\"/>\r\n     <use style=\"fill:#1f77b4;stroke:#1f77b4;\" x=\"630.365863\" xlink:href=\"#m35187518fa\" y=\"111.367121\"/>\r\n     <use style=\"fill:#1f77b4;stroke:#1f77b4;\" x=\"659.057759\" xlink:href=\"#m35187518fa\" y=\"376.107381\"/>\r\n     <use style=\"fill:#1f77b4;stroke:#1f77b4;\" x=\"630.365863\" xlink:href=\"#m35187518fa\" y=\"128.558047\"/>\r\n     <use style=\"fill:#1f77b4;stroke:#1f77b4;\" x=\"816.863189\" xlink:href=\"#m35187518fa\" y=\"259.209085\"/>\r\n     <use style=\"fill:#1f77b4;stroke:#1f77b4;\" x=\"623.192889\" xlink:href=\"#m35187518fa\" y=\"94.176196\"/>\r\n     <use style=\"fill:#1f77b4;stroke:#1f77b4;\" x=\"551.463148\" xlink:href=\"#m35187518fa\" y=\"362.35464\"/>\r\n     <use style=\"fill:#1f77b4;stroke:#1f77b4;\" x=\"637.538837\" xlink:href=\"#m35187518fa\" y=\"59.794344\"/>\r\n     <use style=\"fill:#1f77b4;stroke:#1f77b4;\" x=\"773.825345\" xlink:href=\"#m35187518fa\" y=\"290.152751\"/>\r\n     <use style=\"fill:#1f77b4;stroke:#1f77b4;\" x=\"673.403707\" xlink:href=\"#m35187518fa\" y=\"121.681677\"/>\r\n     <use style=\"fill:#1f77b4;stroke:#1f77b4;\" x=\"716.441552\" xlink:href=\"#m35187518fa\" y=\"310.781863\"/>\r\n     <use style=\"fill:#1f77b4;stroke:#1f77b4;\" x=\"651.884785\" xlink:href=\"#m35187518fa\" y=\"52.917973\"/>\r\n     <use style=\"fill:#1f77b4;stroke:#1f77b4;\" x=\"673.403707\" xlink:href=\"#m35187518fa\" y=\"286.714566\"/>\r\n     <use style=\"fill:#1f77b4;stroke:#1f77b4;\" x=\"644.711811\" xlink:href=\"#m35187518fa\" y=\"162.939899\"/>\r\n     <use style=\"fill:#1f77b4;stroke:#1f77b4;\" x=\"702.095604\" xlink:href=\"#m35187518fa\" y=\"334.849159\"/>\r\n     <use style=\"fill:#1f77b4;stroke:#1f77b4;\" x=\"616.019915\" xlink:href=\"#m35187518fa\" y=\"121.681677\"/>\r\n     <use style=\"fill:#1f77b4;stroke:#1f77b4;\" x=\"673.403707\" xlink:href=\"#m35187518fa\" y=\"345.163714\"/>\r\n     <use style=\"fill:#1f77b4;stroke:#1f77b4;\" x=\"673.403707\" xlink:href=\"#m35187518fa\" y=\"63.232529\"/>\r\n     <use style=\"fill:#1f77b4;stroke:#1f77b4;\" x=\"788.171293\" xlink:href=\"#m35187518fa\" y=\"334.849159\"/>\r\n     <use style=\"fill:#1f77b4;stroke:#1f77b4;\" x=\"630.365863\" xlink:href=\"#m35187518fa\" y=\"83.86164\"/>\r\n     <use style=\"fill:#1f77b4;stroke:#1f77b4;\" x=\"831.209137\" xlink:href=\"#m35187518fa\" y=\"327.972789\"/>\r\n     <use style=\"fill:#1f77b4;stroke:#1f77b4;\" x=\"608.846941\" xlink:href=\"#m35187518fa\" y=\"142.310788\"/>\r\n     <use style=\"fill:#1f77b4;stroke:#1f77b4;\" x=\"838.382111\" xlink:href=\"#m35187518fa\" y=\"331.410974\"/>\r\n     <use style=\"fill:#1f77b4;stroke:#1f77b4;\" x=\"666.230733\" xlink:href=\"#m35187518fa\" y=\"70.108899\"/>\r\n     <use style=\"fill:#1f77b4;stroke:#1f77b4;\" x=\"680.576681\" xlink:href=\"#m35187518fa\" y=\"269.52364\"/>\r\n     <use style=\"fill:#1f77b4;stroke:#1f77b4;\" x=\"644.711811\" xlink:href=\"#m35187518fa\" y=\"83.86164\"/>\r\n     <use style=\"fill:#1f77b4;stroke:#1f77b4;\" x=\"745.133448\" xlink:href=\"#m35187518fa\" y=\"327.972789\"/>\r\n     <use style=\"fill:#1f77b4;stroke:#1f77b4;\" x=\"623.192889\" xlink:href=\"#m35187518fa\" y=\"76.98527\"/>\r\n     <use style=\"fill:#1f77b4;stroke:#1f77b4;\" x=\"709.268578\" xlink:href=\"#m35187518fa\" y=\"245.456344\"/>\r\n     <use style=\"fill:#1f77b4;stroke:#1f77b4;\" x=\"630.365863\" xlink:href=\"#m35187518fa\" y=\"46.041603\"/>\r\n     <use style=\"fill:#1f77b4;stroke:#1f77b4;\" x=\"802.517241\" xlink:href=\"#m35187518fa\" y=\"297.029122\"/>\r\n     <use style=\"fill:#1f77b4;stroke:#1f77b4;\" x=\"616.019915\" xlink:href=\"#m35187518fa\" y=\"145.748973\"/>\r\n     <use style=\"fill:#1f77b4;stroke:#1f77b4;\" x=\"709.268578\" xlink:href=\"#m35187518fa\" y=\"321.096418\"/>\r\n     <use style=\"fill:#1f77b4;stroke:#1f77b4;\" x=\"673.403707\" xlink:href=\"#m35187518fa\" y=\"87.299825\"/>\r\n     <use style=\"fill:#1f77b4;stroke:#1f77b4;\" x=\"659.057759\" xlink:href=\"#m35187518fa\" y=\"300.467307\"/>\r\n     <use style=\"fill:#1f77b4;stroke:#1f77b4;\" x=\"644.711811\" xlink:href=\"#m35187518fa\" y=\"142.310788\"/>\r\n     <use style=\"fill:#1f77b4;stroke:#1f77b4;\" x=\"651.884785\" xlink:href=\"#m35187518fa\" y=\"352.040085\"/>\r\n     <use style=\"fill:#1f77b4;stroke:#1f77b4;\" x=\"687.749655\" xlink:href=\"#m35187518fa\" y=\"66.670714\"/>\r\n     <use style=\"fill:#1f77b4;stroke:#1f77b4;\" x=\"752.306422\" xlink:href=\"#m35187518fa\" y=\"324.534603\"/>\r\n     <use style=\"fill:#1f77b4;stroke:#1f77b4;\" x=\"666.230733\" xlink:href=\"#m35187518fa\" y=\"107.928936\"/>\r\n     <use style=\"fill:#1f77b4;stroke:#1f77b4;\" x=\"737.960474\" xlink:href=\"#m35187518fa\" y=\"283.276381\"/>\r\n     <use style=\"fill:#1f77b4;stroke:#1f77b4;\" x=\"644.711811\" xlink:href=\"#m35187518fa\" y=\"125.119862\"/>\r\n     <use style=\"fill:#1f77b4;stroke:#1f77b4;\" x=\"644.711811\" xlink:href=\"#m35187518fa\" y=\"317.658233\"/>\r\n     <use style=\"fill:#1f77b4;stroke:#1f77b4;\" x=\"630.365863\" xlink:href=\"#m35187518fa\" y=\"94.176196\"/>\r\n    </g>\r\n   </g>\r\n   <g id=\"matplotlib.axis_3\">\r\n    <g id=\"xtick_7\">\r\n     <g id=\"line2d_14\">\r\n      <g>\r\n       <use style=\"stroke:#000000;stroke-width:0.8;\" x=\"558.636122\" xlink:href=\"#m7e6e67af0c\" y=\"392.954489\"/>\r\n      </g>\r\n     </g>\r\n     <g id=\"text_15\">\r\n      <!-- 20 -->\r\n      <g transform=\"translate(552.273622 407.552926)scale(0.1 -0.1)\">\r\n       <use xlink:href=\"#DejaVuSans-32\"/>\r\n       <use x=\"63.623047\" xlink:href=\"#DejaVuSans-30\"/>\r\n      </g>\r\n     </g>\r\n    </g>\r\n    <g id=\"xtick_8\">\r\n     <g id=\"line2d_15\">\r\n      <g>\r\n       <use style=\"stroke:#000000;stroke-width:0.8;\" x=\"630.365863\" xlink:href=\"#m7e6e67af0c\" y=\"392.954489\"/>\r\n      </g>\r\n     </g>\r\n     <g id=\"text_16\">\r\n      <!-- 30 -->\r\n      <g transform=\"translate(624.003363 407.552926)scale(0.1 -0.1)\">\r\n       <use xlink:href=\"#DejaVuSans-33\"/>\r\n       <use x=\"63.623047\" xlink:href=\"#DejaVuSans-30\"/>\r\n      </g>\r\n     </g>\r\n    </g>\r\n    <g id=\"xtick_9\">\r\n     <g id=\"line2d_16\">\r\n      <g>\r\n       <use style=\"stroke:#000000;stroke-width:0.8;\" x=\"702.095604\" xlink:href=\"#m7e6e67af0c\" y=\"392.954489\"/>\r\n      </g>\r\n     </g>\r\n     <g id=\"text_17\">\r\n      <!-- 40 -->\r\n      <g transform=\"translate(695.733104 407.552926)scale(0.1 -0.1)\">\r\n       <use xlink:href=\"#DejaVuSans-34\"/>\r\n       <use x=\"63.623047\" xlink:href=\"#DejaVuSans-30\"/>\r\n      </g>\r\n     </g>\r\n    </g>\r\n    <g id=\"xtick_10\">\r\n     <g id=\"line2d_17\">\r\n      <g>\r\n       <use style=\"stroke:#000000;stroke-width:0.8;\" x=\"773.825345\" xlink:href=\"#m7e6e67af0c\" y=\"392.954489\"/>\r\n      </g>\r\n     </g>\r\n     <g id=\"text_18\">\r\n      <!-- 50 -->\r\n      <g transform=\"translate(767.462845 407.552926)scale(0.1 -0.1)\">\r\n       <use xlink:href=\"#DejaVuSans-35\"/>\r\n       <use x=\"63.623047\" xlink:href=\"#DejaVuSans-30\"/>\r\n      </g>\r\n     </g>\r\n    </g>\r\n    <g id=\"xtick_11\">\r\n     <g id=\"line2d_18\">\r\n      <g>\r\n       <use style=\"stroke:#000000;stroke-width:0.8;\" x=\"845.555085\" xlink:href=\"#m7e6e67af0c\" y=\"392.954489\"/>\r\n      </g>\r\n     </g>\r\n     <g id=\"text_19\">\r\n      <!-- 60 -->\r\n      <g transform=\"translate(839.192585 407.552926)scale(0.1 -0.1)\">\r\n       <use xlink:href=\"#DejaVuSans-36\"/>\r\n       <use x=\"63.623047\" xlink:href=\"#DejaVuSans-30\"/>\r\n      </g>\r\n     </g>\r\n    </g>\r\n    <g id=\"xtick_12\">\r\n     <g id=\"line2d_19\">\r\n      <g>\r\n       <use style=\"stroke:#000000;stroke-width:0.8;\" x=\"917.284826\" xlink:href=\"#m7e6e67af0c\" y=\"392.954489\"/>\r\n      </g>\r\n     </g>\r\n     <g id=\"text_20\">\r\n      <!-- 70 -->\r\n      <g transform=\"translate(910.922326 407.552926)scale(0.1 -0.1)\">\r\n       <use xlink:href=\"#DejaVuSans-37\"/>\r\n       <use x=\"63.623047\" xlink:href=\"#DejaVuSans-30\"/>\r\n      </g>\r\n     </g>\r\n    </g>\r\n   </g>\r\n   <g id=\"matplotlib.axis_4\">\r\n    <g id=\"ytick_8\">\r\n     <g id=\"line2d_20\">\r\n      <g>\r\n       <use style=\"stroke:#000000;stroke-width:0.8;\" x=\"525.640441\" xlink:href=\"#ma467724af8\" y=\"379.545566\"/>\r\n      </g>\r\n     </g>\r\n     <g id=\"text_21\">\r\n      <!-- 0 -->\r\n      <g transform=\"translate(512.277941 383.344785)scale(0.1 -0.1)\">\r\n       <use xlink:href=\"#DejaVuSans-30\"/>\r\n      </g>\r\n     </g>\r\n    </g>\r\n    <g id=\"ytick_9\">\r\n     <g id=\"line2d_21\">\r\n      <g>\r\n       <use style=\"stroke:#000000;stroke-width:0.8;\" x=\"525.640441\" xlink:href=\"#ma467724af8\" y=\"310.781863\"/>\r\n      </g>\r\n     </g>\r\n     <g id=\"text_22\">\r\n      <!-- 20 -->\r\n      <g transform=\"translate(505.915441 314.581081)scale(0.1 -0.1)\">\r\n       <use xlink:href=\"#DejaVuSans-32\"/>\r\n       <use x=\"63.623047\" xlink:href=\"#DejaVuSans-30\"/>\r\n      </g>\r\n     </g>\r\n    </g>\r\n    <g id=\"ytick_10\">\r\n     <g id=\"line2d_22\">\r\n      <g>\r\n       <use style=\"stroke:#000000;stroke-width:0.8;\" x=\"525.640441\" xlink:href=\"#ma467724af8\" y=\"242.018159\"/>\r\n      </g>\r\n     </g>\r\n     <g id=\"text_23\">\r\n      <!-- 40 -->\r\n      <g transform=\"translate(505.915441 245.817377)scale(0.1 -0.1)\">\r\n       <use xlink:href=\"#DejaVuSans-34\"/>\r\n       <use x=\"63.623047\" xlink:href=\"#DejaVuSans-30\"/>\r\n      </g>\r\n     </g>\r\n    </g>\r\n    <g id=\"ytick_11\">\r\n     <g id=\"line2d_23\">\r\n      <g>\r\n       <use style=\"stroke:#000000;stroke-width:0.8;\" x=\"525.640441\" xlink:href=\"#ma467724af8\" y=\"173.254455\"/>\r\n      </g>\r\n     </g>\r\n     <g id=\"text_24\">\r\n      <!-- 60 -->\r\n      <g transform=\"translate(505.915441 177.053674)scale(0.1 -0.1)\">\r\n       <use xlink:href=\"#DejaVuSans-36\"/>\r\n       <use x=\"63.623047\" xlink:href=\"#DejaVuSans-30\"/>\r\n      </g>\r\n     </g>\r\n    </g>\r\n    <g id=\"ytick_12\">\r\n     <g id=\"line2d_24\">\r\n      <g>\r\n       <use style=\"stroke:#000000;stroke-width:0.8;\" x=\"525.640441\" xlink:href=\"#ma467724af8\" y=\"104.490751\"/>\r\n      </g>\r\n     </g>\r\n     <g id=\"text_25\">\r\n      <!-- 80 -->\r\n      <g transform=\"translate(505.915441 108.28997)scale(0.1 -0.1)\">\r\n       <use xlink:href=\"#DejaVuSans-38\"/>\r\n       <use x=\"63.623047\" xlink:href=\"#DejaVuSans-30\"/>\r\n      </g>\r\n     </g>\r\n    </g>\r\n    <g id=\"ytick_13\">\r\n     <g id=\"line2d_25\">\r\n      <g>\r\n       <use style=\"stroke:#000000;stroke-width:0.8;\" x=\"525.640441\" xlink:href=\"#ma467724af8\" y=\"35.727047\"/>\r\n      </g>\r\n     </g>\r\n     <g id=\"text_26\">\r\n      <!-- 100 -->\r\n      <g transform=\"translate(499.552941 39.526266)scale(0.1 -0.1)\">\r\n       <use xlink:href=\"#DejaVuSans-31\"/>\r\n       <use x=\"63.623047\" xlink:href=\"#DejaVuSans-30\"/>\r\n       <use x=\"127.246094\" xlink:href=\"#DejaVuSans-30\"/>\r\n      </g>\r\n     </g>\r\n    </g>\r\n   </g>\r\n   <g id=\"patch_8\">\r\n    <path d=\"M 525.640441 392.954489 \r\nL 525.640441 22.318125 \r\n\" style=\"fill:none;stroke:#000000;stroke-linecap:square;stroke-linejoin:miter;stroke-width:0.8;\"/>\r\n   </g>\r\n   <g id=\"patch_9\">\r\n    <path d=\"M 935.934559 392.954489 \r\nL 935.934559 22.318125 \r\n\" style=\"fill:none;stroke:#000000;stroke-linecap:square;stroke-linejoin:miter;stroke-width:0.8;\"/>\r\n   </g>\r\n   <g id=\"patch_10\">\r\n    <path d=\"M 525.640441 392.954489 \r\nL 935.934559 392.954489 \r\n\" style=\"fill:none;stroke:#000000;stroke-linecap:square;stroke-linejoin:miter;stroke-width:0.8;\"/>\r\n   </g>\r\n   <g id=\"patch_11\">\r\n    <path d=\"M 525.640441 22.318125 \r\nL 935.934559 22.318125 \r\n\" style=\"fill:none;stroke:#000000;stroke-linecap:square;stroke-linejoin:miter;stroke-width:0.8;\"/>\r\n   </g>\r\n   <g id=\"text_27\">\r\n    <!-- Age - Spending Score (1-100) -->\r\n    <g transform=\"translate(642.270625 16.318125)scale(0.12 -0.12)\">\r\n     <defs>\r\n      <path d=\"M 3425 4513 \r\nL 3425 3897 \r\nQ 3066 4069 2747 4153 \r\nQ 2428 4238 2131 4238 \r\nQ 1616 4238 1336 4038 \r\nQ 1056 3838 1056 3469 \r\nQ 1056 3159 1242 3001 \r\nQ 1428 2844 1947 2747 \r\nL 2328 2669 \r\nQ 3034 2534 3370 2195 \r\nQ 3706 1856 3706 1288 \r\nQ 3706 609 3251 259 \r\nQ 2797 -91 1919 -91 \r\nQ 1588 -91 1214 -16 \r\nQ 841 59 441 206 \r\nL 441 856 \r\nQ 825 641 1194 531 \r\nQ 1563 422 1919 422 \r\nQ 2459 422 2753 634 \r\nQ 3047 847 3047 1241 \r\nQ 3047 1584 2836 1778 \r\nQ 2625 1972 2144 2069 \r\nL 1759 2144 \r\nQ 1053 2284 737 2584 \r\nQ 422 2884 422 3419 \r\nQ 422 4038 858 4394 \r\nQ 1294 4750 2059 4750 \r\nQ 2388 4750 2728 4690 \r\nQ 3069 4631 3425 4513 \r\nz\r\n\" id=\"DejaVuSans-53\" transform=\"scale(0.015625)\"/>\r\n      <path d=\"M 1159 525 \r\nL 1159 -1331 \r\nL 581 -1331 \r\nL 581 3500 \r\nL 1159 3500 \r\nL 1159 2969 \r\nQ 1341 3281 1617 3432 \r\nQ 1894 3584 2278 3584 \r\nQ 2916 3584 3314 3078 \r\nQ 3713 2572 3713 1747 \r\nQ 3713 922 3314 415 \r\nQ 2916 -91 2278 -91 \r\nQ 1894 -91 1617 61 \r\nQ 1341 213 1159 525 \r\nz\r\nM 3116 1747 \r\nQ 3116 2381 2855 2742 \r\nQ 2594 3103 2138 3103 \r\nQ 1681 3103 1420 2742 \r\nQ 1159 2381 1159 1747 \r\nQ 1159 1113 1420 752 \r\nQ 1681 391 2138 391 \r\nQ 2594 391 2855 752 \r\nQ 3116 1113 3116 1747 \r\nz\r\n\" id=\"DejaVuSans-70\" transform=\"scale(0.015625)\"/>\r\n      <path d=\"M 2906 2969 \r\nL 2906 4863 \r\nL 3481 4863 \r\nL 3481 0 \r\nL 2906 0 \r\nL 2906 525 \r\nQ 2725 213 2448 61 \r\nQ 2172 -91 1784 -91 \r\nQ 1150 -91 751 415 \r\nQ 353 922 353 1747 \r\nQ 353 2572 751 3078 \r\nQ 1150 3584 1784 3584 \r\nQ 2172 3584 2448 3432 \r\nQ 2725 3281 2906 2969 \r\nz\r\nM 947 1747 \r\nQ 947 1113 1208 752 \r\nQ 1469 391 1925 391 \r\nQ 2381 391 2643 752 \r\nQ 2906 1113 2906 1747 \r\nQ 2906 2381 2643 2742 \r\nQ 2381 3103 1925 3103 \r\nQ 1469 3103 1208 2742 \r\nQ 947 2381 947 1747 \r\nz\r\n\" id=\"DejaVuSans-64\" transform=\"scale(0.015625)\"/>\r\n      <path d=\"M 603 3500 \r\nL 1178 3500 \r\nL 1178 0 \r\nL 603 0 \r\nL 603 3500 \r\nz\r\nM 603 4863 \r\nL 1178 4863 \r\nL 1178 4134 \r\nL 603 4134 \r\nL 603 4863 \r\nz\r\n\" id=\"DejaVuSans-69\" transform=\"scale(0.015625)\"/>\r\n      <path d=\"M 2631 2963 \r\nQ 2534 3019 2420 3045 \r\nQ 2306 3072 2169 3072 \r\nQ 1681 3072 1420 2755 \r\nQ 1159 2438 1159 1844 \r\nL 1159 0 \r\nL 581 0 \r\nL 581 3500 \r\nL 1159 3500 \r\nL 1159 2956 \r\nQ 1341 3275 1631 3429 \r\nQ 1922 3584 2338 3584 \r\nQ 2397 3584 2469 3576 \r\nQ 2541 3569 2628 3553 \r\nL 2631 2963 \r\nz\r\n\" id=\"DejaVuSans-72\" transform=\"scale(0.015625)\"/>\r\n     </defs>\r\n     <use xlink:href=\"#DejaVuSans-41\"/>\r\n     <use x=\"68.408203\" xlink:href=\"#DejaVuSans-67\"/>\r\n     <use x=\"131.884766\" xlink:href=\"#DejaVuSans-65\"/>\r\n     <use x=\"193.408203\" xlink:href=\"#DejaVuSans-20\"/>\r\n     <use x=\"225.195312\" xlink:href=\"#DejaVuSans-2d\"/>\r\n     <use x=\"261.279297\" xlink:href=\"#DejaVuSans-20\"/>\r\n     <use x=\"293.066406\" xlink:href=\"#DejaVuSans-53\"/>\r\n     <use x=\"356.542969\" xlink:href=\"#DejaVuSans-70\"/>\r\n     <use x=\"420.019531\" xlink:href=\"#DejaVuSans-65\"/>\r\n     <use x=\"481.542969\" xlink:href=\"#DejaVuSans-6e\"/>\r\n     <use x=\"544.921875\" xlink:href=\"#DejaVuSans-64\"/>\r\n     <use x=\"608.398438\" xlink:href=\"#DejaVuSans-69\"/>\r\n     <use x=\"636.181641\" xlink:href=\"#DejaVuSans-6e\"/>\r\n     <use x=\"699.560547\" xlink:href=\"#DejaVuSans-67\"/>\r\n     <use x=\"763.037109\" xlink:href=\"#DejaVuSans-20\"/>\r\n     <use x=\"794.824219\" xlink:href=\"#DejaVuSans-53\"/>\r\n     <use x=\"858.300781\" xlink:href=\"#DejaVuSans-63\"/>\r\n     <use x=\"913.28125\" xlink:href=\"#DejaVuSans-6f\"/>\r\n     <use x=\"974.462891\" xlink:href=\"#DejaVuSans-72\"/>\r\n     <use x=\"1013.326172\" xlink:href=\"#DejaVuSans-65\"/>\r\n     <use x=\"1074.849609\" xlink:href=\"#DejaVuSans-20\"/>\r\n     <use x=\"1106.636719\" xlink:href=\"#DejaVuSans-28\"/>\r\n     <use x=\"1145.650391\" xlink:href=\"#DejaVuSans-31\"/>\r\n     <use x=\"1209.273438\" xlink:href=\"#DejaVuSans-2d\"/>\r\n     <use x=\"1245.357422\" xlink:href=\"#DejaVuSans-31\"/>\r\n     <use x=\"1308.980469\" xlink:href=\"#DejaVuSans-30\"/>\r\n     <use x=\"1372.603516\" xlink:href=\"#DejaVuSans-30\"/>\r\n     <use x=\"1436.226562\" xlink:href=\"#DejaVuSans-29\"/>\r\n    </g>\r\n   </g>\r\n  </g>\r\n  <g id=\"axes_3\">\r\n   <g id=\"patch_12\">\r\n    <path d=\"M 1017.993382 392.954489 \r\nL 1428.2875 392.954489 \r\nL 1428.2875 22.318125 \r\nL 1017.993382 22.318125 \r\nz\r\n\" style=\"fill:#ffffff;\"/>\r\n   </g>\r\n   <g id=\"PathCollection_3\">\r\n    <g clip-path=\"url(#pf517ca8e96)\">\r\n     <use style=\"fill:#1f77b4;stroke:#1f77b4;\" x=\"1036.643115\" xlink:href=\"#m35187518fa\" y=\"245.456344\"/>\r\n     <use style=\"fill:#1f77b4;stroke:#1f77b4;\" x=\"1036.643115\" xlink:href=\"#m35187518fa\" y=\"101.052566\"/>\r\n     <use style=\"fill:#1f77b4;stroke:#1f77b4;\" x=\"1039.700448\" xlink:href=\"#m35187518fa\" y=\"358.916455\"/>\r\n     <use style=\"fill:#1f77b4;stroke:#1f77b4;\" x=\"1039.700448\" xlink:href=\"#m35187518fa\" y=\"114.805307\"/>\r\n     <use style=\"fill:#1f77b4;stroke:#1f77b4;\" x=\"1042.757781\" xlink:href=\"#m35187518fa\" y=\"242.018159\"/>\r\n     <use style=\"fill:#1f77b4;stroke:#1f77b4;\" x=\"1042.757781\" xlink:href=\"#m35187518fa\" y=\"118.243492\"/>\r\n     <use style=\"fill:#1f77b4;stroke:#1f77b4;\" x=\"1045.815115\" xlink:href=\"#m35187518fa\" y=\"358.916455\"/>\r\n     <use style=\"fill:#1f77b4;stroke:#1f77b4;\" x=\"1045.815115\" xlink:href=\"#m35187518fa\" y=\"56.356158\"/>\r\n     <use style=\"fill:#1f77b4;stroke:#1f77b4;\" x=\"1048.872448\" xlink:href=\"#m35187518fa\" y=\"369.231011\"/>\r\n     <use style=\"fill:#1f77b4;stroke:#1f77b4;\" x=\"1048.872448\" xlink:href=\"#m35187518fa\" y=\"131.996233\"/>\r\n     <use style=\"fill:#1f77b4;stroke:#1f77b4;\" x=\"1048.872448\" xlink:href=\"#m35187518fa\" y=\"331.410974\"/>\r\n     <use style=\"fill:#1f77b4;stroke:#1f77b4;\" x=\"1048.872448\" xlink:href=\"#m35187518fa\" y=\"39.165232\"/>\r\n     <use style=\"fill:#1f77b4;stroke:#1f77b4;\" x=\"1051.929781\" xlink:href=\"#m35187518fa\" y=\"327.972789\"/>\r\n     <use style=\"fill:#1f77b4;stroke:#1f77b4;\" x=\"1051.929781\" xlink:href=\"#m35187518fa\" y=\"114.805307\"/>\r\n     <use style=\"fill:#1f77b4;stroke:#1f77b4;\" x=\"1051.929781\" xlink:href=\"#m35187518fa\" y=\"334.849159\"/>\r\n     <use style=\"fill:#1f77b4;stroke:#1f77b4;\" x=\"1051.929781\" xlink:href=\"#m35187518fa\" y=\"107.928936\"/>\r\n     <use style=\"fill:#1f77b4;stroke:#1f77b4;\" x=\"1054.987114\" xlink:href=\"#m35187518fa\" y=\"259.209085\"/>\r\n     <use style=\"fill:#1f77b4;stroke:#1f77b4;\" x=\"1054.987114\" xlink:href=\"#m35187518fa\" y=\"152.625344\"/>\r\n     <use style=\"fill:#1f77b4;stroke:#1f77b4;\" x=\"1061.101781\" xlink:href=\"#m35187518fa\" y=\"279.838196\"/>\r\n     <use style=\"fill:#1f77b4;stroke:#1f77b4;\" x=\"1061.101781\" xlink:href=\"#m35187518fa\" y=\"42.603418\"/>\r\n     <use style=\"fill:#1f77b4;stroke:#1f77b4;\" x=\"1064.159114\" xlink:href=\"#m35187518fa\" y=\"259.209085\"/>\r\n     <use style=\"fill:#1f77b4;stroke:#1f77b4;\" x=\"1064.159114\" xlink:href=\"#m35187518fa\" y=\"128.558047\"/>\r\n     <use style=\"fill:#1f77b4;stroke:#1f77b4;\" x=\"1067.216447\" xlink:href=\"#m35187518fa\" y=\"362.35464\"/>\r\n     <use style=\"fill:#1f77b4;stroke:#1f77b4;\" x=\"1067.216447\" xlink:href=\"#m35187518fa\" y=\"128.558047\"/>\r\n     <use style=\"fill:#1f77b4;stroke:#1f77b4;\" x=\"1076.388447\" xlink:href=\"#m35187518fa\" y=\"331.410974\"/>\r\n     <use style=\"fill:#1f77b4;stroke:#1f77b4;\" x=\"1076.388447\" xlink:href=\"#m35187518fa\" y=\"97.614381\"/>\r\n     <use style=\"fill:#1f77b4;stroke:#1f77b4;\" x=\"1076.388447\" xlink:href=\"#m35187518fa\" y=\"269.52364\"/>\r\n     <use style=\"fill:#1f77b4;stroke:#1f77b4;\" x=\"1076.388447\" xlink:href=\"#m35187518fa\" y=\"169.81627\"/>\r\n     <use style=\"fill:#1f77b4;stroke:#1f77b4;\" x=\"1079.44578\" xlink:href=\"#m35187518fa\" y=\"272.961825\"/>\r\n     <use style=\"fill:#1f77b4;stroke:#1f77b4;\" x=\"1079.44578\" xlink:href=\"#m35187518fa\" y=\"80.423455\"/>\r\n     <use style=\"fill:#1f77b4;stroke:#1f77b4;\" x=\"1082.503113\" xlink:href=\"#m35187518fa\" y=\"365.792826\"/>\r\n     <use style=\"fill:#1f77b4;stroke:#1f77b4;\" x=\"1082.503113\" xlink:href=\"#m35187518fa\" y=\"128.558047\"/>\r\n     <use style=\"fill:#1f77b4;stroke:#1f77b4;\" x=\"1091.675113\" xlink:href=\"#m35187518fa\" y=\"365.792826\"/>\r\n     <use style=\"fill:#1f77b4;stroke:#1f77b4;\" x=\"1091.675113\" xlink:href=\"#m35187518fa\" y=\"63.232529\"/>\r\n     <use style=\"fill:#1f77b4;stroke:#1f77b4;\" x=\"1091.675113\" xlink:href=\"#m35187518fa\" y=\"331.410974\"/>\r\n     <use style=\"fill:#1f77b4;stroke:#1f77b4;\" x=\"1091.675113\" xlink:href=\"#m35187518fa\" y=\"101.052566\"/>\r\n     <use style=\"fill:#1f77b4;stroke:#1f77b4;\" x=\"1094.732446\" xlink:href=\"#m35187518fa\" y=\"321.096418\"/>\r\n     <use style=\"fill:#1f77b4;stroke:#1f77b4;\" x=\"1094.732446\" xlink:href=\"#m35187518fa\" y=\"128.558047\"/>\r\n     <use style=\"fill:#1f77b4;stroke:#1f77b4;\" x=\"1103.904446\" xlink:href=\"#m35187518fa\" y=\"290.152751\"/>\r\n     <use style=\"fill:#1f77b4;stroke:#1f77b4;\" x=\"1103.904446\" xlink:href=\"#m35187518fa\" y=\"121.681677\"/>\r\n     <use style=\"fill:#1f77b4;stroke:#1f77b4;\" x=\"1106.961779\" xlink:href=\"#m35187518fa\" y=\"259.209085\"/>\r\n     <use style=\"fill:#1f77b4;stroke:#1f77b4;\" x=\"1106.961779\" xlink:href=\"#m35187518fa\" y=\"63.232529\"/>\r\n     <use style=\"fill:#1f77b4;stroke:#1f77b4;\" x=\"1110.019112\" xlink:href=\"#m35187518fa\" y=\"255.770899\"/>\r\n     <use style=\"fill:#1f77b4;stroke:#1f77b4;\" x=\"1110.019112\" xlink:href=\"#m35187518fa\" y=\"169.81627\"/>\r\n     <use style=\"fill:#1f77b4;stroke:#1f77b4;\" x=\"1110.019112\" xlink:href=\"#m35187518fa\" y=\"283.276381\"/>\r\n     <use style=\"fill:#1f77b4;stroke:#1f77b4;\" x=\"1110.019112\" xlink:href=\"#m35187518fa\" y=\"156.063529\"/>\r\n     <use style=\"fill:#1f77b4;stroke:#1f77b4;\" x=\"1113.076445\" xlink:href=\"#m35187518fa\" y=\"190.445381\"/>\r\n     <use style=\"fill:#1f77b4;stroke:#1f77b4;\" x=\"1113.076445\" xlink:href=\"#m35187518fa\" y=\"217.950862\"/>\r\n     <use style=\"fill:#1f77b4;stroke:#1f77b4;\" x=\"1113.076445\" xlink:href=\"#m35187518fa\" y=\"235.141788\"/>\r\n     <use style=\"fill:#1f77b4;stroke:#1f77b4;\" x=\"1113.076445\" xlink:href=\"#m35187518fa\" y=\"235.141788\"/>\r\n     <use style=\"fill:#1f77b4;stroke:#1f77b4;\" x=\"1119.191112\" xlink:href=\"#m35187518fa\" y=\"200.759936\"/>\r\n     <use style=\"fill:#1f77b4;stroke:#1f77b4;\" x=\"1119.191112\" xlink:href=\"#m35187518fa\" y=\"173.254455\"/>\r\n     <use style=\"fill:#1f77b4;stroke:#1f77b4;\" x=\"1122.248445\" xlink:href=\"#m35187518fa\" y=\"193.883566\"/>\r\n     <use style=\"fill:#1f77b4;stroke:#1f77b4;\" x=\"1122.248445\" xlink:href=\"#m35187518fa\" y=\"173.254455\"/>\r\n     <use style=\"fill:#1f77b4;stroke:#1f77b4;\" x=\"1122.248445\" xlink:href=\"#m35187518fa\" y=\"224.827233\"/>\r\n     <use style=\"fill:#1f77b4;stroke:#1f77b4;\" x=\"1122.248445\" xlink:href=\"#m35187518fa\" y=\"238.579974\"/>\r\n     <use style=\"fill:#1f77b4;stroke:#1f77b4;\" x=\"1125.305778\" xlink:href=\"#m35187518fa\" y=\"207.636307\"/>\r\n     <use style=\"fill:#1f77b4;stroke:#1f77b4;\" x=\"1125.305778\" xlink:href=\"#m35187518fa\" y=\"221.389048\"/>\r\n     <use style=\"fill:#1f77b4;stroke:#1f77b4;\" x=\"1131.420445\" xlink:href=\"#m35187518fa\" y=\"204.198122\"/>\r\n     <use style=\"fill:#1f77b4;stroke:#1f77b4;\" x=\"1131.420445\" xlink:href=\"#m35187518fa\" y=\"221.389048\"/>\r\n     <use style=\"fill:#1f77b4;stroke:#1f77b4;\" x=\"1131.420445\" xlink:href=\"#m35187518fa\" y=\"187.007196\"/>\r\n     <use style=\"fill:#1f77b4;stroke:#1f77b4;\" x=\"1131.420445\" xlink:href=\"#m35187518fa\" y=\"190.445381\"/>\r\n     <use style=\"fill:#1f77b4;stroke:#1f77b4;\" x=\"1134.477778\" xlink:href=\"#m35187518fa\" y=\"200.759936\"/>\r\n     <use style=\"fill:#1f77b4;stroke:#1f77b4;\" x=\"1134.477778\" xlink:href=\"#m35187518fa\" y=\"176.69264\"/>\r\n     <use style=\"fill:#1f77b4;stroke:#1f77b4;\" x=\"1137.535111\" xlink:href=\"#m35187518fa\" y=\"204.198122\"/>\r\n     <use style=\"fill:#1f77b4;stroke:#1f77b4;\" x=\"1137.535111\" xlink:href=\"#m35187518fa\" y=\"176.69264\"/>\r\n     <use style=\"fill:#1f77b4;stroke:#1f77b4;\" x=\"1137.535111\" xlink:href=\"#m35187518fa\" y=\"207.636307\"/>\r\n     <use style=\"fill:#1f77b4;stroke:#1f77b4;\" x=\"1137.535111\" xlink:href=\"#m35187518fa\" y=\"214.512677\"/>\r\n     <use style=\"fill:#1f77b4;stroke:#1f77b4;\" x=\"1137.535111\" xlink:href=\"#m35187518fa\" y=\"176.69264\"/>\r\n     <use style=\"fill:#1f77b4;stroke:#1f77b4;\" x=\"1137.535111\" xlink:href=\"#m35187518fa\" y=\"217.950862\"/>\r\n     <use style=\"fill:#1f77b4;stroke:#1f77b4;\" x=\"1140.592444\" xlink:href=\"#m35187518fa\" y=\"190.445381\"/>\r\n     <use style=\"fill:#1f77b4;stroke:#1f77b4;\" x=\"1140.592444\" xlink:href=\"#m35187518fa\" y=\"235.141788\"/>\r\n     <use style=\"fill:#1f77b4;stroke:#1f77b4;\" x=\"1143.649778\" xlink:href=\"#m35187518fa\" y=\"211.074492\"/>\r\n     <use style=\"fill:#1f77b4;stroke:#1f77b4;\" x=\"1143.649778\" xlink:href=\"#m35187518fa\" y=\"187.007196\"/>\r\n     <use style=\"fill:#1f77b4;stroke:#1f77b4;\" x=\"1155.87911\" xlink:href=\"#m35187518fa\" y=\"217.950862\"/>\r\n     <use style=\"fill:#1f77b4;stroke:#1f77b4;\" x=\"1155.87911\" xlink:href=\"#m35187518fa\" y=\"193.883566\"/>\r\n     <use style=\"fill:#1f77b4;stroke:#1f77b4;\" x=\"1155.87911\" xlink:href=\"#m35187518fa\" y=\"197.321751\"/>\r\n     <use style=\"fill:#1f77b4;stroke:#1f77b4;\" x=\"1155.87911\" xlink:href=\"#m35187518fa\" y=\"214.512677\"/>\r\n     <use style=\"fill:#1f77b4;stroke:#1f77b4;\" x=\"1155.87911\" xlink:href=\"#m35187518fa\" y=\"200.759936\"/>\r\n     <use style=\"fill:#1f77b4;stroke:#1f77b4;\" x=\"1155.87911\" xlink:href=\"#m35187518fa\" y=\"235.141788\"/>\r\n     <use style=\"fill:#1f77b4;stroke:#1f77b4;\" x=\"1155.87911\" xlink:href=\"#m35187518fa\" y=\"204.198122\"/>\r\n     <use style=\"fill:#1f77b4;stroke:#1f77b4;\" x=\"1155.87911\" xlink:href=\"#m35187518fa\" y=\"190.445381\"/>\r\n     <use style=\"fill:#1f77b4;stroke:#1f77b4;\" x=\"1155.87911\" xlink:href=\"#m35187518fa\" y=\"238.579974\"/>\r\n     <use style=\"fill:#1f77b4;stroke:#1f77b4;\" x=\"1155.87911\" xlink:href=\"#m35187518fa\" y=\"228.265418\"/>\r\n     <use style=\"fill:#1f77b4;stroke:#1f77b4;\" x=\"1155.87911\" xlink:href=\"#m35187518fa\" y=\"183.56901\"/>\r\n     <use style=\"fill:#1f77b4;stroke:#1f77b4;\" x=\"1155.87911\" xlink:href=\"#m35187518fa\" y=\"221.389048\"/>\r\n     <use style=\"fill:#1f77b4;stroke:#1f77b4;\" x=\"1165.05111\" xlink:href=\"#m35187518fa\" y=\"180.130825\"/>\r\n     <use style=\"fill:#1f77b4;stroke:#1f77b4;\" x=\"1165.05111\" xlink:href=\"#m35187518fa\" y=\"190.445381\"/>\r\n     <use style=\"fill:#1f77b4;stroke:#1f77b4;\" x=\"1168.108443\" xlink:href=\"#m35187518fa\" y=\"173.254455\"/>\r\n     <use style=\"fill:#1f77b4;stroke:#1f77b4;\" x=\"1168.108443\" xlink:href=\"#m35187518fa\" y=\"221.389048\"/>\r\n     <use style=\"fill:#1f77b4;stroke:#1f77b4;\" x=\"1171.165776\" xlink:href=\"#m35187518fa\" y=\"190.445381\"/>\r\n     <use style=\"fill:#1f77b4;stroke:#1f77b4;\" x=\"1171.165776\" xlink:href=\"#m35187518fa\" y=\"238.579974\"/>\r\n     <use style=\"fill:#1f77b4;stroke:#1f77b4;\" x=\"1174.22311\" xlink:href=\"#m35187518fa\" y=\"211.074492\"/>\r\n     <use style=\"fill:#1f77b4;stroke:#1f77b4;\" x=\"1174.22311\" xlink:href=\"#m35187518fa\" y=\"242.018159\"/>\r\n     <use style=\"fill:#1f77b4;stroke:#1f77b4;\" x=\"1174.22311\" xlink:href=\"#m35187518fa\" y=\"235.141788\"/>\r\n     <use style=\"fill:#1f77b4;stroke:#1f77b4;\" x=\"1174.22311\" xlink:href=\"#m35187518fa\" y=\"200.759936\"/>\r\n     <use style=\"fill:#1f77b4;stroke:#1f77b4;\" x=\"1174.22311\" xlink:href=\"#m35187518fa\" y=\"217.950862\"/>\r\n     <use style=\"fill:#1f77b4;stroke:#1f77b4;\" x=\"1174.22311\" xlink:href=\"#m35187518fa\" y=\"207.636307\"/>\r\n     <use style=\"fill:#1f77b4;stroke:#1f77b4;\" x=\"1177.280443\" xlink:href=\"#m35187518fa\" y=\"235.141788\"/>\r\n     <use style=\"fill:#1f77b4;stroke:#1f77b4;\" x=\"1177.280443\" xlink:href=\"#m35187518fa\" y=\"211.074492\"/>\r\n     <use style=\"fill:#1f77b4;stroke:#1f77b4;\" x=\"1180.337776\" xlink:href=\"#m35187518fa\" y=\"238.579974\"/>\r\n     <use style=\"fill:#1f77b4;stroke:#1f77b4;\" x=\"1180.337776\" xlink:href=\"#m35187518fa\" y=\"214.512677\"/>\r\n     <use style=\"fill:#1f77b4;stroke:#1f77b4;\" x=\"1180.337776\" xlink:href=\"#m35187518fa\" y=\"176.69264\"/>\r\n     <use style=\"fill:#1f77b4;stroke:#1f77b4;\" x=\"1180.337776\" xlink:href=\"#m35187518fa\" y=\"190.445381\"/>\r\n     <use style=\"fill:#1f77b4;stroke:#1f77b4;\" x=\"1180.337776\" xlink:href=\"#m35187518fa\" y=\"187.007196\"/>\r\n     <use style=\"fill:#1f77b4;stroke:#1f77b4;\" x=\"1180.337776\" xlink:href=\"#m35187518fa\" y=\"235.141788\"/>\r\n     <use style=\"fill:#1f77b4;stroke:#1f77b4;\" x=\"1183.395109\" xlink:href=\"#m35187518fa\" y=\"207.636307\"/>\r\n     <use style=\"fill:#1f77b4;stroke:#1f77b4;\" x=\"1183.395109\" xlink:href=\"#m35187518fa\" y=\"221.389048\"/>\r\n     <use style=\"fill:#1f77b4;stroke:#1f77b4;\" x=\"1183.395109\" xlink:href=\"#m35187518fa\" y=\"231.703603\"/>\r\n     <use style=\"fill:#1f77b4;stroke:#1f77b4;\" x=\"1183.395109\" xlink:href=\"#m35187518fa\" y=\"214.512677\"/>\r\n     <use style=\"fill:#1f77b4;stroke:#1f77b4;\" x=\"1183.395109\" xlink:href=\"#m35187518fa\" y=\"200.759936\"/>\r\n     <use style=\"fill:#1f77b4;stroke:#1f77b4;\" x=\"1183.395109\" xlink:href=\"#m35187518fa\" y=\"193.883566\"/>\r\n     <use style=\"fill:#1f77b4;stroke:#1f77b4;\" x=\"1186.452443\" xlink:href=\"#m35187518fa\" y=\"235.141788\"/>\r\n     <use style=\"fill:#1f77b4;stroke:#1f77b4;\" x=\"1186.452443\" xlink:href=\"#m35187518fa\" y=\"221.389048\"/>\r\n     <use style=\"fill:#1f77b4;stroke:#1f77b4;\" x=\"1189.509776\" xlink:href=\"#m35187518fa\" y=\"214.512677\"/>\r\n     <use style=\"fill:#1f77b4;stroke:#1f77b4;\" x=\"1189.509776\" xlink:href=\"#m35187518fa\" y=\"207.636307\"/>\r\n     <use style=\"fill:#1f77b4;stroke:#1f77b4;\" x=\"1189.509776\" xlink:href=\"#m35187518fa\" y=\"231.703603\"/>\r\n     <use style=\"fill:#1f77b4;stroke:#1f77b4;\" x=\"1189.509776\" xlink:href=\"#m35187518fa\" y=\"176.69264\"/>\r\n     <use style=\"fill:#1f77b4;stroke:#1f77b4;\" x=\"1195.624442\" xlink:href=\"#m35187518fa\" y=\"231.703603\"/>\r\n     <use style=\"fill:#1f77b4;stroke:#1f77b4;\" x=\"1195.624442\" xlink:href=\"#m35187518fa\" y=\"183.56901\"/>\r\n     <use style=\"fill:#1f77b4;stroke:#1f77b4;\" x=\"1195.624442\" xlink:href=\"#m35187518fa\" y=\"187.007196\"/>\r\n     <use style=\"fill:#1f77b4;stroke:#1f77b4;\" x=\"1195.624442\" xlink:href=\"#m35187518fa\" y=\"242.018159\"/>\r\n     <use style=\"fill:#1f77b4;stroke:#1f77b4;\" x=\"1201.739109\" xlink:href=\"#m35187518fa\" y=\"180.130825\"/>\r\n     <use style=\"fill:#1f77b4;stroke:#1f77b4;\" x=\"1201.739109\" xlink:href=\"#m35187518fa\" y=\"66.670714\"/>\r\n     <use style=\"fill:#1f77b4;stroke:#1f77b4;\" x=\"1204.796442\" xlink:href=\"#m35187518fa\" y=\"279.838196\"/>\r\n     <use style=\"fill:#1f77b4;stroke:#1f77b4;\" x=\"1204.796442\" xlink:href=\"#m35187518fa\" y=\"114.805307\"/>\r\n     <use style=\"fill:#1f77b4;stroke:#1f77b4;\" x=\"1207.853775\" xlink:href=\"#m35187518fa\" y=\"259.209085\"/>\r\n     <use style=\"fill:#1f77b4;stroke:#1f77b4;\" x=\"1207.853775\" xlink:href=\"#m35187518fa\" y=\"52.917973\"/>\r\n     <use style=\"fill:#1f77b4;stroke:#1f77b4;\" x=\"1207.853775\" xlink:href=\"#m35187518fa\" y=\"341.725529\"/>\r\n     <use style=\"fill:#1f77b4;stroke:#1f77b4;\" x=\"1207.853775\" xlink:href=\"#m35187518fa\" y=\"121.681677\"/>\r\n     <use style=\"fill:#1f77b4;stroke:#1f77b4;\" x=\"1207.853775\" xlink:href=\"#m35187518fa\" y=\"348.6019\"/>\r\n     <use style=\"fill:#1f77b4;stroke:#1f77b4;\" x=\"1207.853775\" xlink:href=\"#m35187518fa\" y=\"121.681677\"/>\r\n     <use style=\"fill:#1f77b4;stroke:#1f77b4;\" x=\"1210.911108\" xlink:href=\"#m35187518fa\" y=\"262.64727\"/>\r\n     <use style=\"fill:#1f77b4;stroke:#1f77b4;\" x=\"1210.911108\" xlink:href=\"#m35187518fa\" y=\"135.434418\"/>\r\n     <use style=\"fill:#1f77b4;stroke:#1f77b4;\" x=\"1213.968442\" xlink:href=\"#m35187518fa\" y=\"362.35464\"/>\r\n     <use style=\"fill:#1f77b4;stroke:#1f77b4;\" x=\"1213.968442\" xlink:href=\"#m35187518fa\" y=\"76.98527\"/>\r\n     <use style=\"fill:#1f77b4;stroke:#1f77b4;\" x=\"1213.968442\" xlink:href=\"#m35187518fa\" y=\"355.47827\"/>\r\n     <use style=\"fill:#1f77b4;stroke:#1f77b4;\" x=\"1213.968442\" xlink:href=\"#m35187518fa\" y=\"128.558047\"/>\r\n     <use style=\"fill:#1f77b4;stroke:#1f77b4;\" x=\"1217.025775\" xlink:href=\"#m35187518fa\" y=\"345.163714\"/>\r\n     <use style=\"fill:#1f77b4;stroke:#1f77b4;\" x=\"1217.025775\" xlink:href=\"#m35187518fa\" y=\"131.996233\"/>\r\n     <use style=\"fill:#1f77b4;stroke:#1f77b4;\" x=\"1220.083108\" xlink:href=\"#m35187518fa\" y=\"362.35464\"/>\r\n     <use style=\"fill:#1f77b4;stroke:#1f77b4;\" x=\"1220.083108\" xlink:href=\"#m35187518fa\" y=\"59.794344\"/>\r\n     <use style=\"fill:#1f77b4;stroke:#1f77b4;\" x=\"1223.140441\" xlink:href=\"#m35187518fa\" y=\"242.018159\"/>\r\n     <use style=\"fill:#1f77b4;stroke:#1f77b4;\" x=\"1223.140441\" xlink:href=\"#m35187518fa\" y=\"80.423455\"/>\r\n     <use style=\"fill:#1f77b4;stroke:#1f77b4;\" x=\"1226.197774\" xlink:href=\"#m35187518fa\" y=\"338.287344\"/>\r\n     <use style=\"fill:#1f77b4;stroke:#1f77b4;\" x=\"1226.197774\" xlink:href=\"#m35187518fa\" y=\"46.041603\"/>\r\n     <use style=\"fill:#1f77b4;stroke:#1f77b4;\" x=\"1226.197774\" xlink:href=\"#m35187518fa\" y=\"255.770899\"/>\r\n     <use style=\"fill:#1f77b4;stroke:#1f77b4;\" x=\"1226.197774\" xlink:href=\"#m35187518fa\" y=\"125.119862\"/>\r\n     <use style=\"fill:#1f77b4;stroke:#1f77b4;\" x=\"1229.255108\" xlink:href=\"#m35187518fa\" y=\"303.905492\"/>\r\n     <use style=\"fill:#1f77b4;stroke:#1f77b4;\" x=\"1229.255108\" xlink:href=\"#m35187518fa\" y=\"70.108899\"/>\r\n     <use style=\"fill:#1f77b4;stroke:#1f77b4;\" x=\"1229.255108\" xlink:href=\"#m35187518fa\" y=\"321.096418\"/>\r\n     <use style=\"fill:#1f77b4;stroke:#1f77b4;\" x=\"1229.255108\" xlink:href=\"#m35187518fa\" y=\"76.98527\"/>\r\n     <use style=\"fill:#1f77b4;stroke:#1f77b4;\" x=\"1229.255108\" xlink:href=\"#m35187518fa\" y=\"310.781863\"/>\r\n     <use style=\"fill:#1f77b4;stroke:#1f77b4;\" x=\"1229.255108\" xlink:href=\"#m35187518fa\" y=\"118.243492\"/>\r\n     <use style=\"fill:#1f77b4;stroke:#1f77b4;\" x=\"1229.255108\" xlink:href=\"#m35187518fa\" y=\"324.534603\"/>\r\n     <use style=\"fill:#1f77b4;stroke:#1f77b4;\" x=\"1229.255108\" xlink:href=\"#m35187518fa\" y=\"73.547084\"/>\r\n     <use style=\"fill:#1f77b4;stroke:#1f77b4;\" x=\"1229.255108\" xlink:href=\"#m35187518fa\" y=\"376.107381\"/>\r\n     <use style=\"fill:#1f77b4;stroke:#1f77b4;\" x=\"1229.255108\" xlink:href=\"#m35187518fa\" y=\"111.367121\"/>\r\n     <use style=\"fill:#1f77b4;stroke:#1f77b4;\" x=\"1229.255108\" xlink:href=\"#m35187518fa\" y=\"376.107381\"/>\r\n     <use style=\"fill:#1f77b4;stroke:#1f77b4;\" x=\"1229.255108\" xlink:href=\"#m35187518fa\" y=\"128.558047\"/>\r\n     <use style=\"fill:#1f77b4;stroke:#1f77b4;\" x=\"1232.312441\" xlink:href=\"#m35187518fa\" y=\"259.209085\"/>\r\n     <use style=\"fill:#1f77b4;stroke:#1f77b4;\" x=\"1232.312441\" xlink:href=\"#m35187518fa\" y=\"94.176196\"/>\r\n     <use style=\"fill:#1f77b4;stroke:#1f77b4;\" x=\"1238.427107\" xlink:href=\"#m35187518fa\" y=\"362.35464\"/>\r\n     <use style=\"fill:#1f77b4;stroke:#1f77b4;\" x=\"1238.427107\" xlink:href=\"#m35187518fa\" y=\"59.794344\"/>\r\n     <use style=\"fill:#1f77b4;stroke:#1f77b4;\" x=\"1250.65644\" xlink:href=\"#m35187518fa\" y=\"290.152751\"/>\r\n     <use style=\"fill:#1f77b4;stroke:#1f77b4;\" x=\"1250.65644\" xlink:href=\"#m35187518fa\" y=\"121.681677\"/>\r\n     <use style=\"fill:#1f77b4;stroke:#1f77b4;\" x=\"1253.713773\" xlink:href=\"#m35187518fa\" y=\"310.781863\"/>\r\n     <use style=\"fill:#1f77b4;stroke:#1f77b4;\" x=\"1253.713773\" xlink:href=\"#m35187518fa\" y=\"52.917973\"/>\r\n     <use style=\"fill:#1f77b4;stroke:#1f77b4;\" x=\"1256.771107\" xlink:href=\"#m35187518fa\" y=\"286.714566\"/>\r\n     <use style=\"fill:#1f77b4;stroke:#1f77b4;\" x=\"1256.771107\" xlink:href=\"#m35187518fa\" y=\"162.939899\"/>\r\n     <use style=\"fill:#1f77b4;stroke:#1f77b4;\" x=\"1256.771107\" xlink:href=\"#m35187518fa\" y=\"334.849159\"/>\r\n     <use style=\"fill:#1f77b4;stroke:#1f77b4;\" x=\"1256.771107\" xlink:href=\"#m35187518fa\" y=\"121.681677\"/>\r\n     <use style=\"fill:#1f77b4;stroke:#1f77b4;\" x=\"1256.771107\" xlink:href=\"#m35187518fa\" y=\"345.163714\"/>\r\n     <use style=\"fill:#1f77b4;stroke:#1f77b4;\" x=\"1256.771107\" xlink:href=\"#m35187518fa\" y=\"63.232529\"/>\r\n     <use style=\"fill:#1f77b4;stroke:#1f77b4;\" x=\"1259.82844\" xlink:href=\"#m35187518fa\" y=\"334.849159\"/>\r\n     <use style=\"fill:#1f77b4;stroke:#1f77b4;\" x=\"1259.82844\" xlink:href=\"#m35187518fa\" y=\"83.86164\"/>\r\n     <use style=\"fill:#1f77b4;stroke:#1f77b4;\" x=\"1259.82844\" xlink:href=\"#m35187518fa\" y=\"327.972789\"/>\r\n     <use style=\"fill:#1f77b4;stroke:#1f77b4;\" x=\"1259.82844\" xlink:href=\"#m35187518fa\" y=\"142.310788\"/>\r\n     <use style=\"fill:#1f77b4;stroke:#1f77b4;\" x=\"1275.115106\" xlink:href=\"#m35187518fa\" y=\"331.410974\"/>\r\n     <use style=\"fill:#1f77b4;stroke:#1f77b4;\" x=\"1275.115106\" xlink:href=\"#m35187518fa\" y=\"70.108899\"/>\r\n     <use style=\"fill:#1f77b4;stroke:#1f77b4;\" x=\"1287.344439\" xlink:href=\"#m35187518fa\" y=\"269.52364\"/>\r\n     <use style=\"fill:#1f77b4;stroke:#1f77b4;\" x=\"1287.344439\" xlink:href=\"#m35187518fa\" y=\"83.86164\"/>\r\n     <use style=\"fill:#1f77b4;stroke:#1f77b4;\" x=\"1290.401772\" xlink:href=\"#m35187518fa\" y=\"327.972789\"/>\r\n     <use style=\"fill:#1f77b4;stroke:#1f77b4;\" x=\"1290.401772\" xlink:href=\"#m35187518fa\" y=\"76.98527\"/>\r\n     <use style=\"fill:#1f77b4;stroke:#1f77b4;\" x=\"1293.459105\" xlink:href=\"#m35187518fa\" y=\"245.456344\"/>\r\n     <use style=\"fill:#1f77b4;stroke:#1f77b4;\" x=\"1293.459105\" xlink:href=\"#m35187518fa\" y=\"46.041603\"/>\r\n     <use style=\"fill:#1f77b4;stroke:#1f77b4;\" x=\"1299.573772\" xlink:href=\"#m35187518fa\" y=\"297.029122\"/>\r\n     <use style=\"fill:#1f77b4;stroke:#1f77b4;\" x=\"1299.573772\" xlink:href=\"#m35187518fa\" y=\"145.748973\"/>\r\n     <use style=\"fill:#1f77b4;stroke:#1f77b4;\" x=\"1305.688438\" xlink:href=\"#m35187518fa\" y=\"321.096418\"/>\r\n     <use style=\"fill:#1f77b4;stroke:#1f77b4;\" x=\"1305.688438\" xlink:href=\"#m35187518fa\" y=\"87.299825\"/>\r\n     <use style=\"fill:#1f77b4;stroke:#1f77b4;\" x=\"1305.688438\" xlink:href=\"#m35187518fa\" y=\"300.467307\"/>\r\n     <use style=\"fill:#1f77b4;stroke:#1f77b4;\" x=\"1305.688438\" xlink:href=\"#m35187518fa\" y=\"142.310788\"/>\r\n     <use style=\"fill:#1f77b4;stroke:#1f77b4;\" x=\"1336.26177\" xlink:href=\"#m35187518fa\" y=\"352.040085\"/>\r\n     <use style=\"fill:#1f77b4;stroke:#1f77b4;\" x=\"1336.26177\" xlink:href=\"#m35187518fa\" y=\"66.670714\"/>\r\n     <use style=\"fill:#1f77b4;stroke:#1f77b4;\" x=\"1357.663103\" xlink:href=\"#m35187518fa\" y=\"324.534603\"/>\r\n     <use style=\"fill:#1f77b4;stroke:#1f77b4;\" x=\"1357.663103\" xlink:href=\"#m35187518fa\" y=\"107.928936\"/>\r\n     <use style=\"fill:#1f77b4;stroke:#1f77b4;\" x=\"1376.007102\" xlink:href=\"#m35187518fa\" y=\"283.276381\"/>\r\n     <use style=\"fill:#1f77b4;stroke:#1f77b4;\" x=\"1376.007102\" xlink:href=\"#m35187518fa\" y=\"125.119862\"/>\r\n     <use style=\"fill:#1f77b4;stroke:#1f77b4;\" x=\"1409.637767\" xlink:href=\"#m35187518fa\" y=\"317.658233\"/>\r\n     <use style=\"fill:#1f77b4;stroke:#1f77b4;\" x=\"1409.637767\" xlink:href=\"#m35187518fa\" y=\"94.176196\"/>\r\n    </g>\r\n   </g>\r\n   <g id=\"matplotlib.axis_5\">\r\n    <g id=\"xtick_13\">\r\n     <g id=\"line2d_26\">\r\n      <g>\r\n       <use style=\"stroke:#000000;stroke-width:0.8;\" x=\"1051.929781\" xlink:href=\"#m7e6e67af0c\" y=\"392.954489\"/>\r\n      </g>\r\n     </g>\r\n     <g id=\"text_28\">\r\n      <!-- 20 -->\r\n      <g transform=\"translate(1045.567281 407.552926)scale(0.1 -0.1)\">\r\n       <use xlink:href=\"#DejaVuSans-32\"/>\r\n       <use x=\"63.623047\" xlink:href=\"#DejaVuSans-30\"/>\r\n      </g>\r\n     </g>\r\n    </g>\r\n    <g id=\"xtick_14\">\r\n     <g id=\"line2d_27\">\r\n      <g>\r\n       <use style=\"stroke:#000000;stroke-width:0.8;\" x=\"1113.076445\" xlink:href=\"#m7e6e67af0c\" y=\"392.954489\"/>\r\n      </g>\r\n     </g>\r\n     <g id=\"text_29\">\r\n      <!-- 40 -->\r\n      <g transform=\"translate(1106.713945 407.552926)scale(0.1 -0.1)\">\r\n       <use xlink:href=\"#DejaVuSans-34\"/>\r\n       <use x=\"63.623047\" xlink:href=\"#DejaVuSans-30\"/>\r\n      </g>\r\n     </g>\r\n    </g>\r\n    <g id=\"xtick_15\">\r\n     <g id=\"line2d_28\">\r\n      <g>\r\n       <use style=\"stroke:#000000;stroke-width:0.8;\" x=\"1174.22311\" xlink:href=\"#m7e6e67af0c\" y=\"392.954489\"/>\r\n      </g>\r\n     </g>\r\n     <g id=\"text_30\">\r\n      <!-- 60 -->\r\n      <g transform=\"translate(1167.86061 407.552926)scale(0.1 -0.1)\">\r\n       <use xlink:href=\"#DejaVuSans-36\"/>\r\n       <use x=\"63.623047\" xlink:href=\"#DejaVuSans-30\"/>\r\n      </g>\r\n     </g>\r\n    </g>\r\n    <g id=\"xtick_16\">\r\n     <g id=\"line2d_29\">\r\n      <g>\r\n       <use style=\"stroke:#000000;stroke-width:0.8;\" x=\"1235.369774\" xlink:href=\"#m7e6e67af0c\" y=\"392.954489\"/>\r\n      </g>\r\n     </g>\r\n     <g id=\"text_31\">\r\n      <!-- 80 -->\r\n      <g transform=\"translate(1229.007274 407.552926)scale(0.1 -0.1)\">\r\n       <use xlink:href=\"#DejaVuSans-38\"/>\r\n       <use x=\"63.623047\" xlink:href=\"#DejaVuSans-30\"/>\r\n      </g>\r\n     </g>\r\n    </g>\r\n    <g id=\"xtick_17\">\r\n     <g id=\"line2d_30\">\r\n      <g>\r\n       <use style=\"stroke:#000000;stroke-width:0.8;\" x=\"1296.516438\" xlink:href=\"#m7e6e67af0c\" y=\"392.954489\"/>\r\n      </g>\r\n     </g>\r\n     <g id=\"text_32\">\r\n      <!-- 100 -->\r\n      <g transform=\"translate(1286.972688 407.552926)scale(0.1 -0.1)\">\r\n       <use xlink:href=\"#DejaVuSans-31\"/>\r\n       <use x=\"63.623047\" xlink:href=\"#DejaVuSans-30\"/>\r\n       <use x=\"127.246094\" xlink:href=\"#DejaVuSans-30\"/>\r\n      </g>\r\n     </g>\r\n    </g>\r\n    <g id=\"xtick_18\">\r\n     <g id=\"line2d_31\">\r\n      <g>\r\n       <use style=\"stroke:#000000;stroke-width:0.8;\" x=\"1357.663103\" xlink:href=\"#m7e6e67af0c\" y=\"392.954489\"/>\r\n      </g>\r\n     </g>\r\n     <g id=\"text_33\">\r\n      <!-- 120 -->\r\n      <g transform=\"translate(1348.119353 407.552926)scale(0.1 -0.1)\">\r\n       <use xlink:href=\"#DejaVuSans-31\"/>\r\n       <use x=\"63.623047\" xlink:href=\"#DejaVuSans-32\"/>\r\n       <use x=\"127.246094\" xlink:href=\"#DejaVuSans-30\"/>\r\n      </g>\r\n     </g>\r\n    </g>\r\n    <g id=\"xtick_19\">\r\n     <g id=\"line2d_32\">\r\n      <g>\r\n       <use style=\"stroke:#000000;stroke-width:0.8;\" x=\"1418.809767\" xlink:href=\"#m7e6e67af0c\" y=\"392.954489\"/>\r\n      </g>\r\n     </g>\r\n     <g id=\"text_34\">\r\n      <!-- 140 -->\r\n      <g transform=\"translate(1409.266017 407.552926)scale(0.1 -0.1)\">\r\n       <use xlink:href=\"#DejaVuSans-31\"/>\r\n       <use x=\"63.623047\" xlink:href=\"#DejaVuSans-34\"/>\r\n       <use x=\"127.246094\" xlink:href=\"#DejaVuSans-30\"/>\r\n      </g>\r\n     </g>\r\n    </g>\r\n   </g>\r\n   <g id=\"matplotlib.axis_6\">\r\n    <g id=\"ytick_14\">\r\n     <g id=\"line2d_33\">\r\n      <g>\r\n       <use style=\"stroke:#000000;stroke-width:0.8;\" x=\"1017.993382\" xlink:href=\"#ma467724af8\" y=\"379.545566\"/>\r\n      </g>\r\n     </g>\r\n     <g id=\"text_35\">\r\n      <!-- 0 -->\r\n      <g transform=\"translate(1004.630882 383.344785)scale(0.1 -0.1)\">\r\n       <use xlink:href=\"#DejaVuSans-30\"/>\r\n      </g>\r\n     </g>\r\n    </g>\r\n    <g id=\"ytick_15\">\r\n     <g id=\"line2d_34\">\r\n      <g>\r\n       <use style=\"stroke:#000000;stroke-width:0.8;\" x=\"1017.993382\" xlink:href=\"#ma467724af8\" y=\"310.781863\"/>\r\n      </g>\r\n     </g>\r\n     <g id=\"text_36\">\r\n      <!-- 20 -->\r\n      <g transform=\"translate(998.268382 314.581081)scale(0.1 -0.1)\">\r\n       <use xlink:href=\"#DejaVuSans-32\"/>\r\n       <use x=\"63.623047\" xlink:href=\"#DejaVuSans-30\"/>\r\n      </g>\r\n     </g>\r\n    </g>\r\n    <g id=\"ytick_16\">\r\n     <g id=\"line2d_35\">\r\n      <g>\r\n       <use style=\"stroke:#000000;stroke-width:0.8;\" x=\"1017.993382\" xlink:href=\"#ma467724af8\" y=\"242.018159\"/>\r\n      </g>\r\n     </g>\r\n     <g id=\"text_37\">\r\n      <!-- 40 -->\r\n      <g transform=\"translate(998.268382 245.817377)scale(0.1 -0.1)\">\r\n       <use xlink:href=\"#DejaVuSans-34\"/>\r\n       <use x=\"63.623047\" xlink:href=\"#DejaVuSans-30\"/>\r\n      </g>\r\n     </g>\r\n    </g>\r\n    <g id=\"ytick_17\">\r\n     <g id=\"line2d_36\">\r\n      <g>\r\n       <use style=\"stroke:#000000;stroke-width:0.8;\" x=\"1017.993382\" xlink:href=\"#ma467724af8\" y=\"173.254455\"/>\r\n      </g>\r\n     </g>\r\n     <g id=\"text_38\">\r\n      <!-- 60 -->\r\n      <g transform=\"translate(998.268382 177.053674)scale(0.1 -0.1)\">\r\n       <use xlink:href=\"#DejaVuSans-36\"/>\r\n       <use x=\"63.623047\" xlink:href=\"#DejaVuSans-30\"/>\r\n      </g>\r\n     </g>\r\n    </g>\r\n    <g id=\"ytick_18\">\r\n     <g id=\"line2d_37\">\r\n      <g>\r\n       <use style=\"stroke:#000000;stroke-width:0.8;\" x=\"1017.993382\" xlink:href=\"#ma467724af8\" y=\"104.490751\"/>\r\n      </g>\r\n     </g>\r\n     <g id=\"text_39\">\r\n      <!-- 80 -->\r\n      <g transform=\"translate(998.268382 108.28997)scale(0.1 -0.1)\">\r\n       <use xlink:href=\"#DejaVuSans-38\"/>\r\n       <use x=\"63.623047\" xlink:href=\"#DejaVuSans-30\"/>\r\n      </g>\r\n     </g>\r\n    </g>\r\n    <g id=\"ytick_19\">\r\n     <g id=\"line2d_38\">\r\n      <g>\r\n       <use style=\"stroke:#000000;stroke-width:0.8;\" x=\"1017.993382\" xlink:href=\"#ma467724af8\" y=\"35.727047\"/>\r\n      </g>\r\n     </g>\r\n     <g id=\"text_40\">\r\n      <!-- 100 -->\r\n      <g transform=\"translate(991.905882 39.526266)scale(0.1 -0.1)\">\r\n       <use xlink:href=\"#DejaVuSans-31\"/>\r\n       <use x=\"63.623047\" xlink:href=\"#DejaVuSans-30\"/>\r\n       <use x=\"127.246094\" xlink:href=\"#DejaVuSans-30\"/>\r\n      </g>\r\n     </g>\r\n    </g>\r\n   </g>\r\n   <g id=\"patch_13\">\r\n    <path d=\"M 1017.993382 392.954489 \r\nL 1017.993382 22.318125 \r\n\" style=\"fill:none;stroke:#000000;stroke-linecap:square;stroke-linejoin:miter;stroke-width:0.8;\"/>\r\n   </g>\r\n   <g id=\"patch_14\">\r\n    <path d=\"M 1428.2875 392.954489 \r\nL 1428.2875 22.318125 \r\n\" style=\"fill:none;stroke:#000000;stroke-linecap:square;stroke-linejoin:miter;stroke-width:0.8;\"/>\r\n   </g>\r\n   <g id=\"patch_15\">\r\n    <path d=\"M 1017.993382 392.954489 \r\nL 1428.2875 392.954489 \r\n\" style=\"fill:none;stroke:#000000;stroke-linecap:square;stroke-linejoin:miter;stroke-width:0.8;\"/>\r\n   </g>\r\n   <g id=\"patch_16\">\r\n    <path d=\"M 1017.993382 22.318125 \r\nL 1428.2875 22.318125 \r\n\" style=\"fill:none;stroke:#000000;stroke-linecap:square;stroke-linejoin:miter;stroke-width:0.8;\"/>\r\n   </g>\r\n   <g id=\"text_41\">\r\n    <!-- Annual Income (k$) - Spending Score (1-100) -->\r\n    <g transform=\"translate(1087.506691 16.318125)scale(0.12 -0.12)\">\r\n     <use xlink:href=\"#DejaVuSans-41\"/>\r\n     <use x=\"68.408203\" xlink:href=\"#DejaVuSans-6e\"/>\r\n     <use x=\"131.787109\" xlink:href=\"#DejaVuSans-6e\"/>\r\n     <use x=\"195.166016\" xlink:href=\"#DejaVuSans-75\"/>\r\n     <use x=\"258.544922\" xlink:href=\"#DejaVuSans-61\"/>\r\n     <use x=\"319.824219\" xlink:href=\"#DejaVuSans-6c\"/>\r\n     <use x=\"347.607422\" xlink:href=\"#DejaVuSans-20\"/>\r\n     <use x=\"379.394531\" xlink:href=\"#DejaVuSans-49\"/>\r\n     <use x=\"408.886719\" xlink:href=\"#DejaVuSans-6e\"/>\r\n     <use x=\"472.265625\" xlink:href=\"#DejaVuSans-63\"/>\r\n     <use x=\"527.246094\" xlink:href=\"#DejaVuSans-6f\"/>\r\n     <use x=\"588.427734\" xlink:href=\"#DejaVuSans-6d\"/>\r\n     <use x=\"685.839844\" xlink:href=\"#DejaVuSans-65\"/>\r\n     <use x=\"747.363281\" xlink:href=\"#DejaVuSans-20\"/>\r\n     <use x=\"779.150391\" xlink:href=\"#DejaVuSans-28\"/>\r\n     <use x=\"818.164062\" xlink:href=\"#DejaVuSans-6b\"/>\r\n     <use x=\"876.074219\" xlink:href=\"#DejaVuSans-24\"/>\r\n     <use x=\"939.697266\" xlink:href=\"#DejaVuSans-29\"/>\r\n     <use x=\"978.710938\" xlink:href=\"#DejaVuSans-20\"/>\r\n     <use x=\"1010.498047\" xlink:href=\"#DejaVuSans-2d\"/>\r\n     <use x=\"1046.582031\" xlink:href=\"#DejaVuSans-20\"/>\r\n     <use x=\"1078.369141\" xlink:href=\"#DejaVuSans-53\"/>\r\n     <use x=\"1141.845703\" xlink:href=\"#DejaVuSans-70\"/>\r\n     <use x=\"1205.322266\" xlink:href=\"#DejaVuSans-65\"/>\r\n     <use x=\"1266.845703\" xlink:href=\"#DejaVuSans-6e\"/>\r\n     <use x=\"1330.224609\" xlink:href=\"#DejaVuSans-64\"/>\r\n     <use x=\"1393.701172\" xlink:href=\"#DejaVuSans-69\"/>\r\n     <use x=\"1421.484375\" xlink:href=\"#DejaVuSans-6e\"/>\r\n     <use x=\"1484.863281\" xlink:href=\"#DejaVuSans-67\"/>\r\n     <use x=\"1548.339844\" xlink:href=\"#DejaVuSans-20\"/>\r\n     <use x=\"1580.126953\" xlink:href=\"#DejaVuSans-53\"/>\r\n     <use x=\"1643.603516\" xlink:href=\"#DejaVuSans-63\"/>\r\n     <use x=\"1698.583984\" xlink:href=\"#DejaVuSans-6f\"/>\r\n     <use x=\"1759.765625\" xlink:href=\"#DejaVuSans-72\"/>\r\n     <use x=\"1798.628906\" xlink:href=\"#DejaVuSans-65\"/>\r\n     <use x=\"1860.152344\" xlink:href=\"#DejaVuSans-20\"/>\r\n     <use x=\"1891.939453\" xlink:href=\"#DejaVuSans-28\"/>\r\n     <use x=\"1930.953125\" xlink:href=\"#DejaVuSans-31\"/>\r\n     <use x=\"1994.576172\" xlink:href=\"#DejaVuSans-2d\"/>\r\n     <use x=\"2030.660156\" xlink:href=\"#DejaVuSans-31\"/>\r\n     <use x=\"2094.283203\" xlink:href=\"#DejaVuSans-30\"/>\r\n     <use x=\"2157.90625\" xlink:href=\"#DejaVuSans-30\"/>\r\n     <use x=\"2221.529297\" xlink:href=\"#DejaVuSans-29\"/>\r\n    </g>\r\n   </g>\r\n  </g>\r\n  <g id=\"axes_4\">\r\n   <g id=\"patch_17\">\r\n    <path d=\"M 33.2875 837.718125 \r\nL 443.581618 837.718125 \r\nL 443.581618 467.081761 \r\nL 33.2875 467.081761 \r\nz\r\n\" style=\"fill:#ffffff;\"/>\r\n   </g>\r\n   <g id=\"PathCollection_4\">\r\n    <g clip-path=\"url(#pd2cb2bfd3e)\">\r\n     <use style=\"fill:#1f77b4;stroke:#1f77b4;\" x=\"51.937233\" xlink:href=\"#m35187518fa\" y=\"814.391361\"/>\r\n     <use style=\"fill:#1f77b4;stroke:#1f77b4;\" x=\"51.937233\" xlink:href=\"#m35187518fa\" y=\"801.432047\"/>\r\n     <use style=\"fill:#1f77b4;stroke:#1f77b4;\" x=\"54.994566\" xlink:href=\"#m35187518fa\" y=\"807.911704\"/>\r\n     <use style=\"fill:#1f77b4;stroke:#1f77b4;\" x=\"54.994566\" xlink:href=\"#m35187518fa\" y=\"788.472734\"/>\r\n     <use style=\"fill:#1f77b4;stroke:#1f77b4;\" x=\"58.051899\" xlink:href=\"#m35187518fa\" y=\"736.63548\"/>\r\n     <use style=\"fill:#1f77b4;stroke:#1f77b4;\" x=\"58.051899\" xlink:href=\"#m35187518fa\" y=\"794.952391\"/>\r\n     <use style=\"fill:#1f77b4;stroke:#1f77b4;\" x=\"61.109232\" xlink:href=\"#m35187518fa\" y=\"710.716854\"/>\r\n     <use style=\"fill:#1f77b4;stroke:#1f77b4;\" x=\"61.109232\" xlink:href=\"#m35187518fa\" y=\"788.472734\"/>\r\n     <use style=\"fill:#1f77b4;stroke:#1f77b4;\" x=\"64.166565\" xlink:href=\"#m35187518fa\" y=\"522.806809\"/>\r\n     <use style=\"fill:#1f77b4;stroke:#1f77b4;\" x=\"64.166565\" xlink:href=\"#m35187518fa\" y=\"743.115137\"/>\r\n     <use style=\"fill:#1f77b4;stroke:#1f77b4;\" x=\"64.166565\" xlink:href=\"#m35187518fa\" y=\"503.367839\"/>\r\n     <use style=\"fill:#1f77b4;stroke:#1f77b4;\" x=\"64.166565\" xlink:href=\"#m35187518fa\" y=\"710.716854\"/>\r\n     <use style=\"fill:#1f77b4;stroke:#1f77b4;\" x=\"67.223899\" xlink:href=\"#m35187518fa\" y=\"561.684749\"/>\r\n     <use style=\"fill:#1f77b4;stroke:#1f77b4;\" x=\"67.223899\" xlink:href=\"#m35187518fa\" y=\"781.993077\"/>\r\n     <use style=\"fill:#1f77b4;stroke:#1f77b4;\" x=\"67.223899\" xlink:href=\"#m35187518fa\" y=\"697.75754\"/>\r\n     <use style=\"fill:#1f77b4;stroke:#1f77b4;\" x=\"67.223899\" xlink:href=\"#m35187518fa\" y=\"794.952391\"/>\r\n     <use style=\"fill:#1f77b4;stroke:#1f77b4;\" x=\"70.281232\" xlink:href=\"#m35187518fa\" y=\"710.716854\"/>\r\n     <use style=\"fill:#1f77b4;stroke:#1f77b4;\" x=\"70.281232\" xlink:href=\"#m35187518fa\" y=\"807.911704\"/>\r\n     <use style=\"fill:#1f77b4;stroke:#1f77b4;\" x=\"76.395898\" xlink:href=\"#m35187518fa\" y=\"600.56269\"/>\r\n     <use style=\"fill:#1f77b4;stroke:#1f77b4;\" x=\"76.395898\" xlink:href=\"#m35187518fa\" y=\"710.716854\"/>\r\n     <use style=\"fill:#1f77b4;stroke:#1f77b4;\" x=\"79.453232\" xlink:href=\"#m35187518fa\" y=\"710.716854\"/>\r\n     <use style=\"fill:#1f77b4;stroke:#1f77b4;\" x=\"79.453232\" xlink:href=\"#m35187518fa\" y=\"775.513421\"/>\r\n     <use style=\"fill:#1f77b4;stroke:#1f77b4;\" x=\"82.510565\" xlink:href=\"#m35187518fa\" y=\"639.44063\"/>\r\n     <use style=\"fill:#1f77b4;stroke:#1f77b4;\" x=\"82.510565\" xlink:href=\"#m35187518fa\" y=\"736.63548\"/>\r\n     <use style=\"fill:#1f77b4;stroke:#1f77b4;\" x=\"91.682564\" xlink:href=\"#m35187518fa\" y=\"587.603376\"/>\r\n     <use style=\"fill:#1f77b4;stroke:#1f77b4;\" x=\"91.682564\" xlink:href=\"#m35187518fa\" y=\"749.594794\"/>\r\n     <use style=\"fill:#1f77b4;stroke:#1f77b4;\" x=\"91.682564\" xlink:href=\"#m35187518fa\" y=\"645.920286\"/>\r\n     <use style=\"fill:#1f77b4;stroke:#1f77b4;\" x=\"91.682564\" xlink:href=\"#m35187518fa\" y=\"710.716854\"/>\r\n     <use style=\"fill:#1f77b4;stroke:#1f77b4;\" x=\"94.739898\" xlink:href=\"#m35187518fa\" y=\"678.31857\"/>\r\n     <use style=\"fill:#1f77b4;stroke:#1f77b4;\" x=\"94.739898\" xlink:href=\"#m35187518fa\" y=\"788.472734\"/>\r\n     <use style=\"fill:#1f77b4;stroke:#1f77b4;\" x=\"97.797231\" xlink:href=\"#m35187518fa\" y=\"548.725436\"/>\r\n     <use style=\"fill:#1f77b4;stroke:#1f77b4;\" x=\"97.797231\" xlink:href=\"#m35187518fa\" y=\"801.432047\"/>\r\n     <use style=\"fill:#1f77b4;stroke:#1f77b4;\" x=\"106.969231\" xlink:href=\"#m35187518fa\" y=\"594.083033\"/>\r\n     <use style=\"fill:#1f77b4;stroke:#1f77b4;\" x=\"106.969231\" xlink:href=\"#m35187518fa\" y=\"820.871018\"/>\r\n     <use style=\"fill:#1f77b4;stroke:#1f77b4;\" x=\"106.969231\" xlink:href=\"#m35187518fa\" y=\"620.00166\"/>\r\n     <use style=\"fill:#1f77b4;stroke:#1f77b4;\" x=\"106.969231\" xlink:href=\"#m35187518fa\" y=\"801.432047\"/>\r\n     <use style=\"fill:#1f77b4;stroke:#1f77b4;\" x=\"110.026564\" xlink:href=\"#m35187518fa\" y=\"665.359257\"/>\r\n     <use style=\"fill:#1f77b4;stroke:#1f77b4;\" x=\"110.026564\" xlink:href=\"#m35187518fa\" y=\"743.115137\"/>\r\n     <use style=\"fill:#1f77b4;stroke:#1f77b4;\" x=\"119.198563\" xlink:href=\"#m35187518fa\" y=\"704.237197\"/>\r\n     <use style=\"fill:#1f77b4;stroke:#1f77b4;\" x=\"119.198563\" xlink:href=\"#m35187518fa\" y=\"807.911704\"/>\r\n     <use style=\"fill:#1f77b4;stroke:#1f77b4;\" x=\"122.255897\" xlink:href=\"#m35187518fa\" y=\"516.327152\"/>\r\n     <use style=\"fill:#1f77b4;stroke:#1f77b4;\" x=\"122.255897\" xlink:href=\"#m35187518fa\" y=\"781.993077\"/>\r\n     <use style=\"fill:#1f77b4;stroke:#1f77b4;\" x=\"125.31323\" xlink:href=\"#m35187518fa\" y=\"626.481316\"/>\r\n     <use style=\"fill:#1f77b4;stroke:#1f77b4;\" x=\"125.31323\" xlink:href=\"#m35187518fa\" y=\"736.63548\"/>\r\n     <use style=\"fill:#1f77b4;stroke:#1f77b4;\" x=\"125.31323\" xlink:href=\"#m35187518fa\" y=\"620.00166\"/>\r\n     <use style=\"fill:#1f77b4;stroke:#1f77b4;\" x=\"125.31323\" xlink:href=\"#m35187518fa\" y=\"781.993077\"/>\r\n     <use style=\"fill:#1f77b4;stroke:#1f77b4;\" x=\"128.370563\" xlink:href=\"#m35187518fa\" y=\"613.522003\"/>\r\n     <use style=\"fill:#1f77b4;stroke:#1f77b4;\" x=\"128.370563\" xlink:href=\"#m35187518fa\" y=\"762.554107\"/>\r\n     <use style=\"fill:#1f77b4;stroke:#1f77b4;\" x=\"128.370563\" xlink:href=\"#m35187518fa\" y=\"749.594794\"/>\r\n     <use style=\"fill:#1f77b4;stroke:#1f77b4;\" x=\"128.370563\" xlink:href=\"#m35187518fa\" y=\"736.63548\"/>\r\n     <use style=\"fill:#1f77b4;stroke:#1f77b4;\" x=\"134.485229\" xlink:href=\"#m35187518fa\" y=\"620.00166\"/>\r\n     <use style=\"fill:#1f77b4;stroke:#1f77b4;\" x=\"134.485229\" xlink:href=\"#m35187518fa\" y=\"723.676167\"/>\r\n     <use style=\"fill:#1f77b4;stroke:#1f77b4;\" x=\"137.542563\" xlink:href=\"#m35187518fa\" y=\"736.63548\"/>\r\n     <use style=\"fill:#1f77b4;stroke:#1f77b4;\" x=\"137.542563\" xlink:href=\"#m35187518fa\" y=\"555.205093\"/>\r\n     <use style=\"fill:#1f77b4;stroke:#1f77b4;\" x=\"137.542563\" xlink:href=\"#m35187518fa\" y=\"613.522003\"/>\r\n     <use style=\"fill:#1f77b4;stroke:#1f77b4;\" x=\"137.542563\" xlink:href=\"#m35187518fa\" y=\"632.960973\"/>\r\n     <use style=\"fill:#1f77b4;stroke:#1f77b4;\" x=\"140.599896\" xlink:href=\"#m35187518fa\" y=\"607.042346\"/>\r\n     <use style=\"fill:#1f77b4;stroke:#1f77b4;\" x=\"140.599896\" xlink:href=\"#m35187518fa\" y=\"490.408526\"/>\r\n     <use style=\"fill:#1f77b4;stroke:#1f77b4;\" x=\"146.714562\" xlink:href=\"#m35187518fa\" y=\"762.554107\"/>\r\n     <use style=\"fill:#1f77b4;stroke:#1f77b4;\" x=\"146.714562\" xlink:href=\"#m35187518fa\" y=\"594.083033\"/>\r\n     <use style=\"fill:#1f77b4;stroke:#1f77b4;\" x=\"146.714562\" xlink:href=\"#m35187518fa\" y=\"483.928869\"/>\r\n     <use style=\"fill:#1f77b4;stroke:#1f77b4;\" x=\"146.714562\" xlink:href=\"#m35187518fa\" y=\"814.391361\"/>\r\n     <use style=\"fill:#1f77b4;stroke:#1f77b4;\" x=\"149.771896\" xlink:href=\"#m35187518fa\" y=\"503.367839\"/>\r\n     <use style=\"fill:#1f77b4;stroke:#1f77b4;\" x=\"149.771896\" xlink:href=\"#m35187518fa\" y=\"587.603376\"/>\r\n     <use style=\"fill:#1f77b4;stroke:#1f77b4;\" x=\"152.829229\" xlink:href=\"#m35187518fa\" y=\"529.286466\"/>\r\n     <use style=\"fill:#1f77b4;stroke:#1f77b4;\" x=\"152.829229\" xlink:href=\"#m35187518fa\" y=\"820.871018\"/>\r\n     <use style=\"fill:#1f77b4;stroke:#1f77b4;\" x=\"152.829229\" xlink:href=\"#m35187518fa\" y=\"658.8796\"/>\r\n     <use style=\"fill:#1f77b4;stroke:#1f77b4;\" x=\"152.829229\" xlink:href=\"#m35187518fa\" y=\"496.888182\"/>\r\n     <use style=\"fill:#1f77b4;stroke:#1f77b4;\" x=\"152.829229\" xlink:href=\"#m35187518fa\" y=\"814.391361\"/>\r\n     <use style=\"fill:#1f77b4;stroke:#1f77b4;\" x=\"152.829229\" xlink:href=\"#m35187518fa\" y=\"730.155824\"/>\r\n     <use style=\"fill:#1f77b4;stroke:#1f77b4;\" x=\"155.886562\" xlink:href=\"#m35187518fa\" y=\"483.928869\"/>\r\n     <use style=\"fill:#1f77b4;stroke:#1f77b4;\" x=\"155.886562\" xlink:href=\"#m35187518fa\" y=\"632.960973\"/>\r\n     <use style=\"fill:#1f77b4;stroke:#1f77b4;\" x=\"158.943895\" xlink:href=\"#m35187518fa\" y=\"548.725436\"/>\r\n     <use style=\"fill:#1f77b4;stroke:#1f77b4;\" x=\"158.943895\" xlink:href=\"#m35187518fa\" y=\"548.725436\"/>\r\n     <use style=\"fill:#1f77b4;stroke:#1f77b4;\" x=\"171.173228\" xlink:href=\"#m35187518fa\" y=\"555.205093\"/>\r\n     <use style=\"fill:#1f77b4;stroke:#1f77b4;\" x=\"171.173228\" xlink:href=\"#m35187518fa\" y=\"769.033764\"/>\r\n     <use style=\"fill:#1f77b4;stroke:#1f77b4;\" x=\"171.173228\" xlink:href=\"#m35187518fa\" y=\"645.920286\"/>\r\n     <use style=\"fill:#1f77b4;stroke:#1f77b4;\" x=\"171.173228\" xlink:href=\"#m35187518fa\" y=\"678.31857\"/>\r\n     <use style=\"fill:#1f77b4;stroke:#1f77b4;\" x=\"171.173228\" xlink:href=\"#m35187518fa\" y=\"788.472734\"/>\r\n     <use style=\"fill:#1f77b4;stroke:#1f77b4;\" x=\"171.173228\" xlink:href=\"#m35187518fa\" y=\"620.00166\"/>\r\n     <use style=\"fill:#1f77b4;stroke:#1f77b4;\" x=\"171.173228\" xlink:href=\"#m35187518fa\" y=\"568.164406\"/>\r\n     <use style=\"fill:#1f77b4;stroke:#1f77b4;\" x=\"171.173228\" xlink:href=\"#m35187518fa\" y=\"691.277883\"/>\r\n     <use style=\"fill:#1f77b4;stroke:#1f77b4;\" x=\"171.173228\" xlink:href=\"#m35187518fa\" y=\"503.367839\"/>\r\n     <use style=\"fill:#1f77b4;stroke:#1f77b4;\" x=\"171.173228\" xlink:href=\"#m35187518fa\" y=\"639.44063\"/>\r\n     <use style=\"fill:#1f77b4;stroke:#1f77b4;\" x=\"171.173228\" xlink:href=\"#m35187518fa\" y=\"801.432047\"/>\r\n     <use style=\"fill:#1f77b4;stroke:#1f77b4;\" x=\"171.173228\" xlink:href=\"#m35187518fa\" y=\"626.481316\"/>\r\n     <use style=\"fill:#1f77b4;stroke:#1f77b4;\" x=\"180.345228\" xlink:href=\"#m35187518fa\" y=\"581.123719\"/>\r\n     <use style=\"fill:#1f77b4;stroke:#1f77b4;\" x=\"180.345228\" xlink:href=\"#m35187518fa\" y=\"794.952391\"/>\r\n     <use style=\"fill:#1f77b4;stroke:#1f77b4;\" x=\"183.402561\" xlink:href=\"#m35187518fa\" y=\"717.19651\"/>\r\n     <use style=\"fill:#1f77b4;stroke:#1f77b4;\" x=\"183.402561\" xlink:href=\"#m35187518fa\" y=\"613.522003\"/>\r\n     <use style=\"fill:#1f77b4;stroke:#1f77b4;\" x=\"186.459894\" xlink:href=\"#m35187518fa\" y=\"496.888182\"/>\r\n     <use style=\"fill:#1f77b4;stroke:#1f77b4;\" x=\"186.459894\" xlink:href=\"#m35187518fa\" y=\"820.871018\"/>\r\n     <use style=\"fill:#1f77b4;stroke:#1f77b4;\" x=\"189.517227\" xlink:href=\"#m35187518fa\" y=\"626.481316\"/>\r\n     <use style=\"fill:#1f77b4;stroke:#1f77b4;\" x=\"189.517227\" xlink:href=\"#m35187518fa\" y=\"678.31857\"/>\r\n     <use style=\"fill:#1f77b4;stroke:#1f77b4;\" x=\"189.517227\" xlink:href=\"#m35187518fa\" y=\"730.155824\"/>\r\n     <use style=\"fill:#1f77b4;stroke:#1f77b4;\" x=\"189.517227\" xlink:href=\"#m35187518fa\" y=\"781.993077\"/>\r\n     <use style=\"fill:#1f77b4;stroke:#1f77b4;\" x=\"189.517227\" xlink:href=\"#m35187518fa\" y=\"632.960973\"/>\r\n     <use style=\"fill:#1f77b4;stroke:#1f77b4;\" x=\"189.517227\" xlink:href=\"#m35187518fa\" y=\"762.554107\"/>\r\n     <use style=\"fill:#1f77b4;stroke:#1f77b4;\" x=\"192.574561\" xlink:href=\"#m35187518fa\" y=\"626.481316\"/>\r\n     <use style=\"fill:#1f77b4;stroke:#1f77b4;\" x=\"192.574561\" xlink:href=\"#m35187518fa\" y=\"807.911704\"/>\r\n     <use style=\"fill:#1f77b4;stroke:#1f77b4;\" x=\"195.631894\" xlink:href=\"#m35187518fa\" y=\"788.472734\"/>\r\n     <use style=\"fill:#1f77b4;stroke:#1f77b4;\" x=\"195.631894\" xlink:href=\"#m35187518fa\" y=\"620.00166\"/>\r\n     <use style=\"fill:#1f77b4;stroke:#1f77b4;\" x=\"195.631894\" xlink:href=\"#m35187518fa\" y=\"503.367839\"/>\r\n     <use style=\"fill:#1f77b4;stroke:#1f77b4;\" x=\"195.631894\" xlink:href=\"#m35187518fa\" y=\"769.033764\"/>\r\n     <use style=\"fill:#1f77b4;stroke:#1f77b4;\" x=\"195.631894\" xlink:href=\"#m35187518fa\" y=\"620.00166\"/>\r\n     <use style=\"fill:#1f77b4;stroke:#1f77b4;\" x=\"195.631894\" xlink:href=\"#m35187518fa\" y=\"801.432047\"/>\r\n     <use style=\"fill:#1f77b4;stroke:#1f77b4;\" x=\"198.689227\" xlink:href=\"#m35187518fa\" y=\"509.847496\"/>\r\n     <use style=\"fill:#1f77b4;stroke:#1f77b4;\" x=\"198.689227\" xlink:href=\"#m35187518fa\" y=\"587.603376\"/>\r\n     <use style=\"fill:#1f77b4;stroke:#1f77b4;\" x=\"198.689227\" xlink:href=\"#m35187518fa\" y=\"496.888182\"/>\r\n     <use style=\"fill:#1f77b4;stroke:#1f77b4;\" x=\"198.689227\" xlink:href=\"#m35187518fa\" y=\"509.847496\"/>\r\n     <use style=\"fill:#1f77b4;stroke:#1f77b4;\" x=\"198.689227\" xlink:href=\"#m35187518fa\" y=\"516.327152\"/>\r\n     <use style=\"fill:#1f77b4;stroke:#1f77b4;\" x=\"198.689227\" xlink:href=\"#m35187518fa\" y=\"814.391361\"/>\r\n     <use style=\"fill:#1f77b4;stroke:#1f77b4;\" x=\"201.74656\" xlink:href=\"#m35187518fa\" y=\"691.277883\"/>\r\n     <use style=\"fill:#1f77b4;stroke:#1f77b4;\" x=\"201.74656\" xlink:href=\"#m35187518fa\" y=\"814.391361\"/>\r\n     <use style=\"fill:#1f77b4;stroke:#1f77b4;\" x=\"204.803893\" xlink:href=\"#m35187518fa\" y=\"820.871018\"/>\r\n     <use style=\"fill:#1f77b4;stroke:#1f77b4;\" x=\"204.803893\" xlink:href=\"#m35187518fa\" y=\"814.391361\"/>\r\n     <use style=\"fill:#1f77b4;stroke:#1f77b4;\" x=\"204.803893\" xlink:href=\"#m35187518fa\" y=\"529.286466\"/>\r\n     <use style=\"fill:#1f77b4;stroke:#1f77b4;\" x=\"204.803893\" xlink:href=\"#m35187518fa\" y=\"620.00166\"/>\r\n     <use style=\"fill:#1f77b4;stroke:#1f77b4;\" x=\"210.91856\" xlink:href=\"#m35187518fa\" y=\"607.042346\"/>\r\n     <use style=\"fill:#1f77b4;stroke:#1f77b4;\" x=\"210.91856\" xlink:href=\"#m35187518fa\" y=\"613.522003\"/>\r\n     <use style=\"fill:#1f77b4;stroke:#1f77b4;\" x=\"210.91856\" xlink:href=\"#m35187518fa\" y=\"762.554107\"/>\r\n     <use style=\"fill:#1f77b4;stroke:#1f77b4;\" x=\"210.91856\" xlink:href=\"#m35187518fa\" y=\"691.277883\"/>\r\n     <use style=\"fill:#1f77b4;stroke:#1f77b4;\" x=\"217.033226\" xlink:href=\"#m35187518fa\" y=\"678.31857\"/>\r\n     <use style=\"fill:#1f77b4;stroke:#1f77b4;\" x=\"217.033226\" xlink:href=\"#m35187518fa\" y=\"684.798227\"/>\r\n     <use style=\"fill:#1f77b4;stroke:#1f77b4;\" x=\"220.09056\" xlink:href=\"#m35187518fa\" y=\"788.472734\"/>\r\n     <use style=\"fill:#1f77b4;stroke:#1f77b4;\" x=\"220.09056\" xlink:href=\"#m35187518fa\" y=\"736.63548\"/>\r\n     <use style=\"fill:#1f77b4;stroke:#1f77b4;\" x=\"223.147893\" xlink:href=\"#m35187518fa\" y=\"658.8796\"/>\r\n     <use style=\"fill:#1f77b4;stroke:#1f77b4;\" x=\"223.147893\" xlink:href=\"#m35187518fa\" y=\"678.31857\"/>\r\n     <use style=\"fill:#1f77b4;stroke:#1f77b4;\" x=\"223.147893\" xlink:href=\"#m35187518fa\" y=\"555.205093\"/>\r\n     <use style=\"fill:#1f77b4;stroke:#1f77b4;\" x=\"223.147893\" xlink:href=\"#m35187518fa\" y=\"691.277883\"/>\r\n     <use style=\"fill:#1f77b4;stroke:#1f77b4;\" x=\"223.147893\" xlink:href=\"#m35187518fa\" y=\"632.960973\"/>\r\n     <use style=\"fill:#1f77b4;stroke:#1f77b4;\" x=\"223.147893\" xlink:href=\"#m35187518fa\" y=\"684.798227\"/>\r\n     <use style=\"fill:#1f77b4;stroke:#1f77b4;\" x=\"226.205226\" xlink:href=\"#m35187518fa\" y=\"775.513421\"/>\r\n     <use style=\"fill:#1f77b4;stroke:#1f77b4;\" x=\"226.205226\" xlink:href=\"#m35187518fa\" y=\"736.63548\"/>\r\n     <use style=\"fill:#1f77b4;stroke:#1f77b4;\" x=\"229.262559\" xlink:href=\"#m35187518fa\" y=\"807.911704\"/>\r\n     <use style=\"fill:#1f77b4;stroke:#1f77b4;\" x=\"229.262559\" xlink:href=\"#m35187518fa\" y=\"749.594794\"/>\r\n     <use style=\"fill:#1f77b4;stroke:#1f77b4;\" x=\"229.262559\" xlink:href=\"#m35187518fa\" y=\"652.399943\"/>\r\n     <use style=\"fill:#1f77b4;stroke:#1f77b4;\" x=\"229.262559\" xlink:href=\"#m35187518fa\" y=\"730.155824\"/>\r\n     <use style=\"fill:#1f77b4;stroke:#1f77b4;\" x=\"232.319892\" xlink:href=\"#m35187518fa\" y=\"814.391361\"/>\r\n     <use style=\"fill:#1f77b4;stroke:#1f77b4;\" x=\"232.319892\" xlink:href=\"#m35187518fa\" y=\"710.716854\"/>\r\n     <use style=\"fill:#1f77b4;stroke:#1f77b4;\" x=\"235.377226\" xlink:href=\"#m35187518fa\" y=\"568.164406\"/>\r\n     <use style=\"fill:#1f77b4;stroke:#1f77b4;\" x=\"235.377226\" xlink:href=\"#m35187518fa\" y=\"730.155824\"/>\r\n     <use style=\"fill:#1f77b4;stroke:#1f77b4;\" x=\"238.434559\" xlink:href=\"#m35187518fa\" y=\"756.07445\"/>\r\n     <use style=\"fill:#1f77b4;stroke:#1f77b4;\" x=\"238.434559\" xlink:href=\"#m35187518fa\" y=\"730.155824\"/>\r\n     <use style=\"fill:#1f77b4;stroke:#1f77b4;\" x=\"241.491892\" xlink:href=\"#m35187518fa\" y=\"775.513421\"/>\r\n     <use style=\"fill:#1f77b4;stroke:#1f77b4;\" x=\"241.491892\" xlink:href=\"#m35187518fa\" y=\"756.07445\"/>\r\n     <use style=\"fill:#1f77b4;stroke:#1f77b4;\" x=\"241.491892\" xlink:href=\"#m35187518fa\" y=\"626.481316\"/>\r\n     <use style=\"fill:#1f77b4;stroke:#1f77b4;\" x=\"241.491892\" xlink:href=\"#m35187518fa\" y=\"730.155824\"/>\r\n     <use style=\"fill:#1f77b4;stroke:#1f77b4;\" x=\"244.549225\" xlink:href=\"#m35187518fa\" y=\"717.19651\"/>\r\n     <use style=\"fill:#1f77b4;stroke:#1f77b4;\" x=\"244.549225\" xlink:href=\"#m35187518fa\" y=\"717.19651\"/>\r\n     <use style=\"fill:#1f77b4;stroke:#1f77b4;\" x=\"244.549225\" xlink:href=\"#m35187518fa\" y=\"658.8796\"/>\r\n     <use style=\"fill:#1f77b4;stroke:#1f77b4;\" x=\"244.549225\" xlink:href=\"#m35187518fa\" y=\"684.798227\"/>\r\n     <use style=\"fill:#1f77b4;stroke:#1f77b4;\" x=\"244.549225\" xlink:href=\"#m35187518fa\" y=\"652.399943\"/>\r\n     <use style=\"fill:#1f77b4;stroke:#1f77b4;\" x=\"244.549225\" xlink:href=\"#m35187518fa\" y=\"691.277883\"/>\r\n     <use style=\"fill:#1f77b4;stroke:#1f77b4;\" x=\"244.549225\" xlink:href=\"#m35187518fa\" y=\"632.960973\"/>\r\n     <use style=\"fill:#1f77b4;stroke:#1f77b4;\" x=\"244.549225\" xlink:href=\"#m35187518fa\" y=\"762.554107\"/>\r\n     <use style=\"fill:#1f77b4;stroke:#1f77b4;\" x=\"244.549225\" xlink:href=\"#m35187518fa\" y=\"697.75754\"/>\r\n     <use style=\"fill:#1f77b4;stroke:#1f77b4;\" x=\"244.549225\" xlink:href=\"#m35187518fa\" y=\"743.115137\"/>\r\n     <use style=\"fill:#1f77b4;stroke:#1f77b4;\" x=\"244.549225\" xlink:href=\"#m35187518fa\" y=\"717.19651\"/>\r\n     <use style=\"fill:#1f77b4;stroke:#1f77b4;\" x=\"244.549225\" xlink:href=\"#m35187518fa\" y=\"743.115137\"/>\r\n     <use style=\"fill:#1f77b4;stroke:#1f77b4;\" x=\"247.606558\" xlink:href=\"#m35187518fa\" y=\"574.644063\"/>\r\n     <use style=\"fill:#1f77b4;stroke:#1f77b4;\" x=\"247.606558\" xlink:href=\"#m35187518fa\" y=\"749.594794\"/>\r\n     <use style=\"fill:#1f77b4;stroke:#1f77b4;\" x=\"253.721225\" xlink:href=\"#m35187518fa\" y=\"814.391361\"/>\r\n     <use style=\"fill:#1f77b4;stroke:#1f77b4;\" x=\"253.721225\" xlink:href=\"#m35187518fa\" y=\"736.63548\"/>\r\n     <use style=\"fill:#1f77b4;stroke:#1f77b4;\" x=\"265.950558\" xlink:href=\"#m35187518fa\" y=\"613.522003\"/>\r\n     <use style=\"fill:#1f77b4;stroke:#1f77b4;\" x=\"265.950558\" xlink:href=\"#m35187518fa\" y=\"704.237197\"/>\r\n     <use style=\"fill:#1f77b4;stroke:#1f77b4;\" x=\"269.007891\" xlink:href=\"#m35187518fa\" y=\"665.359257\"/>\r\n     <use style=\"fill:#1f77b4;stroke:#1f77b4;\" x=\"269.007891\" xlink:href=\"#m35187518fa\" y=\"723.676167\"/>\r\n     <use style=\"fill:#1f77b4;stroke:#1f77b4;\" x=\"272.065224\" xlink:href=\"#m35187518fa\" y=\"704.237197\"/>\r\n     <use style=\"fill:#1f77b4;stroke:#1f77b4;\" x=\"272.065224\" xlink:href=\"#m35187518fa\" y=\"730.155824\"/>\r\n     <use style=\"fill:#1f77b4;stroke:#1f77b4;\" x=\"272.065224\" xlink:href=\"#m35187518fa\" y=\"678.31857\"/>\r\n     <use style=\"fill:#1f77b4;stroke:#1f77b4;\" x=\"272.065224\" xlink:href=\"#m35187518fa\" y=\"756.07445\"/>\r\n     <use style=\"fill:#1f77b4;stroke:#1f77b4;\" x=\"272.065224\" xlink:href=\"#m35187518fa\" y=\"704.237197\"/>\r\n     <use style=\"fill:#1f77b4;stroke:#1f77b4;\" x=\"272.065224\" xlink:href=\"#m35187518fa\" y=\"704.237197\"/>\r\n     <use style=\"fill:#1f77b4;stroke:#1f77b4;\" x=\"275.122557\" xlink:href=\"#m35187518fa\" y=\"600.56269\"/>\r\n     <use style=\"fill:#1f77b4;stroke:#1f77b4;\" x=\"275.122557\" xlink:href=\"#m35187518fa\" y=\"743.115137\"/>\r\n     <use style=\"fill:#1f77b4;stroke:#1f77b4;\" x=\"275.122557\" xlink:href=\"#m35187518fa\" y=\"561.684749\"/>\r\n     <use style=\"fill:#1f77b4;stroke:#1f77b4;\" x=\"275.122557\" xlink:href=\"#m35187518fa\" y=\"762.554107\"/>\r\n     <use style=\"fill:#1f77b4;stroke:#1f77b4;\" x=\"290.409224\" xlink:href=\"#m35187518fa\" y=\"555.205093\"/>\r\n     <use style=\"fill:#1f77b4;stroke:#1f77b4;\" x=\"290.409224\" xlink:href=\"#m35187518fa\" y=\"710.716854\"/>\r\n     <use style=\"fill:#1f77b4;stroke:#1f77b4;\" x=\"302.638556\" xlink:href=\"#m35187518fa\" y=\"697.75754\"/>\r\n     <use style=\"fill:#1f77b4;stroke:#1f77b4;\" x=\"302.638556\" xlink:href=\"#m35187518fa\" y=\"730.155824\"/>\r\n     <use style=\"fill:#1f77b4;stroke:#1f77b4;\" x=\"305.69589\" xlink:href=\"#m35187518fa\" y=\"639.44063\"/>\r\n     <use style=\"fill:#1f77b4;stroke:#1f77b4;\" x=\"305.69589\" xlink:href=\"#m35187518fa\" y=\"749.594794\"/>\r\n     <use style=\"fill:#1f77b4;stroke:#1f77b4;\" x=\"308.753223\" xlink:href=\"#m35187518fa\" y=\"671.838913\"/>\r\n     <use style=\"fill:#1f77b4;stroke:#1f77b4;\" x=\"308.753223\" xlink:href=\"#m35187518fa\" y=\"743.115137\"/>\r\n     <use style=\"fill:#1f77b4;stroke:#1f77b4;\" x=\"314.867889\" xlink:href=\"#m35187518fa\" y=\"587.603376\"/>\r\n     <use style=\"fill:#1f77b4;stroke:#1f77b4;\" x=\"314.867889\" xlink:href=\"#m35187518fa\" y=\"756.07445\"/>\r\n     <use style=\"fill:#1f77b4;stroke:#1f77b4;\" x=\"320.982556\" xlink:href=\"#m35187518fa\" y=\"671.838913\"/>\r\n     <use style=\"fill:#1f77b4;stroke:#1f77b4;\" x=\"320.982556\" xlink:href=\"#m35187518fa\" y=\"704.237197\"/>\r\n     <use style=\"fill:#1f77b4;stroke:#1f77b4;\" x=\"320.982556\" xlink:href=\"#m35187518fa\" y=\"717.19651\"/>\r\n     <use style=\"fill:#1f77b4;stroke:#1f77b4;\" x=\"320.982556\" xlink:href=\"#m35187518fa\" y=\"730.155824\"/>\r\n     <use style=\"fill:#1f77b4;stroke:#1f77b4;\" x=\"351.555888\" xlink:href=\"#m35187518fa\" y=\"723.676167\"/>\r\n     <use style=\"fill:#1f77b4;stroke:#1f77b4;\" x=\"351.555888\" xlink:href=\"#m35187518fa\" y=\"691.277883\"/>\r\n     <use style=\"fill:#1f77b4;stroke:#1f77b4;\" x=\"372.95722\" xlink:href=\"#m35187518fa\" y=\"632.960973\"/>\r\n     <use style=\"fill:#1f77b4;stroke:#1f77b4;\" x=\"372.95722\" xlink:href=\"#m35187518fa\" y=\"710.716854\"/>\r\n     <use style=\"fill:#1f77b4;stroke:#1f77b4;\" x=\"391.30122\" xlink:href=\"#m35187518fa\" y=\"645.920286\"/>\r\n     <use style=\"fill:#1f77b4;stroke:#1f77b4;\" x=\"391.30122\" xlink:href=\"#m35187518fa\" y=\"730.155824\"/>\r\n     <use style=\"fill:#1f77b4;stroke:#1f77b4;\" x=\"424.931885\" xlink:href=\"#m35187518fa\" y=\"730.155824\"/>\r\n     <use style=\"fill:#1f77b4;stroke:#1f77b4;\" x=\"424.931885\" xlink:href=\"#m35187518fa\" y=\"743.115137\"/>\r\n    </g>\r\n   </g>\r\n   <g id=\"matplotlib.axis_7\">\r\n    <g id=\"xtick_20\">\r\n     <g id=\"line2d_39\">\r\n      <g>\r\n       <use style=\"stroke:#000000;stroke-width:0.8;\" x=\"67.223899\" xlink:href=\"#m7e6e67af0c\" y=\"837.718125\"/>\r\n      </g>\r\n     </g>\r\n     <g id=\"text_42\">\r\n      <!-- 20 -->\r\n      <g transform=\"translate(60.861399 852.316562)scale(0.1 -0.1)\">\r\n       <use xlink:href=\"#DejaVuSans-32\"/>\r\n       <use x=\"63.623047\" xlink:href=\"#DejaVuSans-30\"/>\r\n      </g>\r\n     </g>\r\n    </g>\r\n    <g id=\"xtick_21\">\r\n     <g id=\"line2d_40\">\r\n      <g>\r\n       <use style=\"stroke:#000000;stroke-width:0.8;\" x=\"128.370563\" xlink:href=\"#m7e6e67af0c\" y=\"837.718125\"/>\r\n      </g>\r\n     </g>\r\n     <g id=\"text_43\">\r\n      <!-- 40 -->\r\n      <g transform=\"translate(122.008063 852.316562)scale(0.1 -0.1)\">\r\n       <use xlink:href=\"#DejaVuSans-34\"/>\r\n       <use x=\"63.623047\" xlink:href=\"#DejaVuSans-30\"/>\r\n      </g>\r\n     </g>\r\n    </g>\r\n    <g id=\"xtick_22\">\r\n     <g id=\"line2d_41\">\r\n      <g>\r\n       <use style=\"stroke:#000000;stroke-width:0.8;\" x=\"189.517227\" xlink:href=\"#m7e6e67af0c\" y=\"837.718125\"/>\r\n      </g>\r\n     </g>\r\n     <g id=\"text_44\">\r\n      <!-- 60 -->\r\n      <g transform=\"translate(183.154727 852.316562)scale(0.1 -0.1)\">\r\n       <use xlink:href=\"#DejaVuSans-36\"/>\r\n       <use x=\"63.623047\" xlink:href=\"#DejaVuSans-30\"/>\r\n      </g>\r\n     </g>\r\n    </g>\r\n    <g id=\"xtick_23\">\r\n     <g id=\"line2d_42\">\r\n      <g>\r\n       <use style=\"stroke:#000000;stroke-width:0.8;\" x=\"250.663892\" xlink:href=\"#m7e6e67af0c\" y=\"837.718125\"/>\r\n      </g>\r\n     </g>\r\n     <g id=\"text_45\">\r\n      <!-- 80 -->\r\n      <g transform=\"translate(244.301392 852.316562)scale(0.1 -0.1)\">\r\n       <use xlink:href=\"#DejaVuSans-38\"/>\r\n       <use x=\"63.623047\" xlink:href=\"#DejaVuSans-30\"/>\r\n      </g>\r\n     </g>\r\n    </g>\r\n    <g id=\"xtick_24\">\r\n     <g id=\"line2d_43\">\r\n      <g>\r\n       <use style=\"stroke:#000000;stroke-width:0.8;\" x=\"311.810556\" xlink:href=\"#m7e6e67af0c\" y=\"837.718125\"/>\r\n      </g>\r\n     </g>\r\n     <g id=\"text_46\">\r\n      <!-- 100 -->\r\n      <g transform=\"translate(302.266806 852.316562)scale(0.1 -0.1)\">\r\n       <use xlink:href=\"#DejaVuSans-31\"/>\r\n       <use x=\"63.623047\" xlink:href=\"#DejaVuSans-30\"/>\r\n       <use x=\"127.246094\" xlink:href=\"#DejaVuSans-30\"/>\r\n      </g>\r\n     </g>\r\n    </g>\r\n    <g id=\"xtick_25\">\r\n     <g id=\"line2d_44\">\r\n      <g>\r\n       <use style=\"stroke:#000000;stroke-width:0.8;\" x=\"372.95722\" xlink:href=\"#m7e6e67af0c\" y=\"837.718125\"/>\r\n      </g>\r\n     </g>\r\n     <g id=\"text_47\">\r\n      <!-- 120 -->\r\n      <g transform=\"translate(363.41347 852.316562)scale(0.1 -0.1)\">\r\n       <use xlink:href=\"#DejaVuSans-31\"/>\r\n       <use x=\"63.623047\" xlink:href=\"#DejaVuSans-32\"/>\r\n       <use x=\"127.246094\" xlink:href=\"#DejaVuSans-30\"/>\r\n      </g>\r\n     </g>\r\n    </g>\r\n    <g id=\"xtick_26\">\r\n     <g id=\"line2d_45\">\r\n      <g>\r\n       <use style=\"stroke:#000000;stroke-width:0.8;\" x=\"434.103885\" xlink:href=\"#m7e6e67af0c\" y=\"837.718125\"/>\r\n      </g>\r\n     </g>\r\n     <g id=\"text_48\">\r\n      <!-- 140 -->\r\n      <g transform=\"translate(424.560135 852.316562)scale(0.1 -0.1)\">\r\n       <use xlink:href=\"#DejaVuSans-31\"/>\r\n       <use x=\"63.623047\" xlink:href=\"#DejaVuSans-34\"/>\r\n       <use x=\"127.246094\" xlink:href=\"#DejaVuSans-30\"/>\r\n      </g>\r\n     </g>\r\n    </g>\r\n   </g>\r\n   <g id=\"matplotlib.axis_8\">\r\n    <g id=\"ytick_20\">\r\n     <g id=\"line2d_46\">\r\n      <g>\r\n       <use style=\"stroke:#000000;stroke-width:0.8;\" x=\"33.2875\" xlink:href=\"#ma467724af8\" y=\"807.911704\"/>\r\n      </g>\r\n     </g>\r\n     <g id=\"text_49\">\r\n      <!-- 20 -->\r\n      <g transform=\"translate(13.5625 811.710923)scale(0.1 -0.1)\">\r\n       <use xlink:href=\"#DejaVuSans-32\"/>\r\n       <use x=\"63.623047\" xlink:href=\"#DejaVuSans-30\"/>\r\n      </g>\r\n     </g>\r\n    </g>\r\n    <g id=\"ytick_21\">\r\n     <g id=\"line2d_47\">\r\n      <g>\r\n       <use style=\"stroke:#000000;stroke-width:0.8;\" x=\"33.2875\" xlink:href=\"#ma467724af8\" y=\"743.115137\"/>\r\n      </g>\r\n     </g>\r\n     <g id=\"text_50\">\r\n      <!-- 30 -->\r\n      <g transform=\"translate(13.5625 746.914356)scale(0.1 -0.1)\">\r\n       <use xlink:href=\"#DejaVuSans-33\"/>\r\n       <use x=\"63.623047\" xlink:href=\"#DejaVuSans-30\"/>\r\n      </g>\r\n     </g>\r\n    </g>\r\n    <g id=\"ytick_22\">\r\n     <g id=\"line2d_48\">\r\n      <g>\r\n       <use style=\"stroke:#000000;stroke-width:0.8;\" x=\"33.2875\" xlink:href=\"#ma467724af8\" y=\"678.31857\"/>\r\n      </g>\r\n     </g>\r\n     <g id=\"text_51\">\r\n      <!-- 40 -->\r\n      <g transform=\"translate(13.5625 682.117789)scale(0.1 -0.1)\">\r\n       <use xlink:href=\"#DejaVuSans-34\"/>\r\n       <use x=\"63.623047\" xlink:href=\"#DejaVuSans-30\"/>\r\n      </g>\r\n     </g>\r\n    </g>\r\n    <g id=\"ytick_23\">\r\n     <g id=\"line2d_49\">\r\n      <g>\r\n       <use style=\"stroke:#000000;stroke-width:0.8;\" x=\"33.2875\" xlink:href=\"#ma467724af8\" y=\"613.522003\"/>\r\n      </g>\r\n     </g>\r\n     <g id=\"text_52\">\r\n      <!-- 50 -->\r\n      <g transform=\"translate(13.5625 617.321222)scale(0.1 -0.1)\">\r\n       <use xlink:href=\"#DejaVuSans-35\"/>\r\n       <use x=\"63.623047\" xlink:href=\"#DejaVuSans-30\"/>\r\n      </g>\r\n     </g>\r\n    </g>\r\n    <g id=\"ytick_24\">\r\n     <g id=\"line2d_50\">\r\n      <g>\r\n       <use style=\"stroke:#000000;stroke-width:0.8;\" x=\"33.2875\" xlink:href=\"#ma467724af8\" y=\"548.725436\"/>\r\n      </g>\r\n     </g>\r\n     <g id=\"text_53\">\r\n      <!-- 60 -->\r\n      <g transform=\"translate(13.5625 552.524655)scale(0.1 -0.1)\">\r\n       <use xlink:href=\"#DejaVuSans-36\"/>\r\n       <use x=\"63.623047\" xlink:href=\"#DejaVuSans-30\"/>\r\n      </g>\r\n     </g>\r\n    </g>\r\n    <g id=\"ytick_25\">\r\n     <g id=\"line2d_51\">\r\n      <g>\r\n       <use style=\"stroke:#000000;stroke-width:0.8;\" x=\"33.2875\" xlink:href=\"#ma467724af8\" y=\"483.928869\"/>\r\n      </g>\r\n     </g>\r\n     <g id=\"text_54\">\r\n      <!-- 70 -->\r\n      <g transform=\"translate(13.5625 487.728088)scale(0.1 -0.1)\">\r\n       <use xlink:href=\"#DejaVuSans-37\"/>\r\n       <use x=\"63.623047\" xlink:href=\"#DejaVuSans-30\"/>\r\n      </g>\r\n     </g>\r\n    </g>\r\n   </g>\r\n   <g id=\"patch_18\">\r\n    <path d=\"M 33.2875 837.718125 \r\nL 33.2875 467.081761 \r\n\" style=\"fill:none;stroke:#000000;stroke-linecap:square;stroke-linejoin:miter;stroke-width:0.8;\"/>\r\n   </g>\r\n   <g id=\"patch_19\">\r\n    <path d=\"M 443.581618 837.718125 \r\nL 443.581618 467.081761 \r\n\" style=\"fill:none;stroke:#000000;stroke-linecap:square;stroke-linejoin:miter;stroke-width:0.8;\"/>\r\n   </g>\r\n   <g id=\"patch_20\">\r\n    <path d=\"M 33.2875 837.718125 \r\nL 443.581618 837.718125 \r\n\" style=\"fill:none;stroke:#000000;stroke-linecap:square;stroke-linejoin:miter;stroke-width:0.8;\"/>\r\n   </g>\r\n   <g id=\"patch_21\">\r\n    <path d=\"M 33.2875 467.081761 \r\nL 443.581618 467.081761 \r\n\" style=\"fill:none;stroke:#000000;stroke-linecap:square;stroke-linejoin:miter;stroke-width:0.8;\"/>\r\n   </g>\r\n   <g id=\"text_55\">\r\n    <!-- Annual Income (k$) - Age -->\r\n    <g transform=\"translate(162.128621 461.081761)scale(0.12 -0.12)\">\r\n     <use xlink:href=\"#DejaVuSans-41\"/>\r\n     <use x=\"68.408203\" xlink:href=\"#DejaVuSans-6e\"/>\r\n     <use x=\"131.787109\" xlink:href=\"#DejaVuSans-6e\"/>\r\n     <use x=\"195.166016\" xlink:href=\"#DejaVuSans-75\"/>\r\n     <use x=\"258.544922\" xlink:href=\"#DejaVuSans-61\"/>\r\n     <use x=\"319.824219\" xlink:href=\"#DejaVuSans-6c\"/>\r\n     <use x=\"347.607422\" xlink:href=\"#DejaVuSans-20\"/>\r\n     <use x=\"379.394531\" xlink:href=\"#DejaVuSans-49\"/>\r\n     <use x=\"408.886719\" xlink:href=\"#DejaVuSans-6e\"/>\r\n     <use x=\"472.265625\" xlink:href=\"#DejaVuSans-63\"/>\r\n     <use x=\"527.246094\" xlink:href=\"#DejaVuSans-6f\"/>\r\n     <use x=\"588.427734\" xlink:href=\"#DejaVuSans-6d\"/>\r\n     <use x=\"685.839844\" xlink:href=\"#DejaVuSans-65\"/>\r\n     <use x=\"747.363281\" xlink:href=\"#DejaVuSans-20\"/>\r\n     <use x=\"779.150391\" xlink:href=\"#DejaVuSans-28\"/>\r\n     <use x=\"818.164062\" xlink:href=\"#DejaVuSans-6b\"/>\r\n     <use x=\"876.074219\" xlink:href=\"#DejaVuSans-24\"/>\r\n     <use x=\"939.697266\" xlink:href=\"#DejaVuSans-29\"/>\r\n     <use x=\"978.710938\" xlink:href=\"#DejaVuSans-20\"/>\r\n     <use x=\"1010.498047\" xlink:href=\"#DejaVuSans-2d\"/>\r\n     <use x=\"1046.582031\" xlink:href=\"#DejaVuSans-20\"/>\r\n     <use x=\"1078.369141\" xlink:href=\"#DejaVuSans-41\"/>\r\n     <use x=\"1146.777344\" xlink:href=\"#DejaVuSans-67\"/>\r\n     <use x=\"1210.253906\" xlink:href=\"#DejaVuSans-65\"/>\r\n    </g>\r\n   </g>\r\n  </g>\r\n  <g id=\"axes_5\">\r\n   <g id=\"patch_22\">\r\n    <path d=\"M 525.640441 837.718125 \r\nL 935.934559 837.718125 \r\nL 935.934559 467.081761 \r\nL 525.640441 467.081761 \r\nz\r\n\" style=\"fill:#ffffff;\"/>\r\n   </g>\r\n   <g id=\"PathCollection_5\">\r\n    <g clip-path=\"url(#p4b7212347b)\">\r\n     <use style=\"fill:#1f77b4;stroke:#1f77b4;\" x=\"688.920753\" xlink:href=\"#m35187518fa\" y=\"814.391361\"/>\r\n     <use style=\"fill:#1f77b4;stroke:#1f77b4;\" x=\"848.775604\" xlink:href=\"#m35187518fa\" y=\"801.432047\"/>\r\n     <use style=\"fill:#1f77b4;stroke:#1f77b4;\" x=\"563.320513\" xlink:href=\"#m35187518fa\" y=\"807.911704\"/>\r\n     <use style=\"fill:#1f77b4;stroke:#1f77b4;\" x=\"833.551333\" xlink:href=\"#m35187518fa\" y=\"788.472734\"/>\r\n     <use style=\"fill:#1f77b4;stroke:#1f77b4;\" x=\"692.726821\" xlink:href=\"#m35187518fa\" y=\"736.63548\"/>\r\n     <use style=\"fill:#1f77b4;stroke:#1f77b4;\" x=\"829.745265\" xlink:href=\"#m35187518fa\" y=\"794.952391\"/>\r\n     <use style=\"fill:#1f77b4;stroke:#1f77b4;\" x=\"563.320513\" xlink:href=\"#m35187518fa\" y=\"710.716854\"/>\r\n     <use style=\"fill:#1f77b4;stroke:#1f77b4;\" x=\"898.254487\" xlink:href=\"#m35187518fa\" y=\"788.472734\"/>\r\n     <use style=\"fill:#1f77b4;stroke:#1f77b4;\" x=\"551.90231\" xlink:href=\"#m35187518fa\" y=\"522.806809\"/>\r\n     <use style=\"fill:#1f77b4;stroke:#1f77b4;\" x=\"814.520993\" xlink:href=\"#m35187518fa\" y=\"743.115137\"/>\r\n     <use style=\"fill:#1f77b4;stroke:#1f77b4;\" x=\"593.769056\" xlink:href=\"#m35187518fa\" y=\"503.367839\"/>\r\n     <use style=\"fill:#1f77b4;stroke:#1f77b4;\" x=\"917.284826\" xlink:href=\"#m35187518fa\" y=\"710.716854\"/>\r\n     <use style=\"fill:#1f77b4;stroke:#1f77b4;\" x=\"597.575124\" xlink:href=\"#m35187518fa\" y=\"561.684749\"/>\r\n     <use style=\"fill:#1f77b4;stroke:#1f77b4;\" x=\"833.551333\" xlink:href=\"#m35187518fa\" y=\"781.993077\"/>\r\n     <use style=\"fill:#1f77b4;stroke:#1f77b4;\" x=\"589.962988\" xlink:href=\"#m35187518fa\" y=\"697.75754\"/>\r\n     <use style=\"fill:#1f77b4;stroke:#1f77b4;\" x=\"841.163469\" xlink:href=\"#m35187518fa\" y=\"794.952391\"/>\r\n     <use style=\"fill:#1f77b4;stroke:#1f77b4;\" x=\"673.696482\" xlink:href=\"#m35187518fa\" y=\"710.716854\"/>\r\n     <use style=\"fill:#1f77b4;stroke:#1f77b4;\" x=\"791.684586\" xlink:href=\"#m35187518fa\" y=\"807.911704\"/>\r\n     <use style=\"fill:#1f77b4;stroke:#1f77b4;\" x=\"650.860074\" xlink:href=\"#m35187518fa\" y=\"600.56269\"/>\r\n     <use style=\"fill:#1f77b4;stroke:#1f77b4;\" x=\"913.478758\" xlink:href=\"#m35187518fa\" y=\"710.716854\"/>\r\n     <use style=\"fill:#1f77b4;stroke:#1f77b4;\" x=\"673.696482\" xlink:href=\"#m35187518fa\" y=\"710.716854\"/>\r\n     <use style=\"fill:#1f77b4;stroke:#1f77b4;\" x=\"818.327061\" xlink:href=\"#m35187518fa\" y=\"775.513421\"/>\r\n     <use style=\"fill:#1f77b4;stroke:#1f77b4;\" x=\"559.514445\" xlink:href=\"#m35187518fa\" y=\"639.44063\"/>\r\n     <use style=\"fill:#1f77b4;stroke:#1f77b4;\" x=\"818.327061\" xlink:href=\"#m35187518fa\" y=\"736.63548\"/>\r\n     <use style=\"fill:#1f77b4;stroke:#1f77b4;\" x=\"593.769056\" xlink:href=\"#m35187518fa\" y=\"587.603376\"/>\r\n     <use style=\"fill:#1f77b4;stroke:#1f77b4;\" x=\"852.581672\" xlink:href=\"#m35187518fa\" y=\"749.594794\"/>\r\n     <use style=\"fill:#1f77b4;stroke:#1f77b4;\" x=\"662.278278\" xlink:href=\"#m35187518fa\" y=\"645.920286\"/>\r\n     <use style=\"fill:#1f77b4;stroke:#1f77b4;\" x=\"772.654247\" xlink:href=\"#m35187518fa\" y=\"710.716854\"/>\r\n     <use style=\"fill:#1f77b4;stroke:#1f77b4;\" x=\"658.47221\" xlink:href=\"#m35187518fa\" y=\"678.31857\"/>\r\n     <use style=\"fill:#1f77b4;stroke:#1f77b4;\" x=\"871.612012\" xlink:href=\"#m35187518fa\" y=\"788.472734\"/>\r\n     <use style=\"fill:#1f77b4;stroke:#1f77b4;\" x=\"555.708377\" xlink:href=\"#m35187518fa\" y=\"548.725436\"/>\r\n     <use style=\"fill:#1f77b4;stroke:#1f77b4;\" x=\"818.327061\" xlink:href=\"#m35187518fa\" y=\"801.432047\"/>\r\n     <use style=\"fill:#1f77b4;stroke:#1f77b4;\" x=\"555.708377\" xlink:href=\"#m35187518fa\" y=\"594.083033\"/>\r\n     <use style=\"fill:#1f77b4;stroke:#1f77b4;\" x=\"890.642351\" xlink:href=\"#m35187518fa\" y=\"820.871018\"/>\r\n     <use style=\"fill:#1f77b4;stroke:#1f77b4;\" x=\"593.769056\" xlink:href=\"#m35187518fa\" y=\"620.00166\"/>\r\n     <use style=\"fill:#1f77b4;stroke:#1f77b4;\" x=\"848.775604\" xlink:href=\"#m35187518fa\" y=\"801.432047\"/>\r\n     <use style=\"fill:#1f77b4;stroke:#1f77b4;\" x=\"605.18726\" xlink:href=\"#m35187518fa\" y=\"665.359257\"/>\r\n     <use style=\"fill:#1f77b4;stroke:#1f77b4;\" x=\"818.327061\" xlink:href=\"#m35187518fa\" y=\"743.115137\"/>\r\n     <use style=\"fill:#1f77b4;stroke:#1f77b4;\" x=\"639.441871\" xlink:href=\"#m35187518fa\" y=\"704.237197\"/>\r\n     <use style=\"fill:#1f77b4;stroke:#1f77b4;\" x=\"825.939197\" xlink:href=\"#m35187518fa\" y=\"807.911704\"/>\r\n     <use style=\"fill:#1f77b4;stroke:#1f77b4;\" x=\"673.696482\" xlink:href=\"#m35187518fa\" y=\"516.327152\"/>\r\n     <use style=\"fill:#1f77b4;stroke:#1f77b4;\" x=\"890.642351\" xlink:href=\"#m35187518fa\" y=\"781.993077\"/>\r\n     <use style=\"fill:#1f77b4;stroke:#1f77b4;\" x=\"677.50255\" xlink:href=\"#m35187518fa\" y=\"626.481316\"/>\r\n     <use style=\"fill:#1f77b4;stroke:#1f77b4;\" x=\"772.654247\" xlink:href=\"#m35187518fa\" y=\"736.63548\"/>\r\n     <use style=\"fill:#1f77b4;stroke:#1f77b4;\" x=\"647.054007\" xlink:href=\"#m35187518fa\" y=\"620.00166\"/>\r\n     <use style=\"fill:#1f77b4;stroke:#1f77b4;\" x=\"787.878518\" xlink:href=\"#m35187518fa\" y=\"781.993077\"/>\r\n     <use style=\"fill:#1f77b4;stroke:#1f77b4;\" x=\"749.817839\" xlink:href=\"#m35187518fa\" y=\"613.522003\"/>\r\n     <use style=\"fill:#1f77b4;stroke:#1f77b4;\" x=\"719.369296\" xlink:href=\"#m35187518fa\" y=\"762.554107\"/>\r\n     <use style=\"fill:#1f77b4;stroke:#1f77b4;\" x=\"700.338957\" xlink:href=\"#m35187518fa\" y=\"749.594794\"/>\r\n     <use style=\"fill:#1f77b4;stroke:#1f77b4;\" x=\"700.338957\" xlink:href=\"#m35187518fa\" y=\"736.63548\"/>\r\n     <use style=\"fill:#1f77b4;stroke:#1f77b4;\" x=\"738.399636\" xlink:href=\"#m35187518fa\" y=\"620.00166\"/>\r\n     <use style=\"fill:#1f77b4;stroke:#1f77b4;\" x=\"768.848179\" xlink:href=\"#m35187518fa\" y=\"723.676167\"/>\r\n     <use style=\"fill:#1f77b4;stroke:#1f77b4;\" x=\"746.011772\" xlink:href=\"#m35187518fa\" y=\"736.63548\"/>\r\n     <use style=\"fill:#1f77b4;stroke:#1f77b4;\" x=\"768.848179\" xlink:href=\"#m35187518fa\" y=\"555.205093\"/>\r\n     <use style=\"fill:#1f77b4;stroke:#1f77b4;\" x=\"711.757161\" xlink:href=\"#m35187518fa\" y=\"613.522003\"/>\r\n     <use style=\"fill:#1f77b4;stroke:#1f77b4;\" x=\"696.532889\" xlink:href=\"#m35187518fa\" y=\"632.960973\"/>\r\n     <use style=\"fill:#1f77b4;stroke:#1f77b4;\" x=\"730.7875\" xlink:href=\"#m35187518fa\" y=\"607.042346\"/>\r\n     <use style=\"fill:#1f77b4;stroke:#1f77b4;\" x=\"715.563228\" xlink:href=\"#m35187518fa\" y=\"490.408526\"/>\r\n     <use style=\"fill:#1f77b4;stroke:#1f77b4;\" x=\"734.593568\" xlink:href=\"#m35187518fa\" y=\"762.554107\"/>\r\n     <use style=\"fill:#1f77b4;stroke:#1f77b4;\" x=\"715.563228\" xlink:href=\"#m35187518fa\" y=\"594.083033\"/>\r\n     <use style=\"fill:#1f77b4;stroke:#1f77b4;\" x=\"753.623907\" xlink:href=\"#m35187518fa\" y=\"483.928869\"/>\r\n     <use style=\"fill:#1f77b4;stroke:#1f77b4;\" x=\"749.817839\" xlink:href=\"#m35187518fa\" y=\"814.391361\"/>\r\n     <use style=\"fill:#1f77b4;stroke:#1f77b4;\" x=\"738.399636\" xlink:href=\"#m35187518fa\" y=\"503.367839\"/>\r\n     <use style=\"fill:#1f77b4;stroke:#1f77b4;\" x=\"765.042111\" xlink:href=\"#m35187518fa\" y=\"587.603376\"/>\r\n     <use style=\"fill:#1f77b4;stroke:#1f77b4;\" x=\"734.593568\" xlink:href=\"#m35187518fa\" y=\"529.286466\"/>\r\n     <use style=\"fill:#1f77b4;stroke:#1f77b4;\" x=\"765.042111\" xlink:href=\"#m35187518fa\" y=\"820.871018\"/>\r\n     <use style=\"fill:#1f77b4;stroke:#1f77b4;\" x=\"730.7875\" xlink:href=\"#m35187518fa\" y=\"658.8796\"/>\r\n     <use style=\"fill:#1f77b4;stroke:#1f77b4;\" x=\"723.175364\" xlink:href=\"#m35187518fa\" y=\"496.888182\"/>\r\n     <use style=\"fill:#1f77b4;stroke:#1f77b4;\" x=\"765.042111\" xlink:href=\"#m35187518fa\" y=\"814.391361\"/>\r\n     <use style=\"fill:#1f77b4;stroke:#1f77b4;\" x=\"719.369296\" xlink:href=\"#m35187518fa\" y=\"730.155824\"/>\r\n     <use style=\"fill:#1f77b4;stroke:#1f77b4;\" x=\"749.817839\" xlink:href=\"#m35187518fa\" y=\"483.928869\"/>\r\n     <use style=\"fill:#1f77b4;stroke:#1f77b4;\" x=\"700.338957\" xlink:href=\"#m35187518fa\" y=\"632.960973\"/>\r\n     <use style=\"fill:#1f77b4;stroke:#1f77b4;\" x=\"726.981432\" xlink:href=\"#m35187518fa\" y=\"548.725436\"/>\r\n     <use style=\"fill:#1f77b4;stroke:#1f77b4;\" x=\"753.623907\" xlink:href=\"#m35187518fa\" y=\"548.725436\"/>\r\n     <use style=\"fill:#1f77b4;stroke:#1f77b4;\" x=\"719.369296\" xlink:href=\"#m35187518fa\" y=\"555.205093\"/>\r\n     <use style=\"fill:#1f77b4;stroke:#1f77b4;\" x=\"746.011772\" xlink:href=\"#m35187518fa\" y=\"769.033764\"/>\r\n     <use style=\"fill:#1f77b4;stroke:#1f77b4;\" x=\"742.205704\" xlink:href=\"#m35187518fa\" y=\"645.920286\"/>\r\n     <use style=\"fill:#1f77b4;stroke:#1f77b4;\" x=\"723.175364\" xlink:href=\"#m35187518fa\" y=\"678.31857\"/>\r\n     <use style=\"fill:#1f77b4;stroke:#1f77b4;\" x=\"738.399636\" xlink:href=\"#m35187518fa\" y=\"788.472734\"/>\r\n     <use style=\"fill:#1f77b4;stroke:#1f77b4;\" x=\"700.338957\" xlink:href=\"#m35187518fa\" y=\"620.00166\"/>\r\n     <use style=\"fill:#1f77b4;stroke:#1f77b4;\" x=\"734.593568\" xlink:href=\"#m35187518fa\" y=\"568.164406\"/>\r\n     <use style=\"fill:#1f77b4;stroke:#1f77b4;\" x=\"749.817839\" xlink:href=\"#m35187518fa\" y=\"691.277883\"/>\r\n     <use style=\"fill:#1f77b4;stroke:#1f77b4;\" x=\"696.532889\" xlink:href=\"#m35187518fa\" y=\"503.367839\"/>\r\n     <use style=\"fill:#1f77b4;stroke:#1f77b4;\" x=\"707.951093\" xlink:href=\"#m35187518fa\" y=\"639.44063\"/>\r\n     <use style=\"fill:#1f77b4;stroke:#1f77b4;\" x=\"757.429975\" xlink:href=\"#m35187518fa\" y=\"801.432047\"/>\r\n     <use style=\"fill:#1f77b4;stroke:#1f77b4;\" x=\"715.563228\" xlink:href=\"#m35187518fa\" y=\"626.481316\"/>\r\n     <use style=\"fill:#1f77b4;stroke:#1f77b4;\" x=\"761.236043\" xlink:href=\"#m35187518fa\" y=\"581.123719\"/>\r\n     <use style=\"fill:#1f77b4;stroke:#1f77b4;\" x=\"749.817839\" xlink:href=\"#m35187518fa\" y=\"794.952391\"/>\r\n     <use style=\"fill:#1f77b4;stroke:#1f77b4;\" x=\"768.848179\" xlink:href=\"#m35187518fa\" y=\"717.19651\"/>\r\n     <use style=\"fill:#1f77b4;stroke:#1f77b4;\" x=\"715.563228\" xlink:href=\"#m35187518fa\" y=\"613.522003\"/>\r\n     <use style=\"fill:#1f77b4;stroke:#1f77b4;\" x=\"749.817839\" xlink:href=\"#m35187518fa\" y=\"496.888182\"/>\r\n     <use style=\"fill:#1f77b4;stroke:#1f77b4;\" x=\"696.532889\" xlink:href=\"#m35187518fa\" y=\"820.871018\"/>\r\n     <use style=\"fill:#1f77b4;stroke:#1f77b4;\" x=\"726.981432\" xlink:href=\"#m35187518fa\" y=\"626.481316\"/>\r\n     <use style=\"fill:#1f77b4;stroke:#1f77b4;\" x=\"692.726821\" xlink:href=\"#m35187518fa\" y=\"678.31857\"/>\r\n     <use style=\"fill:#1f77b4;stroke:#1f77b4;\" x=\"700.338957\" xlink:href=\"#m35187518fa\" y=\"730.155824\"/>\r\n     <use style=\"fill:#1f77b4;stroke:#1f77b4;\" x=\"738.399636\" xlink:href=\"#m35187518fa\" y=\"781.993077\"/>\r\n     <use style=\"fill:#1f77b4;stroke:#1f77b4;\" x=\"719.369296\" xlink:href=\"#m35187518fa\" y=\"632.960973\"/>\r\n     <use style=\"fill:#1f77b4;stroke:#1f77b4;\" x=\"730.7875\" xlink:href=\"#m35187518fa\" y=\"762.554107\"/>\r\n     <use style=\"fill:#1f77b4;stroke:#1f77b4;\" x=\"700.338957\" xlink:href=\"#m35187518fa\" y=\"626.481316\"/>\r\n     <use style=\"fill:#1f77b4;stroke:#1f77b4;\" x=\"726.981432\" xlink:href=\"#m35187518fa\" y=\"807.911704\"/>\r\n     <use style=\"fill:#1f77b4;stroke:#1f77b4;\" x=\"696.532889\" xlink:href=\"#m35187518fa\" y=\"788.472734\"/>\r\n     <use style=\"fill:#1f77b4;stroke:#1f77b4;\" x=\"723.175364\" xlink:href=\"#m35187518fa\" y=\"620.00166\"/>\r\n     <use style=\"fill:#1f77b4;stroke:#1f77b4;\" x=\"765.042111\" xlink:href=\"#m35187518fa\" y=\"503.367839\"/>\r\n     <use style=\"fill:#1f77b4;stroke:#1f77b4;\" x=\"749.817839\" xlink:href=\"#m35187518fa\" y=\"769.033764\"/>\r\n     <use style=\"fill:#1f77b4;stroke:#1f77b4;\" x=\"753.623907\" xlink:href=\"#m35187518fa\" y=\"620.00166\"/>\r\n     <use style=\"fill:#1f77b4;stroke:#1f77b4;\" x=\"700.338957\" xlink:href=\"#m35187518fa\" y=\"801.432047\"/>\r\n     <use style=\"fill:#1f77b4;stroke:#1f77b4;\" x=\"730.7875\" xlink:href=\"#m35187518fa\" y=\"509.847496\"/>\r\n     <use style=\"fill:#1f77b4;stroke:#1f77b4;\" x=\"715.563228\" xlink:href=\"#m35187518fa\" y=\"587.603376\"/>\r\n     <use style=\"fill:#1f77b4;stroke:#1f77b4;\" x=\"704.145025\" xlink:href=\"#m35187518fa\" y=\"496.888182\"/>\r\n     <use style=\"fill:#1f77b4;stroke:#1f77b4;\" x=\"723.175364\" xlink:href=\"#m35187518fa\" y=\"509.847496\"/>\r\n     <use style=\"fill:#1f77b4;stroke:#1f77b4;\" x=\"738.399636\" xlink:href=\"#m35187518fa\" y=\"516.327152\"/>\r\n     <use style=\"fill:#1f77b4;stroke:#1f77b4;\" x=\"746.011772\" xlink:href=\"#m35187518fa\" y=\"814.391361\"/>\r\n     <use style=\"fill:#1f77b4;stroke:#1f77b4;\" x=\"700.338957\" xlink:href=\"#m35187518fa\" y=\"691.277883\"/>\r\n     <use style=\"fill:#1f77b4;stroke:#1f77b4;\" x=\"715.563228\" xlink:href=\"#m35187518fa\" y=\"814.391361\"/>\r\n     <use style=\"fill:#1f77b4;stroke:#1f77b4;\" x=\"723.175364\" xlink:href=\"#m35187518fa\" y=\"820.871018\"/>\r\n     <use style=\"fill:#1f77b4;stroke:#1f77b4;\" x=\"730.7875\" xlink:href=\"#m35187518fa\" y=\"814.391361\"/>\r\n     <use style=\"fill:#1f77b4;stroke:#1f77b4;\" x=\"704.145025\" xlink:href=\"#m35187518fa\" y=\"529.286466\"/>\r\n     <use style=\"fill:#1f77b4;stroke:#1f77b4;\" x=\"765.042111\" xlink:href=\"#m35187518fa\" y=\"620.00166\"/>\r\n     <use style=\"fill:#1f77b4;stroke:#1f77b4;\" x=\"704.145025\" xlink:href=\"#m35187518fa\" y=\"607.042346\"/>\r\n     <use style=\"fill:#1f77b4;stroke:#1f77b4;\" x=\"757.429975\" xlink:href=\"#m35187518fa\" y=\"613.522003\"/>\r\n     <use style=\"fill:#1f77b4;stroke:#1f77b4;\" x=\"753.623907\" xlink:href=\"#m35187518fa\" y=\"762.554107\"/>\r\n     <use style=\"fill:#1f77b4;stroke:#1f77b4;\" x=\"692.726821\" xlink:href=\"#m35187518fa\" y=\"691.277883\"/>\r\n     <use style=\"fill:#1f77b4;stroke:#1f77b4;\" x=\"761.236043\" xlink:href=\"#m35187518fa\" y=\"678.31857\"/>\r\n     <use style=\"fill:#1f77b4;stroke:#1f77b4;\" x=\"886.836283\" xlink:href=\"#m35187518fa\" y=\"684.798227\"/>\r\n     <use style=\"fill:#1f77b4;stroke:#1f77b4;\" x=\"650.860074\" xlink:href=\"#m35187518fa\" y=\"788.472734\"/>\r\n     <use style=\"fill:#1f77b4;stroke:#1f77b4;\" x=\"833.551333\" xlink:href=\"#m35187518fa\" y=\"736.63548\"/>\r\n     <use style=\"fill:#1f77b4;stroke:#1f77b4;\" x=\"673.696482\" xlink:href=\"#m35187518fa\" y=\"658.8796\"/>\r\n     <use style=\"fill:#1f77b4;stroke:#1f77b4;\" x=\"902.060555\" xlink:href=\"#m35187518fa\" y=\"678.31857\"/>\r\n     <use style=\"fill:#1f77b4;stroke:#1f77b4;\" x=\"582.350853\" xlink:href=\"#m35187518fa\" y=\"555.205093\"/>\r\n     <use style=\"fill:#1f77b4;stroke:#1f77b4;\" x=\"825.939197\" xlink:href=\"#m35187518fa\" y=\"691.277883\"/>\r\n     <use style=\"fill:#1f77b4;stroke:#1f77b4;\" x=\"574.738717\" xlink:href=\"#m35187518fa\" y=\"632.960973\"/>\r\n     <use style=\"fill:#1f77b4;stroke:#1f77b4;\" x=\"825.939197\" xlink:href=\"#m35187518fa\" y=\"684.798227\"/>\r\n     <use style=\"fill:#1f77b4;stroke:#1f77b4;\" x=\"669.890414\" xlink:href=\"#m35187518fa\" y=\"775.513421\"/>\r\n     <use style=\"fill:#1f77b4;stroke:#1f77b4;\" x=\"810.714926\" xlink:href=\"#m35187518fa\" y=\"736.63548\"/>\r\n     <use style=\"fill:#1f77b4;stroke:#1f77b4;\" x=\"559.514445\" xlink:href=\"#m35187518fa\" y=\"807.911704\"/>\r\n     <use style=\"fill:#1f77b4;stroke:#1f77b4;\" x=\"875.41808\" xlink:href=\"#m35187518fa\" y=\"749.594794\"/>\r\n     <use style=\"fill:#1f77b4;stroke:#1f77b4;\" x=\"567.126581\" xlink:href=\"#m35187518fa\" y=\"652.399943\"/>\r\n     <use style=\"fill:#1f77b4;stroke:#1f77b4;\" x=\"818.327061\" xlink:href=\"#m35187518fa\" y=\"730.155824\"/>\r\n     <use style=\"fill:#1f77b4;stroke:#1f77b4;\" x=\"578.544785\" xlink:href=\"#m35187518fa\" y=\"814.391361\"/>\r\n     <use style=\"fill:#1f77b4;stroke:#1f77b4;\" x=\"814.520993\" xlink:href=\"#m35187518fa\" y=\"710.716854\"/>\r\n     <use style=\"fill:#1f77b4;stroke:#1f77b4;\" x=\"559.514445\" xlink:href=\"#m35187518fa\" y=\"568.164406\"/>\r\n     <use style=\"fill:#1f77b4;stroke:#1f77b4;\" x=\"894.448419\" xlink:href=\"#m35187518fa\" y=\"730.155824\"/>\r\n     <use style=\"fill:#1f77b4;stroke:#1f77b4;\" x=\"692.726821\" xlink:href=\"#m35187518fa\" y=\"756.07445\"/>\r\n     <use style=\"fill:#1f77b4;stroke:#1f77b4;\" x=\"871.612012\" xlink:href=\"#m35187518fa\" y=\"730.155824\"/>\r\n     <use style=\"fill:#1f77b4;stroke:#1f77b4;\" x=\"586.15692\" xlink:href=\"#m35187518fa\" y=\"775.513421\"/>\r\n     <use style=\"fill:#1f77b4;stroke:#1f77b4;\" x=\"909.67269\" xlink:href=\"#m35187518fa\" y=\"756.07445\"/>\r\n     <use style=\"fill:#1f77b4;stroke:#1f77b4;\" x=\"677.50255\" xlink:href=\"#m35187518fa\" y=\"626.481316\"/>\r\n     <use style=\"fill:#1f77b4;stroke:#1f77b4;\" x=\"822.133129\" xlink:href=\"#m35187518fa\" y=\"730.155824\"/>\r\n     <use style=\"fill:#1f77b4;stroke:#1f77b4;\" x=\"624.217599\" xlink:href=\"#m35187518fa\" y=\"717.19651\"/>\r\n     <use style=\"fill:#1f77b4;stroke:#1f77b4;\" x=\"883.030215\" xlink:href=\"#m35187518fa\" y=\"717.19651\"/>\r\n     <use style=\"fill:#1f77b4;stroke:#1f77b4;\" x=\"605.18726\" xlink:href=\"#m35187518fa\" y=\"658.8796\"/>\r\n     <use style=\"fill:#1f77b4;stroke:#1f77b4;\" x=\"875.41808\" xlink:href=\"#m35187518fa\" y=\"684.798227\"/>\r\n     <use style=\"fill:#1f77b4;stroke:#1f77b4;\" x=\"616.605464\" xlink:href=\"#m35187518fa\" y=\"652.399943\"/>\r\n     <use style=\"fill:#1f77b4;stroke:#1f77b4;\" x=\"829.745265\" xlink:href=\"#m35187518fa\" y=\"691.277883\"/>\r\n     <use style=\"fill:#1f77b4;stroke:#1f77b4;\" x=\"601.381192\" xlink:href=\"#m35187518fa\" y=\"632.960973\"/>\r\n     <use style=\"fill:#1f77b4;stroke:#1f77b4;\" x=\"879.224147\" xlink:href=\"#m35187518fa\" y=\"762.554107\"/>\r\n     <use style=\"fill:#1f77b4;stroke:#1f77b4;\" x=\"544.290174\" xlink:href=\"#m35187518fa\" y=\"697.75754\"/>\r\n     <use style=\"fill:#1f77b4;stroke:#1f77b4;\" x=\"837.357401\" xlink:href=\"#m35187518fa\" y=\"743.115137\"/>\r\n     <use style=\"fill:#1f77b4;stroke:#1f77b4;\" x=\"544.290174\" xlink:href=\"#m35187518fa\" y=\"717.19651\"/>\r\n     <use style=\"fill:#1f77b4;stroke:#1f77b4;\" x=\"818.327061\" xlink:href=\"#m35187518fa\" y=\"743.115137\"/>\r\n     <use style=\"fill:#1f77b4;stroke:#1f77b4;\" x=\"673.696482\" xlink:href=\"#m35187518fa\" y=\"574.644063\"/>\r\n     <use style=\"fill:#1f77b4;stroke:#1f77b4;\" x=\"856.38774\" xlink:href=\"#m35187518fa\" y=\"749.594794\"/>\r\n     <use style=\"fill:#1f77b4;stroke:#1f77b4;\" x=\"559.514445\" xlink:href=\"#m35187518fa\" y=\"814.391361\"/>\r\n     <use style=\"fill:#1f77b4;stroke:#1f77b4;\" x=\"894.448419\" xlink:href=\"#m35187518fa\" y=\"736.63548\"/>\r\n     <use style=\"fill:#1f77b4;stroke:#1f77b4;\" x=\"639.441871\" xlink:href=\"#m35187518fa\" y=\"613.522003\"/>\r\n     <use style=\"fill:#1f77b4;stroke:#1f77b4;\" x=\"825.939197\" xlink:href=\"#m35187518fa\" y=\"704.237197\"/>\r\n     <use style=\"fill:#1f77b4;stroke:#1f77b4;\" x=\"616.605464\" xlink:href=\"#m35187518fa\" y=\"665.359257\"/>\r\n     <use style=\"fill:#1f77b4;stroke:#1f77b4;\" x=\"902.060555\" xlink:href=\"#m35187518fa\" y=\"723.676167\"/>\r\n     <use style=\"fill:#1f77b4;stroke:#1f77b4;\" x=\"643.247939\" xlink:href=\"#m35187518fa\" y=\"704.237197\"/>\r\n     <use style=\"fill:#1f77b4;stroke:#1f77b4;\" x=\"780.266382\" xlink:href=\"#m35187518fa\" y=\"730.155824\"/>\r\n     <use style=\"fill:#1f77b4;stroke:#1f77b4;\" x=\"589.962988\" xlink:href=\"#m35187518fa\" y=\"678.31857\"/>\r\n     <use style=\"fill:#1f77b4;stroke:#1f77b4;\" x=\"825.939197\" xlink:href=\"#m35187518fa\" y=\"756.07445\"/>\r\n     <use style=\"fill:#1f77b4;stroke:#1f77b4;\" x=\"578.544785\" xlink:href=\"#m35187518fa\" y=\"704.237197\"/>\r\n     <use style=\"fill:#1f77b4;stroke:#1f77b4;\" x=\"890.642351\" xlink:href=\"#m35187518fa\" y=\"704.237197\"/>\r\n     <use style=\"fill:#1f77b4;stroke:#1f77b4;\" x=\"589.962988\" xlink:href=\"#m35187518fa\" y=\"600.56269\"/>\r\n     <use style=\"fill:#1f77b4;stroke:#1f77b4;\" x=\"867.805944\" xlink:href=\"#m35187518fa\" y=\"743.115137\"/>\r\n     <use style=\"fill:#1f77b4;stroke:#1f77b4;\" x=\"597.575124\" xlink:href=\"#m35187518fa\" y=\"561.684749\"/>\r\n     <use style=\"fill:#1f77b4;stroke:#1f77b4;\" x=\"803.10279\" xlink:href=\"#m35187518fa\" y=\"762.554107\"/>\r\n     <use style=\"fill:#1f77b4;stroke:#1f77b4;\" x=\"593.769056\" xlink:href=\"#m35187518fa\" y=\"555.205093\"/>\r\n     <use style=\"fill:#1f77b4;stroke:#1f77b4;\" x=\"883.030215\" xlink:href=\"#m35187518fa\" y=\"710.716854\"/>\r\n     <use style=\"fill:#1f77b4;stroke:#1f77b4;\" x=\"662.278278\" xlink:href=\"#m35187518fa\" y=\"697.75754\"/>\r\n     <use style=\"fill:#1f77b4;stroke:#1f77b4;\" x=\"867.805944\" xlink:href=\"#m35187518fa\" y=\"730.155824\"/>\r\n     <use style=\"fill:#1f77b4;stroke:#1f77b4;\" x=\"597.575124\" xlink:href=\"#m35187518fa\" y=\"639.44063\"/>\r\n     <use style=\"fill:#1f77b4;stroke:#1f77b4;\" x=\"875.41808\" xlink:href=\"#m35187518fa\" y=\"749.594794\"/>\r\n     <use style=\"fill:#1f77b4;stroke:#1f77b4;\" x=\"688.920753\" xlink:href=\"#m35187518fa\" y=\"671.838913\"/>\r\n     <use style=\"fill:#1f77b4;stroke:#1f77b4;\" x=\"909.67269\" xlink:href=\"#m35187518fa\" y=\"743.115137\"/>\r\n     <use style=\"fill:#1f77b4;stroke:#1f77b4;\" x=\"631.829735\" xlink:href=\"#m35187518fa\" y=\"587.603376\"/>\r\n     <use style=\"fill:#1f77b4;stroke:#1f77b4;\" x=\"799.296722\" xlink:href=\"#m35187518fa\" y=\"756.07445\"/>\r\n     <use style=\"fill:#1f77b4;stroke:#1f77b4;\" x=\"605.18726\" xlink:href=\"#m35187518fa\" y=\"671.838913\"/>\r\n     <use style=\"fill:#1f77b4;stroke:#1f77b4;\" x=\"863.999876\" xlink:href=\"#m35187518fa\" y=\"704.237197\"/>\r\n     <use style=\"fill:#1f77b4;stroke:#1f77b4;\" x=\"628.023667\" xlink:href=\"#m35187518fa\" y=\"717.19651\"/>\r\n     <use style=\"fill:#1f77b4;stroke:#1f77b4;\" x=\"803.10279\" xlink:href=\"#m35187518fa\" y=\"730.155824\"/>\r\n     <use style=\"fill:#1f77b4;stroke:#1f77b4;\" x=\"570.932649\" xlink:href=\"#m35187518fa\" y=\"723.676167\"/>\r\n     <use style=\"fill:#1f77b4;stroke:#1f77b4;\" x=\"886.836283\" xlink:href=\"#m35187518fa\" y=\"691.277883\"/>\r\n     <use style=\"fill:#1f77b4;stroke:#1f77b4;\" x=\"601.381192\" xlink:href=\"#m35187518fa\" y=\"632.960973\"/>\r\n     <use style=\"fill:#1f77b4;stroke:#1f77b4;\" x=\"841.163469\" xlink:href=\"#m35187518fa\" y=\"710.716854\"/>\r\n     <use style=\"fill:#1f77b4;stroke:#1f77b4;\" x=\"647.054007\" xlink:href=\"#m35187518fa\" y=\"645.920286\"/>\r\n     <use style=\"fill:#1f77b4;stroke:#1f77b4;\" x=\"822.133129\" xlink:href=\"#m35187518fa\" y=\"730.155824\"/>\r\n     <use style=\"fill:#1f77b4;stroke:#1f77b4;\" x=\"608.993328\" xlink:href=\"#m35187518fa\" y=\"730.155824\"/>\r\n     <use style=\"fill:#1f77b4;stroke:#1f77b4;\" x=\"856.38774\" xlink:href=\"#m35187518fa\" y=\"743.115137\"/>\r\n    </g>\r\n   </g>\r\n   <g id=\"matplotlib.axis_9\">\r\n    <g id=\"xtick_27\">\r\n     <g id=\"line2d_52\">\r\n      <g>\r\n       <use style=\"stroke:#000000;stroke-width:0.8;\" x=\"540.484106\" xlink:href=\"#m7e6e67af0c\" y=\"837.718125\"/>\r\n      </g>\r\n     </g>\r\n     <g id=\"text_56\">\r\n      <!-- 0 -->\r\n      <g transform=\"translate(537.302856 852.316562)scale(0.1 -0.1)\">\r\n       <use xlink:href=\"#DejaVuSans-30\"/>\r\n      </g>\r\n     </g>\r\n    </g>\r\n    <g id=\"xtick_28\">\r\n     <g id=\"line2d_53\">\r\n      <g>\r\n       <use style=\"stroke:#000000;stroke-width:0.8;\" x=\"616.605464\" xlink:href=\"#m7e6e67af0c\" y=\"837.718125\"/>\r\n      </g>\r\n     </g>\r\n     <g id=\"text_57\">\r\n      <!-- 20 -->\r\n      <g transform=\"translate(610.242964 852.316562)scale(0.1 -0.1)\">\r\n       <use xlink:href=\"#DejaVuSans-32\"/>\r\n       <use x=\"63.623047\" xlink:href=\"#DejaVuSans-30\"/>\r\n      </g>\r\n     </g>\r\n    </g>\r\n    <g id=\"xtick_29\">\r\n     <g id=\"line2d_54\">\r\n      <g>\r\n       <use style=\"stroke:#000000;stroke-width:0.8;\" x=\"692.726821\" xlink:href=\"#m7e6e67af0c\" y=\"837.718125\"/>\r\n      </g>\r\n     </g>\r\n     <g id=\"text_58\">\r\n      <!-- 40 -->\r\n      <g transform=\"translate(686.364321 852.316562)scale(0.1 -0.1)\">\r\n       <use xlink:href=\"#DejaVuSans-34\"/>\r\n       <use x=\"63.623047\" xlink:href=\"#DejaVuSans-30\"/>\r\n      </g>\r\n     </g>\r\n    </g>\r\n    <g id=\"xtick_30\">\r\n     <g id=\"line2d_55\">\r\n      <g>\r\n       <use style=\"stroke:#000000;stroke-width:0.8;\" x=\"768.848179\" xlink:href=\"#m7e6e67af0c\" y=\"837.718125\"/>\r\n      </g>\r\n     </g>\r\n     <g id=\"text_59\">\r\n      <!-- 60 -->\r\n      <g transform=\"translate(762.485679 852.316562)scale(0.1 -0.1)\">\r\n       <use xlink:href=\"#DejaVuSans-36\"/>\r\n       <use x=\"63.623047\" xlink:href=\"#DejaVuSans-30\"/>\r\n      </g>\r\n     </g>\r\n    </g>\r\n    <g id=\"xtick_31\">\r\n     <g id=\"line2d_56\">\r\n      <g>\r\n       <use style=\"stroke:#000000;stroke-width:0.8;\" x=\"844.969536\" xlink:href=\"#m7e6e67af0c\" y=\"837.718125\"/>\r\n      </g>\r\n     </g>\r\n     <g id=\"text_60\">\r\n      <!-- 80 -->\r\n      <g transform=\"translate(838.607036 852.316562)scale(0.1 -0.1)\">\r\n       <use xlink:href=\"#DejaVuSans-38\"/>\r\n       <use x=\"63.623047\" xlink:href=\"#DejaVuSans-30\"/>\r\n      </g>\r\n     </g>\r\n    </g>\r\n    <g id=\"xtick_32\">\r\n     <g id=\"line2d_57\">\r\n      <g>\r\n       <use style=\"stroke:#000000;stroke-width:0.8;\" x=\"921.090894\" xlink:href=\"#m7e6e67af0c\" y=\"837.718125\"/>\r\n      </g>\r\n     </g>\r\n     <g id=\"text_61\">\r\n      <!-- 100 -->\r\n      <g transform=\"translate(911.547144 852.316562)scale(0.1 -0.1)\">\r\n       <use xlink:href=\"#DejaVuSans-31\"/>\r\n       <use x=\"63.623047\" xlink:href=\"#DejaVuSans-30\"/>\r\n       <use x=\"127.246094\" xlink:href=\"#DejaVuSans-30\"/>\r\n      </g>\r\n     </g>\r\n    </g>\r\n   </g>\r\n   <g id=\"matplotlib.axis_10\">\r\n    <g id=\"ytick_26\">\r\n     <g id=\"line2d_58\">\r\n      <g>\r\n       <use style=\"stroke:#000000;stroke-width:0.8;\" x=\"525.640441\" xlink:href=\"#ma467724af8\" y=\"807.911704\"/>\r\n      </g>\r\n     </g>\r\n     <g id=\"text_62\">\r\n      <!-- 20 -->\r\n      <g transform=\"translate(505.915441 811.710923)scale(0.1 -0.1)\">\r\n       <use xlink:href=\"#DejaVuSans-32\"/>\r\n       <use x=\"63.623047\" xlink:href=\"#DejaVuSans-30\"/>\r\n      </g>\r\n     </g>\r\n    </g>\r\n    <g id=\"ytick_27\">\r\n     <g id=\"line2d_59\">\r\n      <g>\r\n       <use style=\"stroke:#000000;stroke-width:0.8;\" x=\"525.640441\" xlink:href=\"#ma467724af8\" y=\"743.115137\"/>\r\n      </g>\r\n     </g>\r\n     <g id=\"text_63\">\r\n      <!-- 30 -->\r\n      <g transform=\"translate(505.915441 746.914356)scale(0.1 -0.1)\">\r\n       <use xlink:href=\"#DejaVuSans-33\"/>\r\n       <use x=\"63.623047\" xlink:href=\"#DejaVuSans-30\"/>\r\n      </g>\r\n     </g>\r\n    </g>\r\n    <g id=\"ytick_28\">\r\n     <g id=\"line2d_60\">\r\n      <g>\r\n       <use style=\"stroke:#000000;stroke-width:0.8;\" x=\"525.640441\" xlink:href=\"#ma467724af8\" y=\"678.31857\"/>\r\n      </g>\r\n     </g>\r\n     <g id=\"text_64\">\r\n      <!-- 40 -->\r\n      <g transform=\"translate(505.915441 682.117789)scale(0.1 -0.1)\">\r\n       <use xlink:href=\"#DejaVuSans-34\"/>\r\n       <use x=\"63.623047\" xlink:href=\"#DejaVuSans-30\"/>\r\n      </g>\r\n     </g>\r\n    </g>\r\n    <g id=\"ytick_29\">\r\n     <g id=\"line2d_61\">\r\n      <g>\r\n       <use style=\"stroke:#000000;stroke-width:0.8;\" x=\"525.640441\" xlink:href=\"#ma467724af8\" y=\"613.522003\"/>\r\n      </g>\r\n     </g>\r\n     <g id=\"text_65\">\r\n      <!-- 50 -->\r\n      <g transform=\"translate(505.915441 617.321222)scale(0.1 -0.1)\">\r\n       <use xlink:href=\"#DejaVuSans-35\"/>\r\n       <use x=\"63.623047\" xlink:href=\"#DejaVuSans-30\"/>\r\n      </g>\r\n     </g>\r\n    </g>\r\n    <g id=\"ytick_30\">\r\n     <g id=\"line2d_62\">\r\n      <g>\r\n       <use style=\"stroke:#000000;stroke-width:0.8;\" x=\"525.640441\" xlink:href=\"#ma467724af8\" y=\"548.725436\"/>\r\n      </g>\r\n     </g>\r\n     <g id=\"text_66\">\r\n      <!-- 60 -->\r\n      <g transform=\"translate(505.915441 552.524655)scale(0.1 -0.1)\">\r\n       <use xlink:href=\"#DejaVuSans-36\"/>\r\n       <use x=\"63.623047\" xlink:href=\"#DejaVuSans-30\"/>\r\n      </g>\r\n     </g>\r\n    </g>\r\n    <g id=\"ytick_31\">\r\n     <g id=\"line2d_63\">\r\n      <g>\r\n       <use style=\"stroke:#000000;stroke-width:0.8;\" x=\"525.640441\" xlink:href=\"#ma467724af8\" y=\"483.928869\"/>\r\n      </g>\r\n     </g>\r\n     <g id=\"text_67\">\r\n      <!-- 70 -->\r\n      <g transform=\"translate(505.915441 487.728088)scale(0.1 -0.1)\">\r\n       <use xlink:href=\"#DejaVuSans-37\"/>\r\n       <use x=\"63.623047\" xlink:href=\"#DejaVuSans-30\"/>\r\n      </g>\r\n     </g>\r\n    </g>\r\n   </g>\r\n   <g id=\"patch_23\">\r\n    <path d=\"M 525.640441 837.718125 \r\nL 525.640441 467.081761 \r\n\" style=\"fill:none;stroke:#000000;stroke-linecap:square;stroke-linejoin:miter;stroke-width:0.8;\"/>\r\n   </g>\r\n   <g id=\"patch_24\">\r\n    <path d=\"M 935.934559 837.718125 \r\nL 935.934559 467.081761 \r\n\" style=\"fill:none;stroke:#000000;stroke-linecap:square;stroke-linejoin:miter;stroke-width:0.8;\"/>\r\n   </g>\r\n   <g id=\"patch_25\">\r\n    <path d=\"M 525.640441 837.718125 \r\nL 935.934559 837.718125 \r\n\" style=\"fill:none;stroke:#000000;stroke-linecap:square;stroke-linejoin:miter;stroke-width:0.8;\"/>\r\n   </g>\r\n   <g id=\"patch_26\">\r\n    <path d=\"M 525.640441 467.081761 \r\nL 935.934559 467.081761 \r\n\" style=\"fill:none;stroke:#000000;stroke-linecap:square;stroke-linejoin:miter;stroke-width:0.8;\"/>\r\n   </g>\r\n   <g id=\"text_68\">\r\n    <!-- Spending Score (1-100) - Age -->\r\n    <g transform=\"translate(642.270625 461.081761)scale(0.12 -0.12)\">\r\n     <use xlink:href=\"#DejaVuSans-53\"/>\r\n     <use x=\"63.476562\" xlink:href=\"#DejaVuSans-70\"/>\r\n     <use x=\"126.953125\" xlink:href=\"#DejaVuSans-65\"/>\r\n     <use x=\"188.476562\" xlink:href=\"#DejaVuSans-6e\"/>\r\n     <use x=\"251.855469\" xlink:href=\"#DejaVuSans-64\"/>\r\n     <use x=\"315.332031\" xlink:href=\"#DejaVuSans-69\"/>\r\n     <use x=\"343.115234\" xlink:href=\"#DejaVuSans-6e\"/>\r\n     <use x=\"406.494141\" xlink:href=\"#DejaVuSans-67\"/>\r\n     <use x=\"469.970703\" xlink:href=\"#DejaVuSans-20\"/>\r\n     <use x=\"501.757812\" xlink:href=\"#DejaVuSans-53\"/>\r\n     <use x=\"565.234375\" xlink:href=\"#DejaVuSans-63\"/>\r\n     <use x=\"620.214844\" xlink:href=\"#DejaVuSans-6f\"/>\r\n     <use x=\"681.396484\" xlink:href=\"#DejaVuSans-72\"/>\r\n     <use x=\"720.259766\" xlink:href=\"#DejaVuSans-65\"/>\r\n     <use x=\"781.783203\" xlink:href=\"#DejaVuSans-20\"/>\r\n     <use x=\"813.570312\" xlink:href=\"#DejaVuSans-28\"/>\r\n     <use x=\"852.583984\" xlink:href=\"#DejaVuSans-31\"/>\r\n     <use x=\"916.207031\" xlink:href=\"#DejaVuSans-2d\"/>\r\n     <use x=\"952.291016\" xlink:href=\"#DejaVuSans-31\"/>\r\n     <use x=\"1015.914062\" xlink:href=\"#DejaVuSans-30\"/>\r\n     <use x=\"1079.537109\" xlink:href=\"#DejaVuSans-30\"/>\r\n     <use x=\"1143.160156\" xlink:href=\"#DejaVuSans-29\"/>\r\n     <use x=\"1182.173828\" xlink:href=\"#DejaVuSans-20\"/>\r\n     <use x=\"1213.960938\" xlink:href=\"#DejaVuSans-2d\"/>\r\n     <use x=\"1250.044922\" xlink:href=\"#DejaVuSans-20\"/>\r\n     <use x=\"1281.832031\" xlink:href=\"#DejaVuSans-41\"/>\r\n     <use x=\"1350.240234\" xlink:href=\"#DejaVuSans-67\"/>\r\n     <use x=\"1413.716797\" xlink:href=\"#DejaVuSans-65\"/>\r\n    </g>\r\n   </g>\r\n  </g>\r\n  <g id=\"axes_6\">\r\n   <g id=\"patch_27\">\r\n    <path d=\"M 1017.993382 837.718125 \r\nL 1428.2875 837.718125 \r\nL 1428.2875 467.081761 \r\nL 1017.993382 467.081761 \r\nz\r\n\" style=\"fill:#ffffff;\"/>\r\n   </g>\r\n   <g id=\"PathCollection_6\">\r\n    <g clip-path=\"url(#p45ac74603f)\">\r\n     <use style=\"fill:#1f77b4;stroke:#1f77b4;\" x=\"1181.273694\" xlink:href=\"#m35187518fa\" y=\"820.871018\"/>\r\n     <use style=\"fill:#1f77b4;stroke:#1f77b4;\" x=\"1341.128546\" xlink:href=\"#m35187518fa\" y=\"820.871018\"/>\r\n     <use style=\"fill:#1f77b4;stroke:#1f77b4;\" x=\"1055.673454\" xlink:href=\"#m35187518fa\" y=\"818.109197\"/>\r\n     <use style=\"fill:#1f77b4;stroke:#1f77b4;\" x=\"1325.904274\" xlink:href=\"#m35187518fa\" y=\"818.109197\"/>\r\n     <use style=\"fill:#1f77b4;stroke:#1f77b4;\" x=\"1185.079762\" xlink:href=\"#m35187518fa\" y=\"815.347376\"/>\r\n     <use style=\"fill:#1f77b4;stroke:#1f77b4;\" x=\"1322.098206\" xlink:href=\"#m35187518fa\" y=\"815.347376\"/>\r\n     <use style=\"fill:#1f77b4;stroke:#1f77b4;\" x=\"1055.673454\" xlink:href=\"#m35187518fa\" y=\"812.585555\"/>\r\n     <use style=\"fill:#1f77b4;stroke:#1f77b4;\" x=\"1390.607428\" xlink:href=\"#m35187518fa\" y=\"812.585555\"/>\r\n     <use style=\"fill:#1f77b4;stroke:#1f77b4;\" x=\"1044.255251\" xlink:href=\"#m35187518fa\" y=\"809.823734\"/>\r\n     <use style=\"fill:#1f77b4;stroke:#1f77b4;\" x=\"1306.873935\" xlink:href=\"#m35187518fa\" y=\"809.823734\"/>\r\n     <use style=\"fill:#1f77b4;stroke:#1f77b4;\" x=\"1086.121997\" xlink:href=\"#m35187518fa\" y=\"809.823734\"/>\r\n     <use style=\"fill:#1f77b4;stroke:#1f77b4;\" x=\"1409.637767\" xlink:href=\"#m35187518fa\" y=\"809.823734\"/>\r\n     <use style=\"fill:#1f77b4;stroke:#1f77b4;\" x=\"1089.928065\" xlink:href=\"#m35187518fa\" y=\"807.061913\"/>\r\n     <use style=\"fill:#1f77b4;stroke:#1f77b4;\" x=\"1325.904274\" xlink:href=\"#m35187518fa\" y=\"807.061913\"/>\r\n     <use style=\"fill:#1f77b4;stroke:#1f77b4;\" x=\"1082.31593\" xlink:href=\"#m35187518fa\" y=\"807.061913\"/>\r\n     <use style=\"fill:#1f77b4;stroke:#1f77b4;\" x=\"1333.51641\" xlink:href=\"#m35187518fa\" y=\"807.061913\"/>\r\n     <use style=\"fill:#1f77b4;stroke:#1f77b4;\" x=\"1166.049423\" xlink:href=\"#m35187518fa\" y=\"804.300092\"/>\r\n     <use style=\"fill:#1f77b4;stroke:#1f77b4;\" x=\"1284.037527\" xlink:href=\"#m35187518fa\" y=\"804.300092\"/>\r\n     <use style=\"fill:#1f77b4;stroke:#1f77b4;\" x=\"1143.213016\" xlink:href=\"#m35187518fa\" y=\"798.77645\"/>\r\n     <use style=\"fill:#1f77b4;stroke:#1f77b4;\" x=\"1405.831699\" xlink:href=\"#m35187518fa\" y=\"798.77645\"/>\r\n     <use style=\"fill:#1f77b4;stroke:#1f77b4;\" x=\"1166.049423\" xlink:href=\"#m35187518fa\" y=\"796.01463\"/>\r\n     <use style=\"fill:#1f77b4;stroke:#1f77b4;\" x=\"1310.680002\" xlink:href=\"#m35187518fa\" y=\"796.01463\"/>\r\n     <use style=\"fill:#1f77b4;stroke:#1f77b4;\" x=\"1051.867387\" xlink:href=\"#m35187518fa\" y=\"793.252809\"/>\r\n     <use style=\"fill:#1f77b4;stroke:#1f77b4;\" x=\"1310.680002\" xlink:href=\"#m35187518fa\" y=\"793.252809\"/>\r\n     <use style=\"fill:#1f77b4;stroke:#1f77b4;\" x=\"1086.121997\" xlink:href=\"#m35187518fa\" y=\"784.967346\"/>\r\n     <use style=\"fill:#1f77b4;stroke:#1f77b4;\" x=\"1344.934613\" xlink:href=\"#m35187518fa\" y=\"784.967346\"/>\r\n     <use style=\"fill:#1f77b4;stroke:#1f77b4;\" x=\"1154.631219\" xlink:href=\"#m35187518fa\" y=\"784.967346\"/>\r\n     <use style=\"fill:#1f77b4;stroke:#1f77b4;\" x=\"1265.007188\" xlink:href=\"#m35187518fa\" y=\"784.967346\"/>\r\n     <use style=\"fill:#1f77b4;stroke:#1f77b4;\" x=\"1150.825151\" xlink:href=\"#m35187518fa\" y=\"782.205525\"/>\r\n     <use style=\"fill:#1f77b4;stroke:#1f77b4;\" x=\"1363.964953\" xlink:href=\"#m35187518fa\" y=\"782.205525\"/>\r\n     <use style=\"fill:#1f77b4;stroke:#1f77b4;\" x=\"1048.061319\" xlink:href=\"#m35187518fa\" y=\"779.443704\"/>\r\n     <use style=\"fill:#1f77b4;stroke:#1f77b4;\" x=\"1310.680002\" xlink:href=\"#m35187518fa\" y=\"779.443704\"/>\r\n     <use style=\"fill:#1f77b4;stroke:#1f77b4;\" x=\"1048.061319\" xlink:href=\"#m35187518fa\" y=\"771.158242\"/>\r\n     <use style=\"fill:#1f77b4;stroke:#1f77b4;\" x=\"1382.995292\" xlink:href=\"#m35187518fa\" y=\"771.158242\"/>\r\n     <use style=\"fill:#1f77b4;stroke:#1f77b4;\" x=\"1086.121997\" xlink:href=\"#m35187518fa\" y=\"771.158242\"/>\r\n     <use style=\"fill:#1f77b4;stroke:#1f77b4;\" x=\"1341.128546\" xlink:href=\"#m35187518fa\" y=\"771.158242\"/>\r\n     <use style=\"fill:#1f77b4;stroke:#1f77b4;\" x=\"1097.540201\" xlink:href=\"#m35187518fa\" y=\"768.396421\"/>\r\n     <use style=\"fill:#1f77b4;stroke:#1f77b4;\" x=\"1310.680002\" xlink:href=\"#m35187518fa\" y=\"768.396421\"/>\r\n     <use style=\"fill:#1f77b4;stroke:#1f77b4;\" x=\"1131.794812\" xlink:href=\"#m35187518fa\" y=\"760.110958\"/>\r\n     <use style=\"fill:#1f77b4;stroke:#1f77b4;\" x=\"1318.292138\" xlink:href=\"#m35187518fa\" y=\"760.110958\"/>\r\n     <use style=\"fill:#1f77b4;stroke:#1f77b4;\" x=\"1166.049423\" xlink:href=\"#m35187518fa\" y=\"757.349137\"/>\r\n     <use style=\"fill:#1f77b4;stroke:#1f77b4;\" x=\"1382.995292\" xlink:href=\"#m35187518fa\" y=\"757.349137\"/>\r\n     <use style=\"fill:#1f77b4;stroke:#1f77b4;\" x=\"1169.855491\" xlink:href=\"#m35187518fa\" y=\"754.587316\"/>\r\n     <use style=\"fill:#1f77b4;stroke:#1f77b4;\" x=\"1265.007188\" xlink:href=\"#m35187518fa\" y=\"754.587316\"/>\r\n     <use style=\"fill:#1f77b4;stroke:#1f77b4;\" x=\"1139.406948\" xlink:href=\"#m35187518fa\" y=\"754.587316\"/>\r\n     <use style=\"fill:#1f77b4;stroke:#1f77b4;\" x=\"1280.231459\" xlink:href=\"#m35187518fa\" y=\"754.587316\"/>\r\n     <use style=\"fill:#1f77b4;stroke:#1f77b4;\" x=\"1242.170781\" xlink:href=\"#m35187518fa\" y=\"751.825495\"/>\r\n     <use style=\"fill:#1f77b4;stroke:#1f77b4;\" x=\"1211.722238\" xlink:href=\"#m35187518fa\" y=\"751.825495\"/>\r\n     <use style=\"fill:#1f77b4;stroke:#1f77b4;\" x=\"1192.691898\" xlink:href=\"#m35187518fa\" y=\"751.825495\"/>\r\n     <use style=\"fill:#1f77b4;stroke:#1f77b4;\" x=\"1192.691898\" xlink:href=\"#m35187518fa\" y=\"751.825495\"/>\r\n     <use style=\"fill:#1f77b4;stroke:#1f77b4;\" x=\"1230.752577\" xlink:href=\"#m35187518fa\" y=\"746.301853\"/>\r\n     <use style=\"fill:#1f77b4;stroke:#1f77b4;\" x=\"1261.20112\" xlink:href=\"#m35187518fa\" y=\"746.301853\"/>\r\n     <use style=\"fill:#1f77b4;stroke:#1f77b4;\" x=\"1238.364713\" xlink:href=\"#m35187518fa\" y=\"743.540033\"/>\r\n     <use style=\"fill:#1f77b4;stroke:#1f77b4;\" x=\"1261.20112\" xlink:href=\"#m35187518fa\" y=\"743.540033\"/>\r\n     <use style=\"fill:#1f77b4;stroke:#1f77b4;\" x=\"1204.110102\" xlink:href=\"#m35187518fa\" y=\"743.540033\"/>\r\n     <use style=\"fill:#1f77b4;stroke:#1f77b4;\" x=\"1188.88583\" xlink:href=\"#m35187518fa\" y=\"743.540033\"/>\r\n     <use style=\"fill:#1f77b4;stroke:#1f77b4;\" x=\"1223.140441\" xlink:href=\"#m35187518fa\" y=\"740.778212\"/>\r\n     <use style=\"fill:#1f77b4;stroke:#1f77b4;\" x=\"1207.91617\" xlink:href=\"#m35187518fa\" y=\"740.778212\"/>\r\n     <use style=\"fill:#1f77b4;stroke:#1f77b4;\" x=\"1226.946509\" xlink:href=\"#m35187518fa\" y=\"735.25457\"/>\r\n     <use style=\"fill:#1f77b4;stroke:#1f77b4;\" x=\"1207.91617\" xlink:href=\"#m35187518fa\" y=\"735.25457\"/>\r\n     <use style=\"fill:#1f77b4;stroke:#1f77b4;\" x=\"1245.976848\" xlink:href=\"#m35187518fa\" y=\"735.25457\"/>\r\n     <use style=\"fill:#1f77b4;stroke:#1f77b4;\" x=\"1242.170781\" xlink:href=\"#m35187518fa\" y=\"735.25457\"/>\r\n     <use style=\"fill:#1f77b4;stroke:#1f77b4;\" x=\"1230.752577\" xlink:href=\"#m35187518fa\" y=\"732.492749\"/>\r\n     <use style=\"fill:#1f77b4;stroke:#1f77b4;\" x=\"1257.395052\" xlink:href=\"#m35187518fa\" y=\"732.492749\"/>\r\n     <use style=\"fill:#1f77b4;stroke:#1f77b4;\" x=\"1226.946509\" xlink:href=\"#m35187518fa\" y=\"729.730928\"/>\r\n     <use style=\"fill:#1f77b4;stroke:#1f77b4;\" x=\"1257.395052\" xlink:href=\"#m35187518fa\" y=\"729.730928\"/>\r\n     <use style=\"fill:#1f77b4;stroke:#1f77b4;\" x=\"1223.140441\" xlink:href=\"#m35187518fa\" y=\"729.730928\"/>\r\n     <use style=\"fill:#1f77b4;stroke:#1f77b4;\" x=\"1215.528305\" xlink:href=\"#m35187518fa\" y=\"729.730928\"/>\r\n     <use style=\"fill:#1f77b4;stroke:#1f77b4;\" x=\"1257.395052\" xlink:href=\"#m35187518fa\" y=\"729.730928\"/>\r\n     <use style=\"fill:#1f77b4;stroke:#1f77b4;\" x=\"1211.722238\" xlink:href=\"#m35187518fa\" y=\"729.730928\"/>\r\n     <use style=\"fill:#1f77b4;stroke:#1f77b4;\" x=\"1242.170781\" xlink:href=\"#m35187518fa\" y=\"726.969107\"/>\r\n     <use style=\"fill:#1f77b4;stroke:#1f77b4;\" x=\"1192.691898\" xlink:href=\"#m35187518fa\" y=\"726.969107\"/>\r\n     <use style=\"fill:#1f77b4;stroke:#1f77b4;\" x=\"1219.334373\" xlink:href=\"#m35187518fa\" y=\"724.207286\"/>\r\n     <use style=\"fill:#1f77b4;stroke:#1f77b4;\" x=\"1245.976848\" xlink:href=\"#m35187518fa\" y=\"724.207286\"/>\r\n     <use style=\"fill:#1f77b4;stroke:#1f77b4;\" x=\"1211.722238\" xlink:href=\"#m35187518fa\" y=\"713.160003\"/>\r\n     <use style=\"fill:#1f77b4;stroke:#1f77b4;\" x=\"1238.364713\" xlink:href=\"#m35187518fa\" y=\"713.160003\"/>\r\n     <use style=\"fill:#1f77b4;stroke:#1f77b4;\" x=\"1234.558645\" xlink:href=\"#m35187518fa\" y=\"713.160003\"/>\r\n     <use style=\"fill:#1f77b4;stroke:#1f77b4;\" x=\"1215.528305\" xlink:href=\"#m35187518fa\" y=\"713.160003\"/>\r\n     <use style=\"fill:#1f77b4;stroke:#1f77b4;\" x=\"1230.752577\" xlink:href=\"#m35187518fa\" y=\"713.160003\"/>\r\n     <use style=\"fill:#1f77b4;stroke:#1f77b4;\" x=\"1192.691898\" xlink:href=\"#m35187518fa\" y=\"713.160003\"/>\r\n     <use style=\"fill:#1f77b4;stroke:#1f77b4;\" x=\"1226.946509\" xlink:href=\"#m35187518fa\" y=\"713.160003\"/>\r\n     <use style=\"fill:#1f77b4;stroke:#1f77b4;\" x=\"1242.170781\" xlink:href=\"#m35187518fa\" y=\"713.160003\"/>\r\n     <use style=\"fill:#1f77b4;stroke:#1f77b4;\" x=\"1188.88583\" xlink:href=\"#m35187518fa\" y=\"713.160003\"/>\r\n     <use style=\"fill:#1f77b4;stroke:#1f77b4;\" x=\"1200.304034\" xlink:href=\"#m35187518fa\" y=\"713.160003\"/>\r\n     <use style=\"fill:#1f77b4;stroke:#1f77b4;\" x=\"1249.782916\" xlink:href=\"#m35187518fa\" y=\"713.160003\"/>\r\n     <use style=\"fill:#1f77b4;stroke:#1f77b4;\" x=\"1207.91617\" xlink:href=\"#m35187518fa\" y=\"713.160003\"/>\r\n     <use style=\"fill:#1f77b4;stroke:#1f77b4;\" x=\"1253.588984\" xlink:href=\"#m35187518fa\" y=\"704.87454\"/>\r\n     <use style=\"fill:#1f77b4;stroke:#1f77b4;\" x=\"1242.170781\" xlink:href=\"#m35187518fa\" y=\"704.87454\"/>\r\n     <use style=\"fill:#1f77b4;stroke:#1f77b4;\" x=\"1261.20112\" xlink:href=\"#m35187518fa\" y=\"702.112719\"/>\r\n     <use style=\"fill:#1f77b4;stroke:#1f77b4;\" x=\"1207.91617\" xlink:href=\"#m35187518fa\" y=\"702.112719\"/>\r\n     <use style=\"fill:#1f77b4;stroke:#1f77b4;\" x=\"1242.170781\" xlink:href=\"#m35187518fa\" y=\"699.350898\"/>\r\n     <use style=\"fill:#1f77b4;stroke:#1f77b4;\" x=\"1188.88583\" xlink:href=\"#m35187518fa\" y=\"699.350898\"/>\r\n     <use style=\"fill:#1f77b4;stroke:#1f77b4;\" x=\"1219.334373\" xlink:href=\"#m35187518fa\" y=\"696.589077\"/>\r\n     <use style=\"fill:#1f77b4;stroke:#1f77b4;\" x=\"1185.079762\" xlink:href=\"#m35187518fa\" y=\"696.589077\"/>\r\n     <use style=\"fill:#1f77b4;stroke:#1f77b4;\" x=\"1192.691898\" xlink:href=\"#m35187518fa\" y=\"696.589077\"/>\r\n     <use style=\"fill:#1f77b4;stroke:#1f77b4;\" x=\"1230.752577\" xlink:href=\"#m35187518fa\" y=\"696.589077\"/>\r\n     <use style=\"fill:#1f77b4;stroke:#1f77b4;\" x=\"1211.722238\" xlink:href=\"#m35187518fa\" y=\"696.589077\"/>\r\n     <use style=\"fill:#1f77b4;stroke:#1f77b4;\" x=\"1223.140441\" xlink:href=\"#m35187518fa\" y=\"696.589077\"/>\r\n     <use style=\"fill:#1f77b4;stroke:#1f77b4;\" x=\"1192.691898\" xlink:href=\"#m35187518fa\" y=\"693.827257\"/>\r\n     <use style=\"fill:#1f77b4;stroke:#1f77b4;\" x=\"1219.334373\" xlink:href=\"#m35187518fa\" y=\"693.827257\"/>\r\n     <use style=\"fill:#1f77b4;stroke:#1f77b4;\" x=\"1188.88583\" xlink:href=\"#m35187518fa\" y=\"691.065436\"/>\r\n     <use style=\"fill:#1f77b4;stroke:#1f77b4;\" x=\"1215.528305\" xlink:href=\"#m35187518fa\" y=\"691.065436\"/>\r\n     <use style=\"fill:#1f77b4;stroke:#1f77b4;\" x=\"1257.395052\" xlink:href=\"#m35187518fa\" y=\"691.065436\"/>\r\n     <use style=\"fill:#1f77b4;stroke:#1f77b4;\" x=\"1242.170781\" xlink:href=\"#m35187518fa\" y=\"691.065436\"/>\r\n     <use style=\"fill:#1f77b4;stroke:#1f77b4;\" x=\"1245.976848\" xlink:href=\"#m35187518fa\" y=\"691.065436\"/>\r\n     <use style=\"fill:#1f77b4;stroke:#1f77b4;\" x=\"1192.691898\" xlink:href=\"#m35187518fa\" y=\"691.065436\"/>\r\n     <use style=\"fill:#1f77b4;stroke:#1f77b4;\" x=\"1223.140441\" xlink:href=\"#m35187518fa\" y=\"688.303615\"/>\r\n     <use style=\"fill:#1f77b4;stroke:#1f77b4;\" x=\"1207.91617\" xlink:href=\"#m35187518fa\" y=\"688.303615\"/>\r\n     <use style=\"fill:#1f77b4;stroke:#1f77b4;\" x=\"1196.497966\" xlink:href=\"#m35187518fa\" y=\"688.303615\"/>\r\n     <use style=\"fill:#1f77b4;stroke:#1f77b4;\" x=\"1215.528305\" xlink:href=\"#m35187518fa\" y=\"688.303615\"/>\r\n     <use style=\"fill:#1f77b4;stroke:#1f77b4;\" x=\"1230.752577\" xlink:href=\"#m35187518fa\" y=\"688.303615\"/>\r\n     <use style=\"fill:#1f77b4;stroke:#1f77b4;\" x=\"1238.364713\" xlink:href=\"#m35187518fa\" y=\"688.303615\"/>\r\n     <use style=\"fill:#1f77b4;stroke:#1f77b4;\" x=\"1192.691898\" xlink:href=\"#m35187518fa\" y=\"685.541794\"/>\r\n     <use style=\"fill:#1f77b4;stroke:#1f77b4;\" x=\"1207.91617\" xlink:href=\"#m35187518fa\" y=\"685.541794\"/>\r\n     <use style=\"fill:#1f77b4;stroke:#1f77b4;\" x=\"1215.528305\" xlink:href=\"#m35187518fa\" y=\"682.779973\"/>\r\n     <use style=\"fill:#1f77b4;stroke:#1f77b4;\" x=\"1223.140441\" xlink:href=\"#m35187518fa\" y=\"682.779973\"/>\r\n     <use style=\"fill:#1f77b4;stroke:#1f77b4;\" x=\"1196.497966\" xlink:href=\"#m35187518fa\" y=\"682.779973\"/>\r\n     <use style=\"fill:#1f77b4;stroke:#1f77b4;\" x=\"1257.395052\" xlink:href=\"#m35187518fa\" y=\"682.779973\"/>\r\n     <use style=\"fill:#1f77b4;stroke:#1f77b4;\" x=\"1196.497966\" xlink:href=\"#m35187518fa\" y=\"677.256331\"/>\r\n     <use style=\"fill:#1f77b4;stroke:#1f77b4;\" x=\"1249.782916\" xlink:href=\"#m35187518fa\" y=\"677.256331\"/>\r\n     <use style=\"fill:#1f77b4;stroke:#1f77b4;\" x=\"1245.976848\" xlink:href=\"#m35187518fa\" y=\"677.256331\"/>\r\n     <use style=\"fill:#1f77b4;stroke:#1f77b4;\" x=\"1185.079762\" xlink:href=\"#m35187518fa\" y=\"677.256331\"/>\r\n     <use style=\"fill:#1f77b4;stroke:#1f77b4;\" x=\"1253.588984\" xlink:href=\"#m35187518fa\" y=\"671.732689\"/>\r\n     <use style=\"fill:#1f77b4;stroke:#1f77b4;\" x=\"1379.189224\" xlink:href=\"#m35187518fa\" y=\"671.732689\"/>\r\n     <use style=\"fill:#1f77b4;stroke:#1f77b4;\" x=\"1143.213016\" xlink:href=\"#m35187518fa\" y=\"668.970869\"/>\r\n     <use style=\"fill:#1f77b4;stroke:#1f77b4;\" x=\"1325.904274\" xlink:href=\"#m35187518fa\" y=\"668.970869\"/>\r\n     <use style=\"fill:#1f77b4;stroke:#1f77b4;\" x=\"1166.049423\" xlink:href=\"#m35187518fa\" y=\"666.209048\"/>\r\n     <use style=\"fill:#1f77b4;stroke:#1f77b4;\" x=\"1394.413496\" xlink:href=\"#m35187518fa\" y=\"666.209048\"/>\r\n     <use style=\"fill:#1f77b4;stroke:#1f77b4;\" x=\"1074.703794\" xlink:href=\"#m35187518fa\" y=\"666.209048\"/>\r\n     <use style=\"fill:#1f77b4;stroke:#1f77b4;\" x=\"1318.292138\" xlink:href=\"#m35187518fa\" y=\"666.209048\"/>\r\n     <use style=\"fill:#1f77b4;stroke:#1f77b4;\" x=\"1067.091658\" xlink:href=\"#m35187518fa\" y=\"666.209048\"/>\r\n     <use style=\"fill:#1f77b4;stroke:#1f77b4;\" x=\"1318.292138\" xlink:href=\"#m35187518fa\" y=\"666.209048\"/>\r\n     <use style=\"fill:#1f77b4;stroke:#1f77b4;\" x=\"1162.243355\" xlink:href=\"#m35187518fa\" y=\"663.447227\"/>\r\n     <use style=\"fill:#1f77b4;stroke:#1f77b4;\" x=\"1303.067867\" xlink:href=\"#m35187518fa\" y=\"663.447227\"/>\r\n     <use style=\"fill:#1f77b4;stroke:#1f77b4;\" x=\"1051.867387\" xlink:href=\"#m35187518fa\" y=\"660.685406\"/>\r\n     <use style=\"fill:#1f77b4;stroke:#1f77b4;\" x=\"1367.771021\" xlink:href=\"#m35187518fa\" y=\"660.685406\"/>\r\n     <use style=\"fill:#1f77b4;stroke:#1f77b4;\" x=\"1059.479522\" xlink:href=\"#m35187518fa\" y=\"660.685406\"/>\r\n     <use style=\"fill:#1f77b4;stroke:#1f77b4;\" x=\"1310.680002\" xlink:href=\"#m35187518fa\" y=\"660.685406\"/>\r\n     <use style=\"fill:#1f77b4;stroke:#1f77b4;\" x=\"1070.897726\" xlink:href=\"#m35187518fa\" y=\"657.923585\"/>\r\n     <use style=\"fill:#1f77b4;stroke:#1f77b4;\" x=\"1306.873935\" xlink:href=\"#m35187518fa\" y=\"657.923585\"/>\r\n     <use style=\"fill:#1f77b4;stroke:#1f77b4;\" x=\"1051.867387\" xlink:href=\"#m35187518fa\" y=\"655.161764\"/>\r\n     <use style=\"fill:#1f77b4;stroke:#1f77b4;\" x=\"1386.80136\" xlink:href=\"#m35187518fa\" y=\"655.161764\"/>\r\n     <use style=\"fill:#1f77b4;stroke:#1f77b4;\" x=\"1185.079762\" xlink:href=\"#m35187518fa\" y=\"652.399943\"/>\r\n     <use style=\"fill:#1f77b4;stroke:#1f77b4;\" x=\"1363.964953\" xlink:href=\"#m35187518fa\" y=\"652.399943\"/>\r\n     <use style=\"fill:#1f77b4;stroke:#1f77b4;\" x=\"1078.509862\" xlink:href=\"#m35187518fa\" y=\"649.638122\"/>\r\n     <use style=\"fill:#1f77b4;stroke:#1f77b4;\" x=\"1402.025632\" xlink:href=\"#m35187518fa\" y=\"649.638122\"/>\r\n     <use style=\"fill:#1f77b4;stroke:#1f77b4;\" x=\"1169.855491\" xlink:href=\"#m35187518fa\" y=\"649.638122\"/>\r\n     <use style=\"fill:#1f77b4;stroke:#1f77b4;\" x=\"1314.48607\" xlink:href=\"#m35187518fa\" y=\"649.638122\"/>\r\n     <use style=\"fill:#1f77b4;stroke:#1f77b4;\" x=\"1116.57054\" xlink:href=\"#m35187518fa\" y=\"646.876301\"/>\r\n     <use style=\"fill:#1f77b4;stroke:#1f77b4;\" x=\"1375.383156\" xlink:href=\"#m35187518fa\" y=\"646.876301\"/>\r\n     <use style=\"fill:#1f77b4;stroke:#1f77b4;\" x=\"1097.540201\" xlink:href=\"#m35187518fa\" y=\"646.876301\"/>\r\n     <use style=\"fill:#1f77b4;stroke:#1f77b4;\" x=\"1367.771021\" xlink:href=\"#m35187518fa\" y=\"646.876301\"/>\r\n     <use style=\"fill:#1f77b4;stroke:#1f77b4;\" x=\"1108.958405\" xlink:href=\"#m35187518fa\" y=\"646.876301\"/>\r\n     <use style=\"fill:#1f77b4;stroke:#1f77b4;\" x=\"1322.098206\" xlink:href=\"#m35187518fa\" y=\"646.876301\"/>\r\n     <use style=\"fill:#1f77b4;stroke:#1f77b4;\" x=\"1093.734133\" xlink:href=\"#m35187518fa\" y=\"646.876301\"/>\r\n     <use style=\"fill:#1f77b4;stroke:#1f77b4;\" x=\"1371.577089\" xlink:href=\"#m35187518fa\" y=\"646.876301\"/>\r\n     <use style=\"fill:#1f77b4;stroke:#1f77b4;\" x=\"1036.643115\" xlink:href=\"#m35187518fa\" y=\"646.876301\"/>\r\n     <use style=\"fill:#1f77b4;stroke:#1f77b4;\" x=\"1329.710342\" xlink:href=\"#m35187518fa\" y=\"646.876301\"/>\r\n     <use style=\"fill:#1f77b4;stroke:#1f77b4;\" x=\"1036.643115\" xlink:href=\"#m35187518fa\" y=\"646.876301\"/>\r\n     <use style=\"fill:#1f77b4;stroke:#1f77b4;\" x=\"1310.680002\" xlink:href=\"#m35187518fa\" y=\"646.876301\"/>\r\n     <use style=\"fill:#1f77b4;stroke:#1f77b4;\" x=\"1166.049423\" xlink:href=\"#m35187518fa\" y=\"644.114481\"/>\r\n     <use style=\"fill:#1f77b4;stroke:#1f77b4;\" x=\"1348.740681\" xlink:href=\"#m35187518fa\" y=\"644.114481\"/>\r\n     <use style=\"fill:#1f77b4;stroke:#1f77b4;\" x=\"1051.867387\" xlink:href=\"#m35187518fa\" y=\"638.590839\"/>\r\n     <use style=\"fill:#1f77b4;stroke:#1f77b4;\" x=\"1386.80136\" xlink:href=\"#m35187518fa\" y=\"638.590839\"/>\r\n     <use style=\"fill:#1f77b4;stroke:#1f77b4;\" x=\"1131.794812\" xlink:href=\"#m35187518fa\" y=\"627.543555\"/>\r\n     <use style=\"fill:#1f77b4;stroke:#1f77b4;\" x=\"1318.292138\" xlink:href=\"#m35187518fa\" y=\"627.543555\"/>\r\n     <use style=\"fill:#1f77b4;stroke:#1f77b4;\" x=\"1108.958405\" xlink:href=\"#m35187518fa\" y=\"624.781734\"/>\r\n     <use style=\"fill:#1f77b4;stroke:#1f77b4;\" x=\"1394.413496\" xlink:href=\"#m35187518fa\" y=\"624.781734\"/>\r\n     <use style=\"fill:#1f77b4;stroke:#1f77b4;\" x=\"1135.60088\" xlink:href=\"#m35187518fa\" y=\"622.019913\"/>\r\n     <use style=\"fill:#1f77b4;stroke:#1f77b4;\" x=\"1272.619324\" xlink:href=\"#m35187518fa\" y=\"622.019913\"/>\r\n     <use style=\"fill:#1f77b4;stroke:#1f77b4;\" x=\"1082.31593\" xlink:href=\"#m35187518fa\" y=\"622.019913\"/>\r\n     <use style=\"fill:#1f77b4;stroke:#1f77b4;\" x=\"1318.292138\" xlink:href=\"#m35187518fa\" y=\"622.019913\"/>\r\n     <use style=\"fill:#1f77b4;stroke:#1f77b4;\" x=\"1070.897726\" xlink:href=\"#m35187518fa\" y=\"622.019913\"/>\r\n     <use style=\"fill:#1f77b4;stroke:#1f77b4;\" x=\"1382.995292\" xlink:href=\"#m35187518fa\" y=\"622.019913\"/>\r\n     <use style=\"fill:#1f77b4;stroke:#1f77b4;\" x=\"1082.31593\" xlink:href=\"#m35187518fa\" y=\"619.258092\"/>\r\n     <use style=\"fill:#1f77b4;stroke:#1f77b4;\" x=\"1360.158885\" xlink:href=\"#m35187518fa\" y=\"619.258092\"/>\r\n     <use style=\"fill:#1f77b4;stroke:#1f77b4;\" x=\"1089.928065\" xlink:href=\"#m35187518fa\" y=\"619.258092\"/>\r\n     <use style=\"fill:#1f77b4;stroke:#1f77b4;\" x=\"1295.455731\" xlink:href=\"#m35187518fa\" y=\"619.258092\"/>\r\n     <use style=\"fill:#1f77b4;stroke:#1f77b4;\" x=\"1086.121997\" xlink:href=\"#m35187518fa\" y=\"605.448988\"/>\r\n     <use style=\"fill:#1f77b4;stroke:#1f77b4;\" x=\"1375.383156\" xlink:href=\"#m35187518fa\" y=\"605.448988\"/>\r\n     <use style=\"fill:#1f77b4;stroke:#1f77b4;\" x=\"1154.631219\" xlink:href=\"#m35187518fa\" y=\"594.401704\"/>\r\n     <use style=\"fill:#1f77b4;stroke:#1f77b4;\" x=\"1360.158885\" xlink:href=\"#m35187518fa\" y=\"594.401704\"/>\r\n     <use style=\"fill:#1f77b4;stroke:#1f77b4;\" x=\"1089.928065\" xlink:href=\"#m35187518fa\" y=\"591.639884\"/>\r\n     <use style=\"fill:#1f77b4;stroke:#1f77b4;\" x=\"1367.771021\" xlink:href=\"#m35187518fa\" y=\"591.639884\"/>\r\n     <use style=\"fill:#1f77b4;stroke:#1f77b4;\" x=\"1181.273694\" xlink:href=\"#m35187518fa\" y=\"588.878063\"/>\r\n     <use style=\"fill:#1f77b4;stroke:#1f77b4;\" x=\"1402.025632\" xlink:href=\"#m35187518fa\" y=\"588.878063\"/>\r\n     <use style=\"fill:#1f77b4;stroke:#1f77b4;\" x=\"1124.182676\" xlink:href=\"#m35187518fa\" y=\"583.354421\"/>\r\n     <use style=\"fill:#1f77b4;stroke:#1f77b4;\" x=\"1291.649663\" xlink:href=\"#m35187518fa\" y=\"583.354421\"/>\r\n     <use style=\"fill:#1f77b4;stroke:#1f77b4;\" x=\"1097.540201\" xlink:href=\"#m35187518fa\" y=\"577.830779\"/>\r\n     <use style=\"fill:#1f77b4;stroke:#1f77b4;\" x=\"1356.352817\" xlink:href=\"#m35187518fa\" y=\"577.830779\"/>\r\n     <use style=\"fill:#1f77b4;stroke:#1f77b4;\" x=\"1120.376608\" xlink:href=\"#m35187518fa\" y=\"577.830779\"/>\r\n     <use style=\"fill:#1f77b4;stroke:#1f77b4;\" x=\"1295.455731\" xlink:href=\"#m35187518fa\" y=\"577.830779\"/>\r\n     <use style=\"fill:#1f77b4;stroke:#1f77b4;\" x=\"1063.28559\" xlink:href=\"#m35187518fa\" y=\"550.21257\"/>\r\n     <use style=\"fill:#1f77b4;stroke:#1f77b4;\" x=\"1379.189224\" xlink:href=\"#m35187518fa\" y=\"550.21257\"/>\r\n     <use style=\"fill:#1f77b4;stroke:#1f77b4;\" x=\"1093.734133\" xlink:href=\"#m35187518fa\" y=\"530.879824\"/>\r\n     <use style=\"fill:#1f77b4;stroke:#1f77b4;\" x=\"1333.51641\" xlink:href=\"#m35187518fa\" y=\"530.879824\"/>\r\n     <use style=\"fill:#1f77b4;stroke:#1f77b4;\" x=\"1139.406948\" xlink:href=\"#m35187518fa\" y=\"514.308899\"/>\r\n     <use style=\"fill:#1f77b4;stroke:#1f77b4;\" x=\"1314.48607\" xlink:href=\"#m35187518fa\" y=\"514.308899\"/>\r\n     <use style=\"fill:#1f77b4;stroke:#1f77b4;\" x=\"1101.346269\" xlink:href=\"#m35187518fa\" y=\"483.928869\"/>\r\n     <use style=\"fill:#1f77b4;stroke:#1f77b4;\" x=\"1348.740681\" xlink:href=\"#m35187518fa\" y=\"483.928869\"/>\r\n    </g>\r\n   </g>\r\n   <g id=\"matplotlib.axis_11\">\r\n    <g id=\"xtick_33\">\r\n     <g id=\"line2d_64\">\r\n      <g>\r\n       <use style=\"stroke:#000000;stroke-width:0.8;\" x=\"1032.837047\" xlink:href=\"#m7e6e67af0c\" y=\"837.718125\"/>\r\n      </g>\r\n     </g>\r\n     <g id=\"text_69\">\r\n      <!-- 0 -->\r\n      <g transform=\"translate(1029.655797 852.316562)scale(0.1 -0.1)\">\r\n       <use xlink:href=\"#DejaVuSans-30\"/>\r\n      </g>\r\n     </g>\r\n    </g>\r\n    <g id=\"xtick_34\">\r\n     <g id=\"line2d_65\">\r\n      <g>\r\n       <use style=\"stroke:#000000;stroke-width:0.8;\" x=\"1108.958405\" xlink:href=\"#m7e6e67af0c\" y=\"837.718125\"/>\r\n      </g>\r\n     </g>\r\n     <g id=\"text_70\">\r\n      <!-- 20 -->\r\n      <g transform=\"translate(1102.595905 852.316562)scale(0.1 -0.1)\">\r\n       <use xlink:href=\"#DejaVuSans-32\"/>\r\n       <use x=\"63.623047\" xlink:href=\"#DejaVuSans-30\"/>\r\n      </g>\r\n     </g>\r\n    </g>\r\n    <g id=\"xtick_35\">\r\n     <g id=\"line2d_66\">\r\n      <g>\r\n       <use style=\"stroke:#000000;stroke-width:0.8;\" x=\"1185.079762\" xlink:href=\"#m7e6e67af0c\" y=\"837.718125\"/>\r\n      </g>\r\n     </g>\r\n     <g id=\"text_71\">\r\n      <!-- 40 -->\r\n      <g transform=\"translate(1178.717262 852.316562)scale(0.1 -0.1)\">\r\n       <use xlink:href=\"#DejaVuSans-34\"/>\r\n       <use x=\"63.623047\" xlink:href=\"#DejaVuSans-30\"/>\r\n      </g>\r\n     </g>\r\n    </g>\r\n    <g id=\"xtick_36\">\r\n     <g id=\"line2d_67\">\r\n      <g>\r\n       <use style=\"stroke:#000000;stroke-width:0.8;\" x=\"1261.20112\" xlink:href=\"#m7e6e67af0c\" y=\"837.718125\"/>\r\n      </g>\r\n     </g>\r\n     <g id=\"text_72\">\r\n      <!-- 60 -->\r\n      <g transform=\"translate(1254.83862 852.316562)scale(0.1 -0.1)\">\r\n       <use xlink:href=\"#DejaVuSans-36\"/>\r\n       <use x=\"63.623047\" xlink:href=\"#DejaVuSans-30\"/>\r\n      </g>\r\n     </g>\r\n    </g>\r\n    <g id=\"xtick_37\">\r\n     <g id=\"line2d_68\">\r\n      <g>\r\n       <use style=\"stroke:#000000;stroke-width:0.8;\" x=\"1337.322478\" xlink:href=\"#m7e6e67af0c\" y=\"837.718125\"/>\r\n      </g>\r\n     </g>\r\n     <g id=\"text_73\">\r\n      <!-- 80 -->\r\n      <g transform=\"translate(1330.959978 852.316562)scale(0.1 -0.1)\">\r\n       <use xlink:href=\"#DejaVuSans-38\"/>\r\n       <use x=\"63.623047\" xlink:href=\"#DejaVuSans-30\"/>\r\n      </g>\r\n     </g>\r\n    </g>\r\n    <g id=\"xtick_38\">\r\n     <g id=\"line2d_69\">\r\n      <g>\r\n       <use style=\"stroke:#000000;stroke-width:0.8;\" x=\"1413.443835\" xlink:href=\"#m7e6e67af0c\" y=\"837.718125\"/>\r\n      </g>\r\n     </g>\r\n     <g id=\"text_74\">\r\n      <!-- 100 -->\r\n      <g transform=\"translate(1403.900085 852.316562)scale(0.1 -0.1)\">\r\n       <use xlink:href=\"#DejaVuSans-31\"/>\r\n       <use x=\"63.623047\" xlink:href=\"#DejaVuSans-30\"/>\r\n       <use x=\"127.246094\" xlink:href=\"#DejaVuSans-30\"/>\r\n      </g>\r\n     </g>\r\n    </g>\r\n   </g>\r\n   <g id=\"matplotlib.axis_12\">\r\n    <g id=\"ytick_32\">\r\n     <g id=\"line2d_70\">\r\n      <g>\r\n       <use style=\"stroke:#000000;stroke-width:0.8;\" x=\"1017.993382\" xlink:href=\"#ma467724af8\" y=\"807.061913\"/>\r\n      </g>\r\n     </g>\r\n     <g id=\"text_75\">\r\n      <!-- 20 -->\r\n      <g transform=\"translate(998.268382 810.861132)scale(0.1 -0.1)\">\r\n       <use xlink:href=\"#DejaVuSans-32\"/>\r\n       <use x=\"63.623047\" xlink:href=\"#DejaVuSans-30\"/>\r\n      </g>\r\n     </g>\r\n    </g>\r\n    <g id=\"ytick_33\">\r\n     <g id=\"line2d_71\">\r\n      <g>\r\n       <use style=\"stroke:#000000;stroke-width:0.8;\" x=\"1017.993382\" xlink:href=\"#ma467724af8\" y=\"751.825495\"/>\r\n      </g>\r\n     </g>\r\n     <g id=\"text_76\">\r\n      <!-- 40 -->\r\n      <g transform=\"translate(998.268382 755.624714)scale(0.1 -0.1)\">\r\n       <use xlink:href=\"#DejaVuSans-34\"/>\r\n       <use x=\"63.623047\" xlink:href=\"#DejaVuSans-30\"/>\r\n      </g>\r\n     </g>\r\n    </g>\r\n    <g id=\"ytick_34\">\r\n     <g id=\"line2d_72\">\r\n      <g>\r\n       <use style=\"stroke:#000000;stroke-width:0.8;\" x=\"1017.993382\" xlink:href=\"#ma467724af8\" y=\"696.589077\"/>\r\n      </g>\r\n     </g>\r\n     <g id=\"text_77\">\r\n      <!-- 60 -->\r\n      <g transform=\"translate(998.268382 700.388296)scale(0.1 -0.1)\">\r\n       <use xlink:href=\"#DejaVuSans-36\"/>\r\n       <use x=\"63.623047\" xlink:href=\"#DejaVuSans-30\"/>\r\n      </g>\r\n     </g>\r\n    </g>\r\n    <g id=\"ytick_35\">\r\n     <g id=\"line2d_73\">\r\n      <g>\r\n       <use style=\"stroke:#000000;stroke-width:0.8;\" x=\"1017.993382\" xlink:href=\"#ma467724af8\" y=\"641.35266\"/>\r\n      </g>\r\n     </g>\r\n     <g id=\"text_78\">\r\n      <!-- 80 -->\r\n      <g transform=\"translate(998.268382 645.151878)scale(0.1 -0.1)\">\r\n       <use xlink:href=\"#DejaVuSans-38\"/>\r\n       <use x=\"63.623047\" xlink:href=\"#DejaVuSans-30\"/>\r\n      </g>\r\n     </g>\r\n    </g>\r\n    <g id=\"ytick_36\">\r\n     <g id=\"line2d_74\">\r\n      <g>\r\n       <use style=\"stroke:#000000;stroke-width:0.8;\" x=\"1017.993382\" xlink:href=\"#ma467724af8\" y=\"586.116242\"/>\r\n      </g>\r\n     </g>\r\n     <g id=\"text_79\">\r\n      <!-- 100 -->\r\n      <g transform=\"translate(991.905882 589.915461)scale(0.1 -0.1)\">\r\n       <use xlink:href=\"#DejaVuSans-31\"/>\r\n       <use x=\"63.623047\" xlink:href=\"#DejaVuSans-30\"/>\r\n       <use x=\"127.246094\" xlink:href=\"#DejaVuSans-30\"/>\r\n      </g>\r\n     </g>\r\n    </g>\r\n    <g id=\"ytick_37\">\r\n     <g id=\"line2d_75\">\r\n      <g>\r\n       <use style=\"stroke:#000000;stroke-width:0.8;\" x=\"1017.993382\" xlink:href=\"#ma467724af8\" y=\"530.879824\"/>\r\n      </g>\r\n     </g>\r\n     <g id=\"text_80\">\r\n      <!-- 120 -->\r\n      <g transform=\"translate(991.905882 534.679043)scale(0.1 -0.1)\">\r\n       <use xlink:href=\"#DejaVuSans-31\"/>\r\n       <use x=\"63.623047\" xlink:href=\"#DejaVuSans-32\"/>\r\n       <use x=\"127.246094\" xlink:href=\"#DejaVuSans-30\"/>\r\n      </g>\r\n     </g>\r\n    </g>\r\n    <g id=\"ytick_38\">\r\n     <g id=\"line2d_76\">\r\n      <g>\r\n       <use style=\"stroke:#000000;stroke-width:0.8;\" x=\"1017.993382\" xlink:href=\"#ma467724af8\" y=\"475.643406\"/>\r\n      </g>\r\n     </g>\r\n     <g id=\"text_81\">\r\n      <!-- 140 -->\r\n      <g transform=\"translate(991.905882 479.442625)scale(0.1 -0.1)\">\r\n       <use xlink:href=\"#DejaVuSans-31\"/>\r\n       <use x=\"63.623047\" xlink:href=\"#DejaVuSans-34\"/>\r\n       <use x=\"127.246094\" xlink:href=\"#DejaVuSans-30\"/>\r\n      </g>\r\n     </g>\r\n    </g>\r\n   </g>\r\n   <g id=\"patch_28\">\r\n    <path d=\"M 1017.993382 837.718125 \r\nL 1017.993382 467.081761 \r\n\" style=\"fill:none;stroke:#000000;stroke-linecap:square;stroke-linejoin:miter;stroke-width:0.8;\"/>\r\n   </g>\r\n   <g id=\"patch_29\">\r\n    <path d=\"M 1428.2875 837.718125 \r\nL 1428.2875 467.081761 \r\n\" style=\"fill:none;stroke:#000000;stroke-linecap:square;stroke-linejoin:miter;stroke-width:0.8;\"/>\r\n   </g>\r\n   <g id=\"patch_30\">\r\n    <path d=\"M 1017.993382 837.718125 \r\nL 1428.2875 837.718125 \r\n\" style=\"fill:none;stroke:#000000;stroke-linecap:square;stroke-linejoin:miter;stroke-width:0.8;\"/>\r\n   </g>\r\n   <g id=\"patch_31\">\r\n    <path d=\"M 1017.993382 467.081761 \r\nL 1428.2875 467.081761 \r\n\" style=\"fill:none;stroke:#000000;stroke-linecap:square;stroke-linejoin:miter;stroke-width:0.8;\"/>\r\n   </g>\r\n   <g id=\"text_82\">\r\n    <!-- Spending Score (1-100) - Annual Income (k$) -->\r\n    <g transform=\"translate(1087.506691 461.081761)scale(0.12 -0.12)\">\r\n     <use xlink:href=\"#DejaVuSans-53\"/>\r\n     <use x=\"63.476562\" xlink:href=\"#DejaVuSans-70\"/>\r\n     <use x=\"126.953125\" xlink:href=\"#DejaVuSans-65\"/>\r\n     <use x=\"188.476562\" xlink:href=\"#DejaVuSans-6e\"/>\r\n     <use x=\"251.855469\" xlink:href=\"#DejaVuSans-64\"/>\r\n     <use x=\"315.332031\" xlink:href=\"#DejaVuSans-69\"/>\r\n     <use x=\"343.115234\" xlink:href=\"#DejaVuSans-6e\"/>\r\n     <use x=\"406.494141\" xlink:href=\"#DejaVuSans-67\"/>\r\n     <use x=\"469.970703\" xlink:href=\"#DejaVuSans-20\"/>\r\n     <use x=\"501.757812\" xlink:href=\"#DejaVuSans-53\"/>\r\n     <use x=\"565.234375\" xlink:href=\"#DejaVuSans-63\"/>\r\n     <use x=\"620.214844\" xlink:href=\"#DejaVuSans-6f\"/>\r\n     <use x=\"681.396484\" xlink:href=\"#DejaVuSans-72\"/>\r\n     <use x=\"720.259766\" xlink:href=\"#DejaVuSans-65\"/>\r\n     <use x=\"781.783203\" xlink:href=\"#DejaVuSans-20\"/>\r\n     <use x=\"813.570312\" xlink:href=\"#DejaVuSans-28\"/>\r\n     <use x=\"852.583984\" xlink:href=\"#DejaVuSans-31\"/>\r\n     <use x=\"916.207031\" xlink:href=\"#DejaVuSans-2d\"/>\r\n     <use x=\"952.291016\" xlink:href=\"#DejaVuSans-31\"/>\r\n     <use x=\"1015.914062\" xlink:href=\"#DejaVuSans-30\"/>\r\n     <use x=\"1079.537109\" xlink:href=\"#DejaVuSans-30\"/>\r\n     <use x=\"1143.160156\" xlink:href=\"#DejaVuSans-29\"/>\r\n     <use x=\"1182.173828\" xlink:href=\"#DejaVuSans-20\"/>\r\n     <use x=\"1213.960938\" xlink:href=\"#DejaVuSans-2d\"/>\r\n     <use x=\"1250.044922\" xlink:href=\"#DejaVuSans-20\"/>\r\n     <use x=\"1281.832031\" xlink:href=\"#DejaVuSans-41\"/>\r\n     <use x=\"1350.240234\" xlink:href=\"#DejaVuSans-6e\"/>\r\n     <use x=\"1413.619141\" xlink:href=\"#DejaVuSans-6e\"/>\r\n     <use x=\"1476.998047\" xlink:href=\"#DejaVuSans-75\"/>\r\n     <use x=\"1540.376953\" xlink:href=\"#DejaVuSans-61\"/>\r\n     <use x=\"1601.65625\" xlink:href=\"#DejaVuSans-6c\"/>\r\n     <use x=\"1629.439453\" xlink:href=\"#DejaVuSans-20\"/>\r\n     <use x=\"1661.226562\" xlink:href=\"#DejaVuSans-49\"/>\r\n     <use x=\"1690.71875\" xlink:href=\"#DejaVuSans-6e\"/>\r\n     <use x=\"1754.097656\" xlink:href=\"#DejaVuSans-63\"/>\r\n     <use x=\"1809.078125\" xlink:href=\"#DejaVuSans-6f\"/>\r\n     <use x=\"1870.259766\" xlink:href=\"#DejaVuSans-6d\"/>\r\n     <use x=\"1967.671875\" xlink:href=\"#DejaVuSans-65\"/>\r\n     <use x=\"2029.195312\" xlink:href=\"#DejaVuSans-20\"/>\r\n     <use x=\"2060.982422\" xlink:href=\"#DejaVuSans-28\"/>\r\n     <use x=\"2099.996094\" xlink:href=\"#DejaVuSans-6b\"/>\r\n     <use x=\"2157.90625\" xlink:href=\"#DejaVuSans-24\"/>\r\n     <use x=\"2221.529297\" xlink:href=\"#DejaVuSans-29\"/>\r\n    </g>\r\n   </g>\r\n  </g>\r\n </g>\r\n <defs>\r\n  <clipPath id=\"p6ed980e19e\">\r\n   <rect height=\"370.636364\" width=\"410.294118\" x=\"33.2875\" y=\"22.318125\"/>\r\n  </clipPath>\r\n  <clipPath id=\"pcf4c71ee95\">\r\n   <rect height=\"370.636364\" width=\"410.294118\" x=\"525.640441\" y=\"22.318125\"/>\r\n  </clipPath>\r\n  <clipPath id=\"pf517ca8e96\">\r\n   <rect height=\"370.636364\" width=\"410.294118\" x=\"1017.993382\" y=\"22.318125\"/>\r\n  </clipPath>\r\n  <clipPath id=\"pd2cb2bfd3e\">\r\n   <rect height=\"370.636364\" width=\"410.294118\" x=\"33.2875\" y=\"467.081761\"/>\r\n  </clipPath>\r\n  <clipPath id=\"p4b7212347b\">\r\n   <rect height=\"370.636364\" width=\"410.294118\" x=\"525.640441\" y=\"467.081761\"/>\r\n  </clipPath>\r\n  <clipPath id=\"p45ac74603f\">\r\n   <rect height=\"370.636364\" width=\"410.294118\" x=\"1017.993382\" y=\"467.081761\"/>\r\n  </clipPath>\r\n </defs>\r\n</svg>\r\n",
      "image/png": "[encoded data removed]"
     },
     "metadata": {
      "needs_background": "light"
     }
    }
   ],
   "source": [
    "plt.figure(figsize=(25, 15))\n",
    "plt.subplot(231), plt.scatter(df['Age'], df['Annual Income (k$)']), plt.title('Age - Annual Income (k$)')\n",
    "plt.subplot(232), plt.scatter(df['Age'], df['Spending Score (1-100)']), plt.title('Age - Spending Score (1-100)')\n",
    "plt.subplot(233), plt.scatter(df['Annual Income (k$)'], df['Spending Score (1-100)']), plt.title('Annual Income (k$) - Spending Score (1-100)')\n",
    "plt.subplot(234), plt.scatter(df['Annual Income (k$)'], df['Age']), plt.title('Annual Income (k$) - Age')\n",
    "plt.subplot(235), plt.scatter(df['Spending Score (1-100)'], df['Age']), plt.title('Spending Score (1-100) - Age')\n",
    "plt.subplot(236), plt.scatter(df['Spending Score (1-100)'], df['Annual Income (k$)']), plt.title('Spending Score (1-100) - Annual Income (k$)')\n",
    "plt.show()"
   ]
  },
  {
   "cell_type": "code",
   "execution_count": 6,
   "metadata": {},
   "outputs": [
    {
     "output_type": "execute_result",
     "data": {
      "text/plain": [
       "   Gender  Age  Annual Income (k$)  Spending Score (1-100)\n",
       "0       1   19                  15                      39\n",
       "1       1   21                  15                      81\n",
       "2       0   20                  16                       6\n",
       "3       0   23                  16                      77\n",
       "4       0   31                  17                      40"
      ],
      "text/html": "<div>\n<style scoped>\n    .dataframe tbody tr th:only-of-type {\n        vertical-align: middle;\n    }\n\n    .dataframe tbody tr th {\n        vertical-align: top;\n    }\n\n    .dataframe thead th {\n        text-align: right;\n    }\n</style>\n<table border=\"1\" class=\"dataframe\">\n  <thead>\n    <tr style=\"text-align: right;\">\n      <th></th>\n      <th>Gender</th>\n      <th>Age</th>\n      <th>Annual Income (k$)</th>\n      <th>Spending Score (1-100)</th>\n    </tr>\n  </thead>\n  <tbody>\n    <tr>\n      <th>0</th>\n      <td>1</td>\n      <td>19</td>\n      <td>15</td>\n      <td>39</td>\n    </tr>\n    <tr>\n      <th>1</th>\n      <td>1</td>\n      <td>21</td>\n      <td>15</td>\n      <td>81</td>\n    </tr>\n    <tr>\n      <th>2</th>\n      <td>0</td>\n      <td>20</td>\n      <td>16</td>\n      <td>6</td>\n    </tr>\n    <tr>\n      <th>3</th>\n      <td>0</td>\n      <td>23</td>\n      <td>16</td>\n      <td>77</td>\n    </tr>\n    <tr>\n      <th>4</th>\n      <td>0</td>\n      <td>31</td>\n      <td>17</td>\n      <td>40</td>\n    </tr>\n  </tbody>\n</table>\n</div>"
     },
     "metadata": {},
     "execution_count": 6
    }
   ],
   "source": [
    "df = df.drop(columns='CustomerID')\n",
    "\n",
    "le = LabelEncoder()\n",
    "df['Gender'] = le.fit_transform(df['Gender'])\n",
    "\n",
    "df.head()"
   ]
  },
  {
   "cell_type": "code",
   "execution_count": 7,
   "metadata": {},
   "outputs": [
    {
     "output_type": "stream",
     "name": "stdout",
     "text": [
      "Covariance matrix\n"
     ]
    },
    {
     "output_type": "execute_result",
     "data": {
      "text/plain": [
       "                          Gender         Age  Annual Income (k$)  \\\n",
       "Gender                  0.247638    0.423116            0.737286   \n",
       "Age                     0.423116  195.133166           -4.548744   \n",
       "Annual Income (k$)      0.737286   -4.548744          689.835578   \n",
       "Spending Score (1-100) -0.746734 -118.040201            6.716583   \n",
       "\n",
       "                        Spending Score (1-100)  \n",
       "Gender                               -0.746734  \n",
       "Age                                -118.040201  \n",
       "Annual Income (k$)                    6.716583  \n",
       "Spending Score (1-100)              666.854271  "
      ],
      "text/html": "<div>\n<style scoped>\n    .dataframe tbody tr th:only-of-type {\n        vertical-align: middle;\n    }\n\n    .dataframe tbody tr th {\n        vertical-align: top;\n    }\n\n    .dataframe thead th {\n        text-align: right;\n    }\n</style>\n<table border=\"1\" class=\"dataframe\">\n  <thead>\n    <tr style=\"text-align: right;\">\n      <th></th>\n      <th>Gender</th>\n      <th>Age</th>\n      <th>Annual Income (k$)</th>\n      <th>Spending Score (1-100)</th>\n    </tr>\n  </thead>\n  <tbody>\n    <tr>\n      <th>Gender</th>\n      <td>0.247638</td>\n      <td>0.423116</td>\n      <td>0.737286</td>\n      <td>-0.746734</td>\n    </tr>\n    <tr>\n      <th>Age</th>\n      <td>0.423116</td>\n      <td>195.133166</td>\n      <td>-4.548744</td>\n      <td>-118.040201</td>\n    </tr>\n    <tr>\n      <th>Annual Income (k$)</th>\n      <td>0.737286</td>\n      <td>-4.548744</td>\n      <td>689.835578</td>\n      <td>6.716583</td>\n    </tr>\n    <tr>\n      <th>Spending Score (1-100)</th>\n      <td>-0.746734</td>\n      <td>-118.040201</td>\n      <td>6.716583</td>\n      <td>666.854271</td>\n    </tr>\n  </tbody>\n</table>\n</div>"
     },
     "metadata": {},
     "execution_count": 7
    }
   ],
   "source": [
    "print('Covariance matrix')\n",
    "df.cov()"
   ]
  },
  {
   "cell_type": "code",
   "execution_count": 8,
   "metadata": {},
   "outputs": [
    {
     "output_type": "stream",
     "name": "stdout",
     "text": [
      "Correlation matrix\n"
     ]
    },
    {
     "output_type": "execute_result",
     "data": {
      "text/plain": [
       "                          Gender       Age  Annual Income (k$)  \\\n",
       "Gender                  1.000000  0.060867            0.056410   \n",
       "Age                     0.060867  1.000000           -0.012398   \n",
       "Annual Income (k$)      0.056410 -0.012398            1.000000   \n",
       "Spending Score (1-100) -0.058109 -0.327227            0.009903   \n",
       "\n",
       "                        Spending Score (1-100)  \n",
       "Gender                               -0.058109  \n",
       "Age                                  -0.327227  \n",
       "Annual Income (k$)                    0.009903  \n",
       "Spending Score (1-100)                1.000000  "
      ],
      "text/html": "<div>\n<style scoped>\n    .dataframe tbody tr th:only-of-type {\n        vertical-align: middle;\n    }\n\n    .dataframe tbody tr th {\n        vertical-align: top;\n    }\n\n    .dataframe thead th {\n        text-align: right;\n    }\n</style>\n<table border=\"1\" class=\"dataframe\">\n  <thead>\n    <tr style=\"text-align: right;\">\n      <th></th>\n      <th>Gender</th>\n      <th>Age</th>\n      <th>Annual Income (k$)</th>\n      <th>Spending Score (1-100)</th>\n    </tr>\n  </thead>\n  <tbody>\n    <tr>\n      <th>Gender</th>\n      <td>1.000000</td>\n      <td>0.060867</td>\n      <td>0.056410</td>\n      <td>-0.058109</td>\n    </tr>\n    <tr>\n      <th>Age</th>\n      <td>0.060867</td>\n      <td>1.000000</td>\n      <td>-0.012398</td>\n      <td>-0.327227</td>\n    </tr>\n    <tr>\n      <th>Annual Income (k$)</th>\n      <td>0.056410</td>\n      <td>-0.012398</td>\n      <td>1.000000</td>\n      <td>0.009903</td>\n    </tr>\n    <tr>\n      <th>Spending Score (1-100)</th>\n      <td>-0.058109</td>\n      <td>-0.327227</td>\n      <td>0.009903</td>\n      <td>1.000000</td>\n    </tr>\n  </tbody>\n</table>\n</div>"
     },
     "metadata": {},
     "execution_count": 8
    }
   ],
   "source": [
    "print('Correlation matrix')\n",
    "df.corr()"
   ]
  },
  {
   "cell_type": "code",
   "execution_count": 9,
   "metadata": {},
   "outputs": [
    {
     "output_type": "display_data",
     "data": {
      "application/vnd.plotly.v1+json": {
       "config": {
        "plotlyServerURL": "https://plot.ly"
       },
       "data": [
        {
         "hovertemplate": "Annual Income (k$)=%{x}<br>Spending Score (1-100)=%{y}<br>color=%{marker.color}<extra></extra>",
         "legendgroup": "",
         "marker": {
          "color": [
           2,
           4,
           2,
           4,
           2,
           4,
           2,
           4,
           2,
           4,
           2,
           4,
           2,
           4,
           2,
           4,
           2,
           4,
           2,
           4,
           2,
           4,
           2,
           4,
           2,
           4,
           2,
           4,
           2,
           4,
           2,
           4,
           2,
           4,
           2,
           4,
           2,
           4,
           2,
           4,
           2,
           4,
           2,
           0,
           2,
           4,
           0,
           0,
           0,
           0,
           0,
           0,
           0,
           0,
           0,
           0,
           0,
           0,
           0,
           0,
           0,
           0,
           0,
           0,
           0,
           0,
           0,
           0,
           0,
           0,
           0,
           0,
           0,
           0,
           0,
           0,
           0,
           0,
           0,
           0,
           0,
           0,
           0,
           0,
           0,
           0,
           0,
           0,
           0,
           0,
           0,
           0,
           0,
           0,
           0,
           0,
           0,
           0,
           0,
           0,
           0,
           0,
           0,
           0,
           0,
           0,
           0,
           0,
           0,
           0,
           0,
           0,
           0,
           0,
           0,
           0,
           0,
           0,
           0,
           0,
           0,
           0,
           0,
           1,
           3,
           1,
           0,
           1,
           3,
           1,
           3,
           1,
           0,
           1,
           3,
           1,
           3,
           1,
           3,
           1,
           3,
           1,
           0,
           1,
           3,
           1,
           3,
           1,
           3,
           1,
           3,
           1,
           3,
           1,
           3,
           1,
           3,
           1,
           3,
           1,
           3,
           1,
           3,
           1,
           3,
           1,
           3,
           1,
           3,
           1,
           3,
           1,
           3,
           1,
           3,
           1,
           3,
           1,
           3,
           1,
           3,
           1,
           3,
           1,
           3,
           1,
           3,
           1,
           3,
           1,
           3,
           1,
           3,
           1,
           3,
           1,
           3,
           1,
           3,
           1
          ],
          "coloraxis": "coloraxis",
          "symbol": "circle"
         },
         "mode": "markers",
         "name": "",
         "orientation": "v",
         "showlegend": false,
         "type": "scatter",
         "x": [
          15,
          15,
          16,
          16,
          17,
          17,
          18,
          18,
          19,
          19,
          19,
          19,
          20,
          20,
          20,
          20,
          21,
          21,
          23,
          23,
          24,
          24,
          25,
          25,
          28,
          28,
          28,
          28,
          29,
          29,
          30,
          30,
          33,
          33,
          33,
          33,
          34,
          34,
          37,
          37,
          38,
          38,
          39,
          39,
          39,
          39,
          40,
          40,
          40,
          40,
          42,
          42,
          43,
          43,
          43,
          43,
          44,
          44,
          46,
          46,
          46,
          46,
          47,
          47,
          48,
          48,
          48,
          48,
          48,
          48,
          49,
          49,
          50,
          50,
          54,
          54,
          54,
          54,
          54,
          54,
          54,
          54,
          54,
          54,
          54,
          54,
          57,
          57,
          58,
          58,
          59,
          59,
          60,
          60,
          60,
          60,
          60,
          60,
          61,
          61,
          62,
          62,
          62,
          62,
          62,
          62,
          63,
          63,
          63,
          63,
          63,
          63,
          64,
          64,
          65,
          65,
          65,
          65,
          67,
          67,
          67,
          67,
          69,
          69,
          70,
          70,
          71,
          71,
          71,
          71,
          71,
          71,
          72,
          72,
          73,
          73,
          73,
          73,
          74,
          74,
          75,
          75,
          76,
          76,
          77,
          77,
          77,
          77,
          78,
          78,
          78,
          78,
          78,
          78,
          78,
          78,
          78,
          78,
          78,
          78,
          79,
          79,
          81,
          81,
          85,
          85,
          86,
          86,
          87,
          87,
          87,
          87,
          87,
          87,
          88,
          88,
          88,
          88,
          93,
          93,
          97,
          97,
          98,
          98,
          99,
          99,
          101,
          101,
          103,
          103,
          103,
          103,
          113,
          113,
          120,
          120,
          126,
          126,
          137,
          137
         ],
         "xaxis": "x",
         "y": [
          39,
          81,
          6,
          77,
          40,
          76,
          6,
          94,
          3,
          72,
          14,
          99,
          15,
          77,
          13,
          79,
          35,
          66,
          29,
          98,
          35,
          73,
          5,
          73,
          14,
          82,
          32,
          61,
          31,
          87,
          4,
          73,
          4,
          92,
          14,
          81,
          17,
          73,
          26,
          75,
          35,
          92,
          36,
          61,
          28,
          65,
          55,
          47,
          42,
          42,
          52,
          60,
          54,
          60,
          45,
          41,
          50,
          46,
          51,
          46,
          56,
          55,
          52,
          59,
          51,
          59,
          50,
          48,
          59,
          47,
          55,
          42,
          49,
          56,
          47,
          54,
          53,
          48,
          52,
          42,
          51,
          55,
          41,
          44,
          57,
          46,
          58,
          55,
          60,
          46,
          55,
          41,
          49,
          40,
          42,
          52,
          47,
          50,
          42,
          49,
          41,
          48,
          59,
          55,
          56,
          42,
          50,
          46,
          43,
          48,
          52,
          54,
          42,
          46,
          48,
          50,
          43,
          59,
          43,
          57,
          56,
          40,
          58,
          91,
          29,
          77,
          35,
          95,
          11,
          75,
          9,
          75,
          34,
          71,
          5,
          88,
          7,
          73,
          10,
          72,
          5,
          93,
          40,
          87,
          12,
          97,
          36,
          74,
          22,
          90,
          17,
          88,
          20,
          76,
          16,
          89,
          1,
          78,
          1,
          73,
          35,
          83,
          5,
          93,
          26,
          75,
          20,
          95,
          27,
          63,
          13,
          75,
          10,
          92,
          13,
          86,
          15,
          69,
          14,
          90,
          32,
          86,
          15,
          88,
          39,
          97,
          24,
          68,
          17,
          85,
          23,
          69,
          8,
          91,
          16,
          79,
          28,
          74,
          18,
          83
         ],
         "yaxis": "y"
        }
       ],
       "layout": {
        "coloraxis": {
         "colorbar": {
          "title": {
           "text": "color"
          }
         },
         "colorscale": [
          [
           0,
           "#0d0887"
          ],
          [
           0.1111111111111111,
           "#46039f"
          ],
          [
           0.2222222222222222,
           "#7201a8"
          ],
          [
           0.3333333333333333,
           "#9c179e"
          ],
          [
           0.4444444444444444,
           "#bd3786"
          ],
          [
           0.5555555555555556,
           "#d8576b"
          ],
          [
           0.6666666666666666,
           "#ed7953"
          ],
          [
           0.7777777777777778,
           "#fb9f3a"
          ],
          [
           0.8888888888888888,
           "#fdca26"
          ],
          [
           1,
           "#f0f921"
          ]
         ]
        },
        "legend": {
         "tracegroupgap": 0
        },
        "margin": {
         "t": 60
        },
        "template": {
         "data": {
          "bar": [
           {
            "error_x": {
             "color": "#2a3f5f"
            },
            "error_y": {
             "color": "#2a3f5f"
            },
            "marker": {
             "line": {
              "color": "#E5ECF6",
              "width": 0.5
             }
            },
            "type": "bar"
           }
          ],
          "barpolar": [
           {
            "marker": {
             "line": {
              "color": "#E5ECF6",
              "width": 0.5
             }
            },
            "type": "barpolar"
           }
          ],
          "carpet": [
           {
            "aaxis": {
             "endlinecolor": "#2a3f5f",
             "gridcolor": "white",
             "linecolor": "white",
             "minorgridcolor": "white",
             "startlinecolor": "#2a3f5f"
            },
            "baxis": {
             "endlinecolor": "#2a3f5f",
             "gridcolor": "white",
             "linecolor": "white",
             "minorgridcolor": "white",
             "startlinecolor": "#2a3f5f"
            },
            "type": "carpet"
           }
          ],
          "choropleth": [
           {
            "colorbar": {
             "outlinewidth": 0,
             "ticks": ""
            },
            "type": "choropleth"
           }
          ],
          "contour": [
           {
            "colorbar": {
             "outlinewidth": 0,
             "ticks": ""
            },
            "colorscale": [
             [
              0,
              "#0d0887"
             ],
             [
              0.1111111111111111,
              "#46039f"
             ],
             [
              0.2222222222222222,
              "#7201a8"
             ],
             [
              0.3333333333333333,
              "#9c179e"
             ],
             [
              0.4444444444444444,
              "#bd3786"
             ],
             [
              0.5555555555555556,
              "#d8576b"
             ],
             [
              0.6666666666666666,
              "#ed7953"
             ],
             [
              0.7777777777777778,
              "#fb9f3a"
             ],
             [
              0.8888888888888888,
              "#fdca26"
             ],
             [
              1,
              "#f0f921"
             ]
            ],
            "type": "contour"
           }
          ],
          "contourcarpet": [
           {
            "colorbar": {
             "outlinewidth": 0,
             "ticks": ""
            },
            "type": "contourcarpet"
           }
          ],
          "heatmap": [
           {
            "colorbar": {
             "outlinewidth": 0,
             "ticks": ""
            },
            "colorscale": [
             [
              0,
              "#0d0887"
             ],
             [
              0.1111111111111111,
              "#46039f"
             ],
             [
              0.2222222222222222,
              "#7201a8"
             ],
             [
              0.3333333333333333,
              "#9c179e"
             ],
             [
              0.4444444444444444,
              "#bd3786"
             ],
             [
              0.5555555555555556,
              "#d8576b"
             ],
             [
              0.6666666666666666,
              "#ed7953"
             ],
             [
              0.7777777777777778,
              "#fb9f3a"
             ],
             [
              0.8888888888888888,
              "#fdca26"
             ],
             [
              1,
              "#f0f921"
             ]
            ],
            "type": "heatmap"
           }
          ],
          "heatmapgl": [
           {
            "colorbar": {
             "outlinewidth": 0,
             "ticks": ""
            },
            "colorscale": [
             [
              0,
              "#0d0887"
             ],
             [
              0.1111111111111111,
              "#46039f"
             ],
             [
              0.2222222222222222,
              "#7201a8"
             ],
             [
              0.3333333333333333,
              "#9c179e"
             ],
             [
              0.4444444444444444,
              "#bd3786"
             ],
             [
              0.5555555555555556,
              "#d8576b"
             ],
             [
              0.6666666666666666,
              "#ed7953"
             ],
             [
              0.7777777777777778,
              "#fb9f3a"
             ],
             [
              0.8888888888888888,
              "#fdca26"
             ],
             [
              1,
              "#f0f921"
             ]
            ],
            "type": "heatmapgl"
           }
          ],
          "histogram": [
           {
            "marker": {
             "colorbar": {
              "outlinewidth": 0,
              "ticks": ""
             }
            },
            "type": "histogram"
           }
          ],
          "histogram2d": [
           {
            "colorbar": {
             "outlinewidth": 0,
             "ticks": ""
            },
            "colorscale": [
             [
              0,
              "#0d0887"
             ],
             [
              0.1111111111111111,
              "#46039f"
             ],
             [
              0.2222222222222222,
              "#7201a8"
             ],
             [
              0.3333333333333333,
              "#9c179e"
             ],
             [
              0.4444444444444444,
              "#bd3786"
             ],
             [
              0.5555555555555556,
              "#d8576b"
             ],
             [
              0.6666666666666666,
              "#ed7953"
             ],
             [
              0.7777777777777778,
              "#fb9f3a"
             ],
             [
              0.8888888888888888,
              "#fdca26"
             ],
             [
              1,
              "#f0f921"
             ]
            ],
            "type": "histogram2d"
           }
          ],
          "histogram2dcontour": [
           {
            "colorbar": {
             "outlinewidth": 0,
             "ticks": ""
            },
            "colorscale": [
             [
              0,
              "#0d0887"
             ],
             [
              0.1111111111111111,
              "#46039f"
             ],
             [
              0.2222222222222222,
              "#7201a8"
             ],
             [
              0.3333333333333333,
              "#9c179e"
             ],
             [
              0.4444444444444444,
              "#bd3786"
             ],
             [
              0.5555555555555556,
              "#d8576b"
             ],
             [
              0.6666666666666666,
              "#ed7953"
             ],
             [
              0.7777777777777778,
              "#fb9f3a"
             ],
             [
              0.8888888888888888,
              "#fdca26"
             ],
             [
              1,
              "#f0f921"
             ]
            ],
            "type": "histogram2dcontour"
           }
          ],
          "mesh3d": [
           {
            "colorbar": {
             "outlinewidth": 0,
             "ticks": ""
            },
            "type": "mesh3d"
           }
          ],
          "parcoords": [
           {
            "line": {
             "colorbar": {
              "outlinewidth": 0,
              "ticks": ""
             }
            },
            "type": "parcoords"
           }
          ],
          "pie": [
           {
            "automargin": true,
            "type": "pie"
           }
          ],
          "scatter": [
           {
            "marker": {
             "colorbar": {
              "outlinewidth": 0,
              "ticks": ""
             }
            },
            "type": "scatter"
           }
          ],
          "scatter3d": [
           {
            "line": {
             "colorbar": {
              "outlinewidth": 0,
              "ticks": ""
             }
            },
            "marker": {
             "colorbar": {
              "outlinewidth": 0,
              "ticks": ""
             }
            },
            "type": "scatter3d"
           }
          ],
          "scattercarpet": [
           {
            "marker": {
             "colorbar": {
              "outlinewidth": 0,
              "ticks": ""
             }
            },
            "type": "scattercarpet"
           }
          ],
          "scattergeo": [
           {
            "marker": {
             "colorbar": {
              "outlinewidth": 0,
              "ticks": ""
             }
            },
            "type": "scattergeo"
           }
          ],
          "scattergl": [
           {
            "marker": {
             "colorbar": {
              "outlinewidth": 0,
              "ticks": ""
             }
            },
            "type": "scattergl"
           }
          ],
          "scattermapbox": [
           {
            "marker": {
             "colorbar": {
              "outlinewidth": 0,
              "ticks": ""
             }
            },
            "type": "scattermapbox"
           }
          ],
          "scatterpolar": [
           {
            "marker": {
             "colorbar": {
              "outlinewidth": 0,
              "ticks": ""
             }
            },
            "type": "scatterpolar"
           }
          ],
          "scatterpolargl": [
           {
            "marker": {
             "colorbar": {
              "outlinewidth": 0,
              "ticks": ""
             }
            },
            "type": "scatterpolargl"
           }
          ],
          "scatterternary": [
           {
            "marker": {
             "colorbar": {
              "outlinewidth": 0,
              "ticks": ""
             }
            },
            "type": "scatterternary"
           }
          ],
          "surface": [
           {
            "colorbar": {
             "outlinewidth": 0,
             "ticks": ""
            },
            "colorscale": [
             [
              0,
              "#0d0887"
             ],
             [
              0.1111111111111111,
              "#46039f"
             ],
             [
              0.2222222222222222,
              "#7201a8"
             ],
             [
              0.3333333333333333,
              "#9c179e"
             ],
             [
              0.4444444444444444,
              "#bd3786"
             ],
             [
              0.5555555555555556,
              "#d8576b"
             ],
             [
              0.6666666666666666,
              "#ed7953"
             ],
             [
              0.7777777777777778,
              "#fb9f3a"
             ],
             [
              0.8888888888888888,
              "#fdca26"
             ],
             [
              1,
              "#f0f921"
             ]
            ],
            "type": "surface"
           }
          ],
          "table": [
           {
            "cells": {
             "fill": {
              "color": "#EBF0F8"
             },
             "line": {
              "color": "white"
             }
            },
            "header": {
             "fill": {
              "color": "#C8D4E3"
             },
             "line": {
              "color": "white"
             }
            },
            "type": "table"
           }
          ]
         },
         "layout": {
          "annotationdefaults": {
           "arrowcolor": "#2a3f5f",
           "arrowhead": 0,
           "arrowwidth": 1
          },
          "autotypenumbers": "strict",
          "coloraxis": {
           "colorbar": {
            "outlinewidth": 0,
            "ticks": ""
           }
          },
          "colorscale": {
           "diverging": [
            [
             0,
             "#8e0152"
            ],
            [
             0.1,
             "#c51b7d"
            ],
            [
             0.2,
             "#de77ae"
            ],
            [
             0.3,
             "#f1b6da"
            ],
            [
             0.4,
             "#fde0ef"
            ],
            [
             0.5,
             "#f7f7f7"
            ],
            [
             0.6,
             "#e6f5d0"
            ],
            [
             0.7,
             "#b8e186"
            ],
            [
             0.8,
             "#7fbc41"
            ],
            [
             0.9,
             "#4d9221"
            ],
            [
             1,
             "#276419"
            ]
           ],
           "sequential": [
            [
             0,
             "#0d0887"
            ],
            [
             0.1111111111111111,
             "#46039f"
            ],
            [
             0.2222222222222222,
             "#7201a8"
            ],
            [
             0.3333333333333333,
             "#9c179e"
            ],
            [
             0.4444444444444444,
             "#bd3786"
            ],
            [
             0.5555555555555556,
             "#d8576b"
            ],
            [
             0.6666666666666666,
             "#ed7953"
            ],
            [
             0.7777777777777778,
             "#fb9f3a"
            ],
            [
             0.8888888888888888,
             "#fdca26"
            ],
            [
             1,
             "#f0f921"
            ]
           ],
           "sequentialminus": [
            [
             0,
             "#0d0887"
            ],
            [
             0.1111111111111111,
             "#46039f"
            ],
            [
             0.2222222222222222,
             "#7201a8"
            ],
            [
             0.3333333333333333,
             "#9c179e"
            ],
            [
             0.4444444444444444,
             "#bd3786"
            ],
            [
             0.5555555555555556,
             "#d8576b"
            ],
            [
             0.6666666666666666,
             "#ed7953"
            ],
            [
             0.7777777777777778,
             "#fb9f3a"
            ],
            [
             0.8888888888888888,
             "#fdca26"
            ],
            [
             1,
             "#f0f921"
            ]
           ]
          },
          "colorway": [
           "#636efa",
           "#EF553B",
           "#00cc96",
           "#ab63fa",
           "#FFA15A",
           "#19d3f3",
           "#FF6692",
           "#B6E880",
           "#FF97FF",
           "#FECB52"
          ],
          "font": {
           "color": "#2a3f5f"
          },
          "geo": {
           "bgcolor": "white",
           "lakecolor": "white",
           "landcolor": "#E5ECF6",
           "showlakes": true,
           "showland": true,
           "subunitcolor": "white"
          },
          "hoverlabel": {
           "align": "left"
          },
          "hovermode": "closest",
          "mapbox": {
           "style": "light"
          },
          "paper_bgcolor": "white",
          "plot_bgcolor": "#E5ECF6",
          "polar": {
           "angularaxis": {
            "gridcolor": "white",
            "linecolor": "white",
            "ticks": ""
           },
           "bgcolor": "#E5ECF6",
           "radialaxis": {
            "gridcolor": "white",
            "linecolor": "white",
            "ticks": ""
           }
          },
          "scene": {
           "xaxis": {
            "backgroundcolor": "#E5ECF6",
            "gridcolor": "white",
            "gridwidth": 2,
            "linecolor": "white",
            "showbackground": true,
            "ticks": "",
            "zerolinecolor": "white"
           },
           "yaxis": {
            "backgroundcolor": "#E5ECF6",
            "gridcolor": "white",
            "gridwidth": 2,
            "linecolor": "white",
            "showbackground": true,
            "ticks": "",
            "zerolinecolor": "white"
           },
           "zaxis": {
            "backgroundcolor": "#E5ECF6",
            "gridcolor": "white",
            "gridwidth": 2,
            "linecolor": "white",
            "showbackground": true,
            "ticks": "",
            "zerolinecolor": "white"
           }
          },
          "shapedefaults": {
           "line": {
            "color": "#2a3f5f"
           }
          },
          "ternary": {
           "aaxis": {
            "gridcolor": "white",
            "linecolor": "white",
            "ticks": ""
           },
           "baxis": {
            "gridcolor": "white",
            "linecolor": "white",
            "ticks": ""
           },
           "bgcolor": "#E5ECF6",
           "caxis": {
            "gridcolor": "white",
            "linecolor": "white",
            "ticks": ""
           }
          },
          "title": {
           "x": 0.05
          },
          "xaxis": {
           "automargin": true,
           "gridcolor": "white",
           "linecolor": "white",
           "ticks": "",
           "title": {
            "standoff": 15
           },
           "zerolinecolor": "white",
           "zerolinewidth": 2
          },
          "yaxis": {
           "automargin": true,
           "gridcolor": "white",
           "linecolor": "white",
           "ticks": "",
           "title": {
            "standoff": 15
           },
           "zerolinecolor": "white",
           "zerolinewidth": 2
          }
         }
        },
        "xaxis": {
         "anchor": "y",
         "domain": [
          0,
          1
         ],
         "title": {
          "text": "Annual Income (k$)"
         }
        },
        "yaxis": {
         "anchor": "x",
         "domain": [
          0,
          1
         ],
         "title": {
          "text": "Spending Score (1-100)"
         }
        }
       }
      }
     },
     "metadata": {}
    }
   ],
   "source": [
    "# Kmeans clustering\n",
    "\n",
    "kmeans = KMeans(n_clusters=5)\n",
    "y_kmeans = kmeans.fit_predict(df[['Annual Income (k$)', 'Spending Score (1-100)']])\n",
    "\n",
    "px.scatter(df, x='Annual Income (k$)', y='Spending Score (1-100)', color=y_kmeans).show()"
   ]
  },
  {
   "cell_type": "code",
   "execution_count": 10,
   "metadata": {},
   "outputs": [
    {
     "output_type": "execute_result",
     "data": {
      "text/plain": [
       "   Gender       Age  Annual Income (k$)  Spending Score (1-100)\n",
       "0       1 -1.424569           -1.738999               -0.434801\n",
       "1       1 -1.281035           -1.738999                1.195704\n",
       "2       0 -1.352802           -1.700830               -1.715913\n",
       "3       0 -1.137502           -1.700830                1.040418\n",
       "4       0 -0.563369           -1.662660               -0.395980"
      ],
      "text/html": "<div>\n<style scoped>\n    .dataframe tbody tr th:only-of-type {\n        vertical-align: middle;\n    }\n\n    .dataframe tbody tr th {\n        vertical-align: top;\n    }\n\n    .dataframe thead th {\n        text-align: right;\n    }\n</style>\n<table border=\"1\" class=\"dataframe\">\n  <thead>\n    <tr style=\"text-align: right;\">\n      <th></th>\n      <th>Gender</th>\n      <th>Age</th>\n      <th>Annual Income (k$)</th>\n      <th>Spending Score (1-100)</th>\n    </tr>\n  </thead>\n  <tbody>\n    <tr>\n      <th>0</th>\n      <td>1</td>\n      <td>-1.424569</td>\n      <td>-1.738999</td>\n      <td>-0.434801</td>\n    </tr>\n    <tr>\n      <th>1</th>\n      <td>1</td>\n      <td>-1.281035</td>\n      <td>-1.738999</td>\n      <td>1.195704</td>\n    </tr>\n    <tr>\n      <th>2</th>\n      <td>0</td>\n      <td>-1.352802</td>\n      <td>-1.700830</td>\n      <td>-1.715913</td>\n    </tr>\n    <tr>\n      <th>3</th>\n      <td>0</td>\n      <td>-1.137502</td>\n      <td>-1.700830</td>\n      <td>1.040418</td>\n    </tr>\n    <tr>\n      <th>4</th>\n      <td>0</td>\n      <td>-0.563369</td>\n      <td>-1.662660</td>\n      <td>-0.395980</td>\n    </tr>\n  </tbody>\n</table>\n</div>"
     },
     "metadata": {},
     "execution_count": 10
    }
   ],
   "source": [
    "# Kmeans clustering with PCA\n",
    "\n",
    "df_PCA = StandardScaler().fit_transform(df.drop(columns='Gender'))\n",
    "df_PCA = pd.DataFrame(data=df_PCA, columns=['Age', 'Annual Income (k$)', 'Spending Score (1-100)'])\n",
    "df_PCA = pd.concat([df['Gender'], df_PCA], axis=1)\n",
    "df_PCA.head()"
   ]
  },
  {
   "cell_type": "code",
   "execution_count": 11,
   "metadata": {},
   "outputs": [
    {
     "output_type": "stream",
     "name": "stdout",
     "text": [
      "[0.4095285 0.3081674]\n0.7176959022847653\n"
     ]
    }
   ],
   "source": [
    "n = 2\n",
    "pca = PCA(n)\n",
    "df_PCA = pca.fit_transform(df_PCA)\n",
    "df_PCA = pd.DataFrame(data=df_PCA, columns=[f'PC{i + 1}' for i in range(n)])\n",
    "print(pca.explained_variance_ratio_)\n",
    "print(pca.explained_variance_ratio_.sum())"
   ]
  },
  {
   "cell_type": "code",
   "execution_count": 12,
   "metadata": {},
   "outputs": [
    {
     "output_type": "execute_result",
     "data": {
      "text/plain": [
       "     0                   1\n",
       "0  PC1                 Age\n",
       "1  PC2  Annual Income (k$)"
      ],
      "text/html": "<div>\n<style scoped>\n    .dataframe tbody tr th:only-of-type {\n        vertical-align: middle;\n    }\n\n    .dataframe tbody tr th {\n        vertical-align: top;\n    }\n\n    .dataframe thead th {\n        text-align: right;\n    }\n</style>\n<table border=\"1\" class=\"dataframe\">\n  <thead>\n    <tr style=\"text-align: right;\">\n      <th></th>\n      <th>0</th>\n      <th>1</th>\n    </tr>\n  </thead>\n  <tbody>\n    <tr>\n      <th>0</th>\n      <td>PC1</td>\n      <td>Age</td>\n    </tr>\n    <tr>\n      <th>1</th>\n      <td>PC2</td>\n      <td>Annual Income (k$)</td>\n    </tr>\n  </tbody>\n</table>\n</div>"
     },
     "metadata": {},
     "execution_count": 12
    }
   ],
   "source": [
    "most_important = [np.abs(pca.components_[i]).argmax() for i in range(n)]\n",
    "most_important_names = [list(df)[most_important[i]] for i in range(n)]\n",
    "dic = {f'PC{i + 1}': most_important_names[i] for i in range(n)}\n",
    "pd.DataFrame(dic.items())"
   ]
  },
  {
   "cell_type": "code",
   "execution_count": 13,
   "metadata": {},
   "outputs": [
    {
     "output_type": "display_data",
     "data": {
      "application/vnd.plotly.v1+json": {
       "config": {
        "plotlyServerURL": "https://plot.ly"
       },
       "data": [
        {
         "hovertemplate": "PC1=%{x}<br>PC2=%{y}<br>color=%{marker.color}<extra></extra>",
         "legendgroup": "",
         "marker": {
          "color": [
           2,
           2,
           0,
           2,
           2,
           2,
           0,
           2,
           0,
           2,
           0,
           2,
           0,
           2,
           0,
           2,
           0,
           2,
           0,
           2,
           0,
           2,
           0,
           2,
           0,
           2,
           0,
           2,
           0,
           2,
           0,
           2,
           0,
           2,
           0,
           2,
           0,
           2,
           0,
           2,
           0,
           2,
           0,
           2,
           0,
           2,
           0,
           4,
           4,
           4,
           0,
           4,
           4,
           0,
           0,
           0,
           0,
           0,
           4,
           0,
           0,
           2,
           0,
           0,
           0,
           2,
           4,
           0,
           2,
           4,
           0,
           0,
           0,
           0,
           0,
           4,
           4,
           4,
           4,
           0,
           0,
           4,
           0,
           0,
           4,
           0,
           0,
           4,
           4,
           0,
           0,
           4,
           4,
           4,
           4,
           4,
           4,
           4,
           0,
           4,
           4,
           4,
           0,
           4,
           4,
           4,
           0,
           0,
           0,
           0,
           0,
           4,
           4,
           4,
           4,
           4,
           0,
           4,
           3,
           4,
           4,
           4,
           4,
           1,
           4,
           1,
           3,
           1,
           3,
           4,
           3,
           4,
           4,
           1,
           4,
           1,
           3,
           1,
           4,
           1,
           3,
           1,
           4,
           1,
           3,
           1,
           3,
           1,
           3,
           1,
           3,
           1,
           3,
           1,
           3,
           1,
           3,
           1,
           3,
           1,
           3,
           1,
           3,
           1,
           3,
           1,
           3,
           1,
           3,
           1,
           3,
           1,
           3,
           1,
           3,
           1,
           3,
           1,
           3,
           1,
           3,
           1,
           3,
           1,
           3,
           1,
           3,
           1,
           3,
           1,
           3,
           1,
           3,
           1,
           3,
           1,
           3,
           1,
           3,
           1
          ],
          "coloraxis": "coloraxis",
          "symbol": "circle"
         },
         "mode": "markers",
         "name": "",
         "orientation": "v",
         "showlegend": false,
         "type": "scatter",
         "x": [
          -0.6004376608551455,
          -1.649885908648479,
          0.3153813197465888,
          -1.477988682463457,
          -0.06054495661621029,
          -1.5029611999226185,
          1.072021032912157,
          -1.947188777429968,
          2.6592759460931887,
          -0.9914102650262796,
          2.5098881727835156,
          -1.4778539869391225,
          1.987420661490389,
          -1.4341292864678035,
          1.01549562498887,
          -1.5529296700785131,
          0.27232192710986886,
          -1.2997753979760651,
          1.332037512058637,
          -1.457264543346928,
          0.3045525683989924,
          -1.2433327387558923,
          1.6448689997403574,
          -0.9410173665008059,
          1.7985212199859126,
          -1.2940617084399006,
          0.8492996453496164,
          -0.4146499910139804,
          0.6216485030165951,
          -1.7741190663376565,
          2.4104694017915906,
          -1.4935650904202025,
          2.0506741130952273,
          -2.1339377902715913,
          1.5366601136150733,
          -1.717870416107361,
          1.0980708435850972,
          -1.0443484446768294,
          0.5423478767721429,
          -1.6109521096586004,
          1.7634680077168676,
          -1.838432678239316,
          0.9103199195884872,
          -0.6733951679568044,
          1.1428488698707695,
          -1.137681576746084,
          0.4520239580283639,
          -0.4941805044762803,
          -0.2558426729643195,
          -0.15450336052738944,
          0.4801482831435117,
          -0.5124255104157448,
          -0.4884075014745726,
          0.8032829862086406,
          0.7209133010113172,
          0.7158414840721795,
          0.6328818730990481,
          1.6918728367476743,
          -0.6139947100705226,
          0.8777532071408297,
          1.4651403247046717,
          -1.0916124386220347,
          1.3836892697973662,
          0.5331858122522785,
          1.2440461201390425,
          -1.2552860402119304,
          0.22071436312851692,
          1.5422551762201526,
          -1.2046163839934656,
          -0.25445274382957883,
          1.4874323333525694,
          0.6408880534667234,
          1.1060930925460213,
          0.914295165840978,
          1.1407509201909896,
          -0.7231456617233969,
          0.22963917378621077,
          0.1506277482251495,
          -0.8576935592050119,
          0.7337145406251389,
          0.929812792494035,
          -0.14250949091682374,
          1.7105063928287467,
          0.5269061643397316,
          -1.096031390716973,
          0.6107844056028816,
          0.5942295217287203,
          -0.9956700220356044,
          -0.5263352315447587,
          0.6679751213607674,
          1.3317290339023773,
          -0.7808195871545505,
          0.5183699038236456,
          0.3222716519547492,
          -0.13788500542298274,
          -0.7799009568645318,
          0.4851613187789605,
          -0.610430917035357,
          0.708465265472986,
          -0.9020830353490759,
          -0.569917337685567,
          0.5556957972894785,
          1.2036912037130119,
          -0.7641658859840263,
          0.37383650322566137,
          -0.6986563539375031,
          1.360577980317667,
          0.8994792574123449,
          1.6910535559158724,
          1.4527157244039122,
          1.2924472529254223,
          -1.1304946772102107,
          0.1593226716649953,
          -0.8756612752896312,
          -1.0201712406500438,
          -1.0243009920615913,
          1.3969618082559099,
          0.24919136015730148,
          0.7855208035229247,
          0.35125529389437304,
          -0.7494087588590822,
          0.2090143841278991,
          -0.18624610221668855,
          -1.1037676478741256,
          -0.25474141235111564,
          -1.1645699457236935,
          0.6298892605286758,
          -1.1661019370270913,
          2.0981966515842627,
          -0.7194471731638973,
          1.5449601845926966,
          -0.6687775169454321,
          -0.29380574910062257,
          -1.0035768529450622,
          0.28307315184276216,
          -1.5724136952928007,
          1.4070071569996758,
          -0.9720708329560802,
          0.09370241149356304,
          -0.8317030619976143,
          2.1171069653583263,
          -1.5234700393676102,
          -0.31300526355807656,
          -1.3981127179895079,
          0.3378132460072315,
          -1.8391526096129007,
          0.845622447471777,
          -1.0436191334501306,
          0.48080221231141895,
          -1.3450393106527705,
          1.1111659738088668,
          -1.0368916219304334,
          1.0422981821260808,
          -0.7961031688250562,
          1.3039059660415004,
          -1.709665536823251,
          1.2455432975381768,
          -1.2562598262027882,
          1.0935343288827815,
          -1.1192613071277568,
          1.2376359344668637,
          -1.445630566551987,
          0.2187829751786738,
          -1.6216934223765247,
          1.2073382776131454,
          -0.8819607328369002,
          0.9646766856997601,
          -1.5836663428481221,
          0.42981992017199167,
          -0.721909705585859,
          1.0534327349121706,
          -1.2533847762397932,
          0.9329532214833295,
          -1.3138224913471794,
          1.6224277080218148,
          -1.492483107279867,
          1.9089845741588243,
          -1.1413587746239238,
          1.9785411089137805,
          -1.3199081302698492,
          0.32646540675839664,
          -1.4064668803442633,
          1.2839230489802158,
          -1.6149778216853734,
          0.3339409748158072,
          -1.7752697284014347,
          1.4002369327695385,
          -1.0854227603145903,
          0.9299241985231322,
          -1.1866039419896144,
          0.4108383821038402,
          -0.9508873058233748,
          0.7914769690096716,
          -1.266688502999751,
          1.2323982337019785,
          -1.1018189812649917,
          0.7920470851507567,
          -1.0897064847233404,
          0.4259487133042751,
          -1.4563713471080582
         ],
         "xaxis": "x",
         "y": [
          -1.7371789798073682,
          -1.7891242332641004,
          -1.6927723093810711,
          -1.781316640388348,
          -1.6786912135399248,
          -1.743806502358443,
          -1.5877379324692455,
          -1.7276905716715025,
          -1.4504640970860585,
          -1.6469115467945232,
          -1.4593100469269855,
          -1.673166784920097,
          -1.4792838592935191,
          -1.626980280280536,
          -1.4775323026129217,
          -1.594027622093754,
          -1.511947901628681,
          -1.5424996145104353,
          -1.355647188988466,
          -1.5194239251393695,
          -1.358184102305674,
          -1.427877810509594,
          -1.298544284139129,
          -1.3782433320734655,
          -1.1808136728042624,
          -1.2797307875371644,
          -1.222019447272876,
          -1.240305514049803,
          -1.1921965359623978,
          -1.2992524052752183,
          -1.0403396082313798,
          -1.2463960913391277,
          -0.93948133991941,
          -1.1236355327583678,
          -0.9999045144186011,
          -1.1427116270903415,
          -0.9792384418789258,
          -1.0766852777924636,
          -0.888413124062051,
          -0.9842490422256077,
          -0.8065318491641741,
          -0.9215865008942841,
          -0.762974346465479,
          -0.8683056030943932,
          -0.7898789732154832,
          -0.8870714752644792,
          -0.7857177997034949,
          -0.8192929025180159,
          -0.8088077573944407,
          -0.8049641440347273,
          -0.7074474106110561,
          -0.7093698840589004,
          -0.7065929051970306,
          -0.6212992720256408,
          -0.6581238211048034,
          -0.6191231314812427,
          -0.6247399078318205,
          -0.5453812779312714,
          -0.5959842977871731,
          -0.49992290809499923,
          -0.4805352580651622,
          -0.5772190923850749,
          -0.4823366985886938,
          -0.5166183298962367,
          -0.41113909634631834,
          -0.5082468477620439,
          -0.48769980784271794,
          -0.4369980281407585,
          -0.5063250410821873,
          -0.5048547622628227,
          -0.36489603664142345,
          -0.4312824919441231,
          -0.3774935112184059,
          -0.38679165568781326,
          -0.18489126751272184,
          -0.2576090324173961,
          -0.2592192833993893,
          -0.22273390078276922,
          -0.3001707240034614,
          -0.2369206867994657,
          -0.1940481062835249,
          -0.2358756586118897,
          -0.16154697595723438,
          -0.24534271954458037,
          -0.3106558691270369,
          -0.2047028346383716,
          -0.13233183329371953,
          -0.191766534670669,
          -0.13724274791926375,
          -0.08789755210274389,
          -0.027156150683289065,
          -0.06519731148526248,
          0.01993407644524374,
          -0.022938504070697148,
          -0.04096957021509467,
          -0.030174202929631425,
          -0.018784001781108475,
          -0.061205054436557355,
          0.06733585927163989,
          0.004227127766248504,
          0.019269752732946243,
          0.05993858193980982,
          0.11937261654877142,
          0.04589176808574191,
          0.08876501536967057,
          0.014097833020460623,
          0.12805632114881538,
          0.149760750653667,
          0.18065096322997642,
          0.17016581810640088,
          0.16293078601545444,
          0.03241818178446654,
          0.122975823292,
          0.12060115521567585,
          0.11467348993522247,
          0.11393868390953402,
          0.20779632229263065,
          0.15963812713027903,
          0.2609419188483294,
          0.24042382322965808,
          0.23700346019777,
          0.2399433510685114,
          0.2960847267922976,
          0.28978169472298976,
          0.3400385358221264,
          0.2916542843279,
          0.4480613539116524,
          0.362597552705734,
          0.5106896132558969,
          0.38532006640147043,
          0.4902845458031632,
          0.38724187308132707,
          0.4134478941319549,
          0.3758313991585126,
          0.5199162675721032,
          0.38751021615865605,
          0.5239301309310753,
          0.4526531157418535,
          0.5494565674853731,
          0.45839759623914406,
          0.6277775071887335,
          0.5022942654003817,
          0.5636580294828449,
          0.5089148576219648,
          0.672641709929934,
          0.5655010899838431,
          0.6849639111000957,
          0.5642864785649959,
          0.6753056606258665,
          0.6244337128893789,
          0.7386963367604786,
          0.6366993589942065,
          0.6971803401299772,
          0.6112643442955791,
          0.7082589855806368,
          0.5728564882311146,
          0.7484183983256989,
          0.5932332781511817,
          0.7426529782861292,
          0.5998748099150439,
          0.7384210633536576,
          0.6227735780644514,
          0.822823567748157,
          0.6895414046104174,
          1.006919694843444,
          0.87547450578756,
          1.037618717878215,
          0.8812465970495298,
          1.0154404874346166,
          0.9993871162674218,
          1.0811768873448981,
          0.9757602133147257,
          1.0774745796837895,
          0.9685534587564463,
          1.1028893216081253,
          0.9636432108988898,
          1.15121643323376,
          1.0199118831084928,
          1.3449847380513333,
          1.1979100949240677,
          1.391757145920499,
          1.3104195694715022,
          1.5091911366453694,
          1.340101175083376,
          1.4663535048844951,
          1.4076247471973098,
          1.5874688637281953,
          1.5185092947819763,
          1.6479907980734452,
          1.5480569326856335,
          1.6265683131978141,
          1.561622607610567,
          2.0650603696314733,
          1.9249670914986003,
          2.3086117965741666,
          2.201866816191222,
          2.5174503371231167,
          2.470817642309487,
          2.9643428199916233,
          2.874159293701699
         ],
         "yaxis": "y"
        }
       ],
       "layout": {
        "coloraxis": {
         "colorbar": {
          "title": {
           "text": "color"
          }
         },
         "colorscale": [
          [
           0,
           "#0d0887"
          ],
          [
           0.1111111111111111,
           "#46039f"
          ],
          [
           0.2222222222222222,
           "#7201a8"
          ],
          [
           0.3333333333333333,
           "#9c179e"
          ],
          [
           0.4444444444444444,
           "#bd3786"
          ],
          [
           0.5555555555555556,
           "#d8576b"
          ],
          [
           0.6666666666666666,
           "#ed7953"
          ],
          [
           0.7777777777777778,
           "#fb9f3a"
          ],
          [
           0.8888888888888888,
           "#fdca26"
          ],
          [
           1,
           "#f0f921"
          ]
         ]
        },
        "legend": {
         "tracegroupgap": 0
        },
        "template": {
         "data": {
          "bar": [
           {
            "error_x": {
             "color": "#2a3f5f"
            },
            "error_y": {
             "color": "#2a3f5f"
            },
            "marker": {
             "line": {
              "color": "#E5ECF6",
              "width": 0.5
             }
            },
            "type": "bar"
           }
          ],
          "barpolar": [
           {
            "marker": {
             "line": {
              "color": "#E5ECF6",
              "width": 0.5
             }
            },
            "type": "barpolar"
           }
          ],
          "carpet": [
           {
            "aaxis": {
             "endlinecolor": "#2a3f5f",
             "gridcolor": "white",
             "linecolor": "white",
             "minorgridcolor": "white",
             "startlinecolor": "#2a3f5f"
            },
            "baxis": {
             "endlinecolor": "#2a3f5f",
             "gridcolor": "white",
             "linecolor": "white",
             "minorgridcolor": "white",
             "startlinecolor": "#2a3f5f"
            },
            "type": "carpet"
           }
          ],
          "choropleth": [
           {
            "colorbar": {
             "outlinewidth": 0,
             "ticks": ""
            },
            "type": "choropleth"
           }
          ],
          "contour": [
           {
            "colorbar": {
             "outlinewidth": 0,
             "ticks": ""
            },
            "colorscale": [
             [
              0,
              "#0d0887"
             ],
             [
              0.1111111111111111,
              "#46039f"
             ],
             [
              0.2222222222222222,
              "#7201a8"
             ],
             [
              0.3333333333333333,
              "#9c179e"
             ],
             [
              0.4444444444444444,
              "#bd3786"
             ],
             [
              0.5555555555555556,
              "#d8576b"
             ],
             [
              0.6666666666666666,
              "#ed7953"
             ],
             [
              0.7777777777777778,
              "#fb9f3a"
             ],
             [
              0.8888888888888888,
              "#fdca26"
             ],
             [
              1,
              "#f0f921"
             ]
            ],
            "type": "contour"
           }
          ],
          "contourcarpet": [
           {
            "colorbar": {
             "outlinewidth": 0,
             "ticks": ""
            },
            "type": "contourcarpet"
           }
          ],
          "heatmap": [
           {
            "colorbar": {
             "outlinewidth": 0,
             "ticks": ""
            },
            "colorscale": [
             [
              0,
              "#0d0887"
             ],
             [
              0.1111111111111111,
              "#46039f"
             ],
             [
              0.2222222222222222,
              "#7201a8"
             ],
             [
              0.3333333333333333,
              "#9c179e"
             ],
             [
              0.4444444444444444,
              "#bd3786"
             ],
             [
              0.5555555555555556,
              "#d8576b"
             ],
             [
              0.6666666666666666,
              "#ed7953"
             ],
             [
              0.7777777777777778,
              "#fb9f3a"
             ],
             [
              0.8888888888888888,
              "#fdca26"
             ],
             [
              1,
              "#f0f921"
             ]
            ],
            "type": "heatmap"
           }
          ],
          "heatmapgl": [
           {
            "colorbar": {
             "outlinewidth": 0,
             "ticks": ""
            },
            "colorscale": [
             [
              0,
              "#0d0887"
             ],
             [
              0.1111111111111111,
              "#46039f"
             ],
             [
              0.2222222222222222,
              "#7201a8"
             ],
             [
              0.3333333333333333,
              "#9c179e"
             ],
             [
              0.4444444444444444,
              "#bd3786"
             ],
             [
              0.5555555555555556,
              "#d8576b"
             ],
             [
              0.6666666666666666,
              "#ed7953"
             ],
             [
              0.7777777777777778,
              "#fb9f3a"
             ],
             [
              0.8888888888888888,
              "#fdca26"
             ],
             [
              1,
              "#f0f921"
             ]
            ],
            "type": "heatmapgl"
           }
          ],
          "histogram": [
           {
            "marker": {
             "colorbar": {
              "outlinewidth": 0,
              "ticks": ""
             }
            },
            "type": "histogram"
           }
          ],
          "histogram2d": [
           {
            "colorbar": {
             "outlinewidth": 0,
             "ticks": ""
            },
            "colorscale": [
             [
              0,
              "#0d0887"
             ],
             [
              0.1111111111111111,
              "#46039f"
             ],
             [
              0.2222222222222222,
              "#7201a8"
             ],
             [
              0.3333333333333333,
              "#9c179e"
             ],
             [
              0.4444444444444444,
              "#bd3786"
             ],
             [
              0.5555555555555556,
              "#d8576b"
             ],
             [
              0.6666666666666666,
              "#ed7953"
             ],
             [
              0.7777777777777778,
              "#fb9f3a"
             ],
             [
              0.8888888888888888,
              "#fdca26"
             ],
             [
              1,
              "#f0f921"
             ]
            ],
            "type": "histogram2d"
           }
          ],
          "histogram2dcontour": [
           {
            "colorbar": {
             "outlinewidth": 0,
             "ticks": ""
            },
            "colorscale": [
             [
              0,
              "#0d0887"
             ],
             [
              0.1111111111111111,
              "#46039f"
             ],
             [
              0.2222222222222222,
              "#7201a8"
             ],
             [
              0.3333333333333333,
              "#9c179e"
             ],
             [
              0.4444444444444444,
              "#bd3786"
             ],
             [
              0.5555555555555556,
              "#d8576b"
             ],
             [
              0.6666666666666666,
              "#ed7953"
             ],
             [
              0.7777777777777778,
              "#fb9f3a"
             ],
             [
              0.8888888888888888,
              "#fdca26"
             ],
             [
              1,
              "#f0f921"
             ]
            ],
            "type": "histogram2dcontour"
           }
          ],
          "mesh3d": [
           {
            "colorbar": {
             "outlinewidth": 0,
             "ticks": ""
            },
            "type": "mesh3d"
           }
          ],
          "parcoords": [
           {
            "line": {
             "colorbar": {
              "outlinewidth": 0,
              "ticks": ""
             }
            },
            "type": "parcoords"
           }
          ],
          "pie": [
           {
            "automargin": true,
            "type": "pie"
           }
          ],
          "scatter": [
           {
            "marker": {
             "colorbar": {
              "outlinewidth": 0,
              "ticks": ""
             }
            },
            "type": "scatter"
           }
          ],
          "scatter3d": [
           {
            "line": {
             "colorbar": {
              "outlinewidth": 0,
              "ticks": ""
             }
            },
            "marker": {
             "colorbar": {
              "outlinewidth": 0,
              "ticks": ""
             }
            },
            "type": "scatter3d"
           }
          ],
          "scattercarpet": [
           {
            "marker": {
             "colorbar": {
              "outlinewidth": 0,
              "ticks": ""
             }
            },
            "type": "scattercarpet"
           }
          ],
          "scattergeo": [
           {
            "marker": {
             "colorbar": {
              "outlinewidth": 0,
              "ticks": ""
             }
            },
            "type": "scattergeo"
           }
          ],
          "scattergl": [
           {
            "marker": {
             "colorbar": {
              "outlinewidth": 0,
              "ticks": ""
             }
            },
            "type": "scattergl"
           }
          ],
          "scattermapbox": [
           {
            "marker": {
             "colorbar": {
              "outlinewidth": 0,
              "ticks": ""
             }
            },
            "type": "scattermapbox"
           }
          ],
          "scatterpolar": [
           {
            "marker": {
             "colorbar": {
              "outlinewidth": 0,
              "ticks": ""
             }
            },
            "type": "scatterpolar"
           }
          ],
          "scatterpolargl": [
           {
            "marker": {
             "colorbar": {
              "outlinewidth": 0,
              "ticks": ""
             }
            },
            "type": "scatterpolargl"
           }
          ],
          "scatterternary": [
           {
            "marker": {
             "colorbar": {
              "outlinewidth": 0,
              "ticks": ""
             }
            },
            "type": "scatterternary"
           }
          ],
          "surface": [
           {
            "colorbar": {
             "outlinewidth": 0,
             "ticks": ""
            },
            "colorscale": [
             [
              0,
              "#0d0887"
             ],
             [
              0.1111111111111111,
              "#46039f"
             ],
             [
              0.2222222222222222,
              "#7201a8"
             ],
             [
              0.3333333333333333,
              "#9c179e"
             ],
             [
              0.4444444444444444,
              "#bd3786"
             ],
             [
              0.5555555555555556,
              "#d8576b"
             ],
             [
              0.6666666666666666,
              "#ed7953"
             ],
             [
              0.7777777777777778,
              "#fb9f3a"
             ],
             [
              0.8888888888888888,
              "#fdca26"
             ],
             [
              1,
              "#f0f921"
             ]
            ],
            "type": "surface"
           }
          ],
          "table": [
           {
            "cells": {
             "fill": {
              "color": "#EBF0F8"
             },
             "line": {
              "color": "white"
             }
            },
            "header": {
             "fill": {
              "color": "#C8D4E3"
             },
             "line": {
              "color": "white"
             }
            },
            "type": "table"
           }
          ]
         },
         "layout": {
          "annotationdefaults": {
           "arrowcolor": "#2a3f5f",
           "arrowhead": 0,
           "arrowwidth": 1
          },
          "autotypenumbers": "strict",
          "coloraxis": {
           "colorbar": {
            "outlinewidth": 0,
            "ticks": ""
           }
          },
          "colorscale": {
           "diverging": [
            [
             0,
             "#8e0152"
            ],
            [
             0.1,
             "#c51b7d"
            ],
            [
             0.2,
             "#de77ae"
            ],
            [
             0.3,
             "#f1b6da"
            ],
            [
             0.4,
             "#fde0ef"
            ],
            [
             0.5,
             "#f7f7f7"
            ],
            [
             0.6,
             "#e6f5d0"
            ],
            [
             0.7,
             "#b8e186"
            ],
            [
             0.8,
             "#7fbc41"
            ],
            [
             0.9,
             "#4d9221"
            ],
            [
             1,
             "#276419"
            ]
           ],
           "sequential": [
            [
             0,
             "#0d0887"
            ],
            [
             0.1111111111111111,
             "#46039f"
            ],
            [
             0.2222222222222222,
             "#7201a8"
            ],
            [
             0.3333333333333333,
             "#9c179e"
            ],
            [
             0.4444444444444444,
             "#bd3786"
            ],
            [
             0.5555555555555556,
             "#d8576b"
            ],
            [
             0.6666666666666666,
             "#ed7953"
            ],
            [
             0.7777777777777778,
             "#fb9f3a"
            ],
            [
             0.8888888888888888,
             "#fdca26"
            ],
            [
             1,
             "#f0f921"
            ]
           ],
           "sequentialminus": [
            [
             0,
             "#0d0887"
            ],
            [
             0.1111111111111111,
             "#46039f"
            ],
            [
             0.2222222222222222,
             "#7201a8"
            ],
            [
             0.3333333333333333,
             "#9c179e"
            ],
            [
             0.4444444444444444,
             "#bd3786"
            ],
            [
             0.5555555555555556,
             "#d8576b"
            ],
            [
             0.6666666666666666,
             "#ed7953"
            ],
            [
             0.7777777777777778,
             "#fb9f3a"
            ],
            [
             0.8888888888888888,
             "#fdca26"
            ],
            [
             1,
             "#f0f921"
            ]
           ]
          },
          "colorway": [
           "#636efa",
           "#EF553B",
           "#00cc96",
           "#ab63fa",
           "#FFA15A",
           "#19d3f3",
           "#FF6692",
           "#B6E880",
           "#FF97FF",
           "#FECB52"
          ],
          "font": {
           "color": "#2a3f5f"
          },
          "geo": {
           "bgcolor": "white",
           "lakecolor": "white",
           "landcolor": "#E5ECF6",
           "showlakes": true,
           "showland": true,
           "subunitcolor": "white"
          },
          "hoverlabel": {
           "align": "left"
          },
          "hovermode": "closest",
          "mapbox": {
           "style": "light"
          },
          "paper_bgcolor": "white",
          "plot_bgcolor": "#E5ECF6",
          "polar": {
           "angularaxis": {
            "gridcolor": "white",
            "linecolor": "white",
            "ticks": ""
           },
           "bgcolor": "#E5ECF6",
           "radialaxis": {
            "gridcolor": "white",
            "linecolor": "white",
            "ticks": ""
           }
          },
          "scene": {
           "xaxis": {
            "backgroundcolor": "#E5ECF6",
            "gridcolor": "white",
            "gridwidth": 2,
            "linecolor": "white",
            "showbackground": true,
            "ticks": "",
            "zerolinecolor": "white"
           },
           "yaxis": {
            "backgroundcolor": "#E5ECF6",
            "gridcolor": "white",
            "gridwidth": 2,
            "linecolor": "white",
            "showbackground": true,
            "ticks": "",
            "zerolinecolor": "white"
           },
           "zaxis": {
            "backgroundcolor": "#E5ECF6",
            "gridcolor": "white",
            "gridwidth": 2,
            "linecolor": "white",
            "showbackground": true,
            "ticks": "",
            "zerolinecolor": "white"
           }
          },
          "shapedefaults": {
           "line": {
            "color": "#2a3f5f"
           }
          },
          "ternary": {
           "aaxis": {
            "gridcolor": "white",
            "linecolor": "white",
            "ticks": ""
           },
           "baxis": {
            "gridcolor": "white",
            "linecolor": "white",
            "ticks": ""
           },
           "bgcolor": "#E5ECF6",
           "caxis": {
            "gridcolor": "white",
            "linecolor": "white",
            "ticks": ""
           }
          },
          "title": {
           "x": 0.05
          },
          "xaxis": {
           "automargin": true,
           "gridcolor": "white",
           "linecolor": "white",
           "ticks": "",
           "title": {
            "standoff": 15
           },
           "zerolinecolor": "white",
           "zerolinewidth": 2
          },
          "yaxis": {
           "automargin": true,
           "gridcolor": "white",
           "linecolor": "white",
           "ticks": "",
           "title": {
            "standoff": 15
           },
           "zerolinecolor": "white",
           "zerolinewidth": 2
          }
         }
        },
        "title": {
         "text": "Total Explained Variance: 71.77%"
        },
        "xaxis": {
         "anchor": "y",
         "domain": [
          0,
          1
         ],
         "title": {
          "text": "PC1"
         }
        },
        "yaxis": {
         "anchor": "x",
         "domain": [
          0,
          1
         ],
         "title": {
          "text": "PC2"
         }
        }
       }
      }
     },
     "metadata": {}
    }
   ],
   "source": [
    "kmeans_PCA = KMeans(n_clusters=5)\n",
    "y_kmeans_PCA = kmeans_PCA.fit_predict(df_PCA)\n",
    "\n",
    "px.scatter(df_PCA, x='PC1', y='PC2', color=y_kmeans_PCA, title=f'Total Explained Variance: {pca.explained_variance_ratio_.sum() * 100:.2f}%').show()"
   ]
  }
 ]
}